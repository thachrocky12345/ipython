{
 "metadata": {
  "name": "",
  "signature": "sha256:be7cd280c9e9097fec20106f285bc6ea04b7a68fafcc416affcb0e4a5a9da5a4"
 },
 "nbformat": 3,
 "nbformat_minor": 0,
 "worksheets": [
  {
   "cells": [
    {
     "cell_type": "code",
     "collapsed": false,
     "input": [
      "from shapely import geometry\n",
      "import geojson"
     ],
     "language": "python",
     "metadata": {},
     "outputs": [],
     "prompt_number": 1
    },
    {
     "cell_type": "code",
     "collapsed": false,
     "input": [
      "\n",
      "def json2polygon(geojson_str):\n",
      "    \"\"\"\n",
      "    convert geojson from data return to polygon\n",
      "    :param geojson:\n",
      "    :return: polygon\n",
      "    \"\"\"\n",
      "    geojson_object = geojson.loads(geojson_str)\n",
      "    return geometry.shape(geojson_object)"
     ],
     "language": "python",
     "metadata": {},
     "outputs": [],
     "prompt_number": 2
    },
    {
     "cell_type": "code",
     "collapsed": false,
     "input": [
      "field_json = '{\"type\":\"Polygon\",\"coordinates\":[[[-100.31238555908205,41.76961530342357],[-100.31496047973634,41.76772683171351],[-100.31543254852296,41.76481399516627],[-100.31405925750734,41.762445217401876],[-100.31169891357423,41.761612923372795],[-100.30835151672365,41.76132481907832],[-100.30577659606934,41.762445217401876],[-100.30427455902101,41.76417379358331],[-100.30380249023439,41.76622241616344],[-100.30500411987306,41.768270973331255],[-100.30689239501953,41.76948727319993],[-100.30946731567384,41.77003139988574],[-100.31238555908205,41.76961530342357]]]}'\n"
     ],
     "language": "python",
     "metadata": {},
     "outputs": [],
     "prompt_number": 3
    },
    {
     "cell_type": "code",
     "collapsed": false,
     "input": [
      "field = json2polygon(field_json)\n",
      "field"
     ],
     "language": "python",
     "metadata": {},
     "outputs": [
      {
       "metadata": {},
       "output_type": "pyout",
       "prompt_number": 4,
       "svg": [
        "<svg xmlns=\"http://www.w3.org/2000/svg\" xmlns:xlink=\"http://www.w3.org/1999/xlink\" width=\"100.0\" height=\"100.0\" viewBox=\"-100.315897751 41.7608596167 0.0125604629517 0.0096369854705\" preserveAspectRatio=\"xMinYMin meet\"><g transform=\"matrix(1,0,0,-1,0,83.531356219)\"><path fill-rule=\"evenodd\" fill=\"#66cc99\" stroke=\"#555555\" stroke-width=\"0.000251209259033\" opacity=\"0.6\" d=\"M -100.312385559,41.7696153034 L -100.31496048,41.7677268317 L -100.315432549,41.7648139952 L -100.314059258,41.7624452174 L -100.311698914,41.7616129234 L -100.308351517,41.7613248191 L -100.305776596,41.7624452174 L -100.304274559,41.7641737936 L -100.30380249,41.7662224162 L -100.30500412,41.7682709733 L -100.306892395,41.7694872732 L -100.309467316,41.7700313999 L -100.312385559,41.7696153034 z\" /></g></svg>"
       ],
       "text": [
        "<shapely.geometry.polygon.Polygon at 0x7f9a37a16fd0>"
       ]
      }
     ],
     "prompt_number": 4
    },
    {
     "cell_type": "code",
     "collapsed": false,
     "input": [
      "field_json = '{\"type\":\"Polygon\",\"coordinates\":[[[-100.29624938964845,41.7625412506336],[-100.2854347229004,41.7625412506336],[-100.28474807739259,41.754602018324526],[-100.29247283935548,41.75857175725126],[-100.29624938964845,41.7625412506336]]]}'"
     ],
     "language": "python",
     "metadata": {},
     "outputs": [],
     "prompt_number": 7
    },
    {
     "cell_type": "code",
     "collapsed": false,
     "input": [
      "field = json2polygon(field_json)\n",
      "field"
     ],
     "language": "python",
     "metadata": {},
     "outputs": [
      {
       "metadata": {},
       "output_type": "pyout",
       "prompt_number": 8,
       "svg": [
        "<svg xmlns=\"http://www.w3.org/2000/svg\" xmlns:xlink=\"http://www.w3.org/1999/xlink\" width=\"100.0\" height=\"100.0\" viewBox=\"-100.296709442 41.7541419658 0.0124214172363 0.00885933728954\" preserveAspectRatio=\"xMinYMin meet\"><g transform=\"matrix(1,0,0,-1,0,83.517143269)\"><path fill-rule=\"evenodd\" fill=\"#66cc99\" stroke=\"#555555\" stroke-width=\"0.000248428344727\" opacity=\"0.6\" d=\"M -100.29624939,41.7625412506 L -100.285434723,41.7625412506 L -100.284748077,41.7546020183 L -100.292472839,41.7585717573 L -100.29624939,41.7625412506 z\" /></g></svg>"
       ],
       "text": [
        "<shapely.geometry.polygon.Polygon at 0x7f9a18030e90>"
       ]
      }
     ],
     "prompt_number": 8
    },
    {
     "cell_type": "code",
     "collapsed": false,
     "input": [
      "zone_json = '{\"type\":\"Polygon\",\"coordinates\":[[[-100.3151321411133,41.76458992533885],[-100.30903816223146,41.76574227611513],[-100.30800819396974,41.76164493488123],[-100.31135559082031,41.76126079572607],[-100.31410217285158,41.762349184026384],[-100.3151321411133,41.76458992533885]]]}'"
     ],
     "language": "python",
     "metadata": {},
     "outputs": [],
     "prompt_number": 9
    },
    {
     "cell_type": "code",
     "collapsed": false,
     "input": [
      "zone = json2polygon(zone_json)\n",
      "zone"
     ],
     "language": "python",
     "metadata": {},
     "outputs": [
      {
       "metadata": {},
       "output_type": "pyout",
       "prompt_number": 10,
       "svg": [
        "<svg xmlns=\"http://www.w3.org/2000/svg\" xmlns:xlink=\"http://www.w3.org/1999/xlink\" width=\"100.0\" height=\"100.0\" viewBox=\"-100.315417099 41.7609758378 0.00769386291503 0.00505139616053\" preserveAspectRatio=\"xMinYMin meet\"><g transform=\"matrix(1,0,0,-1,0,83.5270030718)\"><path fill-rule=\"evenodd\" fill=\"#66cc99\" stroke=\"#555555\" stroke-width=\"0.000153877258301\" opacity=\"0.6\" d=\"M -100.315132141,41.7645899253 L -100.309038162,41.7657422761 L -100.308008194,41.7616449349 L -100.311355591,41.7612607957 L -100.314102173,41.762349184 L -100.315132141,41.7645899253 z\" /></g></svg>"
       ],
       "text": [
        "<shapely.geometry.polygon.Polygon at 0x7f9a39522a50>"
       ]
      }
     ],
     "prompt_number": 10
    },
    {
     "cell_type": "code",
     "collapsed": false,
     "input": [
      "zone_json = '{\"type\":\"Polygon\",\"coordinates\":[[[-100.30903816223146,41.76587031381266],[-100.30431747436525,41.76670255261859],[-100.3040599822998,41.764205803814164],[-100.3059482574463,41.762413206292656],[-100.30783653259279,41.76151688875169],[-100.30903816223146,41.76587031381266]]]}'"
     ],
     "language": "python",
     "metadata": {},
     "outputs": [],
     "prompt_number": 11
    },
    {
     "cell_type": "code",
     "collapsed": false,
     "input": [
      "zone = json2polygon(zone_json)\n",
      "zone"
     ],
     "language": "python",
     "metadata": {},
     "outputs": [
      {
       "metadata": {},
       "output_type": "pyout",
       "prompt_number": 12,
       "svg": [
        "<svg xmlns=\"http://www.w3.org/2000/svg\" xmlns:xlink=\"http://www.w3.org/1999/xlink\" width=\"100.0\" height=\"100.0\" viewBox=\"-100.309245589 41.7613094622 0.00539303304102 0.00560051697624\" preserveAspectRatio=\"xMinYMin meet\"><g transform=\"matrix(1,0,0,-1,0,83.5282194414)\"><path fill-rule=\"evenodd\" fill=\"#66cc99\" stroke=\"#555555\" stroke-width=\"0.000112010339525\" opacity=\"0.6\" d=\"M -100.309038162,41.7658703138 L -100.304317474,41.7667025526 L -100.304059982,41.7642058038 L -100.305948257,41.7624132063 L -100.307836533,41.7615168888 L -100.309038162,41.7658703138 z\" /></g></svg>"
       ],
       "text": [
        "<shapely.geometry.polygon.Polygon at 0x7f9a04dc91d0>"
       ]
      }
     ],
     "prompt_number": 12
    },
    {
     "cell_type": "code",
     "collapsed": false,
     "input": [
      "zone_json = '{\"type\":\"Polygon\",\"coordinates\":[[[-100.31521797180176,41.764653945369396],[-100.30431747436525,41.76689460619454],[-100.30526161193849,41.76855904643686],[-100.30689239501953,41.76964731093955],[-100.30963897705078,41.769967385221065],[-100.31238555908205,41.76977534084381],[-100.31521797180176,41.76798289893208],[-100.31521797180176,41.764653945369396]]]}'"
     ],
     "language": "python",
     "metadata": {},
     "outputs": [],
     "prompt_number": 13
    },
    {
     "cell_type": "code",
     "collapsed": false,
     "input": [
      "zone = json2polygon(zone_json)\n",
      "zone"
     ],
     "language": "python",
     "metadata": {},
     "outputs": [
      {
       "metadata": {},
       "output_type": "pyout",
       "prompt_number": 14,
       "svg": [
        "<svg xmlns=\"http://www.w3.org/2000/svg\" xmlns:xlink=\"http://www.w3.org/1999/xlink\" width=\"100.0\" height=\"100.0\" viewBox=\"-100.315653992 41.7642179255 0.0117725372314 0.0061854796466\" preserveAspectRatio=\"xMinYMin meet\"><g transform=\"matrix(1,0,0,-1,0,83.5346213306)\"><path fill-rule=\"evenodd\" fill=\"#66cc99\" stroke=\"#555555\" stroke-width=\"0.000235450744629\" opacity=\"0.6\" d=\"M -100.315217972,41.7646539454 L -100.304317474,41.7668946062 L -100.305261612,41.7685590464 L -100.306892395,41.7696473109 L -100.309638977,41.7699673852 L -100.312385559,41.7697753408 L -100.315217972,41.7679828989 L -100.315217972,41.7646539454 z\" /></g></svg>"
       ],
       "text": [
        "<shapely.geometry.polygon.Polygon at 0x7f9a04dc9210>"
       ]
      }
     ],
     "prompt_number": 14
    },
    {
     "cell_type": "code",
     "collapsed": false,
     "input": [
      "%(ts)s"
     ],
     "language": "python",
     "metadata": {},
     "outputs": []
    }
   ],
   "metadata": {}
  }
 ]
}