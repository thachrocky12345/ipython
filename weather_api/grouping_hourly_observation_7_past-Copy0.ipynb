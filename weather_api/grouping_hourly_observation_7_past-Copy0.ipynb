{
 "metadata": {
  "name": "",
  "signature": "sha256:fc163223c1590a531ff8ac0722eea2e75bdfba1169380eeecc1084fe85cd9db0"
 },
 "nbformat": 3,
 "nbformat_minor": 0,
 "worksheets": [
  {
   "cells": [
    {
     "cell_type": "code",
     "collapsed": false,
     "input": [],
     "language": "python",
     "metadata": {},
     "outputs": [],
     "prompt_number": 0
    },
    {
     "cell_type": "code",
     "collapsed": false,
     "input": [
      "test.keys()"
     ],
     "language": "python",
     "metadata": {},
     "outputs": [
      {
       "metadata": {},
       "output_type": "pyout",
       "prompt_number": 3,
       "text": [
        "[u'{http://weather.dtn.com/rest-3.4/doc/}weatherDataResponse']"
       ]
      }
     ],
     "prompt_number": 3
    },
    {
     "cell_type": "code",
     "collapsed": false,
     "input": [
      "data_response = u'{http://weather.dtn.com/rest-3.4/doc/}weatherDataResponse'\n",
      "response_list = u'{http://weather.dtn.com/rest-3.4/doc/}locationResponseList'\n",
      "location = u'{http://weather.dtn.com/rest-3.4/doc/}locationResponse'"
     ],
     "language": "python",
     "metadata": {},
     "outputs": [],
     "prompt_number": 5
    },
    {
     "cell_type": "code",
     "collapsed": false,
     "input": [],
     "language": "python",
     "metadata": {},
     "outputs": [
      {
       "metadata": {},
       "output_type": "pyout",
       "prompt_number": 14,
       "text": [
        "228"
       ]
      }
     ],
     "prompt_number": 14
    },
    {
     "cell_type": "code",
     "collapsed": false,
     "input": [
      "file_name = \"/home/thachbui/workstation/elecsys_weather/test_xml/HourlyForecast.xml\"\n",
      "data = open(file_name, 'r').read()\n",
      "\n",
      "from json import dumps, loads\n",
      "from xmljson import BadgerFish\n",
      "from xml.etree.ElementTree import fromstring\n",
      "bf = BadgerFish()\n",
      "json_str = dumps(bf.data(fromstring(data)))\n",
      "test =  loads(json_str)"
     ],
     "language": "python",
     "metadata": {},
     "outputs": [],
     "prompt_number": 12
    },
    {
     "cell_type": "code",
     "collapsed": false,
     "input": [
      "len(test[data_response][response_list][location])"
     ],
     "language": "python",
     "metadata": {},
     "outputs": [
      {
       "metadata": {},
       "output_type": "pyout",
       "prompt_number": 13,
       "text": [
        "168"
       ]
      }
     ],
     "prompt_number": 13
    },
    {
     "cell_type": "code",
     "collapsed": false,
     "input": [
      "test[data_response][response_list][location][2]"
     ],
     "language": "python",
     "metadata": {},
     "outputs": [
      {
       "metadata": {},
       "output_type": "pyout",
       "prompt_number": 14,
       "text": [
        "{u'{http://weather.dtn.com/rest-3.4/doc/}cloudCoverPercentage': {u'{http://weather.dtn.com/rest-3.4/doc/}value': {u'$': 40}},\n",
        " u'{http://weather.dtn.com/rest-3.4/doc/}country': {u'$': u'US'},\n",
        " u'{http://weather.dtn.com/rest-3.4/doc/}dewPoint': {u'{http://weather.dtn.com/rest-3.4/doc/}uom': {u'$': u'F'},\n",
        "  u'{http://weather.dtn.com/rest-3.4/doc/}value': {u'$': 13.0}},\n",
        " u'{http://weather.dtn.com/rest-3.4/doc/}endDate': {u'$': u'2017-02-08T17:11:22.732075-05:51'},\n",
        " u'{http://weather.dtn.com/rest-3.4/doc/}feelsLike': {u'{http://weather.dtn.com/rest-3.4/doc/}uom': {u'$': u'F'},\n",
        "  u'{http://weather.dtn.com/rest-3.4/doc/}value': {u'$': 14.0}},\n",
        " u'{http://weather.dtn.com/rest-3.4/doc/}heatIndex': {u'{http://weather.dtn.com/rest-3.4/doc/}uom': {u'$': u'F'},\n",
        "  u'{http://weather.dtn.com/rest-3.4/doc/}value': {u'$': 23.0}},\n",
        " u'{http://weather.dtn.com/rest-3.4/doc/}minutesOfSunshine': {u'{http://weather.dtn.com/rest-3.4/doc/}uom': {u'$': u'min'},\n",
        "  u'{http://weather.dtn.com/rest-3.4/doc/}value': {u'$': 0}},\n",
        " u'{http://weather.dtn.com/rest-3.4/doc/}offset': {u'$': -6},\n",
        " u'{http://weather.dtn.com/rest-3.4/doc/}placeName': {u'$': u'KEARNEY'},\n",
        " u'{http://weather.dtn.com/rest-3.4/doc/}precipitationAmount': [{u'{http://weather.dtn.com/rest-3.4/doc/}type': {u'$': u'SNOW'},\n",
        "   u'{http://weather.dtn.com/rest-3.4/doc/}uom': {u'$': u'in'},\n",
        "   u'{http://weather.dtn.com/rest-3.4/doc/}value': {u'$': 0.0}},\n",
        "  {u'{http://weather.dtn.com/rest-3.4/doc/}type': {u'$': u'RAIN'},\n",
        "   u'{http://weather.dtn.com/rest-3.4/doc/}uom': {u'$': u'in'},\n",
        "   u'{http://weather.dtn.com/rest-3.4/doc/}value': {u'$': 0.0}},\n",
        "  {u'{http://weather.dtn.com/rest-3.4/doc/}type': {u'$': u'FREEZING RAIN'},\n",
        "   u'{http://weather.dtn.com/rest-3.4/doc/}uom': {u'$': u'in'},\n",
        "   u'{http://weather.dtn.com/rest-3.4/doc/}value': {u'$': 0.0}}],\n",
        " u'{http://weather.dtn.com/rest-3.4/doc/}probabilityOfPrecipitation': [{u'{http://weather.dtn.com/rest-3.4/doc/}type': {u'$': u'RAIN'},\n",
        "   u'{http://weather.dtn.com/rest-3.4/doc/}value': {u'$': 0}},\n",
        "  {u'{http://weather.dtn.com/rest-3.4/doc/}type': {u'$': u'FREEZING RAIN'},\n",
        "   u'{http://weather.dtn.com/rest-3.4/doc/}value': {u'$': 0}},\n",
        "  {u'{http://weather.dtn.com/rest-3.4/doc/}type': {u'$': u'SNOW'},\n",
        "   u'{http://weather.dtn.com/rest-3.4/doc/}value': {u'$': 0}}],\n",
        " u'{http://weather.dtn.com/rest-3.4/doc/}relativeHumidity': {u'{http://weather.dtn.com/rest-3.4/doc/}value': {u'$': 65}},\n",
        " u'{http://weather.dtn.com/rest-3.4/doc/}seaLevelPressure': {u'{http://weather.dtn.com/rest-3.4/doc/}uom': {u'$': u'mBar'},\n",
        "  u'{http://weather.dtn.com/rest-3.4/doc/}value': {u'$': 1032.1}},\n",
        " u'{http://weather.dtn.com/rest-3.4/doc/}solarRadiation': {u'{http://weather.dtn.com/rest-3.4/doc/}uom': {u'$': u'w/m2'},\n",
        "  u'{http://weather.dtn.com/rest-3.4/doc/}value': {u'$': 0.0}},\n",
        " u'{http://weather.dtn.com/rest-3.4/doc/}startDate': {u'$': u'2017-02-01T17:11:22.727384-05:51'},\n",
        " u'{http://weather.dtn.com/rest-3.4/doc/}stationID': {u'$': u'KEAR'},\n",
        " u'{http://weather.dtn.com/rest-3.4/doc/}stationLatitude': {u'$': 40.726944},\n",
        " u'{http://weather.dtn.com/rest-3.4/doc/}stationLongitude': {u'$': -99.006666},\n",
        " u'{http://weather.dtn.com/rest-3.4/doc/}temperature': {u'{http://weather.dtn.com/rest-3.4/doc/}uom': {u'$': u'F'},\n",
        "  u'{http://weather.dtn.com/rest-3.4/doc/}value': {u'$': 23.0}},\n",
        " u'{http://weather.dtn.com/rest-3.4/doc/}validDateTime': {u'$': u'2017-02-01T20:09:00-05:51'},\n",
        " u'{http://weather.dtn.com/rest-3.4/doc/}visibility': {u'{http://weather.dtn.com/rest-3.4/doc/}uom': {u'$': u'SM'},\n",
        "  u'{http://weather.dtn.com/rest-3.4/doc/}value': {u'$': 10}},\n",
        " u'{http://weather.dtn.com/rest-3.4/doc/}weatherCode': {u'$': 2},\n",
        " u'{http://weather.dtn.com/rest-3.4/doc/}weatherDescription': {u'$': u'Partly Cloudy'},\n",
        " u'{http://weather.dtn.com/rest-3.4/doc/}wetBulbTemperature': {u'{http://weather.dtn.com/rest-3.4/doc/}uom': {u'$': u'F'},\n",
        "  u'{http://weather.dtn.com/rest-3.4/doc/}value': {u'$': 20.0}},\n",
        " u'{http://weather.dtn.com/rest-3.4/doc/}windChill': {u'{http://weather.dtn.com/rest-3.4/doc/}uom': {u'$': u'F'},\n",
        "  u'{http://weather.dtn.com/rest-3.4/doc/}value': {u'$': 14.0}},\n",
        " u'{http://weather.dtn.com/rest-3.4/doc/}windDirection': {u'{http://weather.dtn.com/rest-3.4/doc/}uom': {u'$': u'deg'},\n",
        "  u'{http://weather.dtn.com/rest-3.4/doc/}value': {u'$': 0}},\n",
        " u'{http://weather.dtn.com/rest-3.4/doc/}windGust': {u'{http://weather.dtn.com/rest-3.4/doc/}uom': {u'$': u'mph'},\n",
        "  u'{http://weather.dtn.com/rest-3.4/doc/}value': {u'$': 0}},\n",
        " u'{http://weather.dtn.com/rest-3.4/doc/}windSpeed': {u'{http://weather.dtn.com/rest-3.4/doc/}uom': {u'$': u'mph'},\n",
        "  u'{http://weather.dtn.com/rest-3.4/doc/}value': {u'$': 8}}}"
       ]
      }
     ],
     "prompt_number": 14
    },
    {
     "cell_type": "raw",
     "metadata": {},
     "source": []
    },
    {
     "cell_type": "code",
     "collapsed": false,
     "input": [
      "test[data_response][u'@{http://www.w3.org/2001/XMLSchema-instance}schemaLocation']"
     ],
     "language": "python",
     "metadata": {},
     "outputs": [
      {
       "metadata": {},
       "output_type": "pyout",
       "prompt_number": 6,
       "text": [
        "u'http://weather.dtn.com/rest-3.4/doc/ http://weather.dtn.com/rest-3.4/doc/TDTNWeatherDataService.xsd'"
       ]
      }
     ],
     "prompt_number": 6
    },
    {
     "cell_type": "code",
     "collapsed": false,
     "input": [
      "time_str = u'2017-01-31T16:53:22.652276+00:00'"
     ],
     "language": "python",
     "metadata": {},
     "outputs": [],
     "prompt_number": 17
    },
    {
     "cell_type": "code",
     "collapsed": false,
     "input": [
      "time_str_l = time_str.split('T')[0]"
     ],
     "language": "python",
     "metadata": {},
     "outputs": [],
     "prompt_number": 18
    },
    {
     "cell_type": "code",
     "collapsed": false,
     "input": [
      "from datetime import datetime"
     ],
     "language": "python",
     "metadata": {},
     "outputs": [],
     "prompt_number": 19
    },
    {
     "cell_type": "code",
     "collapsed": false,
     "input": [
      "datetime.strptime(time_str_l, \"%Y-%m-%d\")"
     ],
     "language": "python",
     "metadata": {},
     "outputs": [
      {
       "metadata": {},
       "output_type": "pyout",
       "prompt_number": 20,
       "text": [
        "datetime.datetime(2017, 1, 31, 0, 0)"
       ]
      }
     ],
     "prompt_number": 20
    },
    {
     "cell_type": "code",
     "collapsed": false,
     "input": [],
     "language": "python",
     "metadata": {},
     "outputs": []
    }
   ],
   "metadata": {}
  }
 ]
}