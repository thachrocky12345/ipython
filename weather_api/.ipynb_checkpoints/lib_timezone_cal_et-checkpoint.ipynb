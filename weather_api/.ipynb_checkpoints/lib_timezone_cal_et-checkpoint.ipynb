{
 "metadata": {
  "name": "",
  "signature": "sha256:c3e68a011c05bebc41f4a05822934c79305df89aaeaad50e6fbc0a2da91a8045"
 },
 "nbformat": 3,
 "nbformat_minor": 0,
 "worksheets": [
  {
   "cells": [
    {
     "cell_type": "code",
     "collapsed": false,
     "input": [
      "import sys\n",
      "sys.path.append(\"/home/thachbui/workstation/fn3/python_shared_lib/lib/\")\n",
      "from date_ext import now, get_tz"
     ],
     "language": "python",
     "metadata": {},
     "outputs": [],
     "prompt_number": 10
    },
    {
     "cell_type": "code",
     "collapsed": false,
     "input": [
      "from datetime import timedelta\n",
      "\n",
      "tz = get_tz(timedelta(hours=-3, minutes=-51))"
     ],
     "language": "python",
     "metadata": {},
     "outputs": [],
     "prompt_number": 20
    },
    {
     "cell_type": "code",
     "collapsed": false,
     "input": [
      "tz\n"
     ],
     "language": "python",
     "metadata": {},
     "outputs": [
      {
       "metadata": {},
       "output_type": "pyout",
       "prompt_number": 15,
       "text": [
        "psycopg2.tz.FixedOffsetTimezone(offset=-180, name=None)"
       ]
      }
     ],
     "prompt_number": 15
    },
    {
     "cell_type": "code",
     "collapsed": false,
     "input": [
      "now(tz)"
     ],
     "language": "python",
     "metadata": {},
     "outputs": [
      {
       "metadata": {},
       "output_type": "pyout",
       "prompt_number": 21,
       "text": [
        "datetime.datetime(2017, 2, 2, 11, 4, 53, 143329, tzinfo=psycopg2.tz.FixedOffsetTimezone(offset=-231, name=None))"
       ]
      }
     ],
     "prompt_number": 21
    },
    {
     "cell_type": "code",
     "collapsed": false,
     "input": [
      "now(tz).isoformat()"
     ],
     "language": "python",
     "metadata": {},
     "outputs": [
      {
       "metadata": {},
       "output_type": "pyout",
       "prompt_number": 22,
       "text": [
        "'2017-02-02T11:04:54.020096-03:51'"
       ]
      }
     ],
     "prompt_number": 22
    },
    {
     "cell_type": "code",
     "collapsed": false,
     "input": [
      "longitude = -99.0216642369\n",
      "latitude = 40.7899645884\n",
      "\n",
      "min_temperature = 23.0\n",
      "max_temperature = 36.0\n",
      "average_temperature = 27.8333\n",
      "\n",
      "min_dew_point = 12.0\n",
      "max_dew_point = 27.0\n",
      "average_dew_point = 18.616\n",
      "\n",
      "min_humidity = 54.0\n",
      "max_humidity = 80.0\n",
      "average_humidity = 68.566\n",
      "\n",
      "min_rainfall = 0.0\n",
      "max_railfall = 0.0\n",
      "average_rainfall = 0.0\n",
      "\n",
      "# uom = w/m2\n",
      "min_solar_radiation = 0.0\n",
      "max_solar_radiation = 161.0\n",
      "average_solar_radiation = 72.56\n",
      "\n",
      "#uom = mph\n",
      "min_wind_speed = 8.0\n",
      "max_wind_speed = 17.0\n",
      "average_wind_speed = 13.95\n",
      "\n",
      "\n"
     ],
     "language": "python",
     "metadata": {},
     "outputs": [],
     "prompt_number": 28
    },
    {
     "cell_type": "code",
     "collapsed": false,
     "input": [
      "359.0 /15"
     ],
     "language": "python",
     "metadata": {},
     "outputs": [
      {
       "metadata": {},
       "output_type": "pyout",
       "prompt_number": 38,
       "text": [
        "23.933333333333334"
       ]
      }
     ],
     "prompt_number": 38
    },
    {
     "cell_type": "code",
     "collapsed": false,
     "input": [
      "round(359.0 /15)"
     ],
     "language": "python",
     "metadata": {},
     "outputs": [
      {
       "metadata": {},
       "output_type": "pyout",
       "prompt_number": 39,
       "text": [
        "24.0"
       ]
      }
     ],
     "prompt_number": 39
    },
    {
     "cell_type": "code",
     "collapsed": false,
     "input": [
      "def central_longitude(longitude):\n",
      "    \n",
      "    if longitude > 180 or longitude < -180:\n",
      "        raise ValueError(\"longitude only between -180 and 180\")\n",
      "    \n",
      "    if longitude <= 0:\n",
      "        longwest = abs(longitude)\n",
      "    else:\n",
      "        longwest = 360 - longitude\n",
      "    \n",
      "    mult = round(float(longwest)/ 15, 0)\n",
      "\n",
      "    return (15 * mult) % 360\n",
      "        "
     ],
     "language": "python",
     "metadata": {},
     "outputs": [],
     "prompt_number": 67
    },
    {
     "cell_type": "code",
     "collapsed": false,
     "input": [
      "def "
     ],
     "language": "python",
     "metadata": {},
     "outputs": []
    },
    {
     "cell_type": "code",
     "collapsed": false,
     "input": [
      "longitude"
     ],
     "language": "python",
     "metadata": {},
     "outputs": [
      {
       "metadata": {},
       "output_type": "pyout",
       "prompt_number": 41,
       "text": [
        "-99.0216642369"
       ]
      }
     ],
     "prompt_number": 41
    },
    {
     "cell_type": "code",
     "collapsed": false,
     "input": [
      "central_longitude(longitude)"
     ],
     "language": "python",
     "metadata": {},
     "outputs": [
      {
       "metadata": {},
       "output_type": "pyout",
       "prompt_number": 71,
       "text": [
        "105.0"
       ]
      }
     ],
     "prompt_number": 71
    },
    {
     "cell_type": "code",
     "collapsed": false,
     "input": [
      "central_longitude(-180)"
     ],
     "language": "python",
     "metadata": {},
     "outputs": [
      {
       "metadata": {},
       "output_type": "pyout",
       "prompt_number": 70,
       "text": [
        "180.0"
       ]
      }
     ],
     "prompt_number": 70
    },
    {
     "cell_type": "code",
     "collapsed": false,
     "input": [
      "360-29.2"
     ],
     "language": "python",
     "metadata": {},
     "outputs": [
      {
       "metadata": {},
       "output_type": "pyout",
       "prompt_number": 53,
       "text": [
        "330.8"
       ]
      }
     ],
     "prompt_number": 53
    },
    {
     "cell_type": "code",
     "collapsed": false,
     "input": [
      "math.ceil(-99.4)"
     ],
     "language": "python",
     "metadata": {},
     "outputs": [
      {
       "metadata": {},
       "output_type": "pyout",
       "prompt_number": 54,
       "text": [
        "-99.0"
       ]
      }
     ],
     "prompt_number": 54
    },
    {
     "cell_type": "code",
     "collapsed": false,
     "input": [
      "def central_timzone(longitude):"
     ],
     "language": "python",
     "metadata": {},
     "outputs": []
    }
   ],
   "metadata": {}
  }
 ]
}