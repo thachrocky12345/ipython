{
 "metadata": {
  "name": "",
  "signature": "sha256:bc24e76f7267de32f47b3c39708ca0131defc62e9bd1fde1aa213a9fcc01a961"
 },
 "nbformat": 3,
 "nbformat_minor": 0,
 "worksheets": [
  {
   "cells": [
    {
     "cell_type": "code",
     "collapsed": false,
     "input": [
      "!git add -A\n"
     ],
     "language": "python",
     "metadata": {},
     "outputs": [],
     "prompt_number": 14
    },
    {
     "cell_type": "code",
     "collapsed": false,
     "input": [
      "!git commit -a -m \"adding cassandra script\""
     ],
     "language": "python",
     "metadata": {},
     "outputs": [
      {
       "output_type": "stream",
       "stream": "stdout",
       "text": [
        "[master 1030167] adding cassandra script\r\n",
        " 4 files changed, 1394 insertions(+), 44 deletions(-)\r\n",
        " create mode 100644 .ipynb_checkpoints/Cassandra_20170325-Copy0-checkpoint.ipynb\r\n",
        " create mode 100644 .ipynb_checkpoints/Cassandra_20170325-checkpoint.ipynb\r\n",
        " create mode 100644 Cassandra_20170325-Copy0.ipynb\r\n"
       ]
      }
     ],
     "prompt_number": 15
    },
    {
     "cell_type": "code",
     "collapsed": false,
     "input": [
      "!git push origin master"
     ],
     "language": "python",
     "metadata": {},
     "outputs": [
      {
       "output_type": "stream",
       "stream": "stdout",
       "text": [
        "Counting objects: 5, done.\r\n",
        "Delta compression using up to 8 threads.\r\n",
        "Compressing objects:  20% (1/5)   \r",
        "Compressing objects:  40% (2/5)   \r",
        "Compressing objects:  60% (3/5)   \r",
        "Compressing objects:  80% (4/5)   \r",
        "Compressing objects: 100% (5/5)   \r",
        "Compressing objects: 100% (5/5), done.\r\n",
        "Writing objects:  20% (1/5)   \r",
        "Writing objects:  40% (2/5)   \r",
        "Writing objects:  60% (3/5)   \r",
        "Writing objects:  80% (4/5)   \r",
        "Writing objects: 100% (5/5)   \r",
        "Writing objects: 100% (5/5), 3.24 KiB | 0 bytes/s, done.\r\n",
        "Total 5 (delta 3), reused 0 (delta 0)\r\n"
       ]
      },
      {
       "output_type": "stream",
       "stream": "stdout",
       "text": [
        "remote: Resolving deltas:   0% (0/3)   \u001b[K\r",
        "remote: Resolving deltas:  33% (1/3)   \u001b[K\r",
        "remote: Resolving deltas:  66% (2/3)   \u001b[K\r",
        "remote: Resolving deltas: 100% (3/3)   \u001b[K\r",
        "remote: Resolving deltas: 100% (3/3), completed with 2 local objects.\u001b[K\r\n"
       ]
      },
      {
       "output_type": "stream",
       "stream": "stdout",
       "text": [
        "To github.com:thachrocky12345/ipython.git\r\n",
        "   3f6495c..1030167  master -> master\r\n"
       ]
      },
      {
       "output_type": "stream",
       "stream": "stderr",
       "text": [
        "WARNING:cassandra.cluster:Host 192.168.1.150 has been marked down\n",
        "WARNING:cassandra.cluster:Host 192.168.1.221 has been marked down\n"
       ]
      },
      {
       "output_type": "stream",
       "stream": "stderr",
       "text": [
        "WARNING:cassandra.cluster:Host 192.168.1.221 has been marked down\n"
       ]
      },
      {
       "output_type": "stream",
       "stream": "stderr",
       "text": [
        "WARNING:cassandra.cluster:[control connection] Error connecting to 192.168.1.150:\n",
        "Traceback (most recent call last):\n",
        "  File \"cassandra/cluster.py\", line 2644, in cassandra.cluster.ControlConnection._reconnect_internal (cassandra/cluster.c:48241)\n",
        "    return self._try_connect(host)\n",
        "  File \"cassandra/cluster.py\", line 2666, in cassandra.cluster.ControlConnection._try_connect (cassandra/cluster.c:48758)\n",
        "    connection = self._cluster.connection_factory(host.address, is_control_connection=True)\n",
        "  File \"cassandra/cluster.py\", line 1111, in cassandra.cluster.Cluster.connection_factory (cassandra/cluster.c:15205)\n",
        "    return self.connection_class.factory(address, self.connect_timeout, *args, **kwargs)\n",
        "  File \"cassandra/connection.py\", line 330, in cassandra.connection.Connection.factory (cassandra/connection.c:5680)\n",
        "    raise conn.last_error\n",
        "AuthenticationFailed: Failed to authenticate to 192.168.1.150: Error from server: code=0000 [Server error] message=\"java.lang.RuntimeException: org.apache.cassandra.exceptions.UnavailableException: Cannot achieve consistency level LOCAL_ONE\"\n"
       ]
      },
      {
       "output_type": "stream",
       "stream": "stderr",
       "text": [
        "WARNING:cassandra.pool:Error attempting to reconnect to 192.168.1.221, scheduling retry in 2.0 seconds: [Errno 111] Tried connecting to [('192.168.1.221', 9042)]. Last error: Connection refused\n"
       ]
      },
      {
       "output_type": "stream",
       "stream": "stderr",
       "text": [
        "WARNING:cassandra.cluster:[control connection] Error connecting to 192.168.1.150:\n",
        "Traceback (most recent call last):\n",
        "  File \"cassandra/cluster.py\", line 2644, in cassandra.cluster.ControlConnection._reconnect_internal (cassandra/cluster.c:48241)\n",
        "    return self._try_connect(host)\n",
        "  File \"cassandra/cluster.py\", line 2666, in cassandra.cluster.ControlConnection._try_connect (cassandra/cluster.c:48758)\n",
        "    connection = self._cluster.connection_factory(host.address, is_control_connection=True)\n",
        "  File \"cassandra/cluster.py\", line 1111, in cassandra.cluster.Cluster.connection_factory (cassandra/cluster.c:15205)\n",
        "    return self.connection_class.factory(address, self.connect_timeout, *args, **kwargs)\n",
        "  File \"cassandra/connection.py\", line 330, in cassandra.connection.Connection.factory (cassandra/connection.c:5680)\n",
        "    raise conn.last_error\n",
        "AuthenticationFailed: Failed to authenticate to 192.168.1.150: Error from server: code=0000 [Server error] message=\"java.lang.RuntimeException: org.apache.cassandra.exceptions.UnavailableException: Cannot achieve consistency level LOCAL_ONE\"\n"
       ]
      },
      {
       "output_type": "stream",
       "stream": "stderr",
       "text": [
        "WARNING:cassandra.pool:Error attempting to reconnect to 192.168.1.221, scheduling retry in 4.0 seconds: [Errno 111] Tried connecting to [('192.168.1.221', 9042)]. Last error: Connection refused\n"
       ]
      },
      {
       "output_type": "stream",
       "stream": "stderr",
       "text": [
        "WARNING:cassandra.cluster:[control connection] Error connecting to 192.168.1.150:\n",
        "Traceback (most recent call last):\n",
        "  File \"cassandra/cluster.py\", line 2644, in cassandra.cluster.ControlConnection._reconnect_internal (cassandra/cluster.c:48241)\n",
        "    return self._try_connect(host)\n",
        "  File \"cassandra/cluster.py\", line 2666, in cassandra.cluster.ControlConnection._try_connect (cassandra/cluster.c:48758)\n",
        "    connection = self._cluster.connection_factory(host.address, is_control_connection=True)\n",
        "  File \"cassandra/cluster.py\", line 1111, in cassandra.cluster.Cluster.connection_factory (cassandra/cluster.c:15205)\n",
        "    return self.connection_class.factory(address, self.connect_timeout, *args, **kwargs)\n",
        "  File \"cassandra/connection.py\", line 330, in cassandra.connection.Connection.factory (cassandra/connection.c:5680)\n",
        "    raise conn.last_error\n",
        "AuthenticationFailed: Failed to authenticate to 192.168.1.150: Error from server: code=0100 [Bad credentials] message=\"Error during authentication of user thachbui : org.apache.cassandra.exceptions.UnavailableException: Cannot achieve consistency level LOCAL_ONE\"\n"
       ]
      },
      {
       "output_type": "stream",
       "stream": "stderr",
       "text": [
        "WARNING:cassandra.pool:Error attempting to reconnect to 192.168.1.221, scheduling retry in 8.0 seconds: [Errno 111] Tried connecting to [('192.168.1.221', 9042)]. Last error: Connection refused\n"
       ]
      },
      {
       "output_type": "stream",
       "stream": "stderr",
       "text": [
        "WARNING:cassandra.cluster:[control connection] Error connecting to 192.168.1.150:\n",
        "Traceback (most recent call last):\n",
        "  File \"cassandra/cluster.py\", line 2644, in cassandra.cluster.ControlConnection._reconnect_internal (cassandra/cluster.c:48241)\n",
        "    return self._try_connect(host)\n",
        "  File \"cassandra/cluster.py\", line 2666, in cassandra.cluster.ControlConnection._try_connect (cassandra/cluster.c:48758)\n",
        "    connection = self._cluster.connection_factory(host.address, is_control_connection=True)\n",
        "  File \"cassandra/cluster.py\", line 1111, in cassandra.cluster.Cluster.connection_factory (cassandra/cluster.c:15205)\n",
        "    return self.connection_class.factory(address, self.connect_timeout, *args, **kwargs)\n",
        "  File \"cassandra/connection.py\", line 330, in cassandra.connection.Connection.factory (cassandra/connection.c:5680)\n",
        "    raise conn.last_error\n",
        "AuthenticationFailed: Failed to authenticate to 192.168.1.150: Error from server: code=0100 [Bad credentials] message=\"Error during authentication of user thachbui : org.apache.cassandra.exceptions.UnavailableException: Cannot achieve consistency level LOCAL_ONE\"\n"
       ]
      },
      {
       "output_type": "stream",
       "stream": "stderr",
       "text": [
        "WARNING:cassandra.pool:Error attempting to reconnect to 192.168.1.221, scheduling retry in 16.0 seconds: [Errno 111] Tried connecting to [('192.168.1.221', 9042)]. Last error: Connection refused\n"
       ]
      },
      {
       "output_type": "stream",
       "stream": "stderr",
       "text": [
        "WARNING:cassandra.cluster:Host 192.168.1.150 has been marked down\n"
       ]
      },
      {
       "output_type": "stream",
       "stream": "stderr",
       "text": [
        "WARNING:cassandra.pool:Error attempting to reconnect to 192.168.1.150, scheduling retry in 2.0 seconds: [Errno 111] Tried connecting to [('192.168.1.150', 9042)]. Last error: Connection refused\n"
       ]
      },
      {
       "output_type": "stream",
       "stream": "stderr",
       "text": [
        "WARNING:cassandra.pool:Error attempting to reconnect to 192.168.1.150, scheduling retry in 4.0 seconds: [Errno 111] Tried connecting to [('192.168.1.150', 9042)]. Last error: Connection refused\n"
       ]
      },
      {
       "output_type": "stream",
       "stream": "stderr",
       "text": [
        "WARNING:cassandra.pool:Error attempting to reconnect to 192.168.1.150, scheduling retry in 8.0 seconds: [Errno 111] Tried connecting to [('192.168.1.150', 9042)]. Last error: Connection refused\n"
       ]
      },
      {
       "output_type": "stream",
       "stream": "stderr",
       "text": [
        "WARNING:cassandra.pool:Error attempting to reconnect to 192.168.1.150, scheduling retry in 16.0 seconds: [Errno 111] Tried connecting to [('192.168.1.150', 9042)]. Last error: Connection refused\n"
       ]
      }
     ],
     "prompt_number": 16
    },
    {
     "cell_type": "markdown",
     "metadata": {},
     "source": [
      "# Copy data"
     ]
    },
    {
     "cell_type": "code",
     "collapsed": false,
     "input": [
      "import multiprocessing\n",
      "import time\n",
      "import os\n",
      "from cassandra.cluster import Cluster\n",
      "from cassandra import ConsistencyLevel\n",
      "from cassandra.query import SimpleStatement\n",
      "\n",
      "\n",
      "\n",
      "def mp_worker(inputArg):\n",
      "        cluster = Cluster(['1.2.1.4'])\n",
      "        session = cluster.connect('poc')\n",
      "\n",
      "\n",
      "        with open(inputArg[0]) as f:\n",
      "            for line in f:\n",
      "                query = SimpleStatement (\n",
      "                    \"INSERT INTO testTable (cust_id, accts, offers) values (%s)\" %(line),\n",
      "                    consistency_level=ConsistencyLevel.ONE)\n",
      "                session.execute_async (query)\n",
      "\n",
      "\n",
      "def mp_handler(inputData, nThreads = 8):\n",
      "    p = multiprocessing.Pool(nThreads)\n",
      "    p.map(mp_worker, inputData, chunksize=1)\n",
      "    p.close()\n",
      "    p.join()"
     ],
     "language": "python",
     "metadata": {},
     "outputs": []
    },
    {
     "cell_type": "code",
     "collapsed": false,
     "input": [
      "from etl.pgdb import PgsqlExecutor\n",
      "from etl import cassdb"
     ],
     "language": "python",
     "metadata": {},
     "outputs": [],
     "prompt_number": 17
    },
    {
     "cell_type": "code",
     "collapsed": false,
     "input": [
      "weather_database =  dict(host='localhost',port=5432, database='decoded', user='thachbui', password='thach12345')\n",
      "db = PgsqlExecutor(weather_database)"
     ],
     "language": "python",
     "metadata": {},
     "outputs": [],
     "prompt_number": 18
    },
    {
     "cell_type": "code",
     "collapsed": false,
     "input": [
      "get_weather_tables = '''\n",
      "SELECT c.relname weather_table\n",
      "    FROM pg_catalog.pg_class c\n",
      "\tLEFT JOIN pg_catalog.pg_namespace n ON n.oid = c.relnamespace\n",
      "\tWHERE n.nspname = 'weather'\n",
      "\tAND c.relname like 'weather_2%' order by 1 desc\n",
      "'''"
     ],
     "language": "python",
     "metadata": {},
     "outputs": [],
     "prompt_number": 5
    },
    {
     "cell_type": "code",
     "collapsed": false,
     "input": [
      "weather_tables = db.fetch_all_rows(get_weather_tables).query_data"
     ],
     "language": "python",
     "metadata": {},
     "outputs": [],
     "prompt_number": 6
    },
    {
     "cell_type": "code",
     "collapsed": false,
     "input": [
      "for i in weather_tables[0:5]:\n",
      "    print i"
     ],
     "language": "python",
     "metadata": {},
     "outputs": [
      {
       "output_type": "stream",
       "stream": "stdout",
       "text": [
        "Record(weather_table='weather_20170213')\n",
        "Record(weather_table='weather_20170212')\n",
        "Record(weather_table='weather_20170211')\n",
        "Record(weather_table='weather_20170210')\n",
        "Record(weather_table='weather_20170209')\n"
       ]
      }
     ],
     "prompt_number": 7
    },
    {
     "cell_type": "markdown",
     "metadata": {},
     "source": [
      "# treaming data and insert"
     ]
    },
    {
     "cell_type": "code",
     "collapsed": false,
     "input": [
      "auth_provider = dict(username='thachbui',\n",
      "                     password='thach12345',\n",
      "                     hosts=['192.168.1.150', '192.168.1.221'],\n",
      "                     port=None,\n",
      "                     database='weather')"
     ],
     "language": "python",
     "metadata": {},
     "outputs": [],
     "prompt_number": 19
    },
    {
     "cell_type": "code",
     "collapsed": false,
     "input": [
      "db_cass = cassdb.CasExecutor(auth_provider)\n"
     ],
     "language": "python",
     "metadata": {},
     "outputs": [],
     "prompt_number": 20
    },
    {
     "cell_type": "code",
     "collapsed": false,
     "input": [
      "from datetime import datetime\n",
      "start_time = datetime.now()\n",
      "sql = ''' select * from weather where ts > '2017-02-10' and ts < '2017-02-14' and countyid = 'mo047' order by ts desc allow filtering '''\n",
      "\n",
      "data= db_cass.fetch_all_rows(sql)\n",
      "\n",
      "print \"Run time: {} - total rows: {}\".format(datetime.now() - start_time, len(data))\n",
      "for i in data[0:10]:\n",
      "    print i\n",
      "    "
     ],
     "language": "python",
     "metadata": {},
     "outputs": [
      {
       "output_type": "stream",
       "stream": "stdout",
       "text": [
        "Run time: 0:00:00.594224 - total rows: 14\n",
        "Row(countyid=u'mo047', ts=datetime.datetime(2017, 2, 13, 13, 18, 4, 44000), current_temp=50.0, dew_point=19.0, elevation=758.0, high=54.0, humidity_relh=29.0, low=34.0, precipitation_am=40, precipitation_pm=20, slp=30.25, weather=u'Chance Showers', wind_degree=200.0, wind_direction=u'SSW', wind_gust=0.0, wind_speed=8.0, windchill=47.0)\n",
        "Row(countyid=u'mo047', ts=datetime.datetime(2017, 2, 13, 12, 20, 1, 429000), current_temp=47.0, dew_point=20.0, elevation=758.0, high=54.0, humidity_relh=34.0, low=34.0, precipitation_am=40, precipitation_pm=20, slp=30.299999237060547, weather=u'Chance Showers', wind_degree=200.0, wind_direction=u'SSW', wind_gust=0.0, wind_speed=8.0, windchill=43.0)\n",
        "Row(countyid=u'mo047', ts=datetime.datetime(2017, 2, 13, 11, 23, 23, 383000), current_temp=46.0, dew_point=20.0, elevation=758.0, high=54.0, humidity_relh=35.0, low=34.0, precipitation_am=40, precipitation_pm=20, slp=30.34000015258789, weather=u'Chance Showers', wind_degree=180.0, wind_direction=u'S', wind_gust=0.0, wind_speed=9.0, windchill=41.0)\n",
        "Row(countyid=u'mo047', ts=datetime.datetime(2017, 2, 13, 10, 19, 46, 278000), current_temp=45.0, dew_point=22.0, elevation=758.0, high=54.0, humidity_relh=40.0, low=33.0, precipitation_am=40, precipitation_pm=None, slp=30.3700008392334, weather=u'Chance Showers', wind_degree=200.0, wind_direction=u'SSW', wind_gust=0.0, wind_speed=9.0, windchill=40.0)\n",
        "Row(countyid=u'mo047', ts=datetime.datetime(2017, 2, 13, 9, 22, 58, 354000), current_temp=38.0, dew_point=27.0, elevation=758.0, high=54.0, humidity_relh=65.0, low=33.0, precipitation_am=40, precipitation_pm=None, slp=30.3799991607666, weather=u'Chance Showers', wind_degree=0.0, wind_direction=u'N', wind_gust=0.0, wind_speed=0.0, windchill=None)\n",
        "Row(countyid=u'mo047', ts=datetime.datetime(2017, 2, 13, 8, 22, 32, 121000), current_temp=31.0, dew_point=24.0, elevation=758.0, high=54.0, humidity_relh=76.0, low=33.0, precipitation_am=20, precipitation_pm=None, slp=30.389999389648438, weather=u'Slight Chance Rain', wind_degree=0.0, wind_direction=u'N', wind_gust=0.0, wind_speed=0.0, windchill=None)\n",
        "Row(countyid=u'mo047', ts=datetime.datetime(2017, 2, 13, 7, 16, 44, 693000), current_temp=31.0, dew_point=24.0, elevation=758.0, high=54.0, humidity_relh=76.0, low=33.0, precipitation_am=20, precipitation_pm=None, slp=30.389999389648438, weather=u'Slight Chance Rain', wind_degree=0.0, wind_direction=u'N', wind_gust=0.0, wind_speed=0.0, windchill=None)\n",
        "Row(countyid=u'mo047', ts=datetime.datetime(2017, 2, 13, 6, 20, 20, 444000), current_temp=32.0, dew_point=23.0, elevation=758.0, high=54.0, humidity_relh=69.0, low=33.0, precipitation_am=None, precipitation_pm=None, slp=30.389999389648438, weather=u'Mostly Cloudy', wind_degree=0.0, wind_direction=u'N', wind_gust=0.0, wind_speed=0.0, windchill=None)\n",
        "Row(countyid=u'mo047', ts=datetime.datetime(2017, 2, 13, 5, 19, 1, 156000), current_temp=31.0, dew_point=24.0, elevation=758.0, high=54.0, humidity_relh=76.0, low=33.0, precipitation_am=None, precipitation_pm=None, slp=30.399999618530273, weather=u'Mostly Cloudy', wind_degree=0.0, wind_direction=u'N', wind_gust=0.0, wind_speed=0.0, windchill=None)\n",
        "Row(countyid=u'mo047', ts=datetime.datetime(2017, 2, 13, 4, 23, 15, 250000), current_temp=31.0, dew_point=24.0, elevation=758.0, high=54.0, humidity_relh=76.0, low=33.0, precipitation_am=None, precipitation_pm=None, slp=30.40999984741211, weather=u'Mostly Cloudy', wind_degree=0.0, wind_direction=u'N', wind_gust=0.0, wind_speed=0.0, windchill=None)\n"
       ]
      },
      {
       "output_type": "stream",
       "stream": "stderr",
       "text": [
        "WARNING:cassandra.cluster:Host 192.168.1.150 has been marked down\n",
        "WARNING:cassandra.cluster:Host 192.168.1.221 has been marked down\n"
       ]
      }
     ],
     "prompt_number": 21
    },
    {
     "cell_type": "code",
     "collapsed": false,
     "input": [
      "from datetime import datetime\n",
      "for weather_table in weather_tables:\n",
      "    count = 0\n",
      "    weather_table =  weather_table.weather_table\n",
      "    print weather_table\n",
      "    get_data_from_table = get_data_from_table.format(table=weather_table)\n",
      "    insert_data = db.streaming_cursor(get_data_from_table)\n",
      "    \n",
      "    start_time = datetime.now()\n",
      "    for row in insert_data:\n",
      "        count += 1\n",
      "        prepare.insert_row(row)\n",
      "    print \"Run time: {} - total rows: {} \".format(datetime.now() - start_time, count)"
     ],
     "language": "python",
     "metadata": {},
     "outputs": []
    },
    {
     "cell_type": "code",
     "collapsed": false,
     "input": [],
     "language": "python",
     "metadata": {},
     "outputs": []
    },
    {
     "cell_type": "code",
     "collapsed": false,
     "input": [
      "# print prepare.prepare_statement_sql(insert_into_cassandra)"
     ],
     "language": "python",
     "metadata": {},
     "outputs": [],
     "prompt_number": 33
    },
    {
     "cell_type": "code",
     "collapsed": false,
     "input": [
      "sql = '''select \n",
      "    countyid ,\n",
      "    ts ,\n",
      "    weather ,\n",
      "    current_temp ,\n",
      "    high ,\n",
      "    low ,\n",
      "    precipitation_am ,\n",
      "    precipitation_pm ,\n",
      "    dew_point ,\n",
      "    wind_gust ,\n",
      "    humidity_relh ,\n",
      "    slp ,\n",
      "    elevation ,\n",
      "    windchill ,\n",
      "    wind_degree ,\n",
      "    wind_speed ,\n",
      "    wind_direction\n",
      "from weather.weather limit 2000 '''\n",
      "insert_data = db.streaming_cursor(sql)\n",
      "from datetime import datetime\n",
      "start_time = datetime.now()\n",
      "for row in insert_data:\n",
      "    prepare.insert_row(row)\n",
      "print \"Run time: {}\".format(datetime.now() - start_time)"
     ],
     "language": "python",
     "metadata": {},
     "outputs": [
      {
       "output_type": "stream",
       "stream": "stdout",
       "text": [
        "Run time: 0:00:07.306454\n"
       ]
      }
     ],
     "prompt_number": 34
    },
    {
     "cell_type": "code",
     "collapsed": false,
     "input": [],
     "language": "python",
     "metadata": {},
     "outputs": []
    },
    {
     "cell_type": "code",
     "collapsed": false,
     "input": [],
     "language": "python",
     "metadata": {},
     "outputs": []
    },
    {
     "cell_type": "code",
     "collapsed": false,
     "input": [],
     "language": "python",
     "metadata": {},
     "outputs": []
    },
    {
     "cell_type": "code",
     "collapsed": false,
     "input": [],
     "language": "python",
     "metadata": {},
     "outputs": []
    },
    {
     "cell_type": "code",
     "collapsed": false,
     "input": [
      "\n",
      "data = db.fetch_one_row(\"select * from weather.weather limit 1\")\n",
      "for i in data.query_data._asdict().keys():\n",
      "    print  \"%s,\""
     ],
     "language": "python",
     "metadata": {},
     "outputs": [
      {
       "output_type": "stream",
       "stream": "stdout",
       "text": [
        "%s,\n",
        "%s,\n",
        "%s,\n",
        "%s,\n",
        "%s,\n",
        "%s,\n",
        "%s,\n",
        "%s,\n",
        "%s,\n",
        "%s,\n",
        "%s,\n",
        "%s,\n",
        "%s,\n",
        "%s,\n",
        "%s,\n",
        "%s,\n",
        "%s,\n",
        "%s,\n"
       ]
      }
     ],
     "prompt_number": 12
    },
    {
     "cell_type": "code",
     "collapsed": false,
     "input": [
      "get_data_from_table = '''\n",
      "select \n",
      "    countyid ,\n",
      "    ts ,\n",
      "    weather ,\n",
      "    current_temp ,\n",
      "    high ,\n",
      "    low ,\n",
      "    precipitation_am ,\n",
      "    precipitation_pm ,\n",
      "    dew_point ,\n",
      "    wind_gust ,\n",
      "    humidity_relh ,\n",
      "    slp ,\n",
      "    elevation ,\n",
      "    windchill ,\n",
      "    wind_degree ,\n",
      "    wind_speed ,\n",
      "    wind_direction\n",
      "from weather.{table} order by ts desc\n",
      "'''"
     ],
     "language": "python",
     "metadata": {},
     "outputs": [],
     "prompt_number": 10
    },
    {
     "cell_type": "code",
     "collapsed": false,
     "input": [
      "insert_into_cassandra = '''\n",
      "insert into weather (\n",
      "countyid ,\n",
      "    ts ,\n",
      "    weather ,\n",
      "    current_temp ,\n",
      "    high ,\n",
      "    low ,\n",
      "    precipitation_am ,\n",
      "    precipitation_pm ,\n",
      "    dew_point ,\n",
      "    wind_gust ,\n",
      "    humidity_relh ,\n",
      "    slp ,\n",
      "    elevation ,\n",
      "    windchill ,\n",
      "    wind_degree ,\n",
      "    wind_speed ,\n",
      "    wind_direction\n",
      "    )\n",
      "    \n",
      "values (\n",
      "\n",
      "%s,%s,%s,%s,%s,\n",
      "%s,%s,%s,%s,\n",
      "%s,%s,%s,%s,\n",
      "%s,%s,%s,%s\n",
      ")\n",
      "'''"
     ],
     "language": "python",
     "metadata": {},
     "outputs": [],
     "prompt_number": 11
    },
    {
     "cell_type": "code",
     "collapsed": false,
     "input": [],
     "language": "python",
     "metadata": {},
     "outputs": []
    }
   ],
   "metadata": {}
  }
 ]
}