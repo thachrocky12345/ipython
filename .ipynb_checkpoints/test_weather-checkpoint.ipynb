{
 "metadata": {
  "name": "",
  "signature": "sha256:ae1a31d698ef20efb02937c72f645f654a4c03661990c82f2d6c4442b56a8e39"
 },
 "nbformat": 3,
 "nbformat_minor": 0,
 "worksheets": []
}