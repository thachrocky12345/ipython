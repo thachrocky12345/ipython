{
 "metadata": {
  "name": "",
  "signature": "sha256:5310435425ea070652b84badde7b2272665e4e880de0f8536fc10169cfdb6a47"
 },
 "nbformat": 3,
 "nbformat_minor": 0,
 "worksheets": [
  {
   "cells": [
    {
     "cell_type": "code",
     "collapsed": false,
     "input": [
      "!git add -A\n"
     ],
     "language": "python",
     "metadata": {},
     "outputs": [],
     "prompt_number": 1
    },
    {
     "cell_type": "code",
     "collapsed": false,
     "input": [
      "!git commit -a -m \"adding cassandra script\""
     ],
     "language": "python",
     "metadata": {},
     "outputs": [
      {
       "output_type": "stream",
       "stream": "stdout",
       "text": [
        "[master a44fd22] adding cassandra script\r\n",
        " 1 file changed, 9 insertions(+)\r\n",
        " create mode 100644 Cassandra_20170325.ipynb\r\n"
       ]
      }
     ],
     "prompt_number": 2
    },
    {
     "cell_type": "code",
     "collapsed": false,
     "input": [
      "!git push origin master"
     ],
     "language": "python",
     "metadata": {},
     "outputs": [
      {
       "output_type": "stream",
       "stream": "stdout",
       "text": [
        "Counting objects: 3, done.\r\n",
        "Delta compression using up to 8 threads.\r\n",
        "Compressing objects:  33% (1/3)   \r",
        "Compressing objects:  66% (2/3)   \r",
        "Compressing objects: 100% (3/3)   \r",
        "Compressing objects: 100% (3/3), done.\r\n",
        "Writing objects:  33% (1/3)   \r",
        "Writing objects:  66% (2/3)   \r",
        "Writing objects: 100% (3/3)   \r",
        "Writing objects: 100% (3/3), 428 bytes | 0 bytes/s, done.\r\n",
        "Total 3 (delta 1), reused 0 (delta 0)\r\n"
       ]
      },
      {
       "output_type": "stream",
       "stream": "stdout",
       "text": [
        "remote: Resolving deltas:   0% (0/1)   \u001b[K\r"
       ]
      },
      {
       "output_type": "stream",
       "stream": "stdout",
       "text": [
        "remote: Resolving deltas: 100% (1/1)   \u001b[K\r",
        "remote: Resolving deltas: 100% (1/1), completed with 1 local objects.\u001b[K\r\n"
       ]
      },
      {
       "output_type": "stream",
       "stream": "stdout",
       "text": [
        "To github.com:thachrocky12345/ipython.git\r\n",
        "   86a343d..a44fd22  master -> master\r\n"
       ]
      }
     ],
     "prompt_number": 3
    },
    {
     "cell_type": "code",
     "collapsed": false,
     "input": [
      "from etl.pgdb import PgsqlExecutor\n",
      "from etl import cassdb"
     ],
     "language": "python",
     "metadata": {},
     "outputs": [],
     "prompt_number": 6
    },
    {
     "cell_type": "code",
     "collapsed": false,
     "input": [
      "weather_database =  dict(host='localhost',port=5432, database='decoded', user='thachbui', password='thach12345')\n",
      "db = PgsqlExecutor(weather_database)"
     ],
     "language": "python",
     "metadata": {},
     "outputs": [],
     "prompt_number": 19
    },
    {
     "cell_type": "code",
     "collapsed": false,
     "input": [
      "get_weather_tables = '''\n",
      "SELECT c.relname weather_table\n",
      "    FROM pg_catalog.pg_class c\n",
      "\tLEFT JOIN pg_catalog.pg_namespace n ON n.oid = c.relnamespace\n",
      "\tWHERE n.nspname = 'weather'\n",
      "\tAND c.relname like 'weather_2%' order by 1 desc\n",
      "'''"
     ],
     "language": "python",
     "metadata": {},
     "outputs": [],
     "prompt_number": 14
    },
    {
     "cell_type": "code",
     "collapsed": false,
     "input": [
      "weather_tables = db.fetch_all_rows(get_weather_tables).query_data"
     ],
     "language": "python",
     "metadata": {},
     "outputs": [],
     "prompt_number": 15
    },
    {
     "cell_type": "code",
     "collapsed": false,
     "input": [
      "for i in weather_tables[0:5]:\n",
      "    print i"
     ],
     "language": "python",
     "metadata": {},
     "outputs": [
      {
       "output_type": "stream",
       "stream": "stdout",
       "text": [
        "Record(weather_table='weather_20170213')\n",
        "Record(weather_table='weather_20170212')\n",
        "Record(weather_table='weather_20170211')\n",
        "Record(weather_table='weather_20170210')\n",
        "Record(weather_table='weather_20170209')\n"
       ]
      }
     ],
     "prompt_number": 16
    },
    {
     "cell_type": "markdown",
     "metadata": {},
     "source": [
      "# treaming data and insert"
     ]
    },
    {
     "cell_type": "code",
     "collapsed": false,
     "input": [
      "auth_provider = dict(username='thachbui',\n",
      "                     password='thach12345',\n",
      "                     hosts=['192.168.1.150', '192.168.1.221'],\n",
      "                     port=None,\n",
      "                     database='weather')"
     ],
     "language": "python",
     "metadata": {},
     "outputs": [],
     "prompt_number": 31
    },
    {
     "cell_type": "code",
     "collapsed": false,
     "input": [
      "db_cass = cassdb.CasExecutor(auth_provider)\n",
      "prepare = cassdb.Prepare(db_cass.cursor, insert_into_cassandra)"
     ],
     "language": "python",
     "metadata": {},
     "outputs": [],
     "prompt_number": 32
    },
    {
     "cell_type": "code",
     "collapsed": false,
     "input": [
      "from datetime import datetime\n",
      "for weather_table in weather_tables:\n",
      "    count = 0\n",
      "    weather_table =  weather_table.weather_table\n",
      "    print weather_table\n",
      "    get_data_from_table = get_data_from_table.format(table=weather_table)\n",
      "    insert_data = db.streaming_cursor(get_data_from_table)\n",
      "    \n",
      "    start_time = datetime.now()\n",
      "    for row in insert_data:\n",
      "        count += 1\n",
      "        prepare.insert_row(row)\n",
      "    print \"Run time: {} - total rows: {} \".format(datetime.now() - start_time, count)"
     ],
     "language": "python",
     "metadata": {},
     "outputs": [
      {
       "output_type": "stream",
       "stream": "stdout",
       "text": [
        "weather_20170213\n"
       ]
      },
      {
       "ename": "ProgrammingError",
       "evalue": "column \"weather_table\" does not exist\nLINE 20: from weather.Record(weather_table='weather_20170213') order ...\n                             ^\n",
       "output_type": "pyerr",
       "traceback": [
        "\u001b[1;31m---------------------------------------------------------------------------\u001b[0m\n\u001b[1;31mProgrammingError\u001b[0m                          Traceback (most recent call last)",
        "\u001b[1;32m<ipython-input-38-eed975fdb889>\u001b[0m in \u001b[0;36m<module>\u001b[1;34m()\u001b[0m\n\u001b[0;32m      8\u001b[0m \u001b[1;33m\u001b[0m\u001b[0m\n\u001b[0;32m      9\u001b[0m     \u001b[0mstart_time\u001b[0m \u001b[1;33m=\u001b[0m \u001b[0mdatetime\u001b[0m\u001b[1;33m.\u001b[0m\u001b[0mnow\u001b[0m\u001b[1;33m(\u001b[0m\u001b[1;33m)\u001b[0m\u001b[1;33m\u001b[0m\u001b[0m\n\u001b[1;32m---> 10\u001b[1;33m     \u001b[1;32mfor\u001b[0m \u001b[0mrow\u001b[0m \u001b[1;32min\u001b[0m \u001b[0minsert_data\u001b[0m\u001b[1;33m:\u001b[0m\u001b[1;33m\u001b[0m\u001b[0m\n\u001b[0m\u001b[0;32m     11\u001b[0m         \u001b[0mcount\u001b[0m \u001b[1;33m+=\u001b[0m \u001b[1;36m1\u001b[0m\u001b[1;33m\u001b[0m\u001b[0m\n\u001b[0;32m     12\u001b[0m         \u001b[0mprepare\u001b[0m\u001b[1;33m.\u001b[0m\u001b[0minsert_row\u001b[0m\u001b[1;33m(\u001b[0m\u001b[0mrow\u001b[0m\u001b[1;33m)\u001b[0m\u001b[1;33m\u001b[0m\u001b[0m\n",
        "\u001b[1;32m/opt/sources/etl/pgdb.pyc\u001b[0m in \u001b[0;36mstreaming_cursor\u001b[1;34m(self, sql, args)\u001b[0m\n\u001b[0;32m    180\u001b[0m                 \u001b[0mcursor\u001b[0m\u001b[1;33m.\u001b[0m\u001b[0marraysize\u001b[0m \u001b[1;33m=\u001b[0m \u001b[1;36m3000\u001b[0m\u001b[1;33m\u001b[0m\u001b[0m\n\u001b[0;32m    181\u001b[0m                 \u001b[0mlog\u001b[0m\u001b[1;33m.\u001b[0m\u001b[0mdebug\u001b[0m\u001b[1;33m(\u001b[0m\u001b[0mcursor\u001b[0m\u001b[1;33m.\u001b[0m\u001b[0mmogrify\u001b[0m\u001b[1;33m(\u001b[0m\u001b[0msql\u001b[0m\u001b[1;33m,\u001b[0m \u001b[0margs\u001b[0m\u001b[1;33m)\u001b[0m\u001b[1;33m)\u001b[0m\u001b[1;33m\u001b[0m\u001b[0m\n\u001b[1;32m--> 182\u001b[1;33m                 \u001b[0mcursor\u001b[0m\u001b[1;33m.\u001b[0m\u001b[0mexecute\u001b[0m\u001b[1;33m(\u001b[0m\u001b[0msql\u001b[0m\u001b[1;33m,\u001b[0m \u001b[0margs\u001b[0m\u001b[1;33m)\u001b[0m\u001b[1;33m\u001b[0m\u001b[0m\n\u001b[0m\u001b[0;32m    183\u001b[0m                 \u001b[1;32mwhile\u001b[0m \u001b[0mTrue\u001b[0m\u001b[1;33m:\u001b[0m\u001b[1;33m\u001b[0m\u001b[0m\n\u001b[0;32m    184\u001b[0m                     \u001b[0mresult_set\u001b[0m \u001b[1;33m=\u001b[0m \u001b[0mcursor\u001b[0m\u001b[1;33m.\u001b[0m\u001b[0mfetchmany\u001b[0m\u001b[1;33m(\u001b[0m\u001b[1;33m)\u001b[0m\u001b[1;33m\u001b[0m\u001b[0m\n",
        "\u001b[1;31mProgrammingError\u001b[0m: column \"weather_table\" does not exist\nLINE 20: from weather.Record(weather_table='weather_20170213') order ...\n                             ^\n"
       ]
      }
     ],
     "prompt_number": 38
    },
    {
     "cell_type": "code",
     "collapsed": false,
     "input": [],
     "language": "python",
     "metadata": {},
     "outputs": []
    },
    {
     "cell_type": "code",
     "collapsed": false,
     "input": [
      "# print prepare.prepare_statement_sql(insert_into_cassandra)"
     ],
     "language": "python",
     "metadata": {},
     "outputs": [],
     "prompt_number": 33
    },
    {
     "cell_type": "code",
     "collapsed": false,
     "input": [
      "sql = '''select \n",
      "    countyid ,\n",
      "    ts ,\n",
      "    weather ,\n",
      "    current_temp ,\n",
      "    high ,\n",
      "    low ,\n",
      "    precipitation_am ,\n",
      "    precipitation_pm ,\n",
      "    dew_point ,\n",
      "    wind_gust ,\n",
      "    humidity_relh ,\n",
      "    slp ,\n",
      "    elevation ,\n",
      "    windchill ,\n",
      "    wind_degree ,\n",
      "    wind_speed ,\n",
      "    wind_direction\n",
      "from weather.weather limit 2000 '''\n",
      "insert_data = db.streaming_cursor(sql)\n",
      "from datetime import datetime\n",
      "start_time = datetime.now()\n",
      "for row in insert_data:\n",
      "    prepare.insert_row(row)\n",
      "print \"Run time: {}\".format(datetime.now() - start_time)"
     ],
     "language": "python",
     "metadata": {},
     "outputs": [
      {
       "output_type": "stream",
       "stream": "stdout",
       "text": [
        "Run time: 0:00:07.306454\n"
       ]
      }
     ],
     "prompt_number": 34
    },
    {
     "cell_type": "code",
     "collapsed": false,
     "input": [],
     "language": "python",
     "metadata": {},
     "outputs": []
    },
    {
     "cell_type": "code",
     "collapsed": false,
     "input": [],
     "language": "python",
     "metadata": {},
     "outputs": []
    },
    {
     "cell_type": "code",
     "collapsed": false,
     "input": [],
     "language": "python",
     "metadata": {},
     "outputs": []
    },
    {
     "cell_type": "code",
     "collapsed": false,
     "input": [],
     "language": "python",
     "metadata": {},
     "outputs": []
    },
    {
     "cell_type": "code",
     "collapsed": false,
     "input": [
      "\n",
      "data = db.fetch_one_row(\"select * from weather.weather limit 1\")\n",
      "for i in data.query_data._asdict().keys():\n",
      "    print  \"%s,\""
     ],
     "language": "python",
     "metadata": {},
     "outputs": [
      {
       "output_type": "stream",
       "stream": "stdout",
       "text": [
        "%s,\n",
        "%s,\n",
        "%s,\n",
        "%s,\n",
        "%s,\n",
        "%s,\n",
        "%s,\n",
        "%s,\n",
        "%s,\n",
        "%s,\n",
        "%s,\n",
        "%s,\n",
        "%s,\n",
        "%s,\n",
        "%s,\n",
        "%s,\n",
        "%s,\n",
        "%s,\n"
       ]
      }
     ],
     "prompt_number": 12
    },
    {
     "cell_type": "code",
     "collapsed": false,
     "input": [
      "get_data_from_table = '''\n",
      "select \n",
      "    countyid ,\n",
      "    ts ,\n",
      "    weather ,\n",
      "    current_temp ,\n",
      "    high ,\n",
      "    low ,\n",
      "    precipitation_am ,\n",
      "    precipitation_pm ,\n",
      "    dew_point ,\n",
      "    wind_gust ,\n",
      "    humidity_relh ,\n",
      "    slp ,\n",
      "    elevation ,\n",
      "    windchill ,\n",
      "    wind_degree ,\n",
      "    wind_speed ,\n",
      "    wind_direction\n",
      "from weather.{table} order by ts desc\n",
      "'''"
     ],
     "language": "python",
     "metadata": {},
     "outputs": [],
     "prompt_number": 10
    },
    {
     "cell_type": "code",
     "collapsed": false,
     "input": [
      "insert_into_cassandra = '''\n",
      "insert into weather (\n",
      "countyid ,\n",
      "    ts ,\n",
      "    weather ,\n",
      "    current_temp ,\n",
      "    high ,\n",
      "    low ,\n",
      "    precipitation_am ,\n",
      "    precipitation_pm ,\n",
      "    dew_point ,\n",
      "    wind_gust ,\n",
      "    humidity_relh ,\n",
      "    slp ,\n",
      "    elevation ,\n",
      "    windchill ,\n",
      "    wind_degree ,\n",
      "    wind_speed ,\n",
      "    wind_direction\n",
      "    )\n",
      "    \n",
      "values (\n",
      "\n",
      "%s,%s,%s,%s,%s,\n",
      "%s,%s,%s,%s,\n",
      "%s,%s,%s,%s,\n",
      "%s,%s,%s,%s\n",
      ")\n",
      "'''"
     ],
     "language": "python",
     "metadata": {},
     "outputs": [],
     "prompt_number": 26
    },
    {
     "cell_type": "code",
     "collapsed": false,
     "input": [],
     "language": "python",
     "metadata": {},
     "outputs": []
    }
   ],
   "metadata": {}
  }
 ]
}