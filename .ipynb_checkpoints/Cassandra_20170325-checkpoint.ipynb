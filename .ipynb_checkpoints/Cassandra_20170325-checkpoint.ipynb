{
 "metadata": {
  "name": "",
  "signature": "sha256:2afcf1f35302cb4df9e9024cfbef8159fb20717cab66d8c523a339e06b648f63"
 },
 "nbformat": 3,
 "nbformat_minor": 0,
 "worksheets": [
  {
   "cells": [
    {
     "cell_type": "code",
     "collapsed": false,
     "input": [
      "!git add -A\n"
     ],
     "language": "python",
     "metadata": {},
     "outputs": [],
     "prompt_number": 1
    },
    {
     "cell_type": "code",
     "collapsed": false,
     "input": [
      "!git commit -a -m \"adding cassandra script\""
     ],
     "language": "python",
     "metadata": {},
     "outputs": [
      {
       "output_type": "stream",
       "stream": "stdout",
       "text": [
        "[master 3f6495c] adding cassandra script\r\n",
        " 1 file changed, 455 insertions(+), 2 deletions(-)\r\n"
       ]
      }
     ],
     "prompt_number": 1
    },
    {
     "cell_type": "code",
     "collapsed": false,
     "input": [
      "!git push origin master"
     ],
     "language": "python",
     "metadata": {},
     "outputs": [
      {
       "output_type": "stream",
       "stream": "stdout",
       "text": [
        "Counting objects: 3, done.\r\n",
        "Delta compression using up to 8 threads.\r\n",
        "Compressing objects:  33% (1/3)   \r",
        "Compressing objects:  66% (2/3)   \r",
        "Compressing objects: 100% (3/3)   \r",
        "Compressing objects: 100% (3/3), done.\r\n",
        "Writing objects:  33% (1/3)   \r",
        "Writing objects:  66% (2/3)   \r",
        "Writing objects: 100% (3/3)   \r",
        "Writing objects: 100% (3/3), 2.54 KiB | 0 bytes/s, done.\r\n",
        "Total 3 (delta 1), reused 0 (delta 0)\r\n"
       ]
      },
      {
       "output_type": "stream",
       "stream": "stdout",
       "text": [
        "remote: Resolving deltas:   0% (0/1)   \u001b[K\r",
        "remote: Resolving deltas: 100% (1/1)   \u001b[K\r",
        "remote: Resolving deltas: 100% (1/1), completed with 1 local objects.\u001b[K\r\n"
       ]
      },
      {
       "output_type": "stream",
       "stream": "stdout",
       "text": [
        "To github.com:thachrocky12345/ipython.git\r\n",
        "   a44fd22..3f6495c  master -> master\r\n"
       ]
      }
     ],
     "prompt_number": 2
    },
    {
     "cell_type": "code",
     "collapsed": false,
     "input": [
      "from etl.pgdb import PgsqlExecutor\n",
      "from etl import cassdb"
     ],
     "language": "python",
     "metadata": {},
     "outputs": [],
     "prompt_number": 3
    },
    {
     "cell_type": "code",
     "collapsed": false,
     "input": [
      "weather_database =  dict(host='localhost',port=5432, database='decoded', user='thachbui', password='thach12345')\n",
      "db = PgsqlExecutor(weather_database)"
     ],
     "language": "python",
     "metadata": {},
     "outputs": [],
     "prompt_number": 4
    },
    {
     "cell_type": "code",
     "collapsed": false,
     "input": [
      "get_weather_tables = '''\n",
      "SELECT c.relname weather_table\n",
      "    FROM pg_catalog.pg_class c\n",
      "\tLEFT JOIN pg_catalog.pg_namespace n ON n.oid = c.relnamespace\n",
      "\tWHERE n.nspname = 'weather'\n",
      "\tAND c.relname like 'weather_2%' order by 1 desc\n",
      "'''"
     ],
     "language": "python",
     "metadata": {},
     "outputs": [],
     "prompt_number": 5
    },
    {
     "cell_type": "code",
     "collapsed": false,
     "input": [
      "weather_tables = db.fetch_all_rows(get_weather_tables).query_data"
     ],
     "language": "python",
     "metadata": {},
     "outputs": [],
     "prompt_number": 6
    },
    {
     "cell_type": "code",
     "collapsed": false,
     "input": [
      "for i in weather_tables[0:5]:\n",
      "    print i"
     ],
     "language": "python",
     "metadata": {},
     "outputs": [
      {
       "output_type": "stream",
       "stream": "stdout",
       "text": [
        "Record(weather_table='weather_20170213')\n",
        "Record(weather_table='weather_20170212')\n",
        "Record(weather_table='weather_20170211')\n",
        "Record(weather_table='weather_20170210')\n",
        "Record(weather_table='weather_20170209')\n"
       ]
      }
     ],
     "prompt_number": 7
    },
    {
     "cell_type": "markdown",
     "metadata": {},
     "source": [
      "# treaming data and insert"
     ]
    },
    {
     "cell_type": "code",
     "collapsed": false,
     "input": [
      "auth_provider = dict(username='thachbui',\n",
      "                     password='thach12345',\n",
      "                     hosts=['192.168.1.150', '192.168.1.221'],\n",
      "                     port=None,\n",
      "                     database='weather')"
     ],
     "language": "python",
     "metadata": {},
     "outputs": [],
     "prompt_number": 8
    },
    {
     "cell_type": "code",
     "collapsed": false,
     "input": [
      "db_cass = cassdb.CasExecutor(auth_provider)\n",
      "prepare = cassdb.Prepare(db_cass.cursor, insert_into_cassandra)"
     ],
     "language": "python",
     "metadata": {},
     "outputs": [],
     "prompt_number": 12
    },
    {
     "cell_type": "code",
     "collapsed": false,
     "input": [
      "from datetime import datetime\n",
      "for weather_table in weather_tables:\n",
      "    count = 0\n",
      "    weather_table =  weather_table.weather_table\n",
      "    if weather_table >= 'weather_20161011':\n",
      "#         print weather_table\n",
      "        continue\n",
      "    print weather_table\n",
      "    get_data_from_table = get_data_from_table.format(table=weather_table)\n",
      "    insert_data = db.streaming_cursor(get_data_from_table)\n",
      "    \n",
      "    start_time = datetime.now()\n",
      "    for row in insert_data:\n",
      "        count += 1\n",
      "        prepare.insert_row(row)\n",
      "    print \"Run time: {} - total rows: {} \".format(datetime.now() - start_time, count)"
     ],
     "language": "python",
     "metadata": {},
     "outputs": [
      {
       "output_type": "stream",
       "stream": "stdout",
       "text": [
        "weather_20161010\n",
        "Run time: 0:02:28.752755 - total rows: 46264 "
       ]
      },
      {
       "output_type": "stream",
       "stream": "stdout",
       "text": [
        "\n",
        "weather_20161009\n",
        "Run time: 0:02:20.958897 - total rows: 46264 "
       ]
      },
      {
       "output_type": "stream",
       "stream": "stdout",
       "text": [
        "\n",
        "weather_20161001\n",
        "Run time: 0:02:24.025553 - total rows: 46264 "
       ]
      },
      {
       "output_type": "stream",
       "stream": "stdout",
       "text": [
        "\n",
        "weather_20160914\n",
        "Run time: 0:02:18.621300 - total rows: 46264 "
       ]
      },
      {
       "output_type": "stream",
       "stream": "stdout",
       "text": [
        "\n",
        "weather_20160913\n",
        "Run time: 0:02:16.107905 - total rows: 46264 "
       ]
      },
      {
       "output_type": "stream",
       "stream": "stdout",
       "text": [
        "\n",
        "weather_20160912\n",
        "Run time: 0:02:16.451607 - total rows: 46264 "
       ]
      },
      {
       "output_type": "stream",
       "stream": "stdout",
       "text": [
        "\n",
        "weather_20160911\n",
        "Run time: 0:02:16.916056 - total rows: 46264 "
       ]
      },
      {
       "output_type": "stream",
       "stream": "stdout",
       "text": [
        "\n",
        "weather_20160910\n",
        "Run time: 0:02:14.906994 - total rows: 46264 "
       ]
      },
      {
       "output_type": "stream",
       "stream": "stdout",
       "text": [
        "\n",
        "weather_20160909\n",
        "Run time: 0:02:16.366049 - total rows: 46264 "
       ]
      },
      {
       "output_type": "stream",
       "stream": "stdout",
       "text": [
        "\n",
        "weather_20160908\n",
        "Run time: 0:02:17.833068 - total rows: 46264 "
       ]
      },
      {
       "output_type": "stream",
       "stream": "stdout",
       "text": [
        "\n",
        "weather_20160907\n",
        "Run time: 0:02:15.252325 - total rows: 46264 "
       ]
      },
      {
       "output_type": "stream",
       "stream": "stdout",
       "text": [
        "\n",
        "weather_20160906\n",
        "Run time: 0:02:16.484016 - total rows: 46264 "
       ]
      },
      {
       "output_type": "stream",
       "stream": "stdout",
       "text": [
        "\n",
        "weather_20160905\n",
        "Run time: 0:02:15.952819 - total rows: 46264 "
       ]
      },
      {
       "output_type": "stream",
       "stream": "stdout",
       "text": [
        "\n",
        "weather_20160904\n",
        "Run time: 0:02:18.078572 - total rows: 46264 "
       ]
      },
      {
       "output_type": "stream",
       "stream": "stdout",
       "text": [
        "\n",
        "weather_20160903\n",
        "Run time: 0:02:17.444682 - total rows: 46264 "
       ]
      },
      {
       "output_type": "stream",
       "stream": "stdout",
       "text": [
        "\n",
        "weather_20160902\n",
        "Run time: 0:02:18.003618 - total rows: 46264 "
       ]
      },
      {
       "output_type": "stream",
       "stream": "stdout",
       "text": [
        "\n",
        "weather_20160901\n",
        "Run time: 0:02:19.853146 - total rows: 46264 "
       ]
      },
      {
       "output_type": "stream",
       "stream": "stdout",
       "text": [
        "\n",
        "weather_20160831\n",
        "Run time: 0:02:17.442290 - total rows: 46264 "
       ]
      },
      {
       "output_type": "stream",
       "stream": "stdout",
       "text": [
        "\n",
        "weather_20160830\n",
        "Run time: 0:02:15.246410 - total rows: 46264 "
       ]
      },
      {
       "output_type": "stream",
       "stream": "stdout",
       "text": [
        "\n",
        "weather_20160829\n",
        "Run time: 0:02:16.157015 - total rows: 46264 "
       ]
      },
      {
       "output_type": "stream",
       "stream": "stdout",
       "text": [
        "\n",
        "weather_20160828\n",
        "Run time: 0:02:17.286777 - total rows: 46264 "
       ]
      },
      {
       "output_type": "stream",
       "stream": "stdout",
       "text": [
        "\n",
        "weather_20160827\n",
        "Run time: 0:02:16.215055 - total rows: 46264 "
       ]
      },
      {
       "output_type": "stream",
       "stream": "stdout",
       "text": [
        "\n",
        "weather_20160826\n",
        "Run time: 0:02:16.248627 - total rows: 46264 "
       ]
      },
      {
       "output_type": "stream",
       "stream": "stdout",
       "text": [
        "\n",
        "weather_20160825\n",
        "Run time: 0:02:22.372715 - total rows: 46264 "
       ]
      },
      {
       "output_type": "stream",
       "stream": "stdout",
       "text": [
        "\n",
        "weather_20160824\n",
        "Run time: 0:02:17.524196 - total rows: 46264 "
       ]
      },
      {
       "output_type": "stream",
       "stream": "stdout",
       "text": [
        "\n",
        "weather_20160823\n",
        "Run time: 0:02:17.024730 - total rows: 46264 "
       ]
      },
      {
       "output_type": "stream",
       "stream": "stdout",
       "text": [
        "\n",
        "weather_20160822\n",
        "Run time: 0:02:15.868995 - total rows: 46264 "
       ]
      },
      {
       "output_type": "stream",
       "stream": "stdout",
       "text": [
        "\n",
        "weather_20160821\n",
        "Run time: 0:02:17.696392 - total rows: 46264 "
       ]
      },
      {
       "output_type": "stream",
       "stream": "stdout",
       "text": [
        "\n",
        "weather_20160820\n",
        "Run time: 0:02:17.013983 - total rows: 46264 "
       ]
      },
      {
       "output_type": "stream",
       "stream": "stdout",
       "text": [
        "\n",
        "weather_20160819\n",
        "Run time: 0:02:17.327647 - total rows: 46264 "
       ]
      },
      {
       "output_type": "stream",
       "stream": "stdout",
       "text": [
        "\n",
        "weather_20160818\n",
        "Run time: 0:02:19.598373 - total rows: 46264 "
       ]
      },
      {
       "output_type": "stream",
       "stream": "stdout",
       "text": [
        "\n",
        "weather_20160817\n",
        "Run time: 0:02:17.038657 - total rows: 46264 "
       ]
      },
      {
       "output_type": "stream",
       "stream": "stdout",
       "text": [
        "\n",
        "weather_20160816\n",
        "Run time: 0:02:58.607378 - total rows: 46264 "
       ]
      },
      {
       "output_type": "stream",
       "stream": "stdout",
       "text": [
        "\n",
        "weather_20160815\n",
        "Run time: 0:02:33.473699 - total rows: 46264 "
       ]
      },
      {
       "output_type": "stream",
       "stream": "stdout",
       "text": [
        "\n",
        "weather_20160814\n",
        "Run time: 0:02:27.294881 - total rows: 46264 "
       ]
      },
      {
       "output_type": "stream",
       "stream": "stdout",
       "text": [
        "\n",
        "weather_20160813\n",
        "Run time: 0:02:34.440590 - total rows: 46264 "
       ]
      },
      {
       "output_type": "stream",
       "stream": "stdout",
       "text": [
        "\n",
        "weather_20160812\n",
        "Run time: 0:02:31.652175 - total rows: 46264 "
       ]
      },
      {
       "output_type": "stream",
       "stream": "stdout",
       "text": [
        "\n",
        "weather_20160811\n",
        "Run time: 0:02:32.454212 - total rows: 46264 "
       ]
      },
      {
       "output_type": "stream",
       "stream": "stdout",
       "text": [
        "\n",
        "weather_20160810\n",
        "Run time: 0:02:29.468624 - total rows: 46264 "
       ]
      },
      {
       "output_type": "stream",
       "stream": "stdout",
       "text": [
        "\n",
        "weather_20160809\n",
        "Run time: 0:02:18.814134 - total rows: 46264 "
       ]
      },
      {
       "output_type": "stream",
       "stream": "stdout",
       "text": [
        "\n",
        "weather_20160808\n",
        "Run time: 0:02:29.762316 - total rows: 46264 "
       ]
      },
      {
       "output_type": "stream",
       "stream": "stdout",
       "text": [
        "\n",
        "weather_20160807\n",
        "Run time: 0:02:32.561106 - total rows: 46264 "
       ]
      },
      {
       "output_type": "stream",
       "stream": "stdout",
       "text": [
        "\n",
        "weather_20160806\n",
        "Run time: 0:02:36.465227 - total rows: 46264 "
       ]
      },
      {
       "output_type": "stream",
       "stream": "stdout",
       "text": [
        "\n",
        "weather_20160805\n",
        "Run time: 0:02:22.294916 - total rows: 46264 "
       ]
      },
      {
       "output_type": "stream",
       "stream": "stdout",
       "text": [
        "\n",
        "weather_20160804\n",
        "Run time: 0:02:28.011724 - total rows: 46264 "
       ]
      },
      {
       "output_type": "stream",
       "stream": "stdout",
       "text": [
        "\n",
        "weather_20160803\n",
        "Run time: 0:02:28.127178 - total rows: 46264 "
       ]
      },
      {
       "output_type": "stream",
       "stream": "stdout",
       "text": [
        "\n",
        "weather_20160802\n",
        "Run time: 0:02:19.706802 - total rows: 46264 "
       ]
      },
      {
       "output_type": "stream",
       "stream": "stdout",
       "text": [
        "\n",
        "weather_20160801\n",
        "Run time: 0:02:17.429910 - total rows: 46264 "
       ]
      },
      {
       "output_type": "stream",
       "stream": "stdout",
       "text": [
        "\n",
        "weather_20160731\n",
        "Run time: 0:02:18.270795 - total rows: 46264 "
       ]
      },
      {
       "output_type": "stream",
       "stream": "stdout",
       "text": [
        "\n",
        "weather_20160730\n",
        "Run time: 0:02:18.827603 - total rows: 46264 "
       ]
      },
      {
       "output_type": "stream",
       "stream": "stdout",
       "text": [
        "\n",
        "weather_20160729\n",
        "Run time: 0:02:19.408201 - total rows: 46264 "
       ]
      },
      {
       "output_type": "stream",
       "stream": "stdout",
       "text": [
        "\n",
        "weather_20160728\n",
        "Run time: 0:02:17.732078 - total rows: 46264 "
       ]
      },
      {
       "output_type": "stream",
       "stream": "stdout",
       "text": [
        "\n",
        "weather_20160727\n",
        "Run time: 0:02:23.843129 - total rows: 46264 "
       ]
      },
      {
       "output_type": "stream",
       "stream": "stdout",
       "text": [
        "\n",
        "weather_20160726\n",
        "Run time: 0:02:21.186196 - total rows: 46264 "
       ]
      },
      {
       "output_type": "stream",
       "stream": "stdout",
       "text": [
        "\n",
        "weather_20160725\n",
        "Run time: 0:02:17.406123 - total rows: 46264 "
       ]
      },
      {
       "output_type": "stream",
       "stream": "stdout",
       "text": [
        "\n",
        "weather_20160724\n",
        "Run time: 0:02:15.956442 - total rows: 46264 "
       ]
      },
      {
       "output_type": "stream",
       "stream": "stdout",
       "text": [
        "\n",
        "weather_20160723\n",
        "Run time: 0:02:17.388642 - total rows: 46264 "
       ]
      },
      {
       "output_type": "stream",
       "stream": "stdout",
       "text": [
        "\n",
        "weather_20160722\n",
        "Run time: 0:02:19.832926 - total rows: 46264 "
       ]
      },
      {
       "output_type": "stream",
       "stream": "stdout",
       "text": [
        "\n",
        "weather_20160721\n",
        "Run time: 0:02:20.357633 - total rows: 46264 "
       ]
      },
      {
       "output_type": "stream",
       "stream": "stdout",
       "text": [
        "\n",
        "weather_20160720\n",
        "Run time: 0:02:24.697295 - total rows: 46264 "
       ]
      },
      {
       "output_type": "stream",
       "stream": "stdout",
       "text": [
        "\n",
        "weather_20160719\n",
        "Run time: 0:02:20.090295 - total rows: 46264 "
       ]
      },
      {
       "output_type": "stream",
       "stream": "stdout",
       "text": [
        "\n",
        "weather_20160718\n",
        "Run time: 0:02:17.847094 - total rows: 46264 "
       ]
      },
      {
       "output_type": "stream",
       "stream": "stdout",
       "text": [
        "\n",
        "weather_20160717\n",
        "Run time: 0:02:21.360502 - total rows: 46264 "
       ]
      },
      {
       "output_type": "stream",
       "stream": "stdout",
       "text": [
        "\n",
        "weather_20160716\n",
        "Run time: 0:02:20.998127 - total rows: 46264 "
       ]
      },
      {
       "output_type": "stream",
       "stream": "stdout",
       "text": [
        "\n",
        "weather_20160715\n",
        "Run time: 0:02:23.413289 - total rows: 46264 "
       ]
      },
      {
       "output_type": "stream",
       "stream": "stdout",
       "text": [
        "\n",
        "weather_20160714\n",
        "Run time: 0:02:22.467083 - total rows: 46264 "
       ]
      },
      {
       "output_type": "stream",
       "stream": "stdout",
       "text": [
        "\n",
        "weather_20160713\n",
        "Run time: 0:02:21.481093 - total rows: 46264 "
       ]
      },
      {
       "output_type": "stream",
       "stream": "stdout",
       "text": [
        "\n",
        "weather_20160712\n",
        "Run time: 0:02:21.253874 - total rows: 46264 "
       ]
      },
      {
       "output_type": "stream",
       "stream": "stdout",
       "text": [
        "\n",
        "weather_20160711\n",
        "Run time: 0:02:25.451927 - total rows: 46264 "
       ]
      },
      {
       "output_type": "stream",
       "stream": "stdout",
       "text": [
        "\n",
        "weather_20160710\n",
        "Run time: 0:02:21.845404 - total rows: 46264 "
       ]
      },
      {
       "output_type": "stream",
       "stream": "stdout",
       "text": [
        "\n",
        "weather_20160709\n",
        "Run time: 0:02:23.785003 - total rows: 46264 "
       ]
      },
      {
       "output_type": "stream",
       "stream": "stdout",
       "text": [
        "\n",
        "weather_20160708\n",
        "Run time: 0:02:19.351278 - total rows: 46264 "
       ]
      },
      {
       "output_type": "stream",
       "stream": "stdout",
       "text": [
        "\n",
        "weather_20160707\n",
        "Run time: 0:02:23.278913 - total rows: 46264 "
       ]
      },
      {
       "output_type": "stream",
       "stream": "stdout",
       "text": [
        "\n",
        "weather_20160706\n",
        "Run time: 0:02:21.673144 - total rows: 46264 "
       ]
      },
      {
       "output_type": "stream",
       "stream": "stdout",
       "text": [
        "\n",
        "weather_20160705\n",
        "Run time: 0:02:20.886716 - total rows: 46264 "
       ]
      },
      {
       "output_type": "stream",
       "stream": "stdout",
       "text": [
        "\n",
        "weather_20160704\n",
        "Run time: 0:02:23.702012 - total rows: 46264 "
       ]
      },
      {
       "output_type": "stream",
       "stream": "stdout",
       "text": [
        "\n",
        "weather_20160703\n",
        "Run time: 0:02:20.228065 - total rows: 46264 "
       ]
      },
      {
       "output_type": "stream",
       "stream": "stdout",
       "text": [
        "\n",
        "weather_20160702\n",
        "Run time: 0:02:20.114587 - total rows: 46264 "
       ]
      },
      {
       "output_type": "stream",
       "stream": "stdout",
       "text": [
        "\n",
        "weather_20160701\n",
        "Run time: 0:02:20.197117 - total rows: 46264 "
       ]
      },
      {
       "output_type": "stream",
       "stream": "stdout",
       "text": [
        "\n",
        "weather_20160630\n",
        "Run time: 0:02:20.608252 - total rows: 46264 "
       ]
      },
      {
       "output_type": "stream",
       "stream": "stdout",
       "text": [
        "\n",
        "weather_20160629\n",
        "Run time: 0:02:20.406285 - total rows: 46264 "
       ]
      },
      {
       "output_type": "stream",
       "stream": "stdout",
       "text": [
        "\n",
        "weather_20160628\n",
        "Run time: 0:02:21.818286 - total rows: 46264 "
       ]
      },
      {
       "output_type": "stream",
       "stream": "stdout",
       "text": [
        "\n",
        "weather_20160627\n",
        "Run time: 0:02:20.987364 - total rows: 46264 "
       ]
      },
      {
       "output_type": "stream",
       "stream": "stdout",
       "text": [
        "\n",
        "weather_20160626\n",
        "Run time: 0:02:17.102110 - total rows: 46264 "
       ]
      },
      {
       "output_type": "stream",
       "stream": "stdout",
       "text": [
        "\n",
        "weather_20160625\n",
        "Run time: 0:02:20.402438 - total rows: 46264 "
       ]
      },
      {
       "output_type": "stream",
       "stream": "stdout",
       "text": [
        "\n",
        "weather_20160624\n",
        "Run time: 0:02:19.861018 - total rows: 46264 "
       ]
      },
      {
       "output_type": "stream",
       "stream": "stdout",
       "text": [
        "\n",
        "weather_20160623\n",
        "Run time: 0:02:18.847818 - total rows: 46264 "
       ]
      },
      {
       "output_type": "stream",
       "stream": "stdout",
       "text": [
        "\n",
        "weather_20160622\n",
        "Run time: 0:02:20.870620 - total rows: 46264 "
       ]
      },
      {
       "output_type": "stream",
       "stream": "stdout",
       "text": [
        "\n",
        "weather_20160621\n",
        "Run time: 0:02:19.486866 - total rows: 46264 "
       ]
      },
      {
       "output_type": "stream",
       "stream": "stdout",
       "text": [
        "\n",
        "weather_20160620\n",
        "Run time: 0:02:18.364235 - total rows: 46264 "
       ]
      },
      {
       "output_type": "stream",
       "stream": "stdout",
       "text": [
        "\n",
        "weather_20160619\n",
        "Run time: 0:02:18.677667 - total rows: 46264 "
       ]
      },
      {
       "output_type": "stream",
       "stream": "stdout",
       "text": [
        "\n",
        "weather_20160618\n",
        "Run time: 0:02:17.039039 - total rows: 46264 "
       ]
      },
      {
       "output_type": "stream",
       "stream": "stdout",
       "text": [
        "\n",
        "weather_20160617\n",
        "Run time: 0:02:20.202710 - total rows: 46264 "
       ]
      },
      {
       "output_type": "stream",
       "stream": "stdout",
       "text": [
        "\n",
        "weather_20160616\n",
        "Run time: 0:02:20.828685 - total rows: 46264 "
       ]
      },
      {
       "output_type": "stream",
       "stream": "stdout",
       "text": [
        "\n",
        "weather_20160615\n",
        "Run time: 0:02:19.575217 - total rows: 46264 "
       ]
      },
      {
       "output_type": "stream",
       "stream": "stdout",
       "text": [
        "\n",
        "weather_20160614\n",
        "Run time: 0:02:18.514464 - total rows: 46264 "
       ]
      },
      {
       "output_type": "stream",
       "stream": "stdout",
       "text": [
        "\n",
        "weather_20160613\n",
        "Run time: 0:02:19.015571 - total rows: 46264 "
       ]
      },
      {
       "output_type": "stream",
       "stream": "stdout",
       "text": [
        "\n",
        "weather_20160612\n",
        "Run time: 0:02:19.743033 - total rows: 46264 "
       ]
      },
      {
       "output_type": "stream",
       "stream": "stdout",
       "text": [
        "\n",
        "weather_20160611\n",
        "Run time: 0:02:19.143865 - total rows: 46264 "
       ]
      },
      {
       "output_type": "stream",
       "stream": "stdout",
       "text": [
        "\n",
        "weather_20160610\n",
        "Run time: 0:02:21.450025 - total rows: 46264 "
       ]
      },
      {
       "output_type": "stream",
       "stream": "stdout",
       "text": [
        "\n",
        "weather_20160609\n",
        "Run time: 0:02:19.014932 - total rows: 46264 "
       ]
      },
      {
       "output_type": "stream",
       "stream": "stdout",
       "text": [
        "\n",
        "weather_20160608\n",
        "Run time: 0:02:18.523743 - total rows: 46264 "
       ]
      },
      {
       "output_type": "stream",
       "stream": "stdout",
       "text": [
        "\n",
        "weather_20160607\n",
        "Run time: 0:02:20.543668 - total rows: 46264 "
       ]
      },
      {
       "output_type": "stream",
       "stream": "stdout",
       "text": [
        "\n",
        "weather_20160606\n",
        "Run time: 0:02:21.496443 - total rows: 46264 "
       ]
      },
      {
       "output_type": "stream",
       "stream": "stdout",
       "text": [
        "\n",
        "weather_20160605\n",
        "Run time: 0:02:19.818539 - total rows: 46264 "
       ]
      },
      {
       "output_type": "stream",
       "stream": "stdout",
       "text": [
        "\n",
        "weather_20160604\n",
        "Run time: 0:02:24.652922 - total rows: 46264 "
       ]
      },
      {
       "output_type": "stream",
       "stream": "stdout",
       "text": [
        "\n",
        "weather_20160603\n",
        "Run time: 0:02:20.252635 - total rows: 46264 "
       ]
      },
      {
       "output_type": "stream",
       "stream": "stdout",
       "text": [
        "\n",
        "weather_20160602\n",
        "Run time: 0:02:21.759309 - total rows: 46264 "
       ]
      },
      {
       "output_type": "stream",
       "stream": "stdout",
       "text": [
        "\n",
        "weather_20160601\n",
        "Run time: 0:02:21.032555 - total rows: 46264 "
       ]
      },
      {
       "output_type": "stream",
       "stream": "stdout",
       "text": [
        "\n",
        "weather_20160531\n",
        "Run time: 0:02:20.162477 - total rows: 46264 "
       ]
      },
      {
       "output_type": "stream",
       "stream": "stdout",
       "text": [
        "\n",
        "weather_20160530\n",
        "Run time: 0:02:20.321386 - total rows: 46264 "
       ]
      },
      {
       "output_type": "stream",
       "stream": "stdout",
       "text": [
        "\n",
        "weather_20160529\n",
        "Run time: 0:02:21.932781 - total rows: 46264 "
       ]
      },
      {
       "output_type": "stream",
       "stream": "stdout",
       "text": [
        "\n",
        "weather_20160528\n",
        "Run time: 0:02:24.264910 - total rows: 46264 "
       ]
      },
      {
       "output_type": "stream",
       "stream": "stdout",
       "text": [
        "\n",
        "weather_20160527\n",
        "Run time: 0:02:20.980953 - total rows: 46264 "
       ]
      },
      {
       "output_type": "stream",
       "stream": "stdout",
       "text": [
        "\n",
        "weather_20160526\n",
        "Run time: 0:02:20.173404 - total rows: 46264 "
       ]
      },
      {
       "output_type": "stream",
       "stream": "stdout",
       "text": [
        "\n",
        "weather_20160525\n",
        "Run time: 0:02:20.776932 - total rows: 46264 "
       ]
      },
      {
       "output_type": "stream",
       "stream": "stdout",
       "text": [
        "\n",
        "weather_20160524\n",
        "Run time: 0:02:22.534843 - total rows: 46264 "
       ]
      },
      {
       "output_type": "stream",
       "stream": "stdout",
       "text": [
        "\n",
        "weather_20160523\n",
        "Run time: 0:02:21.132414 - total rows: 46264 "
       ]
      },
      {
       "output_type": "stream",
       "stream": "stdout",
       "text": [
        "\n",
        "weather_20160522\n",
        "Run time: 0:02:20.925641 - total rows: 46264 "
       ]
      },
      {
       "output_type": "stream",
       "stream": "stdout",
       "text": [
        "\n",
        "weather_20160521\n",
        "Run time: 0:02:20.911976 - total rows: 46264 "
       ]
      },
      {
       "output_type": "stream",
       "stream": "stdout",
       "text": [
        "\n",
        "weather_20160520\n",
        "Run time: 0:02:24.673151 - total rows: 46264 "
       ]
      },
      {
       "output_type": "stream",
       "stream": "stdout",
       "text": [
        "\n",
        "weather_20160519\n",
        "Run time: 0:02:21.904800 - total rows: 46264 "
       ]
      },
      {
       "output_type": "stream",
       "stream": "stdout",
       "text": [
        "\n",
        "weather_20160518\n",
        "Run time: 0:02:23.714203 - total rows: 46264 "
       ]
      },
      {
       "output_type": "stream",
       "stream": "stdout",
       "text": [
        "\n",
        "weather_20160517\n",
        "Run time: 0:02:42.377351 - total rows: 46264 "
       ]
      },
      {
       "output_type": "stream",
       "stream": "stdout",
       "text": [
        "\n",
        "weather_20160516\n",
        "Run time: 0:02:21.844481 - total rows: 46264 "
       ]
      },
      {
       "output_type": "stream",
       "stream": "stdout",
       "text": [
        "\n",
        "weather_20160515\n",
        "Run time: 0:02:21.239343 - total rows: 46264 "
       ]
      },
      {
       "output_type": "stream",
       "stream": "stdout",
       "text": [
        "\n",
        "weather_20160514\n",
        "Run time: 0:02:23.020051 - total rows: 46264 "
       ]
      },
      {
       "output_type": "stream",
       "stream": "stdout",
       "text": [
        "\n",
        "weather_20160513\n",
        "Run time: 0:02:22.506633 - total rows: 46264 "
       ]
      },
      {
       "output_type": "stream",
       "stream": "stdout",
       "text": [
        "\n",
        "weather_20160512\n",
        "Run time: 0:02:24.332649 - total rows: 46264 "
       ]
      },
      {
       "output_type": "stream",
       "stream": "stdout",
       "text": [
        "\n",
        "weather_20160511\n",
        "Run time: 0:02:20.803522 - total rows: 46264 "
       ]
      },
      {
       "output_type": "stream",
       "stream": "stdout",
       "text": [
        "\n",
        "weather_20160510\n",
        "Run time: 0:02:21.328967 - total rows: 46264 "
       ]
      },
      {
       "output_type": "stream",
       "stream": "stdout",
       "text": [
        "\n",
        "weather_20160509\n",
        "Run time: 0:02:22.445057 - total rows: 46264 "
       ]
      },
      {
       "output_type": "stream",
       "stream": "stdout",
       "text": [
        "\n",
        "weather_20160508\n",
        "Run time: 0:02:25.241093 - total rows: 46264 "
       ]
      },
      {
       "output_type": "stream",
       "stream": "stdout",
       "text": [
        "\n",
        "weather_20160507\n",
        "Run time: 0:02:23.611912 - total rows: 46264 "
       ]
      },
      {
       "output_type": "stream",
       "stream": "stdout",
       "text": [
        "\n",
        "weather_20160506\n",
        "Run time: 0:02:19.089521 - total rows: 46264 "
       ]
      },
      {
       "output_type": "stream",
       "stream": "stdout",
       "text": [
        "\n",
        "weather_20160505\n",
        "Run time: 0:02:20.541697 - total rows: 46264 "
       ]
      },
      {
       "output_type": "stream",
       "stream": "stdout",
       "text": [
        "\n",
        "weather_20160504\n",
        "Run time: 0:02:20.969102 - total rows: 46264 "
       ]
      },
      {
       "output_type": "stream",
       "stream": "stdout",
       "text": [
        "\n",
        "weather_20160503\n",
        "Run time: 0:02:23.544723 - total rows: 46264 "
       ]
      },
      {
       "output_type": "stream",
       "stream": "stdout",
       "text": [
        "\n",
        "weather_20160502\n",
        "Run time: 0:02:20.152908 - total rows: 46264 "
       ]
      },
      {
       "output_type": "stream",
       "stream": "stdout",
       "text": [
        "\n",
        "weather_20160501\n",
        "Run time: 0:02:20.348735 - total rows: 46264 "
       ]
      },
      {
       "output_type": "stream",
       "stream": "stdout",
       "text": [
        "\n",
        "weather_20160430\n",
        "Run time: 0:02:22.284792 - total rows: 46264 "
       ]
      },
      {
       "output_type": "stream",
       "stream": "stdout",
       "text": [
        "\n",
        "weather_20160429\n",
        "Run time: 0:02:20.575218 - total rows: 46264 "
       ]
      },
      {
       "output_type": "stream",
       "stream": "stdout",
       "text": [
        "\n",
        "weather_20160428\n",
        "Run time: 0:02:18.596744 - total rows: 46264 "
       ]
      },
      {
       "output_type": "stream",
       "stream": "stdout",
       "text": [
        "\n",
        "weather_20160427\n",
        "Run time: 0:02:22.843799 - total rows: 46264 "
       ]
      },
      {
       "output_type": "stream",
       "stream": "stdout",
       "text": [
        "\n",
        "weather_20160426\n",
        "Run time: 0:02:21.276499 - total rows: 46264 "
       ]
      },
      {
       "output_type": "stream",
       "stream": "stdout",
       "text": [
        "\n",
        "weather_20160425\n",
        "Run time: 0:02:21.965136 - total rows: 46264 "
       ]
      },
      {
       "output_type": "stream",
       "stream": "stdout",
       "text": [
        "\n",
        "weather_20160424\n",
        "Run time: 0:02:23.204242 - total rows: 46264 "
       ]
      },
      {
       "output_type": "stream",
       "stream": "stdout",
       "text": [
        "\n",
        "weather_20160423\n",
        "Run time: 0:02:22.864690 - total rows: 46264 "
       ]
      },
      {
       "output_type": "stream",
       "stream": "stdout",
       "text": [
        "\n",
        "weather_20160422\n",
        "Run time: 0:02:25.304620 - total rows: 46264 "
       ]
      },
      {
       "output_type": "stream",
       "stream": "stdout",
       "text": [
        "\n",
        "weather_20160421\n",
        "Run time: 0:02:21.282181 - total rows: 46264 "
       ]
      },
      {
       "output_type": "stream",
       "stream": "stdout",
       "text": [
        "\n",
        "weather_20160420\n",
        "Run time: 0:02:21.386490 - total rows: 46264 "
       ]
      },
      {
       "output_type": "stream",
       "stream": "stdout",
       "text": [
        "\n",
        "weather_20160419\n",
        "Run time: 0:02:20.850829 - total rows: 46264 "
       ]
      },
      {
       "output_type": "stream",
       "stream": "stdout",
       "text": [
        "\n",
        "weather_20160418\n",
        "Run time: 0:02:22.648529 - total rows: 46264 "
       ]
      },
      {
       "output_type": "stream",
       "stream": "stdout",
       "text": [
        "\n",
        "weather_20160417\n",
        "Run time: 0:02:22.094912 - total rows: 46264 "
       ]
      },
      {
       "output_type": "stream",
       "stream": "stdout",
       "text": [
        "\n",
        "weather_20160416\n",
        "Run time: 0:02:24.721115 - total rows: 46264 "
       ]
      },
      {
       "output_type": "stream",
       "stream": "stdout",
       "text": [
        "\n",
        "weather_20160415\n",
        "Run time: 0:02:21.390839 - total rows: 46264 "
       ]
      },
      {
       "output_type": "stream",
       "stream": "stdout",
       "text": [
        "\n",
        "weather_20160414\n",
        "Run time: 0:02:21.945765 - total rows: 46264 "
       ]
      },
      {
       "output_type": "stream",
       "stream": "stdout",
       "text": [
        "\n",
        "weather_20160413\n",
        "Run time: 0:02:21.899078 - total rows: 46264 "
       ]
      },
      {
       "output_type": "stream",
       "stream": "stdout",
       "text": [
        "\n",
        "weather_20160412\n",
        "Run time: 0:02:20.387663 - total rows: 46264 "
       ]
      },
      {
       "output_type": "stream",
       "stream": "stdout",
       "text": [
        "\n",
        "weather_20160411\n",
        "Run time: 0:02:21.291064 - total rows: 46264 "
       ]
      },
      {
       "output_type": "stream",
       "stream": "stdout",
       "text": [
        "\n",
        "weather_20160406\n",
        "Run time: 0:02:19.921618 - total rows: 46264 "
       ]
      },
      {
       "output_type": "stream",
       "stream": "stdout",
       "text": [
        "\n",
        "weather_20160405\n",
        "Run time: 0:02:22.339279 - total rows: 46264 "
       ]
      },
      {
       "output_type": "stream",
       "stream": "stdout",
       "text": [
        "\n",
        "weather_20160404\n",
        "Run time: 0:02:21.569023 - total rows: 46264 "
       ]
      },
      {
       "output_type": "stream",
       "stream": "stdout",
       "text": [
        "\n",
        "weather_20160403\n",
        "Run time: 0:02:20.818787 - total rows: 46264 "
       ]
      },
      {
       "output_type": "stream",
       "stream": "stdout",
       "text": [
        "\n",
        "weather_20160402\n",
        "Run time: 0:02:20.154137 - total rows: 46264 "
       ]
      },
      {
       "output_type": "stream",
       "stream": "stdout",
       "text": [
        "\n",
        "weather_20160401\n",
        "Run time: 0:02:21.535455 - total rows: 46264 "
       ]
      },
      {
       "output_type": "stream",
       "stream": "stdout",
       "text": [
        "\n",
        "weather_20160331\n",
        "Run time: 0:02:18.246673 - total rows: 46264 "
       ]
      },
      {
       "output_type": "stream",
       "stream": "stdout",
       "text": [
        "\n",
        "weather_20160330\n",
        "Run time: 0:02:17.791904 - total rows: 46264 "
       ]
      },
      {
       "output_type": "stream",
       "stream": "stdout",
       "text": [
        "\n",
        "weather_20160329\n",
        "Run time: 0:02:17.394860 - total rows: 46264 "
       ]
      },
      {
       "output_type": "stream",
       "stream": "stdout",
       "text": [
        "\n",
        "weather_20160328\n",
        "Run time: 0:02:17.452646 - total rows: 46264 "
       ]
      },
      {
       "output_type": "stream",
       "stream": "stdout",
       "text": [
        "\n",
        "weather_20160327\n",
        "Run time: 0:02:18.621773 - total rows: 46264 "
       ]
      },
      {
       "output_type": "stream",
       "stream": "stdout",
       "text": [
        "\n",
        "weather_20160326\n",
        "Run time: 0:02:46.780265 - total rows: 46264 "
       ]
      },
      {
       "output_type": "stream",
       "stream": "stdout",
       "text": [
        "\n",
        "weather_20160325\n",
        "Run time: 0:03:23.159309 - total rows: 46264 "
       ]
      },
      {
       "output_type": "stream",
       "stream": "stdout",
       "text": [
        "\n",
        "weather_20160324\n",
        "Run time: 0:03:12.010032 - total rows: 46264 "
       ]
      },
      {
       "output_type": "stream",
       "stream": "stdout",
       "text": [
        "\n",
        "weather_20160323\n",
        "Run time: 0:03:26.137200 - total rows: 46264 "
       ]
      },
      {
       "output_type": "stream",
       "stream": "stdout",
       "text": [
        "\n",
        "weather_20160322\n",
        "Run time: 0:03:05.464967 - total rows: 46264 "
       ]
      },
      {
       "output_type": "stream",
       "stream": "stdout",
       "text": [
        "\n",
        "weather_20160321\n",
        "Run time: 0:03:11.949185 - total rows: 46264 "
       ]
      },
      {
       "output_type": "stream",
       "stream": "stdout",
       "text": [
        "\n",
        "weather_20160320\n",
        "Run time: 0:03:02.121103 - total rows: 46264 "
       ]
      },
      {
       "output_type": "stream",
       "stream": "stdout",
       "text": [
        "\n",
        "weather_20160319\n",
        "Run time: 0:02:57.032328 - total rows: 46264 "
       ]
      },
      {
       "output_type": "stream",
       "stream": "stdout",
       "text": [
        "\n",
        "weather_20160318\n",
        "Run time: 0:02:53.719007 - total rows: 46264 "
       ]
      },
      {
       "output_type": "stream",
       "stream": "stdout",
       "text": [
        "\n",
        "weather_20160317\n",
        "Run time: 0:02:56.115519 - total rows: 46264 "
       ]
      },
      {
       "output_type": "stream",
       "stream": "stdout",
       "text": [
        "\n",
        "weather_20160316\n",
        "Run time: 0:02:50.846965 - total rows: 46264 "
       ]
      },
      {
       "output_type": "stream",
       "stream": "stdout",
       "text": [
        "\n",
        "weather_20160315\n",
        "Run time: 0:02:55.825379 - total rows: 46264 "
       ]
      },
      {
       "output_type": "stream",
       "stream": "stdout",
       "text": [
        "\n",
        "weather_20160314\n",
        "Run time: 0:03:13.599364 - total rows: 46264 "
       ]
      },
      {
       "output_type": "stream",
       "stream": "stdout",
       "text": [
        "\n",
        "weather_20160313\n",
        "Run time: 0:03:48.048608 - total rows: 46264 "
       ]
      },
      {
       "output_type": "stream",
       "stream": "stdout",
       "text": [
        "\n",
        "weather_20160312\n",
        "Run time: 0:03:18.471168 - total rows: 46264 "
       ]
      },
      {
       "output_type": "stream",
       "stream": "stdout",
       "text": [
        "\n",
        "weather_20160311\n",
        "Run time: 0:03:37.549867 - total rows: 46264 "
       ]
      },
      {
       "output_type": "stream",
       "stream": "stdout",
       "text": [
        "\n",
        "weather_20160310\n",
        "Run time: 0:04:42.301972 - total rows: 46264 "
       ]
      },
      {
       "output_type": "stream",
       "stream": "stdout",
       "text": [
        "\n",
        "weather_20160309\n",
        "Run time: 0:04:02.754507 - total rows: 46264 "
       ]
      },
      {
       "output_type": "stream",
       "stream": "stdout",
       "text": [
        "\n",
        "weather_20160308\n",
        "Run time: 0:03:21.406717 - total rows: 46264 "
       ]
      },
      {
       "output_type": "stream",
       "stream": "stdout",
       "text": [
        "\n",
        "weather_20160307\n",
        "Run time: 0:03:13.186694 - total rows: 46264 "
       ]
      },
      {
       "output_type": "stream",
       "stream": "stdout",
       "text": [
        "\n",
        "weather_20160306\n",
        "Run time: 0:03:29.871842 - total rows: 46264 "
       ]
      },
      {
       "output_type": "stream",
       "stream": "stdout",
       "text": [
        "\n",
        "weather_20160305\n",
        "Run time: 0:03:19.989014 - total rows: 46264 "
       ]
      },
      {
       "output_type": "stream",
       "stream": "stdout",
       "text": [
        "\n",
        "weather_20160304\n",
        "Run time: 0:03:05.584000 - total rows: 46264 "
       ]
      },
      {
       "output_type": "stream",
       "stream": "stdout",
       "text": [
        "\n",
        "weather_20160303\n",
        "Run time: 0:03:08.278833 - total rows: 46264 "
       ]
      },
      {
       "output_type": "stream",
       "stream": "stdout",
       "text": [
        "\n",
        "weather_20160302\n",
        "Run time: 0:03:00.394496 - total rows: 46264 "
       ]
      },
      {
       "output_type": "stream",
       "stream": "stdout",
       "text": [
        "\n",
        "weather_20160301\n",
        "Run time: 0:02:57.751400 - total rows: 46264 "
       ]
      },
      {
       "output_type": "stream",
       "stream": "stdout",
       "text": [
        "\n",
        "weather_20160229\n",
        "Run time: 0:03:01.265415 - total rows: 46264 "
       ]
      },
      {
       "output_type": "stream",
       "stream": "stdout",
       "text": [
        "\n",
        "weather_20160228\n",
        "Run time: 0:03:07.247108 - total rows: 46264 "
       ]
      },
      {
       "output_type": "stream",
       "stream": "stdout",
       "text": [
        "\n",
        "weather_20160227\n",
        "Run time: 0:03:06.397194 - total rows: 46264 "
       ]
      },
      {
       "output_type": "stream",
       "stream": "stdout",
       "text": [
        "\n",
        "weather_20160226\n",
        "Run time: 0:02:48.251232 - total rows: 46264 "
       ]
      },
      {
       "output_type": "stream",
       "stream": "stdout",
       "text": [
        "\n",
        "weather_20160225\n",
        "Run time: 0:02:54.512773 - total rows: 46264 "
       ]
      },
      {
       "output_type": "stream",
       "stream": "stdout",
       "text": [
        "\n",
        "weather_20160224\n",
        "Run time: 0:02:48.730551 - total rows: 46264 "
       ]
      },
      {
       "output_type": "stream",
       "stream": "stdout",
       "text": [
        "\n",
        "weather_20160223\n",
        "Run time: 0:02:45.776552 - total rows: 46264 "
       ]
      },
      {
       "output_type": "stream",
       "stream": "stdout",
       "text": [
        "\n",
        "weather_20160222\n",
        "Run time: 0:02:51.077813 - total rows: 46264 "
       ]
      },
      {
       "output_type": "stream",
       "stream": "stdout",
       "text": [
        "\n",
        "weather_20160221\n",
        "Run time: 0:02:54.010945 - total rows: 46264 "
       ]
      },
      {
       "output_type": "stream",
       "stream": "stdout",
       "text": [
        "\n",
        "weather_20160220\n",
        "Run time: 0:03:06.173174 - total rows: 46264 "
       ]
      },
      {
       "output_type": "stream",
       "stream": "stdout",
       "text": [
        "\n",
        "weather_20160219\n",
        "Run time: 0:03:10.553696 - total rows: 46264 "
       ]
      },
      {
       "output_type": "stream",
       "stream": "stdout",
       "text": [
        "\n",
        "weather_20160218\n",
        "Run time: 0:03:02.830109 - total rows: 46264 "
       ]
      },
      {
       "output_type": "stream",
       "stream": "stdout",
       "text": [
        "\n",
        "weather_20160217\n",
        "Run time: 0:02:24.975377 - total rows: 46264 "
       ]
      },
      {
       "output_type": "stream",
       "stream": "stdout",
       "text": [
        "\n",
        "weather_20160216\n",
        "Run time: 0:02:19.196827 - total rows: 46264 "
       ]
      },
      {
       "output_type": "stream",
       "stream": "stdout",
       "text": [
        "\n",
        "weather_20160215\n",
        "Run time: 0:02:18.222924 - total rows: 46264 "
       ]
      },
      {
       "output_type": "stream",
       "stream": "stdout",
       "text": [
        "\n",
        "weather_20160214\n",
        "Run time: 0:02:18.493380 - total rows: 46264 "
       ]
      },
      {
       "output_type": "stream",
       "stream": "stdout",
       "text": [
        "\n",
        "weather_20160213\n",
        "Run time: 0:02:19.355739 - total rows: 46264 "
       ]
      },
      {
       "output_type": "stream",
       "stream": "stdout",
       "text": [
        "\n",
        "weather_20160212\n",
        "Run time: 0:02:20.217865 - total rows: 46264 "
       ]
      },
      {
       "output_type": "stream",
       "stream": "stdout",
       "text": [
        "\n",
        "weather_20160211\n",
        "Run time: 0:02:17.968562 - total rows: 46264 "
       ]
      },
      {
       "output_type": "stream",
       "stream": "stdout",
       "text": [
        "\n",
        "weather_20160210\n",
        "Run time: 0:02:18.309951 - total rows: 46264 "
       ]
      },
      {
       "output_type": "stream",
       "stream": "stdout",
       "text": [
        "\n",
        "weather_20160209\n",
        "Run time: 0:02:18.369878 - total rows: 46264 "
       ]
      },
      {
       "output_type": "stream",
       "stream": "stdout",
       "text": [
        "\n",
        "weather_20160208\n",
        "Run time: 0:02:19.962295 - total rows: 46264 "
       ]
      },
      {
       "output_type": "stream",
       "stream": "stdout",
       "text": [
        "\n",
        "weather_20160207\n",
        "Run time: 0:02:18.231181 - total rows: 46264 "
       ]
      },
      {
       "output_type": "stream",
       "stream": "stdout",
       "text": [
        "\n",
        "weather_20160206\n",
        "Run time: 0:02:20.148969 - total rows: 46264 "
       ]
      },
      {
       "output_type": "stream",
       "stream": "stdout",
       "text": [
        "\n",
        "weather_20160205\n",
        "Run time: 0:02:18.313338 - total rows: 46264 "
       ]
      },
      {
       "output_type": "stream",
       "stream": "stdout",
       "text": [
        "\n",
        "weather_20160204\n",
        "Run time: 0:02:17.297513 - total rows: 46264 "
       ]
      },
      {
       "output_type": "stream",
       "stream": "stdout",
       "text": [
        "\n",
        "weather_20160203\n",
        "Run time: 0:02:18.285616 - total rows: 46264 "
       ]
      },
      {
       "output_type": "stream",
       "stream": "stdout",
       "text": [
        "\n",
        "weather_20160202\n",
        "Run time: 0:02:18.726260 - total rows: 46264 "
       ]
      },
      {
       "output_type": "stream",
       "stream": "stdout",
       "text": [
        "\n",
        "weather_20160201\n",
        "Run time: 0:02:17.965724 - total rows: 46264 "
       ]
      },
      {
       "output_type": "stream",
       "stream": "stdout",
       "text": [
        "\n",
        "weather_20160131\n",
        "Run time: 0:02:22.900456 - total rows: 46264 "
       ]
      },
      {
       "output_type": "stream",
       "stream": "stdout",
       "text": [
        "\n",
        "weather_20160130\n",
        "Run time: 0:02:20.384630 - total rows: 46264 "
       ]
      },
      {
       "output_type": "stream",
       "stream": "stdout",
       "text": [
        "\n",
        "weather_20160129\n",
        "Run time: 0:02:17.714551 - total rows: 46264 "
       ]
      },
      {
       "output_type": "stream",
       "stream": "stdout",
       "text": [
        "\n",
        "weather_20160128\n",
        "Run time: 0:02:18.624340 - total rows: 46264 "
       ]
      },
      {
       "output_type": "stream",
       "stream": "stdout",
       "text": [
        "\n",
        "weather_20160127\n",
        "Run time: 0:02:18.975672 - total rows: 46264 "
       ]
      },
      {
       "output_type": "stream",
       "stream": "stdout",
       "text": [
        "\n",
        "weather_20160126\n",
        "Run time: 0:02:21.068999 - total rows: 46264 "
       ]
      },
      {
       "output_type": "stream",
       "stream": "stdout",
       "text": [
        "\n",
        "weather_20160125\n",
        "Run time: 0:02:23.244411 - total rows: 46264 "
       ]
      },
      {
       "output_type": "stream",
       "stream": "stdout",
       "text": [
        "\n",
        "weather_20160124\n",
        "Run time: 0:02:20.469257 - total rows: 46264 "
       ]
      },
      {
       "output_type": "stream",
       "stream": "stdout",
       "text": [
        "\n",
        "weather_20160123\n",
        "Run time: 0:02:19.204675 - total rows: 46264 "
       ]
      },
      {
       "output_type": "stream",
       "stream": "stdout",
       "text": [
        "\n",
        "weather_20160122\n",
        "Run time: 0:02:19.762912 - total rows: 46264 "
       ]
      },
      {
       "output_type": "stream",
       "stream": "stdout",
       "text": [
        "\n",
        "weather_20160121\n",
        "Run time: 0:02:20.297391 - total rows: 46264 "
       ]
      },
      {
       "output_type": "stream",
       "stream": "stdout",
       "text": [
        "\n",
        "weather_20160120\n",
        "Run time: 0:02:20.312066 - total rows: 46264 "
       ]
      },
      {
       "output_type": "stream",
       "stream": "stdout",
       "text": [
        "\n",
        "weather_20160119\n",
        "Run time: 0:02:24.327575 - total rows: 46264 "
       ]
      },
      {
       "output_type": "stream",
       "stream": "stdout",
       "text": [
        "\n",
        "weather_20160118\n",
        "Run time: 0:02:19.772419 - total rows: 46264 "
       ]
      },
      {
       "output_type": "stream",
       "stream": "stdout",
       "text": [
        "\n",
        "weather_20160117\n",
        "Run time: 0:02:19.585393 - total rows: 46264 "
       ]
      },
      {
       "output_type": "stream",
       "stream": "stdout",
       "text": [
        "\n",
        "weather_20160116\n",
        "Run time: 0:02:20.322066 - total rows: 46264 "
       ]
      },
      {
       "output_type": "stream",
       "stream": "stdout",
       "text": [
        "\n",
        "weather_20160115\n",
        "Run time: 0:02:20.443524 - total rows: 46264 "
       ]
      },
      {
       "output_type": "stream",
       "stream": "stdout",
       "text": [
        "\n",
        "weather_20160114\n",
        "Run time: 0:02:19.129574 - total rows: 46264 "
       ]
      },
      {
       "output_type": "stream",
       "stream": "stdout",
       "text": [
        "\n",
        "weather_20160113\n",
        "Run time: 0:02:22.218236 - total rows: 46264 "
       ]
      },
      {
       "output_type": "stream",
       "stream": "stdout",
       "text": [
        "\n",
        "weather_20160112\n",
        "Run time: 0:02:19.953988 - total rows: 46264 "
       ]
      },
      {
       "output_type": "stream",
       "stream": "stdout",
       "text": [
        "\n",
        "weather_20160111\n",
        "Run time: 0:02:19.816993 - total rows: 46264 "
       ]
      },
      {
       "output_type": "stream",
       "stream": "stdout",
       "text": [
        "\n",
        "weather_20160110\n",
        "Run time: 0:02:19.798919 - total rows: 46264 "
       ]
      },
      {
       "output_type": "stream",
       "stream": "stdout",
       "text": [
        "\n",
        "weather_20160109\n",
        "Run time: 0:02:19.534014 - total rows: 46264 "
       ]
      },
      {
       "output_type": "stream",
       "stream": "stdout",
       "text": [
        "\n",
        "weather_20160108\n",
        "Run time: 0:02:19.951112 - total rows: 46264 "
       ]
      },
      {
       "output_type": "stream",
       "stream": "stdout",
       "text": [
        "\n",
        "weather_20160107\n",
        "Run time: 0:02:21.584671 - total rows: 46264 "
       ]
      },
      {
       "output_type": "stream",
       "stream": "stdout",
       "text": [
        "\n",
        "weather_20160106\n",
        "Run time: 0:02:20.185869 - total rows: 46264 "
       ]
      },
      {
       "output_type": "stream",
       "stream": "stdout",
       "text": [
        "\n"
       ]
      }
     ],
     "prompt_number": 17
    },
    {
     "cell_type": "code",
     "collapsed": false,
     "input": [],
     "language": "python",
     "metadata": {},
     "outputs": []
    },
    {
     "cell_type": "code",
     "collapsed": false,
     "input": [
      "# print prepare.prepare_statement_sql(insert_into_cassandra)"
     ],
     "language": "python",
     "metadata": {},
     "outputs": [],
     "prompt_number": 33
    },
    {
     "cell_type": "code",
     "collapsed": false,
     "input": [
      "sql = '''select \n",
      "    countyid ,\n",
      "    ts ,\n",
      "    weather ,\n",
      "    current_temp ,\n",
      "    high ,\n",
      "    low ,\n",
      "    precipitation_am ,\n",
      "    precipitation_pm ,\n",
      "    dew_point ,\n",
      "    wind_gust ,\n",
      "    humidity_relh ,\n",
      "    slp ,\n",
      "    elevation ,\n",
      "    windchill ,\n",
      "    wind_degree ,\n",
      "    wind_speed ,\n",
      "    wind_direction\n",
      "from weather.weather limit 2000 '''\n",
      "insert_data = db.streaming_cursor(sql)\n",
      "from datetime import datetime\n",
      "start_time = datetime.now()\n",
      "for row in insert_data:\n",
      "    prepare.insert_row(row)\n",
      "print \"Run time: {}\".format(datetime.now() - start_time)"
     ],
     "language": "python",
     "metadata": {},
     "outputs": [
      {
       "output_type": "stream",
       "stream": "stdout",
       "text": [
        "Run time: 0:00:07.306454\n"
       ]
      }
     ],
     "prompt_number": 34
    },
    {
     "cell_type": "code",
     "collapsed": false,
     "input": [],
     "language": "python",
     "metadata": {},
     "outputs": []
    },
    {
     "cell_type": "code",
     "collapsed": false,
     "input": [],
     "language": "python",
     "metadata": {},
     "outputs": []
    },
    {
     "cell_type": "code",
     "collapsed": false,
     "input": [],
     "language": "python",
     "metadata": {},
     "outputs": []
    },
    {
     "cell_type": "code",
     "collapsed": false,
     "input": [],
     "language": "python",
     "metadata": {},
     "outputs": []
    },
    {
     "cell_type": "code",
     "collapsed": false,
     "input": [
      "\n",
      "data = db.fetch_one_row(\"select * from weather.weather limit 1\")\n",
      "for i in data.query_data._asdict().keys():\n",
      "    print  \"%s,\""
     ],
     "language": "python",
     "metadata": {},
     "outputs": [
      {
       "output_type": "stream",
       "stream": "stdout",
       "text": [
        "%s,\n",
        "%s,\n",
        "%s,\n",
        "%s,\n",
        "%s,\n",
        "%s,\n",
        "%s,\n",
        "%s,\n",
        "%s,\n",
        "%s,\n",
        "%s,\n",
        "%s,\n",
        "%s,\n",
        "%s,\n",
        "%s,\n",
        "%s,\n",
        "%s,\n",
        "%s,\n"
       ]
      }
     ],
     "prompt_number": 12
    },
    {
     "cell_type": "code",
     "collapsed": false,
     "input": [
      "get_data_from_table = '''\n",
      "select \n",
      "    countyid ,\n",
      "    ts ,\n",
      "    weather ,\n",
      "    current_temp ,\n",
      "    high ,\n",
      "    low ,\n",
      "    precipitation_am ,\n",
      "    precipitation_pm ,\n",
      "    dew_point ,\n",
      "    wind_gust ,\n",
      "    humidity_relh ,\n",
      "    slp ,\n",
      "    elevation ,\n",
      "    windchill ,\n",
      "    wind_degree ,\n",
      "    wind_speed ,\n",
      "    wind_direction\n",
      "from weather.{table} order by ts desc\n",
      "'''"
     ],
     "language": "python",
     "metadata": {},
     "outputs": [],
     "prompt_number": 10
    },
    {
     "cell_type": "code",
     "collapsed": false,
     "input": [
      "insert_into_cassandra = '''\n",
      "insert into weather (\n",
      "countyid ,\n",
      "    ts ,\n",
      "    weather ,\n",
      "    current_temp ,\n",
      "    high ,\n",
      "    low ,\n",
      "    precipitation_am ,\n",
      "    precipitation_pm ,\n",
      "    dew_point ,\n",
      "    wind_gust ,\n",
      "    humidity_relh ,\n",
      "    slp ,\n",
      "    elevation ,\n",
      "    windchill ,\n",
      "    wind_degree ,\n",
      "    wind_speed ,\n",
      "    wind_direction\n",
      "    )\n",
      "    \n",
      "values (\n",
      "\n",
      "%s,%s,%s,%s,%s,\n",
      "%s,%s,%s,%s,\n",
      "%s,%s,%s,%s,\n",
      "%s,%s,%s,%s\n",
      ")\n",
      "'''"
     ],
     "language": "python",
     "metadata": {},
     "outputs": [],
     "prompt_number": 11
    },
    {
     "cell_type": "code",
     "collapsed": false,
     "input": [],
     "language": "python",
     "metadata": {},
     "outputs": []
    }
   ],
   "metadata": {}
  }
 ]
}