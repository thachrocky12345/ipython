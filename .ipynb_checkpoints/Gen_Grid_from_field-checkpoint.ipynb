{
 "metadata": {
  "name": "",
  "signature": "sha256:a053c79b21a99a0c549e36892f04403e92d925dbd49ac8c6d01372c0468b7a89"
 },
 "nbformat": 3,
 "nbformat_minor": 0,
 "worksheets": [
  {
   "cells": [
    {
     "cell_type": "code",
     "collapsed": false,
     "input": [
      "from shapely import geometry\n",
      "import geojson\n",
      "import sys\n",
      "sys.path.append(\"/home/thachbui/workstation/grid_generator/\")\n",
      "from grid import *"
     ],
     "language": "python",
     "metadata": {},
     "outputs": [],
     "prompt_number": 1
    },
    {
     "cell_type": "code",
     "collapsed": false,
     "input": [
      "\n",
      "def json2polygon(geojson_str):\n",
      "    \"\"\"\n",
      "    convert geojson from data return to polygon\n",
      "    :param geojson:\n",
      "    :return: polygon\n",
      "    \"\"\"\n",
      "    geojson_object = geojson.loads(geojson_str)\n",
      "    return geometry.shape(geojson_object)"
     ],
     "language": "python",
     "metadata": {},
     "outputs": [],
     "prompt_number": 2
    },
    {
     "cell_type": "code",
     "collapsed": false,
     "input": [
      "sys.path.append(\"/home/thachbui/workstation/elecsys_database/\")\n",
      "from database import PgPass, PgsqlExecutor\n",
      "\n",
      "passwd = PgPass(\"decoded\")\n",
      "db = PgsqlExecutor(passwd)\n"
     ],
     "language": "python",
     "metadata": {},
     "outputs": [],
     "prompt_number": 3
    },
    {
     "cell_type": "code",
     "collapsed": false,
     "input": [
      "sql = '''\n",
      "select st_asgeojson(field_geom) field from test.field where id = 5\n",
      "'''\n",
      "query_ret = db.fetch_one_row(sql).query_data\n",
      "db.close()"
     ],
     "language": "python",
     "metadata": {},
     "outputs": [],
     "prompt_number": 4
    },
    {
     "cell_type": "code",
     "collapsed": false,
     "input": [
      "field_json = query_ret.field\n",
      "\n"
     ],
     "language": "python",
     "metadata": {},
     "outputs": [],
     "prompt_number": 5
    },
    {
     "cell_type": "code",
     "collapsed": false,
     "input": [
      "field = json2polygon(field_json)\n",
      "field"
     ],
     "language": "python",
     "metadata": {},
     "outputs": [
      {
       "metadata": {},
       "output_type": "pyout",
       "prompt_number": 6,
       "svg": [
        "<svg xmlns=\"http://www.w3.org/2000/svg\" xmlns:xlink=\"http://www.w3.org/1999/xlink\" width=\"100.0\" height=\"100.0\" viewBox=\"-99.0270392985 40.7858018769 0.0107312247084 0.00832536975535\" preserveAspectRatio=\"xMinYMin meet\"><g transform=\"matrix(1,0,0,-1,0,81.5799291236)\"><path fill-rule=\"evenodd\" fill=\"#66cc99\" stroke=\"#555555\" stroke-width=\"0.000214624494167\" opacity=\"0.6\" d=\"M -99.0167055265,40.7903025207 L -99.0167654872,40.790637651 L -99.0168648852,40.7909673611 L -99.0170029201,40.7912889967 L -99.0171784806,40.7915999681 L -99.0173901532,40.7918977718 L -99.0176362336,40.7921800103 L -99.0179147405,40.7924444113 L -99.0182234316,40.7926888462 L -99.0185598214,40.7929113474 L -99.0189212015,40.7931101234 L -99.0193046623,40.7932835742 L -99.0197071164,40.7934303034 L -99.0201253236,40.7935491298 L -99.0205559165,40.7936390968 L -99.0209954284,40.7936994802 L -99.0214403206,40.7937297939 L -99.021887011,40.7937297939 L -99.0223319031,40.7936994802 L -99.022771415,40.7936390968 L -99.023202008,40.7935491298 L -99.0236202151,40.7934303034 L -99.0240226692,40.7932835742 L -99.0244061301,40.7931101234 L -99.0247675102,40.7929113474 L -99.0251039,40.7926888462 L -99.025412591,40.7924444113 L -99.0256910979,40.7921800103 L -99.0259371783,40.7918977718 L -99.0261488509,40.7915999681 L -99.0263244114,40.7912889967 L -99.0264624463,40.7909673611 L -99.0265618443,40.790637651 L -99.026621805,40.7903025207 L -99.0266418457,40.7899646686 L -99.026621805,40.7896268147 L -99.0265618443,40.7892916794 L -99.0264624463,40.7889619609 L -99.0263244114,40.7886403141 L -99.0261488509,40.7883293288 L -99.0259371783,40.7880315091 L -99.0256910979,40.787749253 L -99.025412591,40.7874848333 L -99.0251039,40.7872403791 L -99.0247675102,40.787017859 L -99.0244061301,40.7868190647 L -99.0240226692,40.7866455971 L -99.0236202151,40.7864988529 L -99.023202008,40.7863800139 L -99.022771415,40.786290037 L -99.0223319031,40.7862296469 L -99.021887011,40.7861993297 L -99.0214403206,40.7861993297 L -99.0209954284,40.7862296469 L -99.0205559165,40.786290037 L -99.0201253236,40.7863800139 L -99.0197071164,40.7864988529 L -99.0193046623,40.7866455971 L -99.0189212015,40.7868190647 L -99.0185598214,40.787017859 L -99.0182234316,40.7872403791 L -99.0179147405,40.7874848333 L -99.0176362336,40.787749253 L -99.0173901532,40.7880315091 L -99.0171784806,40.7883293288 L -99.0170029201,40.7886403141 L -99.0168648852,40.7889619609 L -99.0167654872,40.7892916794 L -99.0167055265,40.7896268147 L -99.0167055265,40.7903025207 z\" /></g></svg>"
       ],
       "text": [
        "<shapely.geometry.polygon.Polygon at 0x7fe5c8bfe950>"
       ]
      }
     ],
     "prompt_number": 6
    },
    {
     "cell_type": "code",
     "collapsed": false,
     "input": [
      "field.bounds"
     ],
     "language": "python",
     "metadata": {},
     "outputs": [
      {
       "metadata": {},
       "output_type": "pyout",
       "prompt_number": 7,
       "text": [
        "(-99.0266418457031, 40.7861993297112, -99.0167055265287, 40.7937297939326)"
       ]
      }
     ],
     "prompt_number": 7
    },
    {
     "cell_type": "code",
     "collapsed": false,
     "input": [
      "grid_gen = Grids(field)"
     ],
     "language": "python",
     "metadata": {},
     "outputs": [],
     "prompt_number": 8
    },
    {
     "cell_type": "code",
     "collapsed": false,
     "input": [
      "grids = grid_gen.grids"
     ],
     "language": "python",
     "metadata": {},
     "outputs": [],
     "prompt_number": 9
    },
    {
     "cell_type": "code",
     "collapsed": false,
     "input": [
      "len(grids)"
     ],
     "language": "python",
     "metadata": {},
     "outputs": [
      {
       "metadata": {},
       "output_type": "pyout",
       "prompt_number": 10,
       "text": [
        "27889"
       ]
      }
     ],
     "prompt_number": 10
    },
    {
     "cell_type": "code",
     "collapsed": false,
     "input": [
      "\n",
      "db = PgsqlExecutor(passwd, False)\n",
      "insert_sql = '''\n",
      "insert into test.grid (field_id, geom) values( 5, st_setsrid(\n",
      "                                                    st_point(%(long)s, %(lat)s), \n",
      "                                                    4326))\n",
      "'''\n",
      "for point in grids:\n",
      "    input = dict(long=point[0],\n",
      "                 lat=point[1])\n",
      "    db.modify_rows(insert_sql, input)\n",
      "\n",
      "db.connection.commit()\n",
      "\n",
      "db.close()"
     ],
     "language": "python",
     "metadata": {},
     "outputs": [],
     "prompt_number": 11
    },
    {
     "cell_type": "code",
     "collapsed": false,
     "input": [
      "# Polygon"
     ],
     "language": "python",
     "metadata": {},
     "outputs": []
    },
    {
     "cell_type": "code",
     "collapsed": false,
     "input": [
      "db = PgsqlExecutor(passwd, False)\n",
      "insert_sql = '''\n",
      "insert into test.grid (field_id, geom) values( 5, st_setsrid(\n",
      "                                                    'POLYGON((%(min_long)s %(max_lat)s,%(max_long)s %(max_lat)s,%(max_long)s %(min_lat)s,%(min_long)s %(min_lat)s,%(min_long)s %(max_lat)s))'::geometry , \n",
      "                                                    4326))\n",
      "'''\n",
      "for point in grids:\n",
      "    input = dict(min_long=point[0] - 0.00003,\n",
      "                 max_long=point[0] + 0.00003,\n",
      "                 min_lat=point[1] - 0.0000225,\n",
      "                 max_lat=point[1] + 0.0000225)\n",
      "    db.modify_rows(insert_sql, input)\n",
      "\n",
      "db.connection.commit()\n",
      "\n",
      "db.close()"
     ],
     "language": "python",
     "metadata": {},
     "outputs": [],
     "prompt_number": 12
    },
    {
     "cell_type": "code",
     "collapsed": false,
     "input": [
      "field_json = '{\"type\":\"Polygon\",\"coordinates\":[[[-100.29624938964845,41.7625412506336],[-100.2854347229004,41.7625412506336],[-100.28474807739259,41.754602018324526],[-100.29247283935548,41.75857175725126],[-100.29624938964845,41.7625412506336]]]}'"
     ],
     "language": "python",
     "metadata": {},
     "outputs": [],
     "prompt_number": 5
    },
    {
     "cell_type": "code",
     "collapsed": false,
     "input": [
      "field = json2polygon(field_json)\n",
      "field"
     ],
     "language": "python",
     "metadata": {},
     "outputs": [
      {
       "metadata": {},
       "output_type": "pyout",
       "prompt_number": 6,
       "svg": [
        "<svg xmlns=\"http://www.w3.org/2000/svg\" xmlns:xlink=\"http://www.w3.org/1999/xlink\" width=\"100.0\" height=\"100.0\" viewBox=\"-100.315897751 41.7608596167 0.0125604629517 0.0096369854705\" preserveAspectRatio=\"xMinYMin meet\"><g transform=\"matrix(1,0,0,-1,0,83.531356219)\"><path fill-rule=\"evenodd\" fill=\"#66cc99\" stroke=\"#555555\" stroke-width=\"0.000251209259033\" opacity=\"0.6\" d=\"M -100.312385559,41.7696153034 L -100.31496048,41.7677268317 L -100.315432549,41.7648139952 L -100.314059258,41.7624452174 L -100.311698914,41.7616129234 L -100.308351517,41.7613248191 L -100.305776596,41.7624452174 L -100.304274559,41.7641737936 L -100.30380249,41.7662224162 L -100.30500412,41.7682709733 L -100.306892395,41.7694872732 L -100.309467316,41.7700313999 L -100.312385559,41.7696153034 z\" /></g></svg>"
       ],
       "text": [
        "<shapely.geometry.polygon.Polygon at 0x7f0f58cb7250>"
       ]
      }
     ],
     "prompt_number": 6
    },
    {
     "cell_type": "code",
     "collapsed": false,
     "input": [
      "zone_json = '{\"type\":\"Polygon\",\"coordinates\":[[[-100.3151321411133,41.76458992533885],[-100.30903816223146,41.76574227611513],[-100.30800819396974,41.76164493488123],[-100.31135559082031,41.76126079572607],[-100.31410217285158,41.762349184026384],[-100.3151321411133,41.76458992533885]]]}'"
     ],
     "language": "python",
     "metadata": {},
     "outputs": [],
     "prompt_number": 7
    },
    {
     "cell_type": "code",
     "collapsed": false,
     "input": [
      "zone = json2polygon(zone_json)\n",
      "zone"
     ],
     "language": "python",
     "metadata": {},
     "outputs": [
      {
       "metadata": {},
       "output_type": "pyout",
       "prompt_number": 8,
       "svg": [
        "<svg xmlns=\"http://www.w3.org/2000/svg\" xmlns:xlink=\"http://www.w3.org/1999/xlink\" width=\"100.0\" height=\"100.0\" viewBox=\"-100.315417099 41.7609758378 0.00769386291503 0.00505139616053\" preserveAspectRatio=\"xMinYMin meet\"><g transform=\"matrix(1,0,0,-1,0,83.5270030718)\"><path fill-rule=\"evenodd\" fill=\"#66cc99\" stroke=\"#555555\" stroke-width=\"0.000153877258301\" opacity=\"0.6\" d=\"M -100.315132141,41.7645899253 L -100.309038162,41.7657422761 L -100.308008194,41.7616449349 L -100.311355591,41.7612607957 L -100.314102173,41.762349184 L -100.315132141,41.7645899253 z\" /></g></svg>"
       ],
       "text": [
        "<shapely.geometry.polygon.Polygon at 0x7f0f58cb7210>"
       ]
      }
     ],
     "prompt_number": 8
    },
    {
     "cell_type": "code",
     "collapsed": false,
     "input": [
      "zone_json = '{\"type\":\"Polygon\",\"coordinates\":[[[-100.30903816223146,41.76587031381266],[-100.30431747436525,41.76670255261859],[-100.3040599822998,41.764205803814164],[-100.3059482574463,41.762413206292656],[-100.30783653259279,41.76151688875169],[-100.30903816223146,41.76587031381266]]]}'"
     ],
     "language": "python",
     "metadata": {},
     "outputs": [],
     "prompt_number": 9
    },
    {
     "cell_type": "code",
     "collapsed": false,
     "input": [
      "zone = json2polygon(zone_json)\n",
      "zone"
     ],
     "language": "python",
     "metadata": {},
     "outputs": [
      {
       "metadata": {},
       "output_type": "pyout",
       "prompt_number": 10,
       "svg": [
        "<svg xmlns=\"http://www.w3.org/2000/svg\" xmlns:xlink=\"http://www.w3.org/1999/xlink\" width=\"100.0\" height=\"100.0\" viewBox=\"-100.309245589 41.7613094622 0.00539303304102 0.00560051697624\" preserveAspectRatio=\"xMinYMin meet\"><g transform=\"matrix(1,0,0,-1,0,83.5282194414)\"><path fill-rule=\"evenodd\" fill=\"#66cc99\" stroke=\"#555555\" stroke-width=\"0.000112010339525\" opacity=\"0.6\" d=\"M -100.309038162,41.7658703138 L -100.304317474,41.7667025526 L -100.304059982,41.7642058038 L -100.305948257,41.7624132063 L -100.307836533,41.7615168888 L -100.309038162,41.7658703138 z\" /></g></svg>"
       ],
       "text": [
        "<shapely.geometry.polygon.Polygon at 0x7f0f58cb7150>"
       ]
      }
     ],
     "prompt_number": 10
    },
    {
     "cell_type": "code",
     "collapsed": false,
     "input": [
      "zone_json = '{\"type\":\"Polygon\",\"coordinates\":[[[-100.31521797180176,41.764653945369396],[-100.30431747436525,41.76689460619454],[-100.30526161193849,41.76855904643686],[-100.30689239501953,41.76964731093955],[-100.30963897705078,41.769967385221065],[-100.31238555908205,41.76977534084381],[-100.31521797180176,41.76798289893208],[-100.31521797180176,41.764653945369396]]]}'"
     ],
     "language": "python",
     "metadata": {},
     "outputs": [],
     "prompt_number": 11
    },
    {
     "cell_type": "code",
     "collapsed": false,
     "input": [
      "zone = json2polygon(zone_json)\n",
      "zone"
     ],
     "language": "python",
     "metadata": {},
     "outputs": [
      {
       "metadata": {},
       "output_type": "pyout",
       "prompt_number": 12,
       "svg": [
        "<svg xmlns=\"http://www.w3.org/2000/svg\" xmlns:xlink=\"http://www.w3.org/1999/xlink\" width=\"100.0\" height=\"100.0\" viewBox=\"-100.315653992 41.7642179255 0.0117725372314 0.0061854796466\" preserveAspectRatio=\"xMinYMin meet\"><g transform=\"matrix(1,0,0,-1,0,83.5346213306)\"><path fill-rule=\"evenodd\" fill=\"#66cc99\" stroke=\"#555555\" stroke-width=\"0.000235450744629\" opacity=\"0.6\" d=\"M -100.315217972,41.7646539454 L -100.304317474,41.7668946062 L -100.305261612,41.7685590464 L -100.306892395,41.7696473109 L -100.309638977,41.7699673852 L -100.312385559,41.7697753408 L -100.315217972,41.7679828989 L -100.315217972,41.7646539454 z\" /></g></svg>"
       ],
       "text": [
        "<shapely.geometry.polygon.Polygon at 0x7f0f58cb78d0>"
       ]
      }
     ],
     "prompt_number": 12
    },
    {
     "cell_type": "code",
     "collapsed": false,
     "input": [
      "%(ts)s"
     ],
     "language": "python",
     "metadata": {},
     "outputs": []
    }
   ],
   "metadata": {}
  }
 ]
}