{
 "metadata": {
  "name": "",
  "signature": "sha256:10ddc95e1e6ea6ca5df7d67239cd40031d01d14f9ba45d4d02e18d826e80d25b"
 },
 "nbformat": 3,
 "nbformat_minor": 0,
 "worksheets": [
  {
   "cells": [
    {
     "cell_type": "code",
     "collapsed": false,
     "input": [
      "!git add -A\n"
     ],
     "language": "python",
     "metadata": {},
     "outputs": [],
     "prompt_number": 1
    },
    {
     "cell_type": "code",
     "collapsed": false,
     "input": [
      "!git commit -a -m \"adding cassandra script\""
     ],
     "language": "python",
     "metadata": {},
     "outputs": [
      {
       "output_type": "stream",
       "stream": "stdout",
       "text": [
        "[master a01cf9e] adding cassandra script\r\n",
        " 2 files changed, 8 insertions(+), 16 deletions(-)\r\n"
       ]
      },
      {
       "output_type": "stream",
       "stream": "stderr",
       "text": [
        "WARNING:cassandra.cluster:Host 192.168.1.150 has been marked down\n",
        "WARNING:cassandra.cluster:Host 192.168.1.221 has been marked down\n"
       ]
      }
     ],
     "prompt_number": 13
    },
    {
     "cell_type": "code",
     "collapsed": false,
     "input": [
      "!git push origin master"
     ],
     "language": "python",
     "metadata": {},
     "outputs": [
      {
       "output_type": "stream",
       "stream": "stdout",
       "text": [
        "Counting objects: 5, done.\r\n",
        "Delta compression using up to 8 threads.\r\n",
        "Compressing objects:  20% (1/5)   \r",
        "Compressing objects:  40% (2/5)   \r",
        "Compressing objects:  60% (3/5)   \r",
        "Compressing objects:  80% (4/5)   \r",
        "Compressing objects: 100% (5/5)   \r",
        "Compressing objects: 100% (5/5), done.\r\n",
        "Writing objects:  20% (1/5)   \r",
        "Writing objects:  40% (2/5)   \r",
        "Writing objects:  60% (3/5)   \r",
        "Writing objects:  80% (4/5)   \r",
        "Writing objects: 100% (5/5)   \r",
        "Writing objects: 100% (5/5), 5.37 KiB | 0 bytes/s, done.\r\n",
        "Total 5 (delta 3), reused 0 (delta 0)\r\n"
       ]
      },
      {
       "output_type": "stream",
       "stream": "stdout",
       "text": [
        "remote: Resolving deltas:   0% (0/3)   \u001b[K\r",
        "remote: Resolving deltas:  33% (1/3)   \u001b[K\r",
        "remote: Resolving deltas:  66% (2/3)   \u001b[K\r",
        "remote: Resolving deltas: 100% (3/3)   \u001b[K\r",
        "remote: Resolving deltas: 100% (3/3), completed with 3 local objects.\u001b[K\r\n"
       ]
      },
      {
       "output_type": "stream",
       "stream": "stdout",
       "text": [
        "To github.com:thachrocky12345/ipython.git\r\n",
        "   5b8f7a5..94dbc45  master -> master\r\n"
       ]
      }
     ],
     "prompt_number": 19
    },
    {
     "cell_type": "code",
     "collapsed": false,
     "input": [
      "from etl.pgdb import PgsqlExecutor\n",
      "from etl import cassdb"
     ],
     "language": "python",
     "metadata": {},
     "outputs": [],
     "prompt_number": 28
    },
    {
     "cell_type": "code",
     "collapsed": false,
     "input": [
      "weather_database =  dict(host='localhost',port=5432, database='decoded', user='thachbui', password='thach12345')\n",
      "db_w = PgsqlExecutor(weather_database)"
     ],
     "language": "python",
     "metadata": {},
     "outputs": [],
     "prompt_number": 33
    },
    {
     "cell_type": "code",
     "collapsed": false,
     "input": [
      "get_weather_tables = '''\n",
      "SELECT c.relname weather_table\n",
      "    FROM pg_catalog.pg_class c\n",
      "\tLEFT JOIN pg_catalog.pg_namespace n ON n.oid = c.relnamespace\n",
      "\tWHERE n.nspname = 'weather'\n",
      "\tAND c.relname like 'weather_2%' order by 1 desc\n",
      "'''"
     ],
     "language": "python",
     "metadata": {},
     "outputs": [],
     "prompt_number": 34
    },
    {
     "cell_type": "code",
     "collapsed": false,
     "input": [
      "weather_tables = db_w.fetch_all_rows(get_weather_tables).query_data"
     ],
     "language": "python",
     "metadata": {},
     "outputs": [],
     "prompt_number": 35
    },
    {
     "cell_type": "code",
     "collapsed": false,
     "input": [
      "for i in weather_tables[0:5]:\n",
      "    print i"
     ],
     "language": "python",
     "metadata": {},
     "outputs": [
      {
       "output_type": "stream",
       "stream": "stdout",
       "text": [
        "Record(weather_table='weather_20170213')\n",
        "Record(weather_table='weather_20170212')\n",
        "Record(weather_table='weather_20170211')\n",
        "Record(weather_table='weather_20170210')\n",
        "Record(weather_table='weather_20170209')\n"
       ]
      }
     ],
     "prompt_number": 32
    },
    {
     "cell_type": "markdown",
     "metadata": {},
     "source": [
      "# treaming data and insert"
     ]
    },
    {
     "cell_type": "code",
     "collapsed": false,
     "input": [
      "auth_provider = dict(username='thachbui',\n",
      "                     password='thach12345',\n",
      "                     hosts=['192.168.1.150', '192.168.1.221'],\n",
      "                     port=None,\n",
      "                     database='weather')"
     ],
     "language": "python",
     "metadata": {},
     "outputs": [],
     "prompt_number": 36
    },
    {
     "cell_type": "code",
     "collapsed": false,
     "input": [
      "db_cass = cassdb.CasExecutor(auth_provider)\n",
      "prepare = cassdb.Prepare(db_cass.cursor, insert_into_cassandra)"
     ],
     "language": "python",
     "metadata": {},
     "outputs": [],
     "prompt_number": 37
    },
    {
     "cell_type": "code",
     "collapsed": false,
     "input": [],
     "language": "python",
     "metadata": {},
     "outputs": [],
     "prompt_number": 37
    },
    {
     "cell_type": "code",
     "collapsed": false,
     "input": [
      "from datetime import datetime\n",
      "for weather_table in weather_tables:\n",
      "    count = 0\n",
      "    weather_table =  weather_table.weather_table\n",
      "    if weather_table >= 'weather_20160914':\n",
      "#         print weather_table\n",
      "        continue\n",
      "    print weather_table\n",
      "    get_data_from_table = get_data_from_table.format(table=weather_table)\n",
      "#     print get_data_from_table\n",
      "    db_w = PgsqlExecutor(weather_database)\n",
      "    insert_data = db_w.streaming_cursor(get_data_from_table)\n",
      "    \n",
      "    start_time = datetime.now()\n",
      "    with db_cass.cursor as cursor:\n",
      "        prepare = cassdb.Prepare(cursor, insert_into_cassandra)\n",
      "        for row in insert_data:\n",
      "            count += 1\n",
      "            prepare.insert_row(row)\n",
      "    \n",
      "    print \"Run time: {} - total rows: {} \".format(datetime.now() - start_time, count)\n",
      "    "
     ],
     "language": "python",
     "metadata": {},
     "outputs": []
    },
    {
     "cell_type": "code",
     "collapsed": false,
     "input": [
      "print (float(62216)/ 200)"
     ],
     "language": "python",
     "metadata": {},
     "outputs": [
      {
       "output_type": "stream",
       "stream": "stdout",
       "text": [
        "311.08\n"
       ]
      }
     ],
     "prompt_number": 11
    },
    {
     "cell_type": "code",
     "collapsed": false,
     "input": [
      "db_cass.close()"
     ],
     "language": "python",
     "metadata": {},
     "outputs": [],
     "prompt_number": 27
    },
    {
     "cell_type": "code",
     "collapsed": false,
     "input": [
      "# print prepare.prepare_statement_sql(insert_into_cassandra)"
     ],
     "language": "python",
     "metadata": {},
     "outputs": [],
     "prompt_number": 33
    },
    {
     "cell_type": "code",
     "collapsed": false,
     "input": [
      "sql = '''select \n",
      "    countyid ,\n",
      "    ts ,\n",
      "    weather ,\n",
      "    current_temp ,\n",
      "    high ,\n",
      "    low ,\n",
      "    precipitation_am ,\n",
      "    precipitation_pm ,\n",
      "    dew_point ,\n",
      "    wind_gust ,\n",
      "    humidity_relh ,\n",
      "    slp ,\n",
      "    elevation ,\n",
      "    windchill ,\n",
      "    wind_degree ,\n",
      "    wind_speed ,\n",
      "    wind_direction\n",
      "from weather.weather limit 2000 '''\n",
      "insert_data = db.streaming_cursor(sql)\n",
      "from datetime import datetime\n",
      "start_time = datetime.now()\n",
      "for row in insert_data:\n",
      "    prepare.insert_row(row)\n",
      "print \"Run time: {}\".format(datetime.now() - start_time)"
     ],
     "language": "python",
     "metadata": {},
     "outputs": [
      {
       "output_type": "stream",
       "stream": "stdout",
       "text": [
        "Run time: 0:00:07.306454\n"
       ]
      }
     ],
     "prompt_number": 34
    },
    {
     "cell_type": "code",
     "collapsed": false,
     "input": [],
     "language": "python",
     "metadata": {},
     "outputs": []
    },
    {
     "cell_type": "code",
     "collapsed": false,
     "input": [],
     "language": "python",
     "metadata": {},
     "outputs": []
    },
    {
     "cell_type": "code",
     "collapsed": false,
     "input": [],
     "language": "python",
     "metadata": {},
     "outputs": []
    },
    {
     "cell_type": "code",
     "collapsed": false,
     "input": [],
     "language": "python",
     "metadata": {},
     "outputs": []
    },
    {
     "cell_type": "code",
     "collapsed": false,
     "input": [
      "\n",
      "data = db.fetch_one_row(\"select * from weather.weather limit 1\")\n",
      "for i in data.query_data._asdict().keys():\n",
      "    print  \"%s,\""
     ],
     "language": "python",
     "metadata": {},
     "outputs": [
      {
       "output_type": "stream",
       "stream": "stdout",
       "text": [
        "%s,\n",
        "%s,\n",
        "%s,\n",
        "%s,\n",
        "%s,\n",
        "%s,\n",
        "%s,\n",
        "%s,\n",
        "%s,\n",
        "%s,\n",
        "%s,\n",
        "%s,\n",
        "%s,\n",
        "%s,\n",
        "%s,\n",
        "%s,\n",
        "%s,\n",
        "%s,\n"
       ]
      }
     ],
     "prompt_number": 12
    },
    {
     "cell_type": "code",
     "collapsed": false,
     "input": [
      "get_data_from_table = '''\n",
      "select \n",
      "    countyid ,\n",
      "    ts ,\n",
      "    weather ,\n",
      "    current_temp ,\n",
      "    high ,\n",
      "    low ,\n",
      "    precipitation_am ,\n",
      "    precipitation_pm ,\n",
      "    dew_point ,\n",
      "    wind_gust ,\n",
      "    humidity_relh ,\n",
      "    slp ,\n",
      "    elevation ,\n",
      "    windchill ,\n",
      "    wind_degree ,\n",
      "    wind_speed ,\n",
      "    wind_direction\n",
      "from weather.{table} order by ts desc\n",
      "'''"
     ],
     "language": "python",
     "metadata": {},
     "outputs": [],
     "prompt_number": 25
    },
    {
     "cell_type": "code",
     "collapsed": false,
     "input": [
      "insert_into_cassandra = '''\n",
      "insert into weather (\n",
      "countyid ,\n",
      "    ts ,\n",
      "    weather ,\n",
      "    current_temp ,\n",
      "    high ,\n",
      "    low ,\n",
      "    precipitation_am ,\n",
      "    precipitation_pm ,\n",
      "    dew_point ,\n",
      "    wind_gust ,\n",
      "    humidity_relh ,\n",
      "    slp ,\n",
      "    elevation ,\n",
      "    windchill ,\n",
      "    wind_degree ,\n",
      "    wind_speed ,\n",
      "    wind_direction\n",
      "    )\n",
      "    \n",
      "values (\n",
      "\n",
      "%s,%s,%s,%s,%s,\n",
      "%s,%s,%s,%s,\n",
      "%s,%s,%s,%s,\n",
      "%s,%s,%s,%s\n",
      ")\n",
      "'''"
     ],
     "language": "python",
     "metadata": {},
     "outputs": [],
     "prompt_number": 26
    },
    {
     "cell_type": "code",
     "collapsed": false,
     "input": [],
     "language": "python",
     "metadata": {},
     "outputs": []
    }
   ],
   "metadata": {}
  }
 ]
}