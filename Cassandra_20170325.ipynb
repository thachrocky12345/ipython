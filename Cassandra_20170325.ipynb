{
 "metadata": {
  "name": "",
  "signature": "sha256:a8234203f143bcd8dbde04ed83ae4d2a50069f8b03c72746edb93e9db5a3fd9d"
 },
 "nbformat": 3,
 "nbformat_minor": 0,
 "worksheets": [
  {
   "cells": [
    {
     "cell_type": "code",
     "collapsed": false,
     "input": [
      "!git add -A\n"
     ],
     "language": "python",
     "metadata": {},
     "outputs": [],
     "prompt_number": 39
    },
    {
     "cell_type": "code",
     "collapsed": false,
     "input": [
      "!git commit -a -m \"adding cassandra script\""
     ],
     "language": "python",
     "metadata": {},
     "outputs": [
      {
       "output_type": "stream",
       "stream": "stdout",
       "text": [
        "[master d5bd8fc] adding cassandra script\r\n",
        " 7 files changed, 1678 insertions(+), 35 deletions(-)\r\n",
        " create mode 100644 .ipynb_checkpoints/Cassandra_20170325-Copy1-checkpoint.ipynb\r\n",
        " create mode 100644 .ipynb_checkpoints/Cassandra_test_packages-checkpoint.ipynb\r\n",
        " create mode 100644 Cassandra_20170325-Copy1.ipynb\r\n",
        " create mode 100644 Cassandra_test_packages.ipynb\r\n"
       ]
      }
     ],
     "prompt_number": 40
    },
    {
     "cell_type": "code",
     "collapsed": false,
     "input": [
      "!git push origin master"
     ],
     "language": "python",
     "metadata": {},
     "outputs": [
      {
       "output_type": "stream",
       "stream": "stdout",
       "text": [
        "Counting objects: 12, done.\r\n",
        "Delta compression using up to 8 threads.\r\n",
        "Compressing objects:   8% (1/12)   \r",
        "Compressing objects:  16% (2/12)   \r",
        "Compressing objects:  25% (3/12)   \r",
        "Compressing objects:  33% (4/12)   \r",
        "Compressing objects:  41% (5/12)   \r",
        "Compressing objects:  50% (6/12)   \r",
        "Compressing objects:  58% (7/12)   \r",
        "Compressing objects:  66% (8/12)   \r",
        "Compressing objects:  75% (9/12)   \r",
        "Compressing objects:  83% (10/12)   \r",
        "Compressing objects:  91% (11/12)   \r",
        "Compressing objects: 100% (12/12)   \r",
        "Compressing objects: 100% (12/12), done.\r\n",
        "Writing objects:   8% (1/12)   \r",
        "Writing objects:  16% (2/12)   \r",
        "Writing objects:  25% (3/12)   \r",
        "Writing objects:  33% (4/12)   \r",
        "Writing objects:  41% (5/12)   \r",
        "Writing objects:  50% (6/12)   \r",
        "Writing objects:  58% (7/12)   \r",
        "Writing objects:  66% (8/12)   \r",
        "Writing objects:  75% (9/12)   \r",
        "Writing objects:  83% (10/12)   \r",
        "Writing objects:  91% (11/12)   \r",
        "Writing objects: 100% (12/12)   \r",
        "Writing objects: 100% (12/12), 5.97 KiB | 0 bytes/s, done.\r\n",
        "Total 12 (delta 8), reused 0 (delta 0)\r\n"
       ]
      },
      {
       "output_type": "stream",
       "stream": "stdout",
       "text": [
        "remote: Resolving deltas:   0% (0/8)   \u001b[K\r",
        "remote: Resolving deltas:  25% (2/8)   \u001b[K\r",
        "remote: Resolving deltas:  50% (4/8)   \u001b[K\r",
        "remote: Resolving deltas:  62% (5/8)   \u001b[K\r",
        "remote: Resolving deltas:  87% (7/8)   \u001b[K\r",
        "remote: Resolving deltas: 100% (8/8)   \u001b[K\r",
        "remote: Resolving deltas: 100% (8/8), completed with 4 local objects.\u001b[K\r\n"
       ]
      },
      {
       "output_type": "stream",
       "stream": "stdout",
       "text": [
        "To github.com:thachrocky12345/ipython.git\r\n",
        "   632dbab..d5bd8fc  master -> master\r\n"
       ]
      }
     ],
     "prompt_number": 41
    },
    {
     "cell_type": "code",
     "collapsed": false,
     "input": [
      "from etl.pgdb import PgsqlExecutor\n",
      "from etl import cassdb"
     ],
     "language": "python",
     "metadata": {},
     "outputs": [],
     "prompt_number": 44
    },
    {
     "cell_type": "code",
     "collapsed": false,
     "input": [
      "weather_database =  dict(host='localhost',port=5432, database='decoded', user='thachbui', password='thach12345')\n",
      "db_w = PgsqlExecutor(weather_database)"
     ],
     "language": "python",
     "metadata": {},
     "outputs": [],
     "prompt_number": 45
    },
    {
     "cell_type": "code",
     "collapsed": false,
     "input": [
      "get_weather_tables = '''\n",
      "SELECT c.relname weather_table\n",
      "    FROM pg_catalog.pg_class c\n",
      "\tLEFT JOIN pg_catalog.pg_namespace n ON n.oid = c.relnamespace\n",
      "\tWHERE n.nspname = 'weather'\n",
      "\tAND c.relname like 'weather_2%' order by 1 desc\n",
      "'''"
     ],
     "language": "python",
     "metadata": {},
     "outputs": [],
     "prompt_number": 46
    },
    {
     "cell_type": "code",
     "collapsed": false,
     "input": [
      "weather_tables = db_w.fetch_all_rows(get_weather_tables).query_data"
     ],
     "language": "python",
     "metadata": {},
     "outputs": [],
     "prompt_number": 47
    },
    {
     "cell_type": "code",
     "collapsed": false,
     "input": [
      "for i in weather_tables[0:5]:\n",
      "    print i"
     ],
     "language": "python",
     "metadata": {},
     "outputs": [
      {
       "output_type": "stream",
       "stream": "stdout",
       "text": [
        "Record(weather_table='weather_20170213')\n",
        "Record(weather_table='weather_20170212')\n",
        "Record(weather_table='weather_20170211')\n",
        "Record(weather_table='weather_20170210')\n",
        "Record(weather_table='weather_20170209')\n"
       ]
      }
     ],
     "prompt_number": 48
    },
    {
     "cell_type": "markdown",
     "metadata": {},
     "source": [
      "# treaming data and insert"
     ]
    },
    {
     "cell_type": "code",
     "collapsed": false,
     "input": [
      "auth_provider = dict(username='thachbui',\n",
      "                     password='thach12345',\n",
      "                     hosts=['192.168.1.150', '192.168.1.221'],\n",
      "                     port=None,\n",
      "                     database='weather')"
     ],
     "language": "python",
     "metadata": {},
     "outputs": [],
     "prompt_number": 49
    },
    {
     "cell_type": "code",
     "collapsed": false,
     "input": [
      "db_cass = cassdb.CasExecutor(auth_provider)\n",
      "prepare = cassdb.Prepare(db_cass.cursor, insert_into_cassandra)"
     ],
     "language": "python",
     "metadata": {},
     "outputs": [],
     "prompt_number": 50
    },
    {
     "cell_type": "markdown",
     "metadata": {},
     "source": [
      "# async copy"
     ]
    },
    {
     "cell_type": "code",
     "collapsed": false,
     "input": [
      "import os\n",
      "from cassandra.cluster import Cluster\n",
      "from cassandra import ConsistencyLevel\n",
      "from cassandra.query import SimpleStatement\n",
      "from datetime import datetime\n",
      "for weather_table in weather_tables:\n",
      "    count = 0\n",
      "    weather_table =  weather_table.weather_table\n",
      "    if weather_table >= 'weather_20160914':\n",
      "#         print weather_table\n",
      "        continue\n",
      "    print weather_table\n",
      "    get_data_from_table = get_data_from_table.format(table=weather_table)\n",
      "#     print get_data_from_table\n",
      "    db_w = PgsqlExecutor(weather_database)\n",
      "    insert_data = db_w.streaming_cursor(get_data_from_table)\n",
      "    \n",
      "    start_time = datetime.now()\n",
      "    with db_cass.cursor as session:\n",
      "\n",
      "        for row in insert_data:\n",
      "#             print row\n",
      "            \n",
      "            query = SimpleStatement(insert_into_cassandra, \n",
      "                                    consistency_level=ConsistencyLevel.QUORUM)\n",
      "            session.execute_async(query, (row))\n",
      "    print \"Run time: {} - total rows: {} \".format(datetime.now() - start_time, count)\n",
      "    break"
     ],
     "language": "python",
     "metadata": {},
     "outputs": [
      {
       "output_type": "stream",
       "stream": "stdout",
       "text": [
        "weather_20160913\n",
        "Run time: 0:00:23.828645 - total rows: 0 "
       ]
      },
      {
       "output_type": "stream",
       "stream": "stdout",
       "text": [
        "\n"
       ]
      },
      {
       "output_type": "stream",
       "stream": "stderr",
       "text": [
        "WARNING:cassandra.connection:Heartbeat failed for connection (140671990971856) to 192.168.1.150\n"
       ]
      },
      {
       "output_type": "stream",
       "stream": "stderr",
       "text": [
        "WARNING:cassandra.connection:Heartbeat failed for connection (140672010743056) to 192.168.1.221\n"
       ]
      },
      {
       "output_type": "stream",
       "stream": "stderr",
       "text": [
        "WARNING:cassandra.connection:Heartbeat failed for connection (140671889106256) to 192.168.1.221\n"
       ]
      },
      {
       "output_type": "stream",
       "stream": "stderr",
       "text": [
        "WARNING:cassandra.pool:Failed reconnecting 192.168.1.221. Retrying.\n",
        "WARNING:cassandra.pool:Failed reconnecting 192.168.1.150. Retrying.\n"
       ]
      },
      {
       "output_type": "stream",
       "stream": "stderr",
       "text": [
        "WARNING:cassandra.cluster:[control connection] Error connecting to 192.168.1.221:\n",
        "Traceback (most recent call last):\n",
        "  File \"cassandra/cluster.py\", line 2644, in cassandra.cluster.ControlConnection._reconnect_internal (cassandra/cluster.c:48241)\n",
        "    return self._try_connect(host)\n",
        "  File \"cassandra/cluster.py\", line 2666, in cassandra.cluster.ControlConnection._try_connect (cassandra/cluster.c:48758)\n",
        "    connection = self._cluster.connection_factory(host.address, is_control_connection=True)\n",
        "  File \"cassandra/cluster.py\", line 1111, in cassandra.cluster.Cluster.connection_factory (cassandra/cluster.c:15205)\n",
        "    return self.connection_class.factory(address, self.connect_timeout, *args, **kwargs)\n",
        "  File \"cassandra/connection.py\", line 324, in cassandra.connection.Connection.factory (cassandra/connection.c:5508)\n",
        "    conn = cls(host, *args, **kwargs)\n",
        "  File \"/opt/sources/cassandra/io/asyncorereactor.py\", line 299, in __init__\n",
        "    self._connect_socket()\n",
        "  File \"cassandra/connection.py\", line 363, in cassandra.connection.Connection._connect_socket (cassandra/connection.c:6817)\n",
        "    raise socket.error(sockerr.errno, \"Tried connecting to %s. Last error: %s\" % ([a[4] for a in addresses], sockerr.strerror or sockerr))\n",
        "error: [Errno None] Tried connecting to [('192.168.1.221', 9042)]. Last error: timed out\n"
       ]
      },
      {
       "output_type": "stream",
       "stream": "stderr",
       "text": [
        "WARNING:cassandra.cluster:[control connection] Error connecting to 192.168.1.150:\n",
        "Traceback (most recent call last):\n",
        "  File \"cassandra/cluster.py\", line 2644, in cassandra.cluster.ControlConnection._reconnect_internal (cassandra/cluster.c:48241)\n",
        "    return self._try_connect(host)\n",
        "  File \"cassandra/cluster.py\", line 2666, in cassandra.cluster.ControlConnection._try_connect (cassandra/cluster.c:48758)\n",
        "    connection = self._cluster.connection_factory(host.address, is_control_connection=True)\n",
        "  File \"cassandra/cluster.py\", line 1111, in cassandra.cluster.Cluster.connection_factory (cassandra/cluster.c:15205)\n",
        "    return self.connection_class.factory(address, self.connect_timeout, *args, **kwargs)\n",
        "  File \"cassandra/connection.py\", line 324, in cassandra.connection.Connection.factory (cassandra/connection.c:5508)\n",
        "    conn = cls(host, *args, **kwargs)\n",
        "  File \"/opt/sources/cassandra/io/asyncorereactor.py\", line 299, in __init__\n",
        "    self._connect_socket()\n",
        "  File \"cassandra/connection.py\", line 363, in cassandra.connection.Connection._connect_socket (cassandra/connection.c:6817)\n",
        "    raise socket.error(sockerr.errno, \"Tried connecting to %s. Last error: %s\" % ([a[4] for a in addresses], sockerr.strerror or sockerr))\n",
        "error: [Errno None] Tried connecting to [('192.168.1.150', 9042)]. Last error: timed out\n"
       ]
      },
      {
       "output_type": "stream",
       "stream": "stderr",
       "text": [
        "WARNING:cassandra.cluster:[control connection] Error connecting to 192.168.1.221:\n",
        "Traceback (most recent call last):\n",
        "  File \"cassandra/cluster.py\", line 2644, in cassandra.cluster.ControlConnection._reconnect_internal (cassandra/cluster.c:48241)\n",
        "    return self._try_connect(host)\n",
        "  File \"cassandra/cluster.py\", line 2666, in cassandra.cluster.ControlConnection._try_connect (cassandra/cluster.c:48758)\n",
        "    connection = self._cluster.connection_factory(host.address, is_control_connection=True)\n",
        "  File \"cassandra/cluster.py\", line 1111, in cassandra.cluster.Cluster.connection_factory (cassandra/cluster.c:15205)\n",
        "    return self.connection_class.factory(address, self.connect_timeout, *args, **kwargs)\n",
        "  File \"cassandra/connection.py\", line 324, in cassandra.connection.Connection.factory (cassandra/connection.c:5508)\n",
        "    conn = cls(host, *args, **kwargs)\n",
        "  File \"/opt/sources/cassandra/io/asyncorereactor.py\", line 299, in __init__\n",
        "    self._connect_socket()\n",
        "  File \"cassandra/connection.py\", line 363, in cassandra.connection.Connection._connect_socket (cassandra/connection.c:6817)\n",
        "    raise socket.error(sockerr.errno, \"Tried connecting to %s. Last error: %s\" % ([a[4] for a in addresses], sockerr.strerror or sockerr))\n",
        "error: [Errno None] Tried connecting to [('192.168.1.221', 9042)]. Last error: timed out\n"
       ]
      },
      {
       "output_type": "stream",
       "stream": "stderr",
       "text": [
        "WARNING:cassandra.cluster:[control connection] Error connecting to 192.168.1.150:\n",
        "Traceback (most recent call last):\n",
        "  File \"cassandra/cluster.py\", line 2644, in cassandra.cluster.ControlConnection._reconnect_internal (cassandra/cluster.c:48241)\n",
        "    return self._try_connect(host)\n",
        "  File \"cassandra/cluster.py\", line 2666, in cassandra.cluster.ControlConnection._try_connect (cassandra/cluster.c:48758)\n",
        "    connection = self._cluster.connection_factory(host.address, is_control_connection=True)\n",
        "  File \"cassandra/cluster.py\", line 1111, in cassandra.cluster.Cluster.connection_factory (cassandra/cluster.c:15205)\n",
        "    return self.connection_class.factory(address, self.connect_timeout, *args, **kwargs)\n",
        "  File \"cassandra/connection.py\", line 324, in cassandra.connection.Connection.factory (cassandra/connection.c:5508)\n",
        "    conn = cls(host, *args, **kwargs)\n",
        "  File \"/opt/sources/cassandra/io/asyncorereactor.py\", line 299, in __init__\n",
        "    self._connect_socket()\n",
        "  File \"cassandra/connection.py\", line 363, in cassandra.connection.Connection._connect_socket (cassandra/connection.c:6817)\n",
        "    raise socket.error(sockerr.errno, \"Tried connecting to %s. Last error: %s\" % ([a[4] for a in addresses], sockerr.strerror or sockerr))\n",
        "error: [Errno None] Tried connecting to [('192.168.1.150', 9042)]. Last error: timed out\n"
       ]
      },
      {
       "output_type": "stream",
       "stream": "stderr",
       "text": [
        "WARNING:cassandra.pool:Failed reconnecting 192.168.1.221. Retrying.\n"
       ]
      },
      {
       "output_type": "stream",
       "stream": "stderr",
       "text": [
        "WARNING:cassandra.pool:Failed reconnecting 192.168.1.150. Retrying.\n"
       ]
      },
      {
       "output_type": "stream",
       "stream": "stderr",
       "text": [
        "WARNING:cassandra.cluster:[control connection] Error connecting to 192.168.1.150:\n",
        "Traceback (most recent call last):\n",
        "  File \"cassandra/cluster.py\", line 2644, in cassandra.cluster.ControlConnection._reconnect_internal (cassandra/cluster.c:48241)\n",
        "    return self._try_connect(host)\n",
        "  File \"cassandra/cluster.py\", line 2666, in cassandra.cluster.ControlConnection._try_connect (cassandra/cluster.c:48758)\n",
        "    connection = self._cluster.connection_factory(host.address, is_control_connection=True)\n",
        "  File \"cassandra/cluster.py\", line 1111, in cassandra.cluster.Cluster.connection_factory (cassandra/cluster.c:15205)\n",
        "    return self.connection_class.factory(address, self.connect_timeout, *args, **kwargs)\n",
        "  File \"cassandra/connection.py\", line 324, in cassandra.connection.Connection.factory (cassandra/connection.c:5508)\n",
        "    conn = cls(host, *args, **kwargs)\n",
        "  File \"/opt/sources/cassandra/io/asyncorereactor.py\", line 299, in __init__\n",
        "    self._connect_socket()\n",
        "  File \"cassandra/connection.py\", line 363, in cassandra.connection.Connection._connect_socket (cassandra/connection.c:6817)\n",
        "    raise socket.error(sockerr.errno, \"Tried connecting to %s. Last error: %s\" % ([a[4] for a in addresses], sockerr.strerror or sockerr))\n",
        "error: [Errno None] Tried connecting to [('192.168.1.150', 9042)]. Last error: timed out\n"
       ]
      },
      {
       "output_type": "stream",
       "stream": "stderr",
       "text": [
        "WARNING:cassandra.pool:Failed reconnecting 192.168.1.221. Retrying.\n"
       ]
      },
      {
       "output_type": "stream",
       "stream": "stderr",
       "text": [
        "WARNING:cassandra.cluster:[control connection] Error connecting to 192.168.1.221:\n",
        "Traceback (most recent call last):\n",
        "  File \"cassandra/cluster.py\", line 2644, in cassandra.cluster.ControlConnection._reconnect_internal (cassandra/cluster.c:48241)\n",
        "    return self._try_connect(host)\n",
        "  File \"cassandra/cluster.py\", line 2666, in cassandra.cluster.ControlConnection._try_connect (cassandra/cluster.c:48758)\n",
        "    connection = self._cluster.connection_factory(host.address, is_control_connection=True)\n",
        "  File \"cassandra/cluster.py\", line 1111, in cassandra.cluster.Cluster.connection_factory (cassandra/cluster.c:15205)\n",
        "    return self.connection_class.factory(address, self.connect_timeout, *args, **kwargs)\n",
        "  File \"cassandra/connection.py\", line 324, in cassandra.connection.Connection.factory (cassandra/connection.c:5508)\n",
        "    conn = cls(host, *args, **kwargs)\n",
        "  File \"/opt/sources/cassandra/io/asyncorereactor.py\", line 299, in __init__\n",
        "    self._connect_socket()\n",
        "  File \"cassandra/connection.py\", line 363, in cassandra.connection.Connection._connect_socket (cassandra/connection.c:6817)\n",
        "    raise socket.error(sockerr.errno, \"Tried connecting to %s. Last error: %s\" % ([a[4] for a in addresses], sockerr.strerror or sockerr))\n",
        "error: [Errno None] Tried connecting to [('192.168.1.221', 9042)]. Last error: timed out\n",
        "WARNING:cassandra.pool:Failed reconnecting 192.168.1.150. Retrying.\n"
       ]
      },
      {
       "output_type": "stream",
       "stream": "stderr",
       "text": [
        "WARNING:cassandra.cluster:[control connection] Error connecting to 192.168.1.221:\n",
        "Traceback (most recent call last):\n",
        "  File \"cassandra/cluster.py\", line 2644, in cassandra.cluster.ControlConnection._reconnect_internal (cassandra/cluster.c:48241)\n",
        "    return self._try_connect(host)\n",
        "  File \"cassandra/cluster.py\", line 2666, in cassandra.cluster.ControlConnection._try_connect (cassandra/cluster.c:48758)\n",
        "    connection = self._cluster.connection_factory(host.address, is_control_connection=True)\n",
        "  File \"cassandra/cluster.py\", line 1111, in cassandra.cluster.Cluster.connection_factory (cassandra/cluster.c:15205)\n",
        "    return self.connection_class.factory(address, self.connect_timeout, *args, **kwargs)\n",
        "  File \"cassandra/connection.py\", line 324, in cassandra.connection.Connection.factory (cassandra/connection.c:5508)\n",
        "    conn = cls(host, *args, **kwargs)\n",
        "  File \"/opt/sources/cassandra/io/asyncorereactor.py\", line 299, in __init__\n",
        "    self._connect_socket()\n",
        "  File \"cassandra/connection.py\", line 363, in cassandra.connection.Connection._connect_socket (cassandra/connection.c:6817)\n",
        "    raise socket.error(sockerr.errno, \"Tried connecting to %s. Last error: %s\" % ([a[4] for a in addresses], sockerr.strerror or sockerr))\n",
        "error: [Errno None] Tried connecting to [('192.168.1.221', 9042)]. Last error: timed out\n",
        "WARNING:cassandra.pool:Failed reconnecting 192.168.1.221. Retrying.\n"
       ]
      },
      {
       "output_type": "stream",
       "stream": "stderr",
       "text": [
        "WARNING:cassandra.pool:Failed reconnecting 192.168.1.150. Retrying.\n"
       ]
      },
      {
       "output_type": "stream",
       "stream": "stderr",
       "text": [
        "WARNING:cassandra.cluster:[control connection] Error connecting to 192.168.1.150:\n",
        "Traceback (most recent call last):\n",
        "  File \"cassandra/cluster.py\", line 2644, in cassandra.cluster.ControlConnection._reconnect_internal (cassandra/cluster.c:48241)\n",
        "    return self._try_connect(host)\n",
        "  File \"cassandra/cluster.py\", line 2666, in cassandra.cluster.ControlConnection._try_connect (cassandra/cluster.c:48758)\n",
        "    connection = self._cluster.connection_factory(host.address, is_control_connection=True)\n",
        "  File \"cassandra/cluster.py\", line 1111, in cassandra.cluster.Cluster.connection_factory (cassandra/cluster.c:15205)\n",
        "    return self.connection_class.factory(address, self.connect_timeout, *args, **kwargs)\n",
        "  File \"cassandra/connection.py\", line 324, in cassandra.connection.Connection.factory (cassandra/connection.c:5508)\n",
        "    conn = cls(host, *args, **kwargs)\n",
        "  File \"/opt/sources/cassandra/io/asyncorereactor.py\", line 299, in __init__\n",
        "    self._connect_socket()\n",
        "  File \"cassandra/connection.py\", line 363, in cassandra.connection.Connection._connect_socket (cassandra/connection.c:6817)\n",
        "    raise socket.error(sockerr.errno, \"Tried connecting to %s. Last error: %s\" % ([a[4] for a in addresses], sockerr.strerror or sockerr))\n",
        "error: [Errno None] Tried connecting to [('192.168.1.150', 9042)]. Last error: timed out\n"
       ]
      },
      {
       "output_type": "stream",
       "stream": "stderr",
       "text": [
        "WARNING:cassandra.pool:Failed reconnecting 192.168.1.221. Retrying.\n"
       ]
      },
      {
       "output_type": "stream",
       "stream": "stderr",
       "text": [
        "WARNING:cassandra.pool:Failed reconnecting 192.168.1.150. Retrying.\n"
       ]
      },
      {
       "output_type": "stream",
       "stream": "stderr",
       "text": [
        "WARNING:cassandra.cluster:[control connection] Error connecting to 192.168.1.150:\n",
        "Traceback (most recent call last):\n",
        "  File \"cassandra/cluster.py\", line 2644, in cassandra.cluster.ControlConnection._reconnect_internal (cassandra/cluster.c:48241)\n",
        "    return self._try_connect(host)\n",
        "  File \"cassandra/cluster.py\", line 2666, in cassandra.cluster.ControlConnection._try_connect (cassandra/cluster.c:48758)\n",
        "    connection = self._cluster.connection_factory(host.address, is_control_connection=True)\n",
        "  File \"cassandra/cluster.py\", line 1111, in cassandra.cluster.Cluster.connection_factory (cassandra/cluster.c:15205)\n",
        "    return self.connection_class.factory(address, self.connect_timeout, *args, **kwargs)\n",
        "  File \"cassandra/connection.py\", line 324, in cassandra.connection.Connection.factory (cassandra/connection.c:5508)\n",
        "    conn = cls(host, *args, **kwargs)\n",
        "  File \"/opt/sources/cassandra/io/asyncorereactor.py\", line 299, in __init__\n",
        "    self._connect_socket()\n",
        "  File \"cassandra/connection.py\", line 363, in cassandra.connection.Connection._connect_socket (cassandra/connection.c:6817)\n",
        "    raise socket.error(sockerr.errno, \"Tried connecting to %s. Last error: %s\" % ([a[4] for a in addresses], sockerr.strerror or sockerr))\n",
        "error: [Errno None] Tried connecting to [('192.168.1.150', 9042)]. Last error: timed out\n"
       ]
      },
      {
       "output_type": "stream",
       "stream": "stderr",
       "text": [
        "WARNING:cassandra.cluster:[control connection] Error connecting to 192.168.1.221:\n",
        "Traceback (most recent call last):\n",
        "  File \"cassandra/cluster.py\", line 2644, in cassandra.cluster.ControlConnection._reconnect_internal (cassandra/cluster.c:48241)\n",
        "    return self._try_connect(host)\n",
        "  File \"cassandra/cluster.py\", line 2666, in cassandra.cluster.ControlConnection._try_connect (cassandra/cluster.c:48758)\n",
        "    connection = self._cluster.connection_factory(host.address, is_control_connection=True)\n",
        "  File \"cassandra/cluster.py\", line 1111, in cassandra.cluster.Cluster.connection_factory (cassandra/cluster.c:15205)\n",
        "    return self.connection_class.factory(address, self.connect_timeout, *args, **kwargs)\n",
        "  File \"cassandra/connection.py\", line 324, in cassandra.connection.Connection.factory (cassandra/connection.c:5508)\n",
        "    conn = cls(host, *args, **kwargs)\n",
        "  File \"/opt/sources/cassandra/io/asyncorereactor.py\", line 299, in __init__\n",
        "    self._connect_socket()\n",
        "  File \"cassandra/connection.py\", line 363, in cassandra.connection.Connection._connect_socket (cassandra/connection.c:6817)\n",
        "    raise socket.error(sockerr.errno, \"Tried connecting to %s. Last error: %s\" % ([a[4] for a in addresses], sockerr.strerror or sockerr))\n",
        "error: [Errno 101] Tried connecting to [('192.168.1.221', 9042)]. Last error: Network is unreachable\n"
       ]
      },
      {
       "output_type": "stream",
       "stream": "stderr",
       "text": [
        "WARNING:cassandra.pool:Failed reconnecting 192.168.1.221. Retrying.\n"
       ]
      },
      {
       "output_type": "stream",
       "stream": "stderr",
       "text": [
        "WARNING:cassandra.pool:Failed reconnecting 192.168.1.150. Retrying.\n"
       ]
      },
      {
       "output_type": "stream",
       "stream": "stderr",
       "text": [
        "WARNING:cassandra.pool:Failed reconnecting 192.168.1.221. Retrying.\n"
       ]
      },
      {
       "output_type": "stream",
       "stream": "stderr",
       "text": [
        "WARNING:cassandra.cluster:[control connection] Error connecting to 192.168.1.221:\n",
        "Traceback (most recent call last):\n",
        "  File \"cassandra/cluster.py\", line 2644, in cassandra.cluster.ControlConnection._reconnect_internal (cassandra/cluster.c:48241)\n",
        "    return self._try_connect(host)\n",
        "  File \"cassandra/cluster.py\", line 2666, in cassandra.cluster.ControlConnection._try_connect (cassandra/cluster.c:48758)\n",
        "    connection = self._cluster.connection_factory(host.address, is_control_connection=True)\n",
        "  File \"cassandra/cluster.py\", line 1111, in cassandra.cluster.Cluster.connection_factory (cassandra/cluster.c:15205)\n",
        "    return self.connection_class.factory(address, self.connect_timeout, *args, **kwargs)\n",
        "  File \"cassandra/connection.py\", line 324, in cassandra.connection.Connection.factory (cassandra/connection.c:5508)\n",
        "    conn = cls(host, *args, **kwargs)\n",
        "  File \"/opt/sources/cassandra/io/asyncorereactor.py\", line 299, in __init__\n",
        "    self._connect_socket()\n",
        "  File \"cassandra/connection.py\", line 363, in cassandra.connection.Connection._connect_socket (cassandra/connection.c:6817)\n",
        "    raise socket.error(sockerr.errno, \"Tried connecting to %s. Last error: %s\" % ([a[4] for a in addresses], sockerr.strerror or sockerr))\n",
        "error: [Errno None] Tried connecting to [('192.168.1.221', 9042)]. Last error: timed out\n"
       ]
      },
      {
       "output_type": "stream",
       "stream": "stderr",
       "text": [
        "WARNING:cassandra.cluster:[control connection] Error connecting to 192.168.1.150:\n",
        "Traceback (most recent call last):\n",
        "  File \"cassandra/cluster.py\", line 2644, in cassandra.cluster.ControlConnection._reconnect_internal (cassandra/cluster.c:48241)\n",
        "    return self._try_connect(host)\n",
        "  File \"cassandra/cluster.py\", line 2666, in cassandra.cluster.ControlConnection._try_connect (cassandra/cluster.c:48758)\n",
        "    connection = self._cluster.connection_factory(host.address, is_control_connection=True)\n",
        "  File \"cassandra/cluster.py\", line 1111, in cassandra.cluster.Cluster.connection_factory (cassandra/cluster.c:15205)\n",
        "    return self.connection_class.factory(address, self.connect_timeout, *args, **kwargs)\n",
        "  File \"cassandra/connection.py\", line 324, in cassandra.connection.Connection.factory (cassandra/connection.c:5508)\n",
        "    conn = cls(host, *args, **kwargs)\n",
        "  File \"/opt/sources/cassandra/io/asyncorereactor.py\", line 299, in __init__\n",
        "    self._connect_socket()\n",
        "  File \"cassandra/connection.py\", line 363, in cassandra.connection.Connection._connect_socket (cassandra/connection.c:6817)\n",
        "    raise socket.error(sockerr.errno, \"Tried connecting to %s. Last error: %s\" % ([a[4] for a in addresses], sockerr.strerror or sockerr))\n",
        "error: [Errno 101] Tried connecting to [('192.168.1.150', 9042)]. Last error: Network is unreachable\n"
       ]
      },
      {
       "output_type": "stream",
       "stream": "stderr",
       "text": [
        "WARNING:cassandra.pool:Failed reconnecting 192.168.1.221. Retrying.\n"
       ]
      },
      {
       "output_type": "stream",
       "stream": "stderr",
       "text": [
        "WARNING:cassandra.pool:Failed reconnecting 192.168.1.150. Retrying.\n"
       ]
      },
      {
       "output_type": "stream",
       "stream": "stderr",
       "text": [
        "WARNING:cassandra.cluster:[control connection] Error connecting to 192.168.1.150:\n",
        "Traceback (most recent call last):\n",
        "  File \"cassandra/cluster.py\", line 2644, in cassandra.cluster.ControlConnection._reconnect_internal (cassandra/cluster.c:48241)\n",
        "    return self._try_connect(host)\n",
        "  File \"cassandra/cluster.py\", line 2666, in cassandra.cluster.ControlConnection._try_connect (cassandra/cluster.c:48758)\n",
        "    connection = self._cluster.connection_factory(host.address, is_control_connection=True)\n",
        "  File \"cassandra/cluster.py\", line 1111, in cassandra.cluster.Cluster.connection_factory (cassandra/cluster.c:15205)\n",
        "    return self.connection_class.factory(address, self.connect_timeout, *args, **kwargs)\n",
        "  File \"cassandra/connection.py\", line 324, in cassandra.connection.Connection.factory (cassandra/connection.c:5508)\n",
        "    conn = cls(host, *args, **kwargs)\n",
        "  File \"/opt/sources/cassandra/io/asyncorereactor.py\", line 299, in __init__\n",
        "    self._connect_socket()\n",
        "  File \"cassandra/connection.py\", line 363, in cassandra.connection.Connection._connect_socket (cassandra/connection.c:6817)\n",
        "    raise socket.error(sockerr.errno, \"Tried connecting to %s. Last error: %s\" % ([a[4] for a in addresses], sockerr.strerror or sockerr))\n",
        "error: [Errno 101] Tried connecting to [('192.168.1.150', 9042)]. Last error: Network is unreachable\n"
       ]
      },
      {
       "output_type": "stream",
       "stream": "stderr",
       "text": [
        "WARNING:cassandra.cluster:[control connection] Error connecting to 192.168.1.221:\n",
        "Traceback (most recent call last):\n",
        "  File \"cassandra/cluster.py\", line 2644, in cassandra.cluster.ControlConnection._reconnect_internal (cassandra/cluster.c:48241)\n",
        "    return self._try_connect(host)\n",
        "  File \"cassandra/cluster.py\", line 2666, in cassandra.cluster.ControlConnection._try_connect (cassandra/cluster.c:48758)\n",
        "    connection = self._cluster.connection_factory(host.address, is_control_connection=True)\n",
        "  File \"cassandra/cluster.py\", line 1111, in cassandra.cluster.Cluster.connection_factory (cassandra/cluster.c:15205)\n",
        "    return self.connection_class.factory(address, self.connect_timeout, *args, **kwargs)\n",
        "  File \"cassandra/connection.py\", line 324, in cassandra.connection.Connection.factory (cassandra/connection.c:5508)\n",
        "    conn = cls(host, *args, **kwargs)\n",
        "  File \"/opt/sources/cassandra/io/asyncorereactor.py\", line 299, in __init__\n",
        "    self._connect_socket()\n",
        "  File \"cassandra/connection.py\", line 363, in cassandra.connection.Connection._connect_socket (cassandra/connection.c:6817)\n",
        "    raise socket.error(sockerr.errno, \"Tried connecting to %s. Last error: %s\" % ([a[4] for a in addresses], sockerr.strerror or sockerr))\n",
        "error: [Errno 101] Tried connecting to [('192.168.1.221', 9042)]. Last error: Network is unreachable\n"
       ]
      },
      {
       "output_type": "stream",
       "stream": "stderr",
       "text": [
        "WARNING:cassandra.pool:Failed reconnecting 192.168.1.221. Retrying.\n"
       ]
      },
      {
       "output_type": "stream",
       "stream": "stderr",
       "text": [
        "WARNING:cassandra.pool:Failed reconnecting 192.168.1.221. Retrying.\n"
       ]
      },
      {
       "output_type": "stream",
       "stream": "stderr",
       "text": [
        "WARNING:cassandra.pool:Failed reconnecting 192.168.1.221. Retrying.\n"
       ]
      },
      {
       "output_type": "stream",
       "stream": "stderr",
       "text": [
        "WARNING:cassandra.pool:Failed reconnecting 192.168.1.221. Retrying.\n"
       ]
      },
      {
       "output_type": "stream",
       "stream": "stderr",
       "text": [
        "WARNING:cassandra.pool:Failed reconnecting 192.168.1.221. Retrying.\n"
       ]
      },
      {
       "output_type": "stream",
       "stream": "stderr",
       "text": [
        "WARNING:cassandra.pool:Failed reconnecting 192.168.1.221. Retrying.\n"
       ]
      },
      {
       "output_type": "stream",
       "stream": "stderr",
       "text": [
        "WARNING:cassandra.pool:Failed reconnecting 192.168.1.150. Retrying.\n"
       ]
      },
      {
       "output_type": "stream",
       "stream": "stderr",
       "text": [
        "WARNING:cassandra.cluster:[control connection] Error connecting to 192.168.1.221:\n",
        "Traceback (most recent call last):\n",
        "  File \"cassandra/cluster.py\", line 2644, in cassandra.cluster.ControlConnection._reconnect_internal (cassandra/cluster.c:48241)\n",
        "    return self._try_connect(host)\n",
        "  File \"cassandra/cluster.py\", line 2666, in cassandra.cluster.ControlConnection._try_connect (cassandra/cluster.c:48758)\n",
        "    connection = self._cluster.connection_factory(host.address, is_control_connection=True)\n",
        "  File \"cassandra/cluster.py\", line 1111, in cassandra.cluster.Cluster.connection_factory (cassandra/cluster.c:15205)\n",
        "    return self.connection_class.factory(address, self.connect_timeout, *args, **kwargs)\n",
        "  File \"cassandra/connection.py\", line 324, in cassandra.connection.Connection.factory (cassandra/connection.c:5508)\n",
        "    conn = cls(host, *args, **kwargs)\n",
        "  File \"/opt/sources/cassandra/io/asyncorereactor.py\", line 299, in __init__\n",
        "    self._connect_socket()\n",
        "  File \"cassandra/connection.py\", line 363, in cassandra.connection.Connection._connect_socket (cassandra/connection.c:6817)\n",
        "    raise socket.error(sockerr.errno, \"Tried connecting to %s. Last error: %s\" % ([a[4] for a in addresses], sockerr.strerror or sockerr))\n",
        "error: [Errno 101] Tried connecting to [('192.168.1.221', 9042)]. Last error: Network is unreachable\n"
       ]
      },
      {
       "output_type": "stream",
       "stream": "stderr",
       "text": [
        "WARNING:cassandra.cluster:[control connection] Error connecting to 192.168.1.150:\n",
        "Traceback (most recent call last):\n",
        "  File \"cassandra/cluster.py\", line 2644, in cassandra.cluster.ControlConnection._reconnect_internal (cassandra/cluster.c:48241)\n",
        "    return self._try_connect(host)\n",
        "  File \"cassandra/cluster.py\", line 2666, in cassandra.cluster.ControlConnection._try_connect (cassandra/cluster.c:48758)\n",
        "    connection = self._cluster.connection_factory(host.address, is_control_connection=True)\n",
        "  File \"cassandra/cluster.py\", line 1111, in cassandra.cluster.Cluster.connection_factory (cassandra/cluster.c:15205)\n",
        "    return self.connection_class.factory(address, self.connect_timeout, *args, **kwargs)\n",
        "  File \"cassandra/connection.py\", line 324, in cassandra.connection.Connection.factory (cassandra/connection.c:5508)\n",
        "    conn = cls(host, *args, **kwargs)\n",
        "  File \"/opt/sources/cassandra/io/asyncorereactor.py\", line 299, in __init__\n",
        "    self._connect_socket()\n",
        "  File \"cassandra/connection.py\", line 363, in cassandra.connection.Connection._connect_socket (cassandra/connection.c:6817)\n",
        "    raise socket.error(sockerr.errno, \"Tried connecting to %s. Last error: %s\" % ([a[4] for a in addresses], sockerr.strerror or sockerr))\n",
        "error: [Errno 101] Tried connecting to [('192.168.1.150', 9042)]. Last error: Network is unreachable\n"
       ]
      },
      {
       "output_type": "stream",
       "stream": "stderr",
       "text": [
        "WARNING:cassandra.pool:Failed reconnecting 192.168.1.221. Retrying.\n"
       ]
      },
      {
       "output_type": "stream",
       "stream": "stderr",
       "text": [
        "WARNING:cassandra.cluster:[control connection] Error connecting to 192.168.1.150:\n",
        "Traceback (most recent call last):\n",
        "  File \"cassandra/cluster.py\", line 2644, in cassandra.cluster.ControlConnection._reconnect_internal (cassandra/cluster.c:48241)\n",
        "    return self._try_connect(host)\n",
        "  File \"cassandra/cluster.py\", line 2666, in cassandra.cluster.ControlConnection._try_connect (cassandra/cluster.c:48758)\n",
        "    connection = self._cluster.connection_factory(host.address, is_control_connection=True)\n",
        "  File \"cassandra/cluster.py\", line 1111, in cassandra.cluster.Cluster.connection_factory (cassandra/cluster.c:15205)\n",
        "    return self.connection_class.factory(address, self.connect_timeout, *args, **kwargs)\n",
        "  File \"cassandra/connection.py\", line 324, in cassandra.connection.Connection.factory (cassandra/connection.c:5508)\n",
        "    conn = cls(host, *args, **kwargs)\n",
        "  File \"/opt/sources/cassandra/io/asyncorereactor.py\", line 299, in __init__\n",
        "    self._connect_socket()\n",
        "  File \"cassandra/connection.py\", line 363, in cassandra.connection.Connection._connect_socket (cassandra/connection.c:6817)\n",
        "    raise socket.error(sockerr.errno, \"Tried connecting to %s. Last error: %s\" % ([a[4] for a in addresses], sockerr.strerror or sockerr))\n",
        "error: [Errno 101] Tried connecting to [('192.168.1.150', 9042)]. Last error: Network is unreachable\n"
       ]
      },
      {
       "output_type": "stream",
       "stream": "stderr",
       "text": [
        "WARNING:cassandra.pool:Failed reconnecting 192.168.1.150. Retrying.\n"
       ]
      },
      {
       "output_type": "stream",
       "stream": "stderr",
       "text": [
        "WARNING:cassandra.pool:Failed reconnecting 192.168.1.221. Retrying.\n"
       ]
      },
      {
       "output_type": "stream",
       "stream": "stderr",
       "text": [
        "WARNING:cassandra.cluster:[control connection] Error connecting to 192.168.1.221:\n",
        "Traceback (most recent call last):\n",
        "  File \"cassandra/cluster.py\", line 2644, in cassandra.cluster.ControlConnection._reconnect_internal (cassandra/cluster.c:48241)\n",
        "    return self._try_connect(host)\n",
        "  File \"cassandra/cluster.py\", line 2666, in cassandra.cluster.ControlConnection._try_connect (cassandra/cluster.c:48758)\n",
        "    connection = self._cluster.connection_factory(host.address, is_control_connection=True)\n",
        "  File \"cassandra/cluster.py\", line 1111, in cassandra.cluster.Cluster.connection_factory (cassandra/cluster.c:15205)\n",
        "    return self.connection_class.factory(address, self.connect_timeout, *args, **kwargs)\n",
        "  File \"cassandra/connection.py\", line 324, in cassandra.connection.Connection.factory (cassandra/connection.c:5508)\n",
        "    conn = cls(host, *args, **kwargs)\n",
        "  File \"/opt/sources/cassandra/io/asyncorereactor.py\", line 299, in __init__\n",
        "    self._connect_socket()\n",
        "  File \"cassandra/connection.py\", line 363, in cassandra.connection.Connection._connect_socket (cassandra/connection.c:6817)\n",
        "    raise socket.error(sockerr.errno, \"Tried connecting to %s. Last error: %s\" % ([a[4] for a in addresses], sockerr.strerror or sockerr))\n",
        "error: [Errno None] Tried connecting to [('192.168.1.221', 9042)]. Last error: timed out\n"
       ]
      },
      {
       "output_type": "stream",
       "stream": "stderr",
       "text": [
        "WARNING:cassandra.pool:Failed reconnecting 192.168.1.221. Retrying.\n"
       ]
      },
      {
       "output_type": "stream",
       "stream": "stderr",
       "text": [
        "WARNING:cassandra.pool:Failed reconnecting 192.168.1.221. Retrying.\n"
       ]
      },
      {
       "output_type": "stream",
       "stream": "stderr",
       "text": [
        "WARNING:cassandra.cluster:[control connection] Error connecting to 192.168.1.221:\n",
        "Traceback (most recent call last):\n",
        "  File \"cassandra/cluster.py\", line 2644, in cassandra.cluster.ControlConnection._reconnect_internal (cassandra/cluster.c:48241)\n",
        "    return self._try_connect(host)\n",
        "  File \"cassandra/cluster.py\", line 2666, in cassandra.cluster.ControlConnection._try_connect (cassandra/cluster.c:48758)\n",
        "    connection = self._cluster.connection_factory(host.address, is_control_connection=True)\n",
        "  File \"cassandra/cluster.py\", line 1111, in cassandra.cluster.Cluster.connection_factory (cassandra/cluster.c:15205)\n",
        "    return self.connection_class.factory(address, self.connect_timeout, *args, **kwargs)\n",
        "  File \"cassandra/connection.py\", line 324, in cassandra.connection.Connection.factory (cassandra/connection.c:5508)\n",
        "    conn = cls(host, *args, **kwargs)\n",
        "  File \"/opt/sources/cassandra/io/asyncorereactor.py\", line 299, in __init__\n",
        "    self._connect_socket()\n",
        "  File \"cassandra/connection.py\", line 363, in cassandra.connection.Connection._connect_socket (cassandra/connection.c:6817)\n",
        "    raise socket.error(sockerr.errno, \"Tried connecting to %s. Last error: %s\" % ([a[4] for a in addresses], sockerr.strerror or sockerr))\n",
        "error: [Errno 101] Tried connecting to [('192.168.1.221', 9042)]. Last error: Network is unreachable\n"
       ]
      },
      {
       "output_type": "stream",
       "stream": "stderr",
       "text": [
        "WARNING:cassandra.pool:Failed reconnecting 192.168.1.150. Retrying.\n"
       ]
      },
      {
       "output_type": "stream",
       "stream": "stderr",
       "text": [
        "WARNING:cassandra.pool:Failed reconnecting 192.168.1.221. Retrying.\n"
       ]
      },
      {
       "output_type": "stream",
       "stream": "stderr",
       "text": [
        "WARNING:cassandra.cluster:[control connection] Error connecting to 192.168.1.150:\n",
        "Traceback (most recent call last):\n",
        "  File \"cassandra/cluster.py\", line 2644, in cassandra.cluster.ControlConnection._reconnect_internal (cassandra/cluster.c:48241)\n",
        "    return self._try_connect(host)\n",
        "  File \"cassandra/cluster.py\", line 2666, in cassandra.cluster.ControlConnection._try_connect (cassandra/cluster.c:48758)\n",
        "    connection = self._cluster.connection_factory(host.address, is_control_connection=True)\n",
        "  File \"cassandra/cluster.py\", line 1111, in cassandra.cluster.Cluster.connection_factory (cassandra/cluster.c:15205)\n",
        "    return self.connection_class.factory(address, self.connect_timeout, *args, **kwargs)\n",
        "  File \"cassandra/connection.py\", line 324, in cassandra.connection.Connection.factory (cassandra/connection.c:5508)\n",
        "    conn = cls(host, *args, **kwargs)\n",
        "  File \"/opt/sources/cassandra/io/asyncorereactor.py\", line 299, in __init__\n",
        "    self._connect_socket()\n",
        "  File \"cassandra/connection.py\", line 363, in cassandra.connection.Connection._connect_socket (cassandra/connection.c:6817)\n",
        "    raise socket.error(sockerr.errno, \"Tried connecting to %s. Last error: %s\" % ([a[4] for a in addresses], sockerr.strerror or sockerr))\n",
        "error: [Errno None] Tried connecting to [('192.168.1.150', 9042)]. Last error: timed out\n"
       ]
      },
      {
       "output_type": "stream",
       "stream": "stderr",
       "text": [
        "WARNING:cassandra.pool:Failed reconnecting 192.168.1.221. Retrying.\n"
       ]
      },
      {
       "output_type": "stream",
       "stream": "stderr",
       "text": [
        "WARNING:cassandra.pool:Failed reconnecting 192.168.1.221. Retrying.\n"
       ]
      },
      {
       "output_type": "stream",
       "stream": "stderr",
       "text": [
        "WARNING:cassandra.pool:Failed reconnecting 192.168.1.221. Retrying.\n"
       ]
      },
      {
       "output_type": "stream",
       "stream": "stderr",
       "text": [
        "WARNING:cassandra.pool:Failed reconnecting 192.168.1.221. Retrying.\n"
       ]
      },
      {
       "output_type": "stream",
       "stream": "stderr",
       "text": [
        "WARNING:cassandra.pool:Failed reconnecting 192.168.1.221. Retrying.\n"
       ]
      },
      {
       "output_type": "stream",
       "stream": "stderr",
       "text": [
        "WARNING:cassandra.pool:Failed reconnecting 192.168.1.221. Retrying.\n"
       ]
      },
      {
       "output_type": "stream",
       "stream": "stderr",
       "text": [
        "WARNING:cassandra.pool:Failed reconnecting 192.168.1.150. Retrying.\n"
       ]
      },
      {
       "output_type": "stream",
       "stream": "stderr",
       "text": [
        "WARNING:cassandra.pool:Failed reconnecting 192.168.1.221. Retrying.\n"
       ]
      },
      {
       "output_type": "stream",
       "stream": "stderr",
       "text": [
        "WARNING:cassandra.pool:Failed reconnecting 192.168.1.150. Retrying.\n"
       ]
      },
      {
       "output_type": "stream",
       "stream": "stderr",
       "text": [
        "WARNING:cassandra.cluster:[control connection] Error connecting to 192.168.1.150:\n",
        "Traceback (most recent call last):\n",
        "  File \"cassandra/cluster.py\", line 2644, in cassandra.cluster.ControlConnection._reconnect_internal (cassandra/cluster.c:48241)\n",
        "    return self._try_connect(host)\n",
        "  File \"cassandra/cluster.py\", line 2666, in cassandra.cluster.ControlConnection._try_connect (cassandra/cluster.c:48758)\n",
        "    connection = self._cluster.connection_factory(host.address, is_control_connection=True)\n",
        "  File \"cassandra/cluster.py\", line 1111, in cassandra.cluster.Cluster.connection_factory (cassandra/cluster.c:15205)\n",
        "    return self.connection_class.factory(address, self.connect_timeout, *args, **kwargs)\n",
        "  File \"cassandra/connection.py\", line 324, in cassandra.connection.Connection.factory (cassandra/connection.c:5508)\n",
        "    conn = cls(host, *args, **kwargs)\n",
        "  File \"/opt/sources/cassandra/io/asyncorereactor.py\", line 299, in __init__\n",
        "    self._connect_socket()\n",
        "  File \"cassandra/connection.py\", line 363, in cassandra.connection.Connection._connect_socket (cassandra/connection.c:6817)\n",
        "    raise socket.error(sockerr.errno, \"Tried connecting to %s. Last error: %s\" % ([a[4] for a in addresses], sockerr.strerror or sockerr))\n",
        "error: [Errno None] Tried connecting to [('192.168.1.150', 9042)]. Last error: timed out\n"
       ]
      },
      {
       "output_type": "stream",
       "stream": "stderr",
       "text": [
        "WARNING:cassandra.cluster:[control connection] Error connecting to 192.168.1.221:\n",
        "Traceback (most recent call last):\n",
        "  File \"cassandra/cluster.py\", line 2644, in cassandra.cluster.ControlConnection._reconnect_internal (cassandra/cluster.c:48241)\n",
        "    return self._try_connect(host)\n",
        "  File \"cassandra/cluster.py\", line 2666, in cassandra.cluster.ControlConnection._try_connect (cassandra/cluster.c:48758)\n",
        "    connection = self._cluster.connection_factory(host.address, is_control_connection=True)\n",
        "  File \"cassandra/cluster.py\", line 1111, in cassandra.cluster.Cluster.connection_factory (cassandra/cluster.c:15205)\n",
        "    return self.connection_class.factory(address, self.connect_timeout, *args, **kwargs)\n",
        "  File \"cassandra/connection.py\", line 324, in cassandra.connection.Connection.factory (cassandra/connection.c:5508)\n",
        "    conn = cls(host, *args, **kwargs)\n",
        "  File \"/opt/sources/cassandra/io/asyncorereactor.py\", line 299, in __init__\n",
        "    self._connect_socket()\n",
        "  File \"cassandra/connection.py\", line 363, in cassandra.connection.Connection._connect_socket (cassandra/connection.c:6817)\n",
        "    raise socket.error(sockerr.errno, \"Tried connecting to %s. Last error: %s\" % ([a[4] for a in addresses], sockerr.strerror or sockerr))\n",
        "error: [Errno 101] Tried connecting to [('192.168.1.221', 9042)]. Last error: Network is unreachable\n"
       ]
      },
      {
       "output_type": "stream",
       "stream": "stderr",
       "text": [
        "WARNING:cassandra.pool:Failed reconnecting 192.168.1.150. Retrying.\n"
       ]
      },
      {
       "output_type": "stream",
       "stream": "stderr",
       "text": [
        "WARNING:cassandra.pool:Failed reconnecting 192.168.1.150. Retrying.\n"
       ]
      },
      {
       "output_type": "stream",
       "stream": "stderr",
       "text": [
        "WARNING:cassandra.pool:Failed reconnecting 192.168.1.221. Retrying.\n"
       ]
      },
      {
       "output_type": "stream",
       "stream": "stderr",
       "text": [
        "WARNING:cassandra.pool:Failed reconnecting 192.168.1.221. Retrying.\n"
       ]
      },
      {
       "output_type": "stream",
       "stream": "stderr",
       "text": [
        "WARNING:cassandra.pool:Failed reconnecting 192.168.1.221. Retrying.\n"
       ]
      },
      {
       "output_type": "stream",
       "stream": "stderr",
       "text": [
        "WARNING:cassandra.pool:Failed reconnecting 192.168.1.150. Retrying.\n"
       ]
      },
      {
       "output_type": "stream",
       "stream": "stderr",
       "text": [
        "WARNING:cassandra.pool:Failed reconnecting 192.168.1.221. Retrying.\n"
       ]
      },
      {
       "output_type": "stream",
       "stream": "stderr",
       "text": [
        "WARNING:cassandra.pool:Failed reconnecting 192.168.1.150. Retrying.\n"
       ]
      },
      {
       "output_type": "stream",
       "stream": "stderr",
       "text": [
        "WARNING:cassandra.pool:Failed reconnecting 192.168.1.221. Retrying.\n"
       ]
      },
      {
       "output_type": "stream",
       "stream": "stderr",
       "text": [
        "WARNING:cassandra.cluster:[control connection] Error connecting to 192.168.1.221:\n",
        "Traceback (most recent call last):\n",
        "  File \"cassandra/cluster.py\", line 2644, in cassandra.cluster.ControlConnection._reconnect_internal (cassandra/cluster.c:48241)\n",
        "    return self._try_connect(host)\n",
        "  File \"cassandra/cluster.py\", line 2666, in cassandra.cluster.ControlConnection._try_connect (cassandra/cluster.c:48758)\n",
        "    connection = self._cluster.connection_factory(host.address, is_control_connection=True)\n",
        "  File \"cassandra/cluster.py\", line 1111, in cassandra.cluster.Cluster.connection_factory (cassandra/cluster.c:15205)\n",
        "    return self.connection_class.factory(address, self.connect_timeout, *args, **kwargs)\n",
        "  File \"cassandra/connection.py\", line 324, in cassandra.connection.Connection.factory (cassandra/connection.c:5508)\n",
        "    conn = cls(host, *args, **kwargs)\n",
        "  File \"/opt/sources/cassandra/io/asyncorereactor.py\", line 299, in __init__\n",
        "    self._connect_socket()\n",
        "  File \"cassandra/connection.py\", line 363, in cassandra.connection.Connection._connect_socket (cassandra/connection.c:6817)\n",
        "    raise socket.error(sockerr.errno, \"Tried connecting to %s. Last error: %s\" % ([a[4] for a in addresses], sockerr.strerror or sockerr))\n",
        "error: [Errno None] Tried connecting to [('192.168.1.221', 9042)]. Last error: timed out\n"
       ]
      },
      {
       "output_type": "stream",
       "stream": "stderr",
       "text": [
        "WARNING:cassandra.pool:Failed reconnecting 192.168.1.150. Retrying.\n"
       ]
      },
      {
       "output_type": "stream",
       "stream": "stderr",
       "text": [
        "WARNING:cassandra.cluster:[control connection] Error connecting to 192.168.1.150:\n",
        "Traceback (most recent call last):\n",
        "  File \"cassandra/cluster.py\", line 2644, in cassandra.cluster.ControlConnection._reconnect_internal (cassandra/cluster.c:48241)\n",
        "    return self._try_connect(host)\n",
        "  File \"cassandra/cluster.py\", line 2666, in cassandra.cluster.ControlConnection._try_connect (cassandra/cluster.c:48758)\n",
        "    connection = self._cluster.connection_factory(host.address, is_control_connection=True)\n",
        "  File \"cassandra/cluster.py\", line 1111, in cassandra.cluster.Cluster.connection_factory (cassandra/cluster.c:15205)\n",
        "    return self.connection_class.factory(address, self.connect_timeout, *args, **kwargs)\n",
        "  File \"cassandra/connection.py\", line 324, in cassandra.connection.Connection.factory (cassandra/connection.c:5508)\n",
        "    conn = cls(host, *args, **kwargs)\n",
        "  File \"/opt/sources/cassandra/io/asyncorereactor.py\", line 299, in __init__\n",
        "    self._connect_socket()\n",
        "  File \"cassandra/connection.py\", line 363, in cassandra.connection.Connection._connect_socket (cassandra/connection.c:6817)\n",
        "    raise socket.error(sockerr.errno, \"Tried connecting to %s. Last error: %s\" % ([a[4] for a in addresses], sockerr.strerror or sockerr))\n",
        "error: [Errno 101] Tried connecting to [('192.168.1.150', 9042)]. Last error: Network is unreachable\n"
       ]
      },
      {
       "output_type": "stream",
       "stream": "stderr",
       "text": [
        "WARNING:cassandra.cluster:[control connection] Error connecting to 192.168.1.221:\n",
        "Traceback (most recent call last):\n",
        "  File \"cassandra/cluster.py\", line 2644, in cassandra.cluster.ControlConnection._reconnect_internal (cassandra/cluster.c:48241)\n",
        "    return self._try_connect(host)\n",
        "  File \"cassandra/cluster.py\", line 2666, in cassandra.cluster.ControlConnection._try_connect (cassandra/cluster.c:48758)\n",
        "    connection = self._cluster.connection_factory(host.address, is_control_connection=True)\n",
        "  File \"cassandra/cluster.py\", line 1111, in cassandra.cluster.Cluster.connection_factory (cassandra/cluster.c:15205)\n",
        "    return self.connection_class.factory(address, self.connect_timeout, *args, **kwargs)\n",
        "  File \"cassandra/connection.py\", line 324, in cassandra.connection.Connection.factory (cassandra/connection.c:5508)\n",
        "    conn = cls(host, *args, **kwargs)\n",
        "  File \"/opt/sources/cassandra/io/asyncorereactor.py\", line 299, in __init__\n",
        "    self._connect_socket()\n",
        "  File \"cassandra/connection.py\", line 363, in cassandra.connection.Connection._connect_socket (cassandra/connection.c:6817)\n",
        "    raise socket.error(sockerr.errno, \"Tried connecting to %s. Last error: %s\" % ([a[4] for a in addresses], sockerr.strerror or sockerr))\n",
        "error: [Errno 101] Tried connecting to [('192.168.1.221', 9042)]. Last error: Network is unreachable\n"
       ]
      },
      {
       "output_type": "stream",
       "stream": "stderr",
       "text": [
        "WARNING:cassandra.pool:Failed reconnecting 192.168.1.221. Retrying.\n"
       ]
      },
      {
       "output_type": "stream",
       "stream": "stderr",
       "text": [
        "WARNING:cassandra.pool:Failed reconnecting 192.168.1.150. Retrying.\n"
       ]
      },
      {
       "output_type": "stream",
       "stream": "stderr",
       "text": [
        "WARNING:cassandra.pool:Failed reconnecting 192.168.1.221. Retrying.\n"
       ]
      },
      {
       "output_type": "stream",
       "stream": "stderr",
       "text": [
        "WARNING:cassandra.cluster:[control connection] Error connecting to 192.168.1.150:\n",
        "Traceback (most recent call last):\n",
        "  File \"cassandra/cluster.py\", line 2644, in cassandra.cluster.ControlConnection._reconnect_internal (cassandra/cluster.c:48241)\n",
        "    return self._try_connect(host)\n",
        "  File \"cassandra/cluster.py\", line 2666, in cassandra.cluster.ControlConnection._try_connect (cassandra/cluster.c:48758)\n",
        "    connection = self._cluster.connection_factory(host.address, is_control_connection=True)\n",
        "  File \"cassandra/cluster.py\", line 1111, in cassandra.cluster.Cluster.connection_factory (cassandra/cluster.c:15205)\n",
        "    return self.connection_class.factory(address, self.connect_timeout, *args, **kwargs)\n",
        "  File \"cassandra/connection.py\", line 324, in cassandra.connection.Connection.factory (cassandra/connection.c:5508)\n",
        "    conn = cls(host, *args, **kwargs)\n",
        "  File \"/opt/sources/cassandra/io/asyncorereactor.py\", line 299, in __init__\n",
        "    self._connect_socket()\n",
        "  File \"cassandra/connection.py\", line 363, in cassandra.connection.Connection._connect_socket (cassandra/connection.c:6817)\n",
        "    raise socket.error(sockerr.errno, \"Tried connecting to %s. Last error: %s\" % ([a[4] for a in addresses], sockerr.strerror or sockerr))\n",
        "error: [Errno None] Tried connecting to [('192.168.1.150', 9042)]. Last error: timed out\n"
       ]
      },
      {
       "output_type": "stream",
       "stream": "stderr",
       "text": [
        "WARNING:cassandra.cluster:[control connection] Error connecting to 192.168.1.221:\n",
        "Traceback (most recent call last):\n",
        "  File \"cassandra/cluster.py\", line 2644, in cassandra.cluster.ControlConnection._reconnect_internal (cassandra/cluster.c:48241)\n",
        "    return self._try_connect(host)\n",
        "  File \"cassandra/cluster.py\", line 2666, in cassandra.cluster.ControlConnection._try_connect (cassandra/cluster.c:48758)\n",
        "    connection = self._cluster.connection_factory(host.address, is_control_connection=True)\n",
        "  File \"cassandra/cluster.py\", line 1111, in cassandra.cluster.Cluster.connection_factory (cassandra/cluster.c:15205)\n",
        "    return self.connection_class.factory(address, self.connect_timeout, *args, **kwargs)\n",
        "  File \"cassandra/connection.py\", line 324, in cassandra.connection.Connection.factory (cassandra/connection.c:5508)\n",
        "    conn = cls(host, *args, **kwargs)\n",
        "  File \"/opt/sources/cassandra/io/asyncorereactor.py\", line 299, in __init__\n",
        "    self._connect_socket()\n",
        "  File \"cassandra/connection.py\", line 363, in cassandra.connection.Connection._connect_socket (cassandra/connection.c:6817)\n",
        "    raise socket.error(sockerr.errno, \"Tried connecting to %s. Last error: %s\" % ([a[4] for a in addresses], sockerr.strerror or sockerr))\n",
        "error: [Errno 101] Tried connecting to [('192.168.1.221', 9042)]. Last error: Network is unreachable\n"
       ]
      },
      {
       "output_type": "stream",
       "stream": "stderr",
       "text": [
        "WARNING:cassandra.cluster:[control connection] Error connecting to 192.168.1.150:\n",
        "Traceback (most recent call last):\n",
        "  File \"cassandra/cluster.py\", line 2644, in cassandra.cluster.ControlConnection._reconnect_internal (cassandra/cluster.c:48241)\n",
        "    return self._try_connect(host)\n",
        "  File \"cassandra/cluster.py\", line 2666, in cassandra.cluster.ControlConnection._try_connect (cassandra/cluster.c:48758)\n",
        "    connection = self._cluster.connection_factory(host.address, is_control_connection=True)\n",
        "  File \"cassandra/cluster.py\", line 1111, in cassandra.cluster.Cluster.connection_factory (cassandra/cluster.c:15205)\n",
        "    return self.connection_class.factory(address, self.connect_timeout, *args, **kwargs)\n",
        "  File \"cassandra/connection.py\", line 324, in cassandra.connection.Connection.factory (cassandra/connection.c:5508)\n",
        "    conn = cls(host, *args, **kwargs)\n",
        "  File \"/opt/sources/cassandra/io/asyncorereactor.py\", line 299, in __init__\n",
        "    self._connect_socket()\n",
        "  File \"cassandra/connection.py\", line 363, in cassandra.connection.Connection._connect_socket (cassandra/connection.c:6817)\n",
        "    raise socket.error(sockerr.errno, \"Tried connecting to %s. Last error: %s\" % ([a[4] for a in addresses], sockerr.strerror or sockerr))\n",
        "error: [Errno 101] Tried connecting to [('192.168.1.150', 9042)]. Last error: Network is unreachable\n"
       ]
      },
      {
       "output_type": "stream",
       "stream": "stderr",
       "text": [
        "WARNING:cassandra.pool:Failed reconnecting 192.168.1.150. Retrying.\n"
       ]
      },
      {
       "output_type": "stream",
       "stream": "stderr",
       "text": [
        "WARNING:cassandra.pool:Failed reconnecting 192.168.1.221. Retrying.\n"
       ]
      },
      {
       "output_type": "stream",
       "stream": "stderr",
       "text": [
        "WARNING:cassandra.pool:Failed reconnecting 192.168.1.150. Retrying.\n"
       ]
      },
      {
       "output_type": "stream",
       "stream": "stderr",
       "text": [
        "WARNING:cassandra.cluster:[control connection] Error connecting to 192.168.1.150:\n",
        "Traceback (most recent call last):\n",
        "  File \"cassandra/cluster.py\", line 2644, in cassandra.cluster.ControlConnection._reconnect_internal (cassandra/cluster.c:48241)\n",
        "    return self._try_connect(host)\n",
        "  File \"cassandra/cluster.py\", line 2666, in cassandra.cluster.ControlConnection._try_connect (cassandra/cluster.c:48758)\n",
        "    connection = self._cluster.connection_factory(host.address, is_control_connection=True)\n",
        "  File \"cassandra/cluster.py\", line 1111, in cassandra.cluster.Cluster.connection_factory (cassandra/cluster.c:15205)\n",
        "    return self.connection_class.factory(address, self.connect_timeout, *args, **kwargs)\n",
        "  File \"cassandra/connection.py\", line 324, in cassandra.connection.Connection.factory (cassandra/connection.c:5508)\n",
        "    conn = cls(host, *args, **kwargs)\n",
        "  File \"/opt/sources/cassandra/io/asyncorereactor.py\", line 299, in __init__\n",
        "    self._connect_socket()\n",
        "  File \"cassandra/connection.py\", line 363, in cassandra.connection.Connection._connect_socket (cassandra/connection.c:6817)\n",
        "    raise socket.error(sockerr.errno, \"Tried connecting to %s. Last error: %s\" % ([a[4] for a in addresses], sockerr.strerror or sockerr))\n",
        "error: [Errno None] Tried connecting to [('192.168.1.150', 9042)]. Last error: timed out\n"
       ]
      },
      {
       "output_type": "stream",
       "stream": "stderr",
       "text": [
        "WARNING:cassandra.cluster:[control connection] Error connecting to 192.168.1.221:\n",
        "Traceback (most recent call last):\n",
        "  File \"cassandra/cluster.py\", line 2644, in cassandra.cluster.ControlConnection._reconnect_internal (cassandra/cluster.c:48241)\n",
        "    return self._try_connect(host)\n",
        "  File \"cassandra/cluster.py\", line 2666, in cassandra.cluster.ControlConnection._try_connect (cassandra/cluster.c:48758)\n",
        "    connection = self._cluster.connection_factory(host.address, is_control_connection=True)\n",
        "  File \"cassandra/cluster.py\", line 1111, in cassandra.cluster.Cluster.connection_factory (cassandra/cluster.c:15205)\n",
        "    return self.connection_class.factory(address, self.connect_timeout, *args, **kwargs)\n",
        "  File \"cassandra/connection.py\", line 324, in cassandra.connection.Connection.factory (cassandra/connection.c:5508)\n",
        "    conn = cls(host, *args, **kwargs)\n",
        "  File \"/opt/sources/cassandra/io/asyncorereactor.py\", line 299, in __init__\n",
        "    self._connect_socket()\n",
        "  File \"cassandra/connection.py\", line 363, in cassandra.connection.Connection._connect_socket (cassandra/connection.c:6817)\n",
        "    raise socket.error(sockerr.errno, \"Tried connecting to %s. Last error: %s\" % ([a[4] for a in addresses], sockerr.strerror or sockerr))\n",
        "error: [Errno 101] Tried connecting to [('192.168.1.221', 9042)]. Last error: Network is unreachable\n"
       ]
      },
      {
       "output_type": "stream",
       "stream": "stderr",
       "text": [
        "WARNING:cassandra.pool:Failed reconnecting 192.168.1.150. Retrying.\n"
       ]
      },
      {
       "output_type": "stream",
       "stream": "stderr",
       "text": [
        "WARNING:cassandra.pool:Failed reconnecting 192.168.1.221. Retrying.\n"
       ]
      },
      {
       "output_type": "stream",
       "stream": "stderr",
       "text": [
        "WARNING:cassandra.pool:Failed reconnecting 192.168.1.150. Retrying.\n"
       ]
      },
      {
       "output_type": "stream",
       "stream": "stderr",
       "text": [
        "WARNING:cassandra.cluster:[control connection] Error connecting to 192.168.1.221:\n",
        "Traceback (most recent call last):\n",
        "  File \"cassandra/cluster.py\", line 2644, in cassandra.cluster.ControlConnection._reconnect_internal (cassandra/cluster.c:48241)\n",
        "    return self._try_connect(host)\n",
        "  File \"cassandra/cluster.py\", line 2666, in cassandra.cluster.ControlConnection._try_connect (cassandra/cluster.c:48758)\n",
        "    connection = self._cluster.connection_factory(host.address, is_control_connection=True)\n",
        "  File \"cassandra/cluster.py\", line 1111, in cassandra.cluster.Cluster.connection_factory (cassandra/cluster.c:15205)\n",
        "    return self.connection_class.factory(address, self.connect_timeout, *args, **kwargs)\n",
        "  File \"cassandra/connection.py\", line 324, in cassandra.connection.Connection.factory (cassandra/connection.c:5508)\n",
        "    conn = cls(host, *args, **kwargs)\n",
        "  File \"/opt/sources/cassandra/io/asyncorereactor.py\", line 299, in __init__\n",
        "    self._connect_socket()\n",
        "  File \"cassandra/connection.py\", line 363, in cassandra.connection.Connection._connect_socket (cassandra/connection.c:6817)\n",
        "    raise socket.error(sockerr.errno, \"Tried connecting to %s. Last error: %s\" % ([a[4] for a in addresses], sockerr.strerror or sockerr))\n",
        "error: [Errno 101] Tried connecting to [('192.168.1.221', 9042)]. Last error: Network is unreachable\n"
       ]
      },
      {
       "output_type": "stream",
       "stream": "stderr",
       "text": [
        "WARNING:cassandra.pool:Failed reconnecting 192.168.1.221. Retrying.\n"
       ]
      },
      {
       "output_type": "stream",
       "stream": "stderr",
       "text": [
        "WARNING:cassandra.pool:Failed reconnecting 192.168.1.150. Retrying.\n"
       ]
      },
      {
       "output_type": "stream",
       "stream": "stderr",
       "text": [
        "WARNING:cassandra.pool:Failed reconnecting 192.168.1.221. Retrying.\n"
       ]
      },
      {
       "output_type": "stream",
       "stream": "stderr",
       "text": [
        "WARNING:cassandra.cluster:[control connection] Error connecting to 192.168.1.150:\n",
        "Traceback (most recent call last):\n",
        "  File \"cassandra/cluster.py\", line 2644, in cassandra.cluster.ControlConnection._reconnect_internal (cassandra/cluster.c:48241)\n",
        "    return self._try_connect(host)\n",
        "  File \"cassandra/cluster.py\", line 2666, in cassandra.cluster.ControlConnection._try_connect (cassandra/cluster.c:48758)\n",
        "    connection = self._cluster.connection_factory(host.address, is_control_connection=True)\n",
        "  File \"cassandra/cluster.py\", line 1111, in cassandra.cluster.Cluster.connection_factory (cassandra/cluster.c:15205)\n",
        "    return self.connection_class.factory(address, self.connect_timeout, *args, **kwargs)\n",
        "  File \"cassandra/connection.py\", line 324, in cassandra.connection.Connection.factory (cassandra/connection.c:5508)\n",
        "    conn = cls(host, *args, **kwargs)\n",
        "  File \"/opt/sources/cassandra/io/asyncorereactor.py\", line 299, in __init__\n",
        "    self._connect_socket()\n",
        "  File \"cassandra/connection.py\", line 363, in cassandra.connection.Connection._connect_socket (cassandra/connection.c:6817)\n",
        "    raise socket.error(sockerr.errno, \"Tried connecting to %s. Last error: %s\" % ([a[4] for a in addresses], sockerr.strerror or sockerr))\n",
        "error: [Errno 101] Tried connecting to [('192.168.1.150', 9042)]. Last error: Network is unreachable\n"
       ]
      },
      {
       "output_type": "stream",
       "stream": "stderr",
       "text": [
        "WARNING:cassandra.pool:Failed reconnecting 192.168.1.150. Retrying.\n"
       ]
      },
      {
       "output_type": "stream",
       "stream": "stderr",
       "text": [
        "WARNING:cassandra.pool:Failed reconnecting 192.168.1.150. Retrying.\n"
       ]
      },
      {
       "output_type": "stream",
       "stream": "stderr",
       "text": [
        "WARNING:cassandra.pool:Failed reconnecting 192.168.1.150. Retrying.\n"
       ]
      },
      {
       "output_type": "stream",
       "stream": "stderr",
       "text": [
        "WARNING:cassandra.pool:Failed reconnecting 192.168.1.150. Retrying.\n"
       ]
      },
      {
       "output_type": "stream",
       "stream": "stderr",
       "text": [
        "WARNING:cassandra.pool:Failed reconnecting 192.168.1.150. Retrying.\n"
       ]
      },
      {
       "output_type": "stream",
       "stream": "stderr",
       "text": [
        "WARNING:cassandra.pool:Failed reconnecting 192.168.1.150. Retrying.\n"
       ]
      },
      {
       "output_type": "stream",
       "stream": "stderr",
       "text": [
        "WARNING:cassandra.pool:Failed reconnecting 192.168.1.150. Retrying.\n"
       ]
      },
      {
       "output_type": "stream",
       "stream": "stderr",
       "text": [
        "WARNING:cassandra.pool:Failed reconnecting 192.168.1.221. Retrying.\n"
       ]
      },
      {
       "output_type": "stream",
       "stream": "stderr",
       "text": [
        "WARNING:cassandra.pool:Failed reconnecting 192.168.1.150. Retrying.\n"
       ]
      },
      {
       "output_type": "stream",
       "stream": "stderr",
       "text": [
        "WARNING:cassandra.pool:Failed reconnecting 192.168.1.221. Retrying.\n"
       ]
      },
      {
       "output_type": "stream",
       "stream": "stderr",
       "text": [
        "WARNING:cassandra.cluster:[control connection] Error connecting to 192.168.1.150:\n",
        "Traceback (most recent call last):\n",
        "  File \"cassandra/cluster.py\", line 2644, in cassandra.cluster.ControlConnection._reconnect_internal (cassandra/cluster.c:48241)\n",
        "    return self._try_connect(host)\n",
        "  File \"cassandra/cluster.py\", line 2666, in cassandra.cluster.ControlConnection._try_connect (cassandra/cluster.c:48758)\n",
        "    connection = self._cluster.connection_factory(host.address, is_control_connection=True)\n",
        "  File \"cassandra/cluster.py\", line 1111, in cassandra.cluster.Cluster.connection_factory (cassandra/cluster.c:15205)\n",
        "    return self.connection_class.factory(address, self.connect_timeout, *args, **kwargs)\n",
        "  File \"cassandra/connection.py\", line 324, in cassandra.connection.Connection.factory (cassandra/connection.c:5508)\n",
        "    conn = cls(host, *args, **kwargs)\n",
        "  File \"/opt/sources/cassandra/io/asyncorereactor.py\", line 299, in __init__\n",
        "    self._connect_socket()\n",
        "  File \"cassandra/connection.py\", line 363, in cassandra.connection.Connection._connect_socket (cassandra/connection.c:6817)\n",
        "    raise socket.error(sockerr.errno, \"Tried connecting to %s. Last error: %s\" % ([a[4] for a in addresses], sockerr.strerror or sockerr))\n",
        "error: [Errno None] Tried connecting to [('192.168.1.150', 9042)]. Last error: timed out\n"
       ]
      },
      {
       "output_type": "stream",
       "stream": "stderr",
       "text": [
        "WARNING:cassandra.cluster:[control connection] Error connecting to 192.168.1.221:\n",
        "Traceback (most recent call last):\n",
        "  File \"cassandra/cluster.py\", line 2644, in cassandra.cluster.ControlConnection._reconnect_internal (cassandra/cluster.c:48241)\n",
        "    return self._try_connect(host)\n",
        "  File \"cassandra/cluster.py\", line 2666, in cassandra.cluster.ControlConnection._try_connect (cassandra/cluster.c:48758)\n",
        "    connection = self._cluster.connection_factory(host.address, is_control_connection=True)\n",
        "  File \"cassandra/cluster.py\", line 1111, in cassandra.cluster.Cluster.connection_factory (cassandra/cluster.c:15205)\n",
        "    return self.connection_class.factory(address, self.connect_timeout, *args, **kwargs)\n",
        "  File \"cassandra/connection.py\", line 324, in cassandra.connection.Connection.factory (cassandra/connection.c:5508)\n",
        "    conn = cls(host, *args, **kwargs)\n",
        "  File \"/opt/sources/cassandra/io/asyncorereactor.py\", line 299, in __init__\n",
        "    self._connect_socket()\n",
        "  File \"cassandra/connection.py\", line 363, in cassandra.connection.Connection._connect_socket (cassandra/connection.c:6817)\n",
        "    raise socket.error(sockerr.errno, \"Tried connecting to %s. Last error: %s\" % ([a[4] for a in addresses], sockerr.strerror or sockerr))\n",
        "error: [Errno 101] Tried connecting to [('192.168.1.221', 9042)]. Last error: Network is unreachable\n"
       ]
      },
      {
       "output_type": "stream",
       "stream": "stderr",
       "text": [
        "WARNING:cassandra.pool:Failed reconnecting 192.168.1.221. Retrying.\n"
       ]
      },
      {
       "output_type": "stream",
       "stream": "stderr",
       "text": [
        "WARNING:cassandra.pool:Failed reconnecting 192.168.1.150. Retrying.\n"
       ]
      },
      {
       "output_type": "stream",
       "stream": "stderr",
       "text": [
        "WARNING:cassandra.cluster:[control connection] Error connecting to 192.168.1.221:\n",
        "Traceback (most recent call last):\n",
        "  File \"cassandra/cluster.py\", line 2644, in cassandra.cluster.ControlConnection._reconnect_internal (cassandra/cluster.c:48241)\n",
        "    return self._try_connect(host)\n",
        "  File \"cassandra/cluster.py\", line 2666, in cassandra.cluster.ControlConnection._try_connect (cassandra/cluster.c:48758)\n",
        "    connection = self._cluster.connection_factory(host.address, is_control_connection=True)\n",
        "  File \"cassandra/cluster.py\", line 1111, in cassandra.cluster.Cluster.connection_factory (cassandra/cluster.c:15205)\n",
        "    return self.connection_class.factory(address, self.connect_timeout, *args, **kwargs)\n",
        "  File \"cassandra/connection.py\", line 324, in cassandra.connection.Connection.factory (cassandra/connection.c:5508)\n",
        "    conn = cls(host, *args, **kwargs)\n",
        "  File \"/opt/sources/cassandra/io/asyncorereactor.py\", line 299, in __init__\n",
        "    self._connect_socket()\n",
        "  File \"cassandra/connection.py\", line 363, in cassandra.connection.Connection._connect_socket (cassandra/connection.c:6817)\n",
        "    raise socket.error(sockerr.errno, \"Tried connecting to %s. Last error: %s\" % ([a[4] for a in addresses], sockerr.strerror or sockerr))\n",
        "error: [Errno None] Tried connecting to [('192.168.1.221', 9042)]. Last error: timed out\n"
       ]
      },
      {
       "output_type": "stream",
       "stream": "stderr",
       "text": [
        "WARNING:cassandra.cluster:[control connection] Error connecting to 192.168.1.150:\n",
        "Traceback (most recent call last):\n",
        "  File \"cassandra/cluster.py\", line 2644, in cassandra.cluster.ControlConnection._reconnect_internal (cassandra/cluster.c:48241)\n",
        "    return self._try_connect(host)\n",
        "  File \"cassandra/cluster.py\", line 2666, in cassandra.cluster.ControlConnection._try_connect (cassandra/cluster.c:48758)\n",
        "    connection = self._cluster.connection_factory(host.address, is_control_connection=True)\n",
        "  File \"cassandra/cluster.py\", line 1111, in cassandra.cluster.Cluster.connection_factory (cassandra/cluster.c:15205)\n",
        "    return self.connection_class.factory(address, self.connect_timeout, *args, **kwargs)\n",
        "  File \"cassandra/connection.py\", line 324, in cassandra.connection.Connection.factory (cassandra/connection.c:5508)\n",
        "    conn = cls(host, *args, **kwargs)\n",
        "  File \"/opt/sources/cassandra/io/asyncorereactor.py\", line 299, in __init__\n",
        "    self._connect_socket()\n",
        "  File \"cassandra/connection.py\", line 363, in cassandra.connection.Connection._connect_socket (cassandra/connection.c:6817)\n",
        "    raise socket.error(sockerr.errno, \"Tried connecting to %s. Last error: %s\" % ([a[4] for a in addresses], sockerr.strerror or sockerr))\n",
        "error: [Errno 101] Tried connecting to [('192.168.1.150', 9042)]. Last error: Network is unreachable\n"
       ]
      },
      {
       "output_type": "stream",
       "stream": "stderr",
       "text": [
        "WARNING:cassandra.pool:Failed reconnecting 192.168.1.221. Retrying.\n"
       ]
      },
      {
       "output_type": "stream",
       "stream": "stderr",
       "text": [
        "WARNING:cassandra.pool:Failed reconnecting 192.168.1.150. Retrying.\n"
       ]
      },
      {
       "output_type": "stream",
       "stream": "stderr",
       "text": [
        "WARNING:cassandra.pool:Failed reconnecting 192.168.1.221. Retrying.\n"
       ]
      },
      {
       "output_type": "stream",
       "stream": "stderr",
       "text": [
        "WARNING:cassandra.cluster:[control connection] Error connecting to 192.168.1.150:\n",
        "Traceback (most recent call last):\n",
        "  File \"cassandra/cluster.py\", line 2644, in cassandra.cluster.ControlConnection._reconnect_internal (cassandra/cluster.c:48241)\n",
        "    return self._try_connect(host)\n",
        "  File \"cassandra/cluster.py\", line 2666, in cassandra.cluster.ControlConnection._try_connect (cassandra/cluster.c:48758)\n",
        "    connection = self._cluster.connection_factory(host.address, is_control_connection=True)\n",
        "  File \"cassandra/cluster.py\", line 1111, in cassandra.cluster.Cluster.connection_factory (cassandra/cluster.c:15205)\n",
        "    return self.connection_class.factory(address, self.connect_timeout, *args, **kwargs)\n",
        "  File \"cassandra/connection.py\", line 324, in cassandra.connection.Connection.factory (cassandra/connection.c:5508)\n",
        "    conn = cls(host, *args, **kwargs)\n",
        "  File \"/opt/sources/cassandra/io/asyncorereactor.py\", line 299, in __init__\n",
        "    self._connect_socket()\n",
        "  File \"cassandra/connection.py\", line 363, in cassandra.connection.Connection._connect_socket (cassandra/connection.c:6817)\n",
        "    raise socket.error(sockerr.errno, \"Tried connecting to %s. Last error: %s\" % ([a[4] for a in addresses], sockerr.strerror or sockerr))\n",
        "error: [Errno None] Tried connecting to [('192.168.1.150', 9042)]. Last error: timed out\n"
       ]
      },
      {
       "output_type": "stream",
       "stream": "stderr",
       "text": [
        "WARNING:cassandra.cluster:[control connection] Error connecting to 192.168.1.221:\n",
        "Traceback (most recent call last):\n",
        "  File \"cassandra/cluster.py\", line 2644, in cassandra.cluster.ControlConnection._reconnect_internal (cassandra/cluster.c:48241)\n",
        "    return self._try_connect(host)\n",
        "  File \"cassandra/cluster.py\", line 2666, in cassandra.cluster.ControlConnection._try_connect (cassandra/cluster.c:48758)\n",
        "    connection = self._cluster.connection_factory(host.address, is_control_connection=True)\n",
        "  File \"cassandra/cluster.py\", line 1111, in cassandra.cluster.Cluster.connection_factory (cassandra/cluster.c:15205)\n",
        "    return self.connection_class.factory(address, self.connect_timeout, *args, **kwargs)\n",
        "  File \"cassandra/connection.py\", line 324, in cassandra.connection.Connection.factory (cassandra/connection.c:5508)\n",
        "    conn = cls(host, *args, **kwargs)\n",
        "  File \"/opt/sources/cassandra/io/asyncorereactor.py\", line 299, in __init__\n",
        "    self._connect_socket()\n",
        "  File \"cassandra/connection.py\", line 363, in cassandra.connection.Connection._connect_socket (cassandra/connection.c:6817)\n",
        "    raise socket.error(sockerr.errno, \"Tried connecting to %s. Last error: %s\" % ([a[4] for a in addresses], sockerr.strerror or sockerr))\n",
        "error: [Errno 101] Tried connecting to [('192.168.1.221', 9042)]. Last error: Network is unreachable\n"
       ]
      },
      {
       "output_type": "stream",
       "stream": "stderr",
       "text": [
        "WARNING:cassandra.pool:Failed reconnecting 192.168.1.150. Retrying.\n"
       ]
      },
      {
       "output_type": "stream",
       "stream": "stderr",
       "text": [
        "WARNING:cassandra.pool:Failed reconnecting 192.168.1.150. Retrying.\n"
       ]
      },
      {
       "output_type": "stream",
       "stream": "stderr",
       "text": [
        "WARNING:cassandra.pool:Failed reconnecting 192.168.1.221. Retrying.\n"
       ]
      },
      {
       "output_type": "stream",
       "stream": "stderr",
       "text": [
        "WARNING:cassandra.cluster:[control connection] Error connecting to 192.168.1.221:\n",
        "Traceback (most recent call last):\n",
        "  File \"cassandra/cluster.py\", line 2644, in cassandra.cluster.ControlConnection._reconnect_internal (cassandra/cluster.c:48241)\n",
        "    return self._try_connect(host)\n",
        "  File \"cassandra/cluster.py\", line 2666, in cassandra.cluster.ControlConnection._try_connect (cassandra/cluster.c:48758)\n",
        "    connection = self._cluster.connection_factory(host.address, is_control_connection=True)\n",
        "  File \"cassandra/cluster.py\", line 1111, in cassandra.cluster.Cluster.connection_factory (cassandra/cluster.c:15205)\n",
        "    return self.connection_class.factory(address, self.connect_timeout, *args, **kwargs)\n",
        "  File \"cassandra/connection.py\", line 324, in cassandra.connection.Connection.factory (cassandra/connection.c:5508)\n",
        "    conn = cls(host, *args, **kwargs)\n",
        "  File \"/opt/sources/cassandra/io/asyncorereactor.py\", line 299, in __init__\n",
        "    self._connect_socket()\n",
        "  File \"cassandra/connection.py\", line 363, in cassandra.connection.Connection._connect_socket (cassandra/connection.c:6817)\n",
        "    raise socket.error(sockerr.errno, \"Tried connecting to %s. Last error: %s\" % ([a[4] for a in addresses], sockerr.strerror or sockerr))\n",
        "error: [Errno None] Tried connecting to [('192.168.1.221', 9042)]. Last error: timed out\n"
       ]
      },
      {
       "output_type": "stream",
       "stream": "stderr",
       "text": [
        "WARNING:cassandra.pool:Failed reconnecting 192.168.1.150. Retrying.\n"
       ]
      },
      {
       "output_type": "stream",
       "stream": "stderr",
       "text": [
        "WARNING:cassandra.cluster:[control connection] Error connecting to 192.168.1.150:\n",
        "Traceback (most recent call last):\n",
        "  File \"cassandra/cluster.py\", line 2644, in cassandra.cluster.ControlConnection._reconnect_internal (cassandra/cluster.c:48241)\n",
        "    return self._try_connect(host)\n",
        "  File \"cassandra/cluster.py\", line 2666, in cassandra.cluster.ControlConnection._try_connect (cassandra/cluster.c:48758)\n",
        "    connection = self._cluster.connection_factory(host.address, is_control_connection=True)\n",
        "  File \"cassandra/cluster.py\", line 1111, in cassandra.cluster.Cluster.connection_factory (cassandra/cluster.c:15205)\n",
        "    return self.connection_class.factory(address, self.connect_timeout, *args, **kwargs)\n",
        "  File \"cassandra/connection.py\", line 324, in cassandra.connection.Connection.factory (cassandra/connection.c:5508)\n",
        "    conn = cls(host, *args, **kwargs)\n",
        "  File \"/opt/sources/cassandra/io/asyncorereactor.py\", line 299, in __init__\n",
        "    self._connect_socket()\n",
        "  File \"cassandra/connection.py\", line 363, in cassandra.connection.Connection._connect_socket (cassandra/connection.c:6817)\n",
        "    raise socket.error(sockerr.errno, \"Tried connecting to %s. Last error: %s\" % ([a[4] for a in addresses], sockerr.strerror or sockerr))\n",
        "error: [Errno None] Tried connecting to [('192.168.1.150', 9042)]. Last error: timed out\n"
       ]
      },
      {
       "output_type": "stream",
       "stream": "stderr",
       "text": [
        "WARNING:cassandra.pool:Failed reconnecting 192.168.1.150. Retrying.\n"
       ]
      },
      {
       "output_type": "stream",
       "stream": "stderr",
       "text": [
        "WARNING:cassandra.pool:Failed reconnecting 192.168.1.221. Retrying.\n"
       ]
      },
      {
       "output_type": "stream",
       "stream": "stderr",
       "text": [
        "WARNING:cassandra.pool:Failed reconnecting 192.168.1.150. Retrying.\n"
       ]
      },
      {
       "output_type": "stream",
       "stream": "stderr",
       "text": [
        "WARNING:cassandra.pool:Failed reconnecting 192.168.1.221. Retrying.\n"
       ]
      },
      {
       "output_type": "stream",
       "stream": "stderr",
       "text": [
        "WARNING:cassandra.pool:Failed reconnecting 192.168.1.150. Retrying.\n"
       ]
      },
      {
       "output_type": "stream",
       "stream": "stderr",
       "text": [
        "WARNING:cassandra.pool:Failed reconnecting 192.168.1.221. Retrying.\n"
       ]
      },
      {
       "output_type": "stream",
       "stream": "stderr",
       "text": [
        "WARNING:cassandra.pool:Failed reconnecting 192.168.1.150. Retrying.\n"
       ]
      },
      {
       "output_type": "stream",
       "stream": "stderr",
       "text": [
        "WARNING:cassandra.pool:Failed reconnecting 192.168.1.221. Retrying.\n"
       ]
      },
      {
       "output_type": "stream",
       "stream": "stderr",
       "text": [
        "WARNING:cassandra.pool:Failed reconnecting 192.168.1.150. Retrying.\n"
       ]
      },
      {
       "output_type": "stream",
       "stream": "stderr",
       "text": [
        "WARNING:cassandra.pool:Failed reconnecting 192.168.1.221. Retrying.\n"
       ]
      },
      {
       "output_type": "stream",
       "stream": "stderr",
       "text": [
        "WARNING:cassandra.cluster:[control connection] Error connecting to 192.168.1.150:\n",
        "Traceback (most recent call last):\n",
        "  File \"cassandra/cluster.py\", line 2644, in cassandra.cluster.ControlConnection._reconnect_internal (cassandra/cluster.c:48241)\n",
        "    return self._try_connect(host)\n",
        "  File \"cassandra/cluster.py\", line 2666, in cassandra.cluster.ControlConnection._try_connect (cassandra/cluster.c:48758)\n",
        "    connection = self._cluster.connection_factory(host.address, is_control_connection=True)\n",
        "  File \"cassandra/cluster.py\", line 1111, in cassandra.cluster.Cluster.connection_factory (cassandra/cluster.c:15205)\n",
        "    return self.connection_class.factory(address, self.connect_timeout, *args, **kwargs)\n",
        "  File \"cassandra/connection.py\", line 324, in cassandra.connection.Connection.factory (cassandra/connection.c:5508)\n",
        "    conn = cls(host, *args, **kwargs)\n",
        "  File \"/opt/sources/cassandra/io/asyncorereactor.py\", line 299, in __init__\n",
        "    self._connect_socket()\n",
        "  File \"cassandra/connection.py\", line 363, in cassandra.connection.Connection._connect_socket (cassandra/connection.c:6817)\n",
        "    raise socket.error(sockerr.errno, \"Tried connecting to %s. Last error: %s\" % ([a[4] for a in addresses], sockerr.strerror or sockerr))\n",
        "error: [Errno None] Tried connecting to [('192.168.1.150', 9042)]. Last error: timed out\n"
       ]
      },
      {
       "output_type": "stream",
       "stream": "stderr",
       "text": [
        "WARNING:cassandra.cluster:[control connection] Error connecting to 192.168.1.221:\n",
        "Traceback (most recent call last):\n",
        "  File \"cassandra/cluster.py\", line 2644, in cassandra.cluster.ControlConnection._reconnect_internal (cassandra/cluster.c:48241)\n",
        "    return self._try_connect(host)\n",
        "  File \"cassandra/cluster.py\", line 2666, in cassandra.cluster.ControlConnection._try_connect (cassandra/cluster.c:48758)\n",
        "    connection = self._cluster.connection_factory(host.address, is_control_connection=True)\n",
        "  File \"cassandra/cluster.py\", line 1111, in cassandra.cluster.Cluster.connection_factory (cassandra/cluster.c:15205)\n",
        "    return self.connection_class.factory(address, self.connect_timeout, *args, **kwargs)\n",
        "  File \"cassandra/connection.py\", line 324, in cassandra.connection.Connection.factory (cassandra/connection.c:5508)\n",
        "    conn = cls(host, *args, **kwargs)\n",
        "  File \"/opt/sources/cassandra/io/asyncorereactor.py\", line 299, in __init__\n",
        "    self._connect_socket()\n",
        "  File \"cassandra/connection.py\", line 363, in cassandra.connection.Connection._connect_socket (cassandra/connection.c:6817)\n",
        "    raise socket.error(sockerr.errno, \"Tried connecting to %s. Last error: %s\" % ([a[4] for a in addresses], sockerr.strerror or sockerr))\n",
        "error: [Errno 101] Tried connecting to [('192.168.1.221', 9042)]. Last error: Network is unreachable\n"
       ]
      },
      {
       "output_type": "stream",
       "stream": "stderr",
       "text": [
        "WARNING:cassandra.pool:Failed reconnecting 192.168.1.221. Retrying.\n"
       ]
      },
      {
       "output_type": "stream",
       "stream": "stderr",
       "text": [
        "WARNING:cassandra.cluster:[control connection] Error connecting to 192.168.1.221:\n",
        "Traceback (most recent call last):\n",
        "  File \"cassandra/cluster.py\", line 2644, in cassandra.cluster.ControlConnection._reconnect_internal (cassandra/cluster.c:48241)\n",
        "    return self._try_connect(host)\n",
        "  File \"cassandra/cluster.py\", line 2666, in cassandra.cluster.ControlConnection._try_connect (cassandra/cluster.c:48758)\n",
        "    connection = self._cluster.connection_factory(host.address, is_control_connection=True)\n",
        "  File \"cassandra/cluster.py\", line 1111, in cassandra.cluster.Cluster.connection_factory (cassandra/cluster.c:15205)\n",
        "    return self.connection_class.factory(address, self.connect_timeout, *args, **kwargs)\n",
        "  File \"cassandra/connection.py\", line 324, in cassandra.connection.Connection.factory (cassandra/connection.c:5508)\n",
        "    conn = cls(host, *args, **kwargs)\n",
        "  File \"/opt/sources/cassandra/io/asyncorereactor.py\", line 299, in __init__\n",
        "    self._connect_socket()\n",
        "  File \"cassandra/connection.py\", line 363, in cassandra.connection.Connection._connect_socket (cassandra/connection.c:6817)\n",
        "    raise socket.error(sockerr.errno, \"Tried connecting to %s. Last error: %s\" % ([a[4] for a in addresses], sockerr.strerror or sockerr))\n",
        "error: [Errno 101] Tried connecting to [('192.168.1.221', 9042)]. Last error: Network is unreachable\n"
       ]
      },
      {
       "output_type": "stream",
       "stream": "stderr",
       "text": [
        "WARNING:cassandra.pool:Failed reconnecting 192.168.1.150. Retrying.\n"
       ]
      },
      {
       "output_type": "stream",
       "stream": "stderr",
       "text": [
        "WARNING:cassandra.pool:Failed reconnecting 192.168.1.221. Retrying.\n"
       ]
      },
      {
       "output_type": "stream",
       "stream": "stderr",
       "text": [
        "WARNING:cassandra.cluster:[control connection] Error connecting to 192.168.1.150:\n",
        "Traceback (most recent call last):\n",
        "  File \"cassandra/cluster.py\", line 2644, in cassandra.cluster.ControlConnection._reconnect_internal (cassandra/cluster.c:48241)\n",
        "    return self._try_connect(host)\n",
        "  File \"cassandra/cluster.py\", line 2666, in cassandra.cluster.ControlConnection._try_connect (cassandra/cluster.c:48758)\n",
        "    connection = self._cluster.connection_factory(host.address, is_control_connection=True)\n",
        "  File \"cassandra/cluster.py\", line 1111, in cassandra.cluster.Cluster.connection_factory (cassandra/cluster.c:15205)\n",
        "    return self.connection_class.factory(address, self.connect_timeout, *args, **kwargs)\n",
        "  File \"cassandra/connection.py\", line 324, in cassandra.connection.Connection.factory (cassandra/connection.c:5508)\n",
        "    conn = cls(host, *args, **kwargs)\n",
        "  File \"/opt/sources/cassandra/io/asyncorereactor.py\", line 299, in __init__\n",
        "    self._connect_socket()\n",
        "  File \"cassandra/connection.py\", line 363, in cassandra.connection.Connection._connect_socket (cassandra/connection.c:6817)\n",
        "    raise socket.error(sockerr.errno, \"Tried connecting to %s. Last error: %s\" % ([a[4] for a in addresses], sockerr.strerror or sockerr))\n",
        "error: [Errno None] Tried connecting to [('192.168.1.150', 9042)]. Last error: timed out\n"
       ]
      },
      {
       "output_type": "stream",
       "stream": "stderr",
       "text": [
        "WARNING:cassandra.pool:Failed reconnecting 192.168.1.221. Retrying.\n"
       ]
      },
      {
       "output_type": "stream",
       "stream": "stderr",
       "text": [
        "WARNING:cassandra.pool:Failed reconnecting 192.168.1.150. Retrying.\n"
       ]
      },
      {
       "output_type": "stream",
       "stream": "stderr",
       "text": [
        "WARNING:cassandra.pool:Failed reconnecting 192.168.1.150. Retrying.\n"
       ]
      },
      {
       "output_type": "stream",
       "stream": "stderr",
       "text": [
        "WARNING:cassandra.pool:Failed reconnecting 192.168.1.221. Retrying.\n"
       ]
      },
      {
       "output_type": "stream",
       "stream": "stderr",
       "text": [
        "WARNING:cassandra.cluster:[control connection] Error connecting to 192.168.1.150:\n",
        "Traceback (most recent call last):\n",
        "  File \"cassandra/cluster.py\", line 2644, in cassandra.cluster.ControlConnection._reconnect_internal (cassandra/cluster.c:48241)\n",
        "    return self._try_connect(host)\n",
        "  File \"cassandra/cluster.py\", line 2666, in cassandra.cluster.ControlConnection._try_connect (cassandra/cluster.c:48758)\n",
        "    connection = self._cluster.connection_factory(host.address, is_control_connection=True)\n",
        "  File \"cassandra/cluster.py\", line 1111, in cassandra.cluster.Cluster.connection_factory (cassandra/cluster.c:15205)\n",
        "    return self.connection_class.factory(address, self.connect_timeout, *args, **kwargs)\n",
        "  File \"cassandra/connection.py\", line 324, in cassandra.connection.Connection.factory (cassandra/connection.c:5508)\n",
        "    conn = cls(host, *args, **kwargs)\n",
        "  File \"/opt/sources/cassandra/io/asyncorereactor.py\", line 299, in __init__\n",
        "    self._connect_socket()\n",
        "  File \"cassandra/connection.py\", line 363, in cassandra.connection.Connection._connect_socket (cassandra/connection.c:6817)\n",
        "    raise socket.error(sockerr.errno, \"Tried connecting to %s. Last error: %s\" % ([a[4] for a in addresses], sockerr.strerror or sockerr))\n",
        "error: [Errno 101] Tried connecting to [('192.168.1.150', 9042)]. Last error: Network is unreachable\n"
       ]
      },
      {
       "output_type": "stream",
       "stream": "stderr",
       "text": [
        "WARNING:cassandra.pool:Failed reconnecting 192.168.1.150. Retrying.\n"
       ]
      },
      {
       "output_type": "stream",
       "stream": "stderr",
       "text": [
        "WARNING:cassandra.pool:Failed reconnecting 192.168.1.221. Retrying.\n"
       ]
      },
      {
       "output_type": "stream",
       "stream": "stderr",
       "text": [
        "WARNING:cassandra.pool:Failed reconnecting 192.168.1.150. Retrying.\n"
       ]
      },
      {
       "output_type": "stream",
       "stream": "stderr",
       "text": [
        "WARNING:cassandra.pool:Failed reconnecting 192.168.1.221. Retrying.\n"
       ]
      },
      {
       "output_type": "stream",
       "stream": "stderr",
       "text": [
        "WARNING:cassandra.cluster:[control connection] Error connecting to 192.168.1.221:\n",
        "Traceback (most recent call last):\n",
        "  File \"cassandra/cluster.py\", line 2644, in cassandra.cluster.ControlConnection._reconnect_internal (cassandra/cluster.c:48241)\n",
        "    return self._try_connect(host)\n",
        "  File \"cassandra/cluster.py\", line 2666, in cassandra.cluster.ControlConnection._try_connect (cassandra/cluster.c:48758)\n",
        "    connection = self._cluster.connection_factory(host.address, is_control_connection=True)\n",
        "  File \"cassandra/cluster.py\", line 1111, in cassandra.cluster.Cluster.connection_factory (cassandra/cluster.c:15205)\n",
        "    return self.connection_class.factory(address, self.connect_timeout, *args, **kwargs)\n",
        "  File \"cassandra/connection.py\", line 324, in cassandra.connection.Connection.factory (cassandra/connection.c:5508)\n",
        "    conn = cls(host, *args, **kwargs)\n",
        "  File \"/opt/sources/cassandra/io/asyncorereactor.py\", line 299, in __init__\n",
        "    self._connect_socket()\n",
        "  File \"cassandra/connection.py\", line 363, in cassandra.connection.Connection._connect_socket (cassandra/connection.c:6817)\n",
        "    raise socket.error(sockerr.errno, \"Tried connecting to %s. Last error: %s\" % ([a[4] for a in addresses], sockerr.strerror or sockerr))\n",
        "error: [Errno None] Tried connecting to [('192.168.1.221', 9042)]. Last error: timed out\n"
       ]
      },
      {
       "output_type": "stream",
       "stream": "stderr",
       "text": [
        "WARNING:cassandra.pool:Failed reconnecting 192.168.1.221. Retrying.\n"
       ]
      },
      {
       "output_type": "stream",
       "stream": "stderr",
       "text": [
        "WARNING:cassandra.pool:Failed reconnecting 192.168.1.221. Retrying.\n"
       ]
      },
      {
       "output_type": "stream",
       "stream": "stderr",
       "text": [
        "WARNING:cassandra.pool:Failed reconnecting 192.168.1.221. Retrying.\n"
       ]
      },
      {
       "output_type": "stream",
       "stream": "stderr",
       "text": [
        "WARNING:cassandra.pool:Failed reconnecting 192.168.1.221. Retrying.\n"
       ]
      },
      {
       "output_type": "stream",
       "stream": "stderr",
       "text": [
        "WARNING:cassandra.pool:Failed reconnecting 192.168.1.221. Retrying.\n"
       ]
      },
      {
       "output_type": "stream",
       "stream": "stderr",
       "text": [
        "WARNING:cassandra.pool:Failed reconnecting 192.168.1.221. Retrying.\n"
       ]
      },
      {
       "output_type": "stream",
       "stream": "stderr",
       "text": [
        "WARNING:cassandra.pool:Failed reconnecting 192.168.1.150. Retrying.\n"
       ]
      },
      {
       "output_type": "stream",
       "stream": "stderr",
       "text": [
        "WARNING:cassandra.pool:Failed reconnecting 192.168.1.221. Retrying.\n"
       ]
      },
      {
       "output_type": "stream",
       "stream": "stderr",
       "text": [
        "WARNING:cassandra.pool:Failed reconnecting 192.168.1.221. Retrying.\n"
       ]
      },
      {
       "output_type": "stream",
       "stream": "stderr",
       "text": [
        "WARNING:cassandra.pool:Failed reconnecting 192.168.1.221. Retrying.\n"
       ]
      },
      {
       "output_type": "stream",
       "stream": "stderr",
       "text": [
        "WARNING:cassandra.cluster:[control connection] Error connecting to 192.168.1.221:\n",
        "Traceback (most recent call last):\n",
        "  File \"cassandra/cluster.py\", line 2644, in cassandra.cluster.ControlConnection._reconnect_internal (cassandra/cluster.c:48241)\n",
        "    return self._try_connect(host)\n",
        "  File \"cassandra/cluster.py\", line 2666, in cassandra.cluster.ControlConnection._try_connect (cassandra/cluster.c:48758)\n",
        "    connection = self._cluster.connection_factory(host.address, is_control_connection=True)\n",
        "  File \"cassandra/cluster.py\", line 1111, in cassandra.cluster.Cluster.connection_factory (cassandra/cluster.c:15205)\n",
        "    return self.connection_class.factory(address, self.connect_timeout, *args, **kwargs)\n",
        "  File \"cassandra/connection.py\", line 324, in cassandra.connection.Connection.factory (cassandra/connection.c:5508)\n",
        "    conn = cls(host, *args, **kwargs)\n",
        "  File \"/opt/sources/cassandra/io/asyncorereactor.py\", line 299, in __init__\n",
        "    self._connect_socket()\n",
        "  File \"cassandra/connection.py\", line 363, in cassandra.connection.Connection._connect_socket (cassandra/connection.c:6817)\n",
        "    raise socket.error(sockerr.errno, \"Tried connecting to %s. Last error: %s\" % ([a[4] for a in addresses], sockerr.strerror or sockerr))\n",
        "error: [Errno 101] Tried connecting to [('192.168.1.221', 9042)]. Last error: Network is unreachable\n"
       ]
      },
      {
       "output_type": "stream",
       "stream": "stderr",
       "text": [
        "WARNING:cassandra.pool:Failed reconnecting 192.168.1.150. Retrying.\n"
       ]
      },
      {
       "output_type": "stream",
       "stream": "stderr",
       "text": [
        "WARNING:cassandra.pool:Failed reconnecting 192.168.1.221. Retrying.\n"
       ]
      },
      {
       "output_type": "stream",
       "stream": "stderr",
       "text": [
        "WARNING:cassandra.cluster:[control connection] Error connecting to 192.168.1.150:\n",
        "Traceback (most recent call last):\n",
        "  File \"cassandra/cluster.py\", line 2644, in cassandra.cluster.ControlConnection._reconnect_internal (cassandra/cluster.c:48241)\n",
        "    return self._try_connect(host)\n",
        "  File \"cassandra/cluster.py\", line 2666, in cassandra.cluster.ControlConnection._try_connect (cassandra/cluster.c:48758)\n",
        "    connection = self._cluster.connection_factory(host.address, is_control_connection=True)\n",
        "  File \"cassandra/cluster.py\", line 1111, in cassandra.cluster.Cluster.connection_factory (cassandra/cluster.c:15205)\n",
        "    return self.connection_class.factory(address, self.connect_timeout, *args, **kwargs)\n",
        "  File \"cassandra/connection.py\", line 324, in cassandra.connection.Connection.factory (cassandra/connection.c:5508)\n",
        "    conn = cls(host, *args, **kwargs)\n",
        "  File \"/opt/sources/cassandra/io/asyncorereactor.py\", line 299, in __init__\n",
        "    self._connect_socket()\n",
        "  File \"cassandra/connection.py\", line 363, in cassandra.connection.Connection._connect_socket (cassandra/connection.c:6817)\n",
        "    raise socket.error(sockerr.errno, \"Tried connecting to %s. Last error: %s\" % ([a[4] for a in addresses], sockerr.strerror or sockerr))\n",
        "error: [Errno 101] Tried connecting to [('192.168.1.150', 9042)]. Last error: Network is unreachable\n"
       ]
      },
      {
       "output_type": "stream",
       "stream": "stderr",
       "text": [
        "WARNING:cassandra.cluster:[control connection] Error connecting to 192.168.1.221:\n",
        "Traceback (most recent call last):\n",
        "  File \"cassandra/cluster.py\", line 2644, in cassandra.cluster.ControlConnection._reconnect_internal (cassandra/cluster.c:48241)\n",
        "    return self._try_connect(host)\n",
        "  File \"cassandra/cluster.py\", line 2666, in cassandra.cluster.ControlConnection._try_connect (cassandra/cluster.c:48758)\n",
        "    connection = self._cluster.connection_factory(host.address, is_control_connection=True)\n",
        "  File \"cassandra/cluster.py\", line 1111, in cassandra.cluster.Cluster.connection_factory (cassandra/cluster.c:15205)\n",
        "    return self.connection_class.factory(address, self.connect_timeout, *args, **kwargs)\n",
        "  File \"cassandra/connection.py\", line 324, in cassandra.connection.Connection.factory (cassandra/connection.c:5508)\n",
        "    conn = cls(host, *args, **kwargs)\n",
        "  File \"/opt/sources/cassandra/io/asyncorereactor.py\", line 299, in __init__\n",
        "    self._connect_socket()\n",
        "  File \"cassandra/connection.py\", line 363, in cassandra.connection.Connection._connect_socket (cassandra/connection.c:6817)\n",
        "    raise socket.error(sockerr.errno, \"Tried connecting to %s. Last error: %s\" % ([a[4] for a in addresses], sockerr.strerror or sockerr))\n",
        "error: [Errno 101] Tried connecting to [('192.168.1.221', 9042)]. Last error: Network is unreachable\n"
       ]
      },
      {
       "output_type": "stream",
       "stream": "stderr",
       "text": [
        "WARNING:cassandra.pool:Failed reconnecting 192.168.1.150. Retrying.\n"
       ]
      },
      {
       "output_type": "stream",
       "stream": "stderr",
       "text": [
        "WARNING:cassandra.cluster:[control connection] Error connecting to 192.168.1.150:\n",
        "Traceback (most recent call last):\n",
        "  File \"cassandra/cluster.py\", line 2644, in cassandra.cluster.ControlConnection._reconnect_internal (cassandra/cluster.c:48241)\n",
        "    return self._try_connect(host)\n",
        "  File \"cassandra/cluster.py\", line 2666, in cassandra.cluster.ControlConnection._try_connect (cassandra/cluster.c:48758)\n",
        "    connection = self._cluster.connection_factory(host.address, is_control_connection=True)\n",
        "  File \"cassandra/cluster.py\", line 1111, in cassandra.cluster.Cluster.connection_factory (cassandra/cluster.c:15205)\n",
        "    return self.connection_class.factory(address, self.connect_timeout, *args, **kwargs)\n",
        "  File \"cassandra/connection.py\", line 324, in cassandra.connection.Connection.factory (cassandra/connection.c:5508)\n",
        "    conn = cls(host, *args, **kwargs)\n",
        "  File \"/opt/sources/cassandra/io/asyncorereactor.py\", line 299, in __init__\n",
        "    self._connect_socket()\n",
        "  File \"cassandra/connection.py\", line 363, in cassandra.connection.Connection._connect_socket (cassandra/connection.c:6817)\n",
        "    raise socket.error(sockerr.errno, \"Tried connecting to %s. Last error: %s\" % ([a[4] for a in addresses], sockerr.strerror or sockerr))\n",
        "error: [Errno None] Tried connecting to [('192.168.1.150', 9042)]. Last error: timed out\n"
       ]
      },
      {
       "output_type": "stream",
       "stream": "stderr",
       "text": [
        "WARNING:cassandra.cluster:[control connection] Error connecting to 192.168.1.221:\n",
        "Traceback (most recent call last):\n",
        "  File \"cassandra/cluster.py\", line 2644, in cassandra.cluster.ControlConnection._reconnect_internal (cassandra/cluster.c:48241)\n",
        "    return self._try_connect(host)\n",
        "  File \"cassandra/cluster.py\", line 2666, in cassandra.cluster.ControlConnection._try_connect (cassandra/cluster.c:48758)\n",
        "    connection = self._cluster.connection_factory(host.address, is_control_connection=True)\n",
        "  File \"cassandra/cluster.py\", line 1111, in cassandra.cluster.Cluster.connection_factory (cassandra/cluster.c:15205)\n",
        "    return self.connection_class.factory(address, self.connect_timeout, *args, **kwargs)\n",
        "  File \"cassandra/connection.py\", line 324, in cassandra.connection.Connection.factory (cassandra/connection.c:5508)\n",
        "    conn = cls(host, *args, **kwargs)\n",
        "  File \"/opt/sources/cassandra/io/asyncorereactor.py\", line 299, in __init__\n",
        "    self._connect_socket()\n",
        "  File \"cassandra/connection.py\", line 363, in cassandra.connection.Connection._connect_socket (cassandra/connection.c:6817)\n",
        "    raise socket.error(sockerr.errno, \"Tried connecting to %s. Last error: %s\" % ([a[4] for a in addresses], sockerr.strerror or sockerr))\n",
        "error: [Errno 101] Tried connecting to [('192.168.1.221', 9042)]. Last error: Network is unreachable\n"
       ]
      },
      {
       "output_type": "stream",
       "stream": "stderr",
       "text": [
        "WARNING:cassandra.cluster:[control connection] Error connecting to 192.168.1.150:\n",
        "Traceback (most recent call last):\n",
        "  File \"cassandra/cluster.py\", line 2644, in cassandra.cluster.ControlConnection._reconnect_internal (cassandra/cluster.c:48241)\n",
        "    return self._try_connect(host)\n",
        "  File \"cassandra/cluster.py\", line 2666, in cassandra.cluster.ControlConnection._try_connect (cassandra/cluster.c:48758)\n",
        "    connection = self._cluster.connection_factory(host.address, is_control_connection=True)\n",
        "  File \"cassandra/cluster.py\", line 1111, in cassandra.cluster.Cluster.connection_factory (cassandra/cluster.c:15205)\n",
        "    return self.connection_class.factory(address, self.connect_timeout, *args, **kwargs)\n",
        "  File \"cassandra/connection.py\", line 324, in cassandra.connection.Connection.factory (cassandra/connection.c:5508)\n",
        "    conn = cls(host, *args, **kwargs)\n",
        "  File \"/opt/sources/cassandra/io/asyncorereactor.py\", line 299, in __init__\n",
        "    self._connect_socket()\n",
        "  File \"cassandra/connection.py\", line 363, in cassandra.connection.Connection._connect_socket (cassandra/connection.c:6817)\n",
        "    raise socket.error(sockerr.errno, \"Tried connecting to %s. Last error: %s\" % ([a[4] for a in addresses], sockerr.strerror or sockerr))\n",
        "error: [Errno 101] Tried connecting to [('192.168.1.150', 9042)]. Last error: Network is unreachable\n"
       ]
      },
      {
       "output_type": "stream",
       "stream": "stderr",
       "text": [
        "WARNING:cassandra.pool:Failed reconnecting 192.168.1.150. Retrying.\n"
       ]
      },
      {
       "output_type": "stream",
       "stream": "stderr",
       "text": [
        "WARNING:cassandra.pool:Failed reconnecting 192.168.1.150. Retrying.\n"
       ]
      },
      {
       "output_type": "stream",
       "stream": "stderr",
       "text": [
        "WARNING:cassandra.pool:Failed reconnecting 192.168.1.221. Retrying.\n"
       ]
      },
      {
       "output_type": "stream",
       "stream": "stderr",
       "text": [
        "WARNING:cassandra.cluster:[control connection] Error connecting to 192.168.1.150:\n",
        "Traceback (most recent call last):\n",
        "  File \"cassandra/cluster.py\", line 2644, in cassandra.cluster.ControlConnection._reconnect_internal (cassandra/cluster.c:48241)\n",
        "    return self._try_connect(host)\n",
        "  File \"cassandra/cluster.py\", line 2666, in cassandra.cluster.ControlConnection._try_connect (cassandra/cluster.c:48758)\n",
        "    connection = self._cluster.connection_factory(host.address, is_control_connection=True)\n",
        "  File \"cassandra/cluster.py\", line 1111, in cassandra.cluster.Cluster.connection_factory (cassandra/cluster.c:15205)\n",
        "    return self.connection_class.factory(address, self.connect_timeout, *args, **kwargs)\n",
        "  File \"cassandra/connection.py\", line 324, in cassandra.connection.Connection.factory (cassandra/connection.c:5508)\n",
        "    conn = cls(host, *args, **kwargs)\n",
        "  File \"/opt/sources/cassandra/io/asyncorereactor.py\", line 299, in __init__\n",
        "    self._connect_socket()\n",
        "  File \"cassandra/connection.py\", line 363, in cassandra.connection.Connection._connect_socket (cassandra/connection.c:6817)\n",
        "    raise socket.error(sockerr.errno, \"Tried connecting to %s. Last error: %s\" % ([a[4] for a in addresses], sockerr.strerror or sockerr))\n",
        "error: [Errno 101] Tried connecting to [('192.168.1.150', 9042)]. Last error: Network is unreachable\n"
       ]
      },
      {
       "output_type": "stream",
       "stream": "stderr",
       "text": [
        "WARNING:cassandra.cluster:[control connection] Error connecting to 192.168.1.221:\n",
        "Traceback (most recent call last):\n",
        "  File \"cassandra/cluster.py\", line 2644, in cassandra.cluster.ControlConnection._reconnect_internal (cassandra/cluster.c:48241)\n",
        "    return self._try_connect(host)\n",
        "  File \"cassandra/cluster.py\", line 2666, in cassandra.cluster.ControlConnection._try_connect (cassandra/cluster.c:48758)\n",
        "    connection = self._cluster.connection_factory(host.address, is_control_connection=True)\n",
        "  File \"cassandra/cluster.py\", line 1111, in cassandra.cluster.Cluster.connection_factory (cassandra/cluster.c:15205)\n",
        "    return self.connection_class.factory(address, self.connect_timeout, *args, **kwargs)\n",
        "  File \"cassandra/connection.py\", line 324, in cassandra.connection.Connection.factory (cassandra/connection.c:5508)\n",
        "    conn = cls(host, *args, **kwargs)\n",
        "  File \"/opt/sources/cassandra/io/asyncorereactor.py\", line 299, in __init__\n",
        "    self._connect_socket()\n",
        "  File \"cassandra/connection.py\", line 363, in cassandra.connection.Connection._connect_socket (cassandra/connection.c:6817)\n",
        "    raise socket.error(sockerr.errno, \"Tried connecting to %s. Last error: %s\" % ([a[4] for a in addresses], sockerr.strerror or sockerr))\n",
        "error: [Errno 101] Tried connecting to [('192.168.1.221', 9042)]. Last error: Network is unreachable\n"
       ]
      },
      {
       "output_type": "stream",
       "stream": "stderr",
       "text": [
        "WARNING:cassandra.pool:Failed reconnecting 192.168.1.221. Retrying.\n"
       ]
      },
      {
       "output_type": "stream",
       "stream": "stderr",
       "text": [
        "WARNING:cassandra.pool:Failed reconnecting 192.168.1.221. Retrying.\n"
       ]
      },
      {
       "output_type": "stream",
       "stream": "stderr",
       "text": [
        "WARNING:cassandra.pool:Failed reconnecting 192.168.1.150. Retrying.\n"
       ]
      },
      {
       "output_type": "stream",
       "stream": "stderr",
       "text": [
        "WARNING:cassandra.pool:Failed reconnecting 192.168.1.150. Retrying.\n"
       ]
      },
      {
       "output_type": "stream",
       "stream": "stderr",
       "text": [
        "WARNING:cassandra.pool:Failed reconnecting 192.168.1.150. Retrying.\n"
       ]
      },
      {
       "output_type": "stream",
       "stream": "stderr",
       "text": [
        "WARNING:cassandra.pool:Failed reconnecting 192.168.1.150. Retrying.\n"
       ]
      },
      {
       "output_type": "stream",
       "stream": "stderr",
       "text": [
        "WARNING:cassandra.cluster:[control connection] Error connecting to 192.168.1.221:\n",
        "Traceback (most recent call last):\n",
        "  File \"cassandra/cluster.py\", line 2644, in cassandra.cluster.ControlConnection._reconnect_internal (cassandra/cluster.c:48241)\n",
        "    return self._try_connect(host)\n",
        "  File \"cassandra/cluster.py\", line 2666, in cassandra.cluster.ControlConnection._try_connect (cassandra/cluster.c:48758)\n",
        "    connection = self._cluster.connection_factory(host.address, is_control_connection=True)\n",
        "  File \"cassandra/cluster.py\", line 1111, in cassandra.cluster.Cluster.connection_factory (cassandra/cluster.c:15205)\n",
        "    return self.connection_class.factory(address, self.connect_timeout, *args, **kwargs)\n",
        "  File \"cassandra/connection.py\", line 324, in cassandra.connection.Connection.factory (cassandra/connection.c:5508)\n",
        "    conn = cls(host, *args, **kwargs)\n",
        "  File \"/opt/sources/cassandra/io/asyncorereactor.py\", line 299, in __init__\n",
        "    self._connect_socket()\n",
        "  File \"cassandra/connection.py\", line 363, in cassandra.connection.Connection._connect_socket (cassandra/connection.c:6817)\n",
        "    raise socket.error(sockerr.errno, \"Tried connecting to %s. Last error: %s\" % ([a[4] for a in addresses], sockerr.strerror or sockerr))\n",
        "error: [Errno 101] Tried connecting to [('192.168.1.221', 9042)]. Last error: Network is unreachable\n"
       ]
      },
      {
       "output_type": "stream",
       "stream": "stderr",
       "text": [
        "WARNING:cassandra.pool:Failed reconnecting 192.168.1.221. Retrying.\n"
       ]
      },
      {
       "output_type": "stream",
       "stream": "stderr",
       "text": [
        "WARNING:cassandra.pool:Failed reconnecting 192.168.1.150. Retrying.\n"
       ]
      },
      {
       "output_type": "stream",
       "stream": "stderr",
       "text": [
        "WARNING:cassandra.pool:Failed reconnecting 192.168.1.221. Retrying.\n"
       ]
      },
      {
       "output_type": "stream",
       "stream": "stderr",
       "text": [
        "WARNING:cassandra.pool:Failed reconnecting 192.168.1.150. Retrying.\n"
       ]
      },
      {
       "output_type": "stream",
       "stream": "stderr",
       "text": [
        "WARNING:cassandra.pool:Failed reconnecting 192.168.1.221. Retrying.\n"
       ]
      },
      {
       "output_type": "stream",
       "stream": "stderr",
       "text": [
        "WARNING:cassandra.pool:Failed reconnecting 192.168.1.150. Retrying.\n"
       ]
      },
      {
       "output_type": "stream",
       "stream": "stderr",
       "text": [
        "WARNING:cassandra.pool:Failed reconnecting 192.168.1.221. Retrying.\n"
       ]
      },
      {
       "output_type": "stream",
       "stream": "stderr",
       "text": [
        "WARNING:cassandra.pool:Failed reconnecting 192.168.1.150. Retrying.\n"
       ]
      },
      {
       "output_type": "stream",
       "stream": "stderr",
       "text": [
        "WARNING:cassandra.pool:Failed reconnecting 192.168.1.221. Retrying.\n"
       ]
      },
      {
       "output_type": "stream",
       "stream": "stderr",
       "text": [
        "WARNING:cassandra.pool:Failed reconnecting 192.168.1.150. Retrying.\n"
       ]
      },
      {
       "output_type": "stream",
       "stream": "stderr",
       "text": [
        "WARNING:cassandra.cluster:[control connection] Error connecting to 192.168.1.150:\n",
        "Traceback (most recent call last):\n",
        "  File \"cassandra/cluster.py\", line 2644, in cassandra.cluster.ControlConnection._reconnect_internal (cassandra/cluster.c:48241)\n",
        "    return self._try_connect(host)\n",
        "  File \"cassandra/cluster.py\", line 2666, in cassandra.cluster.ControlConnection._try_connect (cassandra/cluster.c:48758)\n",
        "    connection = self._cluster.connection_factory(host.address, is_control_connection=True)\n",
        "  File \"cassandra/cluster.py\", line 1111, in cassandra.cluster.Cluster.connection_factory (cassandra/cluster.c:15205)\n",
        "    return self.connection_class.factory(address, self.connect_timeout, *args, **kwargs)\n",
        "  File \"cassandra/connection.py\", line 324, in cassandra.connection.Connection.factory (cassandra/connection.c:5508)\n",
        "    conn = cls(host, *args, **kwargs)\n",
        "  File \"/opt/sources/cassandra/io/asyncorereactor.py\", line 299, in __init__\n",
        "    self._connect_socket()\n",
        "  File \"cassandra/connection.py\", line 363, in cassandra.connection.Connection._connect_socket (cassandra/connection.c:6817)\n",
        "    raise socket.error(sockerr.errno, \"Tried connecting to %s. Last error: %s\" % ([a[4] for a in addresses], sockerr.strerror or sockerr))\n",
        "error: [Errno None] Tried connecting to [('192.168.1.150', 9042)]. Last error: timed out\n"
       ]
      },
      {
       "output_type": "stream",
       "stream": "stderr",
       "text": [
        "WARNING:cassandra.pool:Failed reconnecting 192.168.1.150. Retrying.\n"
       ]
      },
      {
       "output_type": "stream",
       "stream": "stderr",
       "text": [
        "WARNING:cassandra.pool:Failed reconnecting 192.168.1.150. Retrying.\n"
       ]
      },
      {
       "output_type": "stream",
       "stream": "stderr",
       "text": [
        "WARNING:cassandra.pool:Failed reconnecting 192.168.1.150. Retrying.\n"
       ]
      },
      {
       "output_type": "stream",
       "stream": "stderr",
       "text": [
        "WARNING:cassandra.pool:Failed reconnecting 192.168.1.150. Retrying.\n"
       ]
      },
      {
       "output_type": "stream",
       "stream": "stderr",
       "text": [
        "WARNING:cassandra.pool:Failed reconnecting 192.168.1.221. Retrying.\n"
       ]
      },
      {
       "output_type": "stream",
       "stream": "stderr",
       "text": [
        "WARNING:cassandra.pool:Failed reconnecting 192.168.1.221. Retrying.\n"
       ]
      },
      {
       "output_type": "stream",
       "stream": "stderr",
       "text": [
        "WARNING:cassandra.pool:Failed reconnecting 192.168.1.221. Retrying.\n"
       ]
      },
      {
       "output_type": "stream",
       "stream": "stderr",
       "text": [
        "WARNING:cassandra.pool:Failed reconnecting 192.168.1.150. Retrying.\n"
       ]
      },
      {
       "output_type": "stream",
       "stream": "stderr",
       "text": [
        "WARNING:cassandra.pool:Failed reconnecting 192.168.1.221. Retrying.\n"
       ]
      },
      {
       "output_type": "stream",
       "stream": "stderr",
       "text": [
        "WARNING:cassandra.pool:Failed reconnecting 192.168.1.150. Retrying.\n"
       ]
      },
      {
       "output_type": "stream",
       "stream": "stderr",
       "text": [
        "WARNING:cassandra.cluster:[control connection] Error connecting to 192.168.1.150:\n",
        "Traceback (most recent call last):\n",
        "  File \"cassandra/cluster.py\", line 2644, in cassandra.cluster.ControlConnection._reconnect_internal (cassandra/cluster.c:48241)\n",
        "    return self._try_connect(host)\n",
        "  File \"cassandra/cluster.py\", line 2666, in cassandra.cluster.ControlConnection._try_connect (cassandra/cluster.c:48758)\n",
        "    connection = self._cluster.connection_factory(host.address, is_control_connection=True)\n",
        "  File \"cassandra/cluster.py\", line 1111, in cassandra.cluster.Cluster.connection_factory (cassandra/cluster.c:15205)\n",
        "    return self.connection_class.factory(address, self.connect_timeout, *args, **kwargs)\n",
        "  File \"cassandra/connection.py\", line 324, in cassandra.connection.Connection.factory (cassandra/connection.c:5508)\n",
        "    conn = cls(host, *args, **kwargs)\n",
        "  File \"/opt/sources/cassandra/io/asyncorereactor.py\", line 299, in __init__\n",
        "    self._connect_socket()\n",
        "  File \"cassandra/connection.py\", line 363, in cassandra.connection.Connection._connect_socket (cassandra/connection.c:6817)\n",
        "    raise socket.error(sockerr.errno, \"Tried connecting to %s. Last error: %s\" % ([a[4] for a in addresses], sockerr.strerror or sockerr))\n",
        "error: [Errno 113] Tried connecting to [('192.168.1.150', 9042)]. Last error: No route to host\n"
       ]
      },
      {
       "output_type": "stream",
       "stream": "stderr",
       "text": [
        "WARNING:cassandra.cluster:[control connection] Error connecting to 192.168.1.221:\n",
        "Traceback (most recent call last):\n",
        "  File \"cassandra/cluster.py\", line 2644, in cassandra.cluster.ControlConnection._reconnect_internal (cassandra/cluster.c:48241)\n",
        "    return self._try_connect(host)\n",
        "  File \"cassandra/cluster.py\", line 2666, in cassandra.cluster.ControlConnection._try_connect (cassandra/cluster.c:48758)\n",
        "    connection = self._cluster.connection_factory(host.address, is_control_connection=True)\n",
        "  File \"cassandra/cluster.py\", line 1111, in cassandra.cluster.Cluster.connection_factory (cassandra/cluster.c:15205)\n",
        "    return self.connection_class.factory(address, self.connect_timeout, *args, **kwargs)\n",
        "  File \"cassandra/connection.py\", line 324, in cassandra.connection.Connection.factory (cassandra/connection.c:5508)\n",
        "    conn = cls(host, *args, **kwargs)\n",
        "  File \"/opt/sources/cassandra/io/asyncorereactor.py\", line 299, in __init__\n",
        "    self._connect_socket()\n",
        "  File \"cassandra/connection.py\", line 363, in cassandra.connection.Connection._connect_socket (cassandra/connection.c:6817)\n",
        "    raise socket.error(sockerr.errno, \"Tried connecting to %s. Last error: %s\" % ([a[4] for a in addresses], sockerr.strerror or sockerr))\n",
        "error: [Errno None] Tried connecting to [('192.168.1.221', 9042)]. Last error: timed out\n"
       ]
      },
      {
       "output_type": "stream",
       "stream": "stderr",
       "text": [
        "WARNING:cassandra.cluster:[control connection] Error connecting to 192.168.1.221:\n",
        "Traceback (most recent call last):\n",
        "  File \"cassandra/cluster.py\", line 2644, in cassandra.cluster.ControlConnection._reconnect_internal (cassandra/cluster.c:48241)\n",
        "    return self._try_connect(host)\n",
        "  File \"cassandra/cluster.py\", line 2666, in cassandra.cluster.ControlConnection._try_connect (cassandra/cluster.c:48758)\n",
        "    connection = self._cluster.connection_factory(host.address, is_control_connection=True)\n",
        "  File \"cassandra/cluster.py\", line 1111, in cassandra.cluster.Cluster.connection_factory (cassandra/cluster.c:15205)\n",
        "    return self.connection_class.factory(address, self.connect_timeout, *args, **kwargs)\n",
        "  File \"cassandra/connection.py\", line 324, in cassandra.connection.Connection.factory (cassandra/connection.c:5508)\n",
        "    conn = cls(host, *args, **kwargs)\n",
        "  File \"/opt/sources/cassandra/io/asyncorereactor.py\", line 299, in __init__\n",
        "    self._connect_socket()\n",
        "  File \"cassandra/connection.py\", line 363, in cassandra.connection.Connection._connect_socket (cassandra/connection.c:6817)\n",
        "    raise socket.error(sockerr.errno, \"Tried connecting to %s. Last error: %s\" % ([a[4] for a in addresses], sockerr.strerror or sockerr))\n",
        "error: [Errno None] Tried connecting to [('192.168.1.221', 9042)]. Last error: timed out\n"
       ]
      },
      {
       "output_type": "stream",
       "stream": "stderr",
       "text": [
        "WARNING:cassandra.pool:Failed reconnecting 192.168.1.221. Retrying.\n"
       ]
      },
      {
       "output_type": "stream",
       "stream": "stderr",
       "text": [
        "WARNING:cassandra.cluster:[control connection] Error connecting to 192.168.1.150:\n",
        "Traceback (most recent call last):\n",
        "  File \"cassandra/cluster.py\", line 2644, in cassandra.cluster.ControlConnection._reconnect_internal (cassandra/cluster.c:48241)\n",
        "    return self._try_connect(host)\n",
        "  File \"cassandra/cluster.py\", line 2666, in cassandra.cluster.ControlConnection._try_connect (cassandra/cluster.c:48758)\n",
        "    connection = self._cluster.connection_factory(host.address, is_control_connection=True)\n",
        "  File \"cassandra/cluster.py\", line 1111, in cassandra.cluster.Cluster.connection_factory (cassandra/cluster.c:15205)\n",
        "    return self.connection_class.factory(address, self.connect_timeout, *args, **kwargs)\n",
        "  File \"cassandra/connection.py\", line 324, in cassandra.connection.Connection.factory (cassandra/connection.c:5508)\n",
        "    conn = cls(host, *args, **kwargs)\n",
        "  File \"/opt/sources/cassandra/io/asyncorereactor.py\", line 299, in __init__\n",
        "    self._connect_socket()\n",
        "  File \"cassandra/connection.py\", line 363, in cassandra.connection.Connection._connect_socket (cassandra/connection.c:6817)\n",
        "    raise socket.error(sockerr.errno, \"Tried connecting to %s. Last error: %s\" % ([a[4] for a in addresses], sockerr.strerror or sockerr))\n",
        "error: [Errno 113] Tried connecting to [('192.168.1.150', 9042)]. Last error: No route to host\n",
        "WARNING:cassandra.pool:Failed reconnecting 192.168.1.150. Retrying.\n"
       ]
      },
      {
       "output_type": "stream",
       "stream": "stderr",
       "text": [
        "WARNING:cassandra.pool:Failed reconnecting 192.168.1.221. Retrying.\n"
       ]
      },
      {
       "output_type": "stream",
       "stream": "stderr",
       "text": [
        "WARNING:cassandra.pool:Failed reconnecting 192.168.1.150. Retrying.\n",
        "WARNING:cassandra.cluster:[control connection] Error connecting to 192.168.1.150:\n",
        "Traceback (most recent call last):\n",
        "  File \"cassandra/cluster.py\", line 2644, in cassandra.cluster.ControlConnection._reconnect_internal (cassandra/cluster.c:48241)\n",
        "    return self._try_connect(host)\n",
        "  File \"cassandra/cluster.py\", line 2666, in cassandra.cluster.ControlConnection._try_connect (cassandra/cluster.c:48758)\n",
        "    connection = self._cluster.connection_factory(host.address, is_control_connection=True)\n",
        "  File \"cassandra/cluster.py\", line 1111, in cassandra.cluster.Cluster.connection_factory (cassandra/cluster.c:15205)\n",
        "    return self.connection_class.factory(address, self.connect_timeout, *args, **kwargs)\n",
        "  File \"cassandra/connection.py\", line 324, in cassandra.connection.Connection.factory (cassandra/connection.c:5508)\n",
        "    conn = cls(host, *args, **kwargs)\n",
        "  File \"/opt/sources/cassandra/io/asyncorereactor.py\", line 299, in __init__\n",
        "    self._connect_socket()\n",
        "  File \"cassandra/connection.py\", line 363, in cassandra.connection.Connection._connect_socket (cassandra/connection.c:6817)\n",
        "    raise socket.error(sockerr.errno, \"Tried connecting to %s. Last error: %s\" % ([a[4] for a in addresses], sockerr.strerror or sockerr))\n",
        "error: [Errno 113] Tried connecting to [('192.168.1.150', 9042)]. Last error: No route to host\n"
       ]
      },
      {
       "output_type": "stream",
       "stream": "stderr",
       "text": [
        "WARNING:cassandra.pool:Failed reconnecting 192.168.1.221. Retrying.\n"
       ]
      },
      {
       "output_type": "stream",
       "stream": "stderr",
       "text": [
        "WARNING:cassandra.cluster:[control connection] Error connecting to 192.168.1.221:\n",
        "Traceback (most recent call last):\n",
        "  File \"cassandra/cluster.py\", line 2644, in cassandra.cluster.ControlConnection._reconnect_internal (cassandra/cluster.c:48241)\n",
        "    return self._try_connect(host)\n",
        "  File \"cassandra/cluster.py\", line 2666, in cassandra.cluster.ControlConnection._try_connect (cassandra/cluster.c:48758)\n",
        "    connection = self._cluster.connection_factory(host.address, is_control_connection=True)\n",
        "  File \"cassandra/cluster.py\", line 1111, in cassandra.cluster.Cluster.connection_factory (cassandra/cluster.c:15205)\n",
        "    return self.connection_class.factory(address, self.connect_timeout, *args, **kwargs)\n",
        "  File \"cassandra/connection.py\", line 324, in cassandra.connection.Connection.factory (cassandra/connection.c:5508)\n",
        "    conn = cls(host, *args, **kwargs)\n",
        "  File \"/opt/sources/cassandra/io/asyncorereactor.py\", line 299, in __init__\n",
        "    self._connect_socket()\n",
        "  File \"cassandra/connection.py\", line 363, in cassandra.connection.Connection._connect_socket (cassandra/connection.c:6817)\n",
        "    raise socket.error(sockerr.errno, \"Tried connecting to %s. Last error: %s\" % ([a[4] for a in addresses], sockerr.strerror or sockerr))\n",
        "error: [Errno 113] Tried connecting to [('192.168.1.221', 9042)]. Last error: No route to host\n"
       ]
      },
      {
       "output_type": "stream",
       "stream": "stderr",
       "text": [
        "WARNING:cassandra.pool:Failed reconnecting 192.168.1.150. Retrying.\n"
       ]
      },
      {
       "output_type": "stream",
       "stream": "stderr",
       "text": [
        "WARNING:cassandra.pool:Failed reconnecting 192.168.1.221. Retrying.\n"
       ]
      },
      {
       "output_type": "stream",
       "stream": "stderr",
       "text": [
        "WARNING:cassandra.pool:Failed reconnecting 192.168.1.150. Retrying.\n"
       ]
      }
     ],
     "prompt_number": 63
    },
    {
     "cell_type": "code",
     "collapsed": false,
     "input": [],
     "language": "python",
     "metadata": {},
     "outputs": []
    },
    {
     "cell_type": "markdown",
     "metadata": {},
     "source": [
      "# prepare"
     ]
    },
    {
     "cell_type": "code",
     "collapsed": false,
     "input": [
      "from datetime import datetime\n",
      "for weather_table in weather_tables:\n",
      "    count = 0\n",
      "    weather_table =  weather_table.weather_table\n",
      "    if weather_table >= 'weather_20160914':\n",
      "#         print weather_table\n",
      "        continue\n",
      "    print weather_table\n",
      "    get_data_from_table = get_data_from_table.format(table=weather_table)\n",
      "#     print get_data_from_table\n",
      "    db_w = PgsqlExecutor(weather_database)\n",
      "    insert_data = db_w.streaming_cursor(get_data_from_table)\n",
      "    \n",
      "    start_time = datetime.now()\n",
      "    with db_cass.cursor as cursor:\n",
      "        prepare = cassdb.Prepare(cursor, insert_into_cassandra)\n",
      "        for row in insert_data:\n",
      "            count += 1\n",
      "            prepare.insert_row(row)\n",
      "    \n",
      "    print \"Run time: {} - total rows: {} \".format(datetime.now() - start_time, count)\n",
      "    "
     ],
     "language": "python",
     "metadata": {},
     "outputs": [
      {
       "output_type": "stream",
       "stream": "stdout",
       "text": [
        "weather_20160913\n",
        "Run time: 0:06:36.276978 - total rows: 130665 "
       ]
      },
      {
       "output_type": "stream",
       "stream": "stdout",
       "text": [
        "\n",
        "weather_20160912\n",
        "Run time: 0:06:32.076293 - total rows: 130665 "
       ]
      },
      {
       "output_type": "stream",
       "stream": "stdout",
       "text": [
        "\n",
        "weather_20160911\n",
        "Run time: 0:06:32.752101 - total rows: 130665 "
       ]
      },
      {
       "output_type": "stream",
       "stream": "stdout",
       "text": [
        "\n",
        "weather_20160910\n",
        "Run time: 0:07:29.450110 - total rows: 130665 "
       ]
      },
      {
       "output_type": "stream",
       "stream": "stdout",
       "text": [
        "\n",
        "weather_20160909\n",
        "Run time: 0:08:24.252497 - total rows: 130665 "
       ]
      },
      {
       "output_type": "stream",
       "stream": "stdout",
       "text": [
        "\n",
        "weather_20160908\n",
        "Run time: 0:08:35.691313 - total rows: 130665 "
       ]
      },
      {
       "output_type": "stream",
       "stream": "stdout",
       "text": [
        "\n",
        "weather_20160907\n",
        "Run time: 0:08:31.967288 - total rows: 130665 "
       ]
      },
      {
       "output_type": "stream",
       "stream": "stdout",
       "text": [
        "\n",
        "weather_20160906\n",
        "Run time: 0:09:15.947149 - total rows: 130665 "
       ]
      },
      {
       "output_type": "stream",
       "stream": "stdout",
       "text": [
        "\n",
        "weather_20160905\n",
        "Run time: 0:08:04.758787 - total rows: 130665 "
       ]
      },
      {
       "output_type": "stream",
       "stream": "stdout",
       "text": [
        "\n",
        "weather_20160904\n",
        "Run time: 0:07:50.071144 - total rows: 130665 "
       ]
      },
      {
       "output_type": "stream",
       "stream": "stdout",
       "text": [
        "\n",
        "weather_20160903\n",
        "Run time: 0:06:58.780157 - total rows: 130665 "
       ]
      },
      {
       "output_type": "stream",
       "stream": "stdout",
       "text": [
        "\n",
        "weather_20160902\n",
        "Run time: 0:06:25.359443 - total rows: 130665 "
       ]
      },
      {
       "output_type": "stream",
       "stream": "stdout",
       "text": [
        "\n",
        "weather_20160901\n",
        "Run time: 0:06:32.951321 - total rows: 130665 "
       ]
      },
      {
       "output_type": "stream",
       "stream": "stdout",
       "text": [
        "\n",
        "weather_20160831\n",
        "Run time: 0:06:27.235911 - total rows: 130665 "
       ]
      },
      {
       "output_type": "stream",
       "stream": "stdout",
       "text": [
        "\n",
        "weather_20160830\n",
        "Run time: 0:06:26.851645 - total rows: 130665 "
       ]
      },
      {
       "output_type": "stream",
       "stream": "stdout",
       "text": [
        "\n",
        "weather_20160829\n",
        "Run time: 0:06:28.105287 - total rows: 130665 "
       ]
      },
      {
       "output_type": "stream",
       "stream": "stdout",
       "text": [
        "\n",
        "weather_20160828\n"
       ]
      },
      {
       "output_type": "stream",
       "stream": "stderr",
       "text": [
        "ERROR:cassandra.connection:Failed connection heartbeat\n",
        "Traceback (most recent call last):\n",
        "  File \"cassandra/connection.py\", line 990, in cassandra.connection.ConnectionHeartbeat.run (cassandra/connection.c:23133)\n",
        "    owner.return_connection(connection)\n",
        "  File \"cassandra/pool.py\", line 371, in cassandra.pool.HostConnection.return_connection (cassandra/pool.c:7719)\n",
        "    is_down = self._session.cluster.signal_connection_failure(\n",
        "ReferenceError: weakly-referenced object no longer exists\n"
       ]
      },
      {
       "ename": "KeyboardInterrupt",
       "evalue": "",
       "output_type": "pyerr",
       "traceback": [
        "\u001b[1;31m---------------------------------------------------------------------------\u001b[0m\n\u001b[1;31mKeyboardInterrupt\u001b[0m                         Traceback (most recent call last)",
        "\u001b[1;32m<ipython-input-38-9a34d3206673>\u001b[0m in \u001b[0;36m<module>\u001b[1;34m()\u001b[0m\n\u001b[0;32m     17\u001b[0m         \u001b[1;32mfor\u001b[0m \u001b[0mrow\u001b[0m \u001b[1;32min\u001b[0m \u001b[0minsert_data\u001b[0m\u001b[1;33m:\u001b[0m\u001b[1;33m\u001b[0m\u001b[0m\n\u001b[0;32m     18\u001b[0m             \u001b[0mcount\u001b[0m \u001b[1;33m+=\u001b[0m \u001b[1;36m1\u001b[0m\u001b[1;33m\u001b[0m\u001b[0m\n\u001b[1;32m---> 19\u001b[1;33m             \u001b[0mprepare\u001b[0m\u001b[1;33m.\u001b[0m\u001b[0minsert_row\u001b[0m\u001b[1;33m(\u001b[0m\u001b[0mrow\u001b[0m\u001b[1;33m)\u001b[0m\u001b[1;33m\u001b[0m\u001b[0m\n\u001b[0m\u001b[0;32m     20\u001b[0m \u001b[1;33m\u001b[0m\u001b[0m\n\u001b[0;32m     21\u001b[0m     \u001b[1;32mprint\u001b[0m \u001b[1;34m\"Run time: {} - total rows: {} \"\u001b[0m\u001b[1;33m.\u001b[0m\u001b[0mformat\u001b[0m\u001b[1;33m(\u001b[0m\u001b[0mdatetime\u001b[0m\u001b[1;33m.\u001b[0m\u001b[0mnow\u001b[0m\u001b[1;33m(\u001b[0m\u001b[1;33m)\u001b[0m \u001b[1;33m-\u001b[0m \u001b[0mstart_time\u001b[0m\u001b[1;33m,\u001b[0m \u001b[0mcount\u001b[0m\u001b[1;33m)\u001b[0m\u001b[1;33m\u001b[0m\u001b[0m\n",
        "\u001b[1;32m/opt/sources/etl/cassdb.pyc\u001b[0m in \u001b[0;36minsert_row\u001b[1;34m(self, row)\u001b[0m\n\u001b[0;32m    233\u001b[0m \u001b[1;33m\u001b[0m\u001b[0m\n\u001b[0;32m    234\u001b[0m     \u001b[1;32mdef\u001b[0m \u001b[0minsert_row\u001b[0m\u001b[1;33m(\u001b[0m\u001b[0mself\u001b[0m\u001b[1;33m,\u001b[0m \u001b[0mrow\u001b[0m\u001b[1;33m)\u001b[0m\u001b[1;33m:\u001b[0m\u001b[1;33m\u001b[0m\u001b[0m\n\u001b[1;32m--> 235\u001b[1;33m         \u001b[0mself\u001b[0m\u001b[1;33m.\u001b[0m\u001b[0mcursor\u001b[0m\u001b[1;33m.\u001b[0m\u001b[0mexecute\u001b[0m\u001b[1;33m(\u001b[0m\u001b[0mself\u001b[0m\u001b[1;33m.\u001b[0m\u001b[0mprepare_statement\u001b[0m\u001b[1;33m,\u001b[0m \u001b[0mrow\u001b[0m\u001b[1;33m)\u001b[0m\u001b[1;33m\u001b[0m\u001b[0m\n\u001b[0m\u001b[0;32m    236\u001b[0m \u001b[1;33m\u001b[0m\u001b[0m\n\u001b[0;32m    237\u001b[0m     \u001b[1;32mdef\u001b[0m \u001b[0minsert_rows\u001b[0m\u001b[1;33m(\u001b[0m\u001b[0mself\u001b[0m\u001b[1;33m,\u001b[0m \u001b[0mrows\u001b[0m\u001b[1;33m)\u001b[0m\u001b[1;33m:\u001b[0m\u001b[1;33m\u001b[0m\u001b[0m\n",
        "\u001b[1;32m/opt/sources/cassandra/cluster.so\u001b[0m in \u001b[0;36mcassandra.cluster.Session.execute (cassandra/cluster.c:35058)\u001b[1;34m()\u001b[0m\n",
        "\u001b[1;32m/opt/sources/cassandra/cluster.so\u001b[0m in \u001b[0;36mcassandra.cluster.ResponseFuture.result (cassandra/cluster.c:73374)\u001b[1;34m()\u001b[0m\n",
        "\u001b[1;32m/usr/lib/python2.7/threading.pyc\u001b[0m in \u001b[0;36mwait\u001b[1;34m(self, timeout)\u001b[0m\n\u001b[0;32m    612\u001b[0m         \u001b[1;32mwith\u001b[0m \u001b[0mself\u001b[0m\u001b[1;33m.\u001b[0m\u001b[0m__cond\u001b[0m\u001b[1;33m:\u001b[0m\u001b[1;33m\u001b[0m\u001b[0m\n\u001b[0;32m    613\u001b[0m             \u001b[1;32mif\u001b[0m \u001b[1;32mnot\u001b[0m \u001b[0mself\u001b[0m\u001b[1;33m.\u001b[0m\u001b[0m__flag\u001b[0m\u001b[1;33m:\u001b[0m\u001b[1;33m\u001b[0m\u001b[0m\n\u001b[1;32m--> 614\u001b[1;33m                 \u001b[0mself\u001b[0m\u001b[1;33m.\u001b[0m\u001b[0m__cond\u001b[0m\u001b[1;33m.\u001b[0m\u001b[0mwait\u001b[0m\u001b[1;33m(\u001b[0m\u001b[0mtimeout\u001b[0m\u001b[1;33m)\u001b[0m\u001b[1;33m\u001b[0m\u001b[0m\n\u001b[0m\u001b[0;32m    615\u001b[0m             \u001b[1;32mreturn\u001b[0m \u001b[0mself\u001b[0m\u001b[1;33m.\u001b[0m\u001b[0m__flag\u001b[0m\u001b[1;33m\u001b[0m\u001b[0m\n\u001b[0;32m    616\u001b[0m \u001b[1;33m\u001b[0m\u001b[0m\n",
        "\u001b[1;32m/usr/lib/python2.7/threading.pyc\u001b[0m in \u001b[0;36mwait\u001b[1;34m(self, timeout)\u001b[0m\n\u001b[0;32m    338\u001b[0m         \u001b[1;32mtry\u001b[0m\u001b[1;33m:\u001b[0m    \u001b[1;31m# restore state no matter what (e.g., KeyboardInterrupt)\u001b[0m\u001b[1;33m\u001b[0m\u001b[0m\n\u001b[0;32m    339\u001b[0m             \u001b[1;32mif\u001b[0m \u001b[0mtimeout\u001b[0m \u001b[1;32mis\u001b[0m \u001b[0mNone\u001b[0m\u001b[1;33m:\u001b[0m\u001b[1;33m\u001b[0m\u001b[0m\n\u001b[1;32m--> 340\u001b[1;33m                 \u001b[0mwaiter\u001b[0m\u001b[1;33m.\u001b[0m\u001b[0macquire\u001b[0m\u001b[1;33m(\u001b[0m\u001b[1;33m)\u001b[0m\u001b[1;33m\u001b[0m\u001b[0m\n\u001b[0m\u001b[0;32m    341\u001b[0m                 \u001b[1;32mif\u001b[0m \u001b[0m__debug__\u001b[0m\u001b[1;33m:\u001b[0m\u001b[1;33m\u001b[0m\u001b[0m\n\u001b[0;32m    342\u001b[0m                     \u001b[0mself\u001b[0m\u001b[1;33m.\u001b[0m\u001b[0m_note\u001b[0m\u001b[1;33m(\u001b[0m\u001b[1;34m\"%s.wait(): got it\"\u001b[0m\u001b[1;33m,\u001b[0m \u001b[0mself\u001b[0m\u001b[1;33m)\u001b[0m\u001b[1;33m\u001b[0m\u001b[0m\n",
        "\u001b[1;31mKeyboardInterrupt\u001b[0m: "
       ]
      },
      {
       "output_type": "stream",
       "stream": "stderr",
       "text": [
        "WARNING:cassandra.cluster:Host 192.168.1.150 has been marked down\n",
        "WARNING:cassandra.cluster:Host 192.168.1.221 has been marked down\n"
       ]
      }
     ],
     "prompt_number": 38
    },
    {
     "cell_type": "code",
     "collapsed": false,
     "input": [
      "print (float(62216)/ 200)"
     ],
     "language": "python",
     "metadata": {},
     "outputs": [
      {
       "output_type": "stream",
       "stream": "stdout",
       "text": [
        "311.08\n"
       ]
      }
     ],
     "prompt_number": 11
    },
    {
     "cell_type": "code",
     "collapsed": false,
     "input": [
      "db_cass.close()"
     ],
     "language": "python",
     "metadata": {},
     "outputs": [],
     "prompt_number": 27
    },
    {
     "cell_type": "code",
     "collapsed": false,
     "input": [
      "# print prepare.prepare_statement_sql(insert_into_cassandra)"
     ],
     "language": "python",
     "metadata": {},
     "outputs": [],
     "prompt_number": 33
    },
    {
     "cell_type": "code",
     "collapsed": false,
     "input": [
      "sql = '''select \n",
      "    countyid ,\n",
      "    ts ,\n",
      "    weather ,\n",
      "    current_temp ,\n",
      "    high ,\n",
      "    low ,\n",
      "    precipitation_am ,\n",
      "    precipitation_pm ,\n",
      "    dew_point ,\n",
      "    wind_gust ,\n",
      "    humidity_relh ,\n",
      "    slp ,\n",
      "    elevation ,\n",
      "    windchill ,\n",
      "    wind_degree ,\n",
      "    wind_speed ,\n",
      "    wind_direction\n",
      "from weather.weather limit 2000 '''\n",
      "insert_data = db.streaming_cursor(sql)\n",
      "from datetime import datetime\n",
      "start_time = datetime.now()\n",
      "for row in insert_data:\n",
      "    prepare.insert_row(row)\n",
      "print \"Run time: {}\".format(datetime.now() - start_time)"
     ],
     "language": "python",
     "metadata": {},
     "outputs": [
      {
       "output_type": "stream",
       "stream": "stdout",
       "text": [
        "Run time: 0:00:07.306454\n"
       ]
      }
     ],
     "prompt_number": 34
    },
    {
     "cell_type": "code",
     "collapsed": false,
     "input": [],
     "language": "python",
     "metadata": {},
     "outputs": []
    },
    {
     "cell_type": "code",
     "collapsed": false,
     "input": [],
     "language": "python",
     "metadata": {},
     "outputs": []
    },
    {
     "cell_type": "code",
     "collapsed": false,
     "input": [],
     "language": "python",
     "metadata": {},
     "outputs": []
    },
    {
     "cell_type": "code",
     "collapsed": false,
     "input": [],
     "language": "python",
     "metadata": {},
     "outputs": []
    },
    {
     "cell_type": "code",
     "collapsed": false,
     "input": [
      "\n",
      "data = db.fetch_one_row(\"select * from weather.weather limit 1\")\n",
      "for i in data.query_data._asdict().keys():\n",
      "    print  \"%s,\""
     ],
     "language": "python",
     "metadata": {},
     "outputs": [
      {
       "output_type": "stream",
       "stream": "stdout",
       "text": [
        "%s,\n",
        "%s,\n",
        "%s,\n",
        "%s,\n",
        "%s,\n",
        "%s,\n",
        "%s,\n",
        "%s,\n",
        "%s,\n",
        "%s,\n",
        "%s,\n",
        "%s,\n",
        "%s,\n",
        "%s,\n",
        "%s,\n",
        "%s,\n",
        "%s,\n",
        "%s,\n"
       ]
      }
     ],
     "prompt_number": 12
    },
    {
     "cell_type": "code",
     "collapsed": false,
     "input": [
      "get_data_from_table = '''\n",
      "select \n",
      "    countyid ,\n",
      "    ts ,\n",
      "    weather ,\n",
      "    current_temp ,\n",
      "    high ,\n",
      "    low ,\n",
      "    precipitation_am ,\n",
      "    precipitation_pm ,\n",
      "    dew_point ,\n",
      "    wind_gust ,\n",
      "    humidity_relh ,\n",
      "    slp ,\n",
      "    elevation ,\n",
      "    windchill ,\n",
      "    wind_degree ,\n",
      "    wind_speed ,\n",
      "    wind_direction\n",
      "from weather.{table} order by ts desc\n",
      "'''"
     ],
     "language": "python",
     "metadata": {},
     "outputs": [],
     "prompt_number": 42
    },
    {
     "cell_type": "code",
     "collapsed": false,
     "input": [
      "insert_into_cassandra = '''\n",
      "insert into weather (\n",
      "countyid ,\n",
      "    ts ,\n",
      "    weather ,\n",
      "    current_temp ,\n",
      "    high ,\n",
      "    low ,\n",
      "    precipitation_am ,\n",
      "    precipitation_pm ,\n",
      "    dew_point ,\n",
      "    wind_gust ,\n",
      "    humidity_relh ,\n",
      "    slp ,\n",
      "    elevation ,\n",
      "    windchill ,\n",
      "    wind_degree ,\n",
      "    wind_speed ,\n",
      "    wind_direction\n",
      "    )\n",
      "    \n",
      "values (\n",
      "\n",
      "%s,%s,%s,%s,%s,\n",
      "%s,%s,%s,%s,\n",
      "%s,%s,%s,%s,\n",
      "%s,%s,%s,%s\n",
      ")\n",
      "'''"
     ],
     "language": "python",
     "metadata": {},
     "outputs": [],
     "prompt_number": 58
    },
    {
     "cell_type": "code",
     "collapsed": false,
     "input": [],
     "language": "python",
     "metadata": {},
     "outputs": []
    }
   ],
   "metadata": {}
  }
 ]
}