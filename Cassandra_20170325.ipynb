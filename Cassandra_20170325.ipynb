{
 "metadata": {
  "name": "",
  "signature": "sha256:dbb24ae60bba5590e7d998f3cb94a6d7a7ebe2868e42fb754f3d00feae49322c"
 },
 "nbformat": 3,
 "nbformat_minor": 0,
 "worksheets": []
}