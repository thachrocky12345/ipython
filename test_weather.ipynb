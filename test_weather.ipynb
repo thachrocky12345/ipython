{
 "metadata": {
  "name": "",
  "signature": "sha256:7324f78a6df2cb7dd27a3597053709363132a2434b70331ba05d80cdcb35c014"
 },
 "nbformat": 3,
 "nbformat_minor": 0,
 "worksheets": [
  {
   "cells": [
    {
     "cell_type": "code",
     "collapsed": false,
     "input": [
      "import xml.etree.ElementTree\n",
      "import sys\n",
      "\n",
      "sys.path.append(\"/home/thachbui/workstation/fn3/intercept/src/\")\n",
      "from lib import date_ext, uom\n",
      "URL_BASE = \"https://weather.dtn.com/basic/rest-3.4/obsfcst.wsgi\"\n",
      "DTN_DOC = 'http://weather.dtn.com/rest-3.4/doc/'\n",
      "\n",
      "xml_file = \"/home/thachbui/workstation/elecsys_weather/test_xml/DailyInterpolatedNormal.xml\"\n",
      "xml_data = open(xml_file, 'r').read()\n",
      "\n",
      "xml_data = xml.etree.ElementTree.fromstring(xml_data)\n",
      "ns = {'wx': DTN_DOC}\n",
      "xml_data = xml_data.find('wx:locationResponseList', ns)\n",
      "xml_data = xml_data.find('wx:locationResponse', ns)\n",
      "rainfall = xml_data.find('wx:precipitationAmountList', ns).find('wx:values', ns).text\n",
      "et = xml_data.find('wx:evapotranspirationList', ns).find('wx:values', ns).text\n",
      "max_temperature = xml_data.find('wx:maxTemperatureList', ns).find('wx:values', ns).text\n",
      "min_temperature = xml_data.find('wx:minTemperatureList', ns).find('wx:values', ns).text\n",
      "\n",
      "rainfall = rainfall.split(' ')\n",
      "et = et.split(' ')\n",
      "max_temperature = max_temperature.split(' ')\n",
      "min_temperature = min_temperature.split(' ')\n",
      "\n",
      "rainfall = [uom.Uom(float(val), uom.Inch) for val in rainfall]\n",
      "et = [uom.Uom(float(val), uom.Inch) for val in et]\n",
      "max_temperature = [uom.Uom(float(val), uom.Fahrenheit) for val in max_temperature]\n",
      "min_temperature = [uom.Uom(float(val), uom.Fahrenheit) for val in min_temperature]\n",
      "\n",
      "\n",
      "print rainfall"
     ],
     "language": "python",
     "metadata": {},
     "outputs": [
      {
       "output_type": "stream",
       "stream": "stdout",
       "text": [
        "[< Uom, value: 0.000254, uom: length /  >, < Uom, value: 0.000254, uom: length /  >, < Uom, value: 0.000254, uom: length /  >, < Uom, value: 0.000254, uom: length /  >, < Uom, value: 0.000254, uom: length /  >, < Uom, value: 0.000254, uom: length /  >, < Uom, value: 0.000508, uom: length /  >, < Uom, value: 0.000508, uom: length /  >, < Uom, value: 0.000508, uom: length /  >, < Uom, value: 0.000508, uom: length /  >, < Uom, value: 0.000508, uom: length /  >, < Uom, value: 0.000508, uom: length /  >, < Uom, value: 0.000508, uom: length /  >, < Uom, value: 0.000508, uom: length /  >, < Uom, value: 0.000508, uom: length /  >, < Uom, value: 0.000508, uom: length /  >, < Uom, value: 0.000762, uom: length /  >, < Uom, value: 0.000762, uom: length /  >, < Uom, value: 0.000762, uom: length /  >, < Uom, value: 0.000762, uom: length /  >, < Uom, value: 0.000762, uom: length /  >, < Uom, value: 0.000762, uom: length /  >, < Uom, value: 0.001016, uom: length /  >, < Uom, value: 0.001016, uom: length /  >, < Uom, value: 0.001016, uom: length /  >, < Uom, value: 0.001016, uom: length /  >, < Uom, value: 0.00127, uom: length /  >, < Uom, value: 0.00127, uom: length /  >, < Uom, value: 0.00127, uom: length /  >, < Uom, value: 0.00127, uom: length /  >, < Uom, value: 0.001524, uom: length /  >, < Uom, value: 0.001524, uom: length /  >, < Uom, value: 0.001524, uom: length /  >, < Uom, value: 0.001524, uom: length /  >, < Uom, value: 0.001524, uom: length /  >, < Uom, value: 0.001778, uom: length /  >, < Uom, value: 0.001778, uom: length /  >, < Uom, value: 0.001778, uom: length /  >, < Uom, value: 0.001778, uom: length /  >, < Uom, value: 0.001778, uom: length /  >, < Uom, value: 0.001778, uom: length /  >, < Uom, value: 0.002032, uom: length /  >, < Uom, value: 0.002032, uom: length /  >, < Uom, value: 0.002032, uom: length /  >, < Uom, value: 0.002032, uom: length /  >, < Uom, value: 0.002032, uom: length /  >, < Uom, value: 0.002032, uom: length /  >, < Uom, value: 0.002032, uom: length /  >, < Uom, value: 0.002032, uom: length /  >, < Uom, value: 0.002032, uom: length /  >, < Uom, value: 0.002032, uom: length /  >, < Uom, value: 0.002032, uom: length /  >, < Uom, value: 0.002032, uom: length /  >, < Uom, value: 0.002032, uom: length /  >, < Uom, value: 0.002032, uom: length /  >, < Uom, value: 0.002032, uom: length /  >, < Uom, value: 0.002032, uom: length /  >, < Uom, value: 0.002032, uom: length /  >, < Uom, value: 0.002032, uom: length /  >, < Uom, value: 0.002032, uom: length /  >, < Uom, value: 0.002032, uom: length /  >, < Uom, value: 0.002286, uom: length /  >, < Uom, value: 0.002286, uom: length /  >, < Uom, value: 0.002286, uom: length /  >, < Uom, value: 0.002286, uom: length /  >, < Uom, value: 0.002286, uom: length /  >, < Uom, value: 0.002286, uom: length /  >, < Uom, value: 0.002286, uom: length /  >, < Uom, value: 0.002286, uom: length /  >, < Uom, value: 0.002286, uom: length /  >, < Uom, value: 0.002286, uom: length /  >, < Uom, value: 0.002286, uom: length /  >, < Uom, value: 0.00254, uom: length /  >, < Uom, value: 0.00254, uom: length /  >, < Uom, value: 0.00254, uom: length /  >, < Uom, value: 0.00254, uom: length /  >, < Uom, value: 0.00254, uom: length /  >, < Uom, value: 0.00254, uom: length /  >, < Uom, value: 0.002794, uom: length /  >, < Uom, value: 0.002794, uom: length /  >, < Uom, value: 0.002794, uom: length /  >, < Uom, value: 0.002794, uom: length /  >, < Uom, value: 0.003048, uom: length /  >, < Uom, value: 0.003048, uom: length /  >, < Uom, value: 0.003048, uom: length /  >, < Uom, value: 0.003048, uom: length /  >, < Uom, value: 0.003302, uom: length /  >, < Uom, value: 0.003302, uom: length /  >, < Uom, value: 0.003302, uom: length /  >, < Uom, value: 0.003302, uom: length /  >, < Uom, value: 0.003302, uom: length /  >, < Uom, value: 0.003556, uom: length /  >, < Uom, value: 0.003556, uom: length /  >, < Uom, value: 0.003556, uom: length /  >, < Uom, value: 0.003556, uom: length /  >, < Uom, value: 0.00381, uom: length /  >, < Uom, value: 0.00381, uom: length /  >, < Uom, value: 0.00381, uom: length /  >, < Uom, value: 0.00381, uom: length /  >, < Uom, value: 0.00381, uom: length /  >, < Uom, value: 0.00381, uom: length /  >]\n"
       ]
      }
     ],
     "prompt_number": 6
    },
    {
     "cell_type": "code",
     "collapsed": false,
     "input": [],
     "language": "python",
     "metadata": {},
     "outputs": []
    }
   ],
   "metadata": {}
  }
 ]
}