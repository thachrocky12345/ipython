{
 "metadata": {
  "name": "",
  "signature": "sha256:00d2788a7db66dde95fa7a6abceee89ad9d741a8bf5b85e2da4c5b87b38033fa"
 },
 "nbformat": 3,
 "nbformat_minor": 0,
 "worksheets": [
  {
   "cells": [
    {
     "cell_type": "code",
     "collapsed": false,
     "input": [
      "def get_rtu(rtu_type):\n",
      "    if rtu_type == 'test1':\n",
      "        return Test1\n",
      "    return Test2\n",
      "\n",
      "class Test1(object):\n",
      "    def foo(self):\n",
      "        print 'test1'\n",
      "    \n",
      "class Test2(object):\n",
      "    def foo(self):\n",
      "        print 'test2'\n",
      "    \n",
      "\n",
      "def make_bridge(rtu_type):\n",
      "    waverout_rtu = get_rtu(rtu_type)\n",
      "    class Test3(waverout_rtu):\n",
      "        pass\n",
      "    t = Test3()\n",
      "    return t\n",
      "\n"
     ],
     "language": "python",
     "metadata": {},
     "outputs": [],
     "prompt_number": 6
    },
    {
     "cell_type": "code",
     "collapsed": false,
     "input": [
      "t = make_bridge('tesfsdaft|')\n",
      "t.foo()"
     ],
     "language": "python",
     "metadata": {},
     "outputs": [
      {
       "output_type": "stream",
       "stream": "stdout",
       "text": [
        "test2\n"
       ]
      }
     ],
     "prompt_number": 14
    },
    {
     "cell_type": "code",
     "collapsed": false,
     "input": [
      "from twisted.internet.protocol import Protocol, Factory\n",
      "from twisted.internet import reactor\n",
      "\n",
      "\n",
      "class Echo(object):\n",
      "   def test1(self):\n",
      "       print 'test1'\n",
      "\n",
      "   def test2(self):\n",
      "       print 'test2'\n",
      "\n",
      "class AmpFactory(Factory):\n",
      "    def __init__(self, my_class):\n",
      "        self.my_class = my_class\n",
      "        self.sockets = []\n",
      "        self.protocol = AmpProtocol\n",
      "\n",
      "\n",
      "class AmpProtocol(Protocol):\n",
      "    def connectionMade(self):\n",
      "        self.factory.sockets.append(self)\n",
      "        print 'connectionMade', self.factory.sockets\n",
      "\n",
      "    def dataReceived(self, data):\n",
      "        #data = data.strip()\n",
      "        #func = getattr(self.factory.my_class, data)\n",
      "        #func()\n",
      "        for socket in self.factory.sockets:\n",
      "             if socket == self:\n",
      "                 continue\n",
      "             socket.transport.write(data)\n",
      "\n",
      "    def connectionLost(self, reason):\n",
      "        self.factory.sockets.remove(self)\n",
      "        print 'connectionLost'\n",
      "\n",
      "\n",
      "f = AmpFactory(Echo())\n",
      "reactor.listenTCP(8000, f)\n",
      "reactor.run()\n",
      "    "
     ],
     "language": "python",
     "metadata": {},
     "outputs": [
      {
       "output_type": "stream",
       "stream": "stdout",
       "text": [
        "connectionMade [<__main__.AmpProtocol instance at 0x7f69c1a25998>]\n",
        "connectionMade"
       ]
      },
      {
       "output_type": "stream",
       "stream": "stdout",
       "text": [
        " [<__main__.AmpProtocol instance at 0x7f69c1a25998>, <__main__.AmpProtocol instance at 0x7f69c1a25c20>]\n",
        "connectionLost"
       ]
      },
      {
       "output_type": "stream",
       "stream": "stdout",
       "text": [
        "\n",
        "connectionLost\n"
       ]
      }
     ],
     "prompt_number": 16
    },
    {
     "cell_type": "code",
     "collapsed": false,
     "input": [],
     "language": "python",
     "metadata": {},
     "outputs": []
    }
   ],
   "metadata": {}
  }
 ]
}