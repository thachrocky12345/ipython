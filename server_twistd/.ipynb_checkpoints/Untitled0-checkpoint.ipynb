{
 "metadata": {
  "name": "",
  "signature": "sha256:37fe726eeda3f1c0f503eaa3656211fc7ea0f28d52621db9346ddb949c223cfd"
 },
 "nbformat": 3,
 "nbformat_minor": 0,
 "worksheets": [
  {
   "cells": [
    {
     "cell_type": "code",
     "collapsed": false,
     "input": [
      "def get_rtu(rtu_type):\n",
      "    if rtu_type == 'test1':\n",
      "        return Test1\n",
      "    return Test2\n",
      "\n",
      "class Test1(object):\n",
      "    def foo(self):\n",
      "        print 'test1'\n",
      "    \n",
      "class Test2(object):\n",
      "    def foo(self):\n",
      "        print 'test2'\n",
      "    \n",
      "\n",
      "def make_bridge(rtu_type):\n",
      "    waverout_rtu = get_rtu(rtu_type)\n",
      "    class Test3(waverout_rtu):\n",
      "        pass\n",
      "    t = Test3()\n",
      "    return t\n",
      "\n"
     ],
     "language": "python",
     "metadata": {},
     "outputs": [],
     "prompt_number": 6
    },
    {
     "cell_type": "code",
     "collapsed": false,
     "input": [
      "t = make_bridge('tesfsdaft|')\n",
      "t.foo()"
     ],
     "language": "python",
     "metadata": {},
     "outputs": [
      {
       "output_type": "stream",
       "stream": "stdout",
       "text": [
        "test2\n"
       ]
      }
     ],
     "prompt_number": 14
    },
    {
     "cell_type": "code",
     "collapsed": false,
     "input": [],
     "language": "python",
     "metadata": {},
     "outputs": []
    }
   ],
   "metadata": {}
  }
 ]
}