{
 "metadata": {
  "name": "",
  "signature": "sha256:c71ef8973e1a6add997b5f6faa96062e3e173ecc4f081b2a4dc5f4b0133d1e41"
 },
 "nbformat": 3,
 "nbformat_minor": 0,
 "worksheets": [
  {
   "cells": [
    {
     "cell_type": "code",
     "collapsed": false,
     "input": [
      "S"
     ],
     "language": "python",
     "metadata": {},
     "outputs": []
    }
   ],
   "metadata": {}
  }
 ]
}