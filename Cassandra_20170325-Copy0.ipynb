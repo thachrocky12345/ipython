{
 "metadata": {
  "name": "",
  "signature": "sha256:8caf405168637b3e7fb1f1079cb3e6b0e62a669002ba97eada8b09f41465dfbb"
 },
 "nbformat": 3,
 "nbformat_minor": 0,
 "worksheets": [
  {
   "cells": [
    {
     "cell_type": "code",
     "collapsed": false,
     "input": [
      "!git add -A\n"
     ],
     "language": "python",
     "metadata": {},
     "outputs": [],
     "prompt_number": 14
    },
    {
     "cell_type": "code",
     "collapsed": false,
     "input": [
      "!git commit -a -m \"adding python copy\""
     ],
     "language": "python",
     "metadata": {},
     "outputs": [
      {
       "output_type": "stream",
       "stream": "stdout",
       "text": [
        "[master 5b8f7a5] adding python copy\r\n",
        " 3 files changed, 497 insertions(+), 53 deletions(-)\r\n"
       ]
      }
     ],
     "prompt_number": 22
    },
    {
     "cell_type": "code",
     "collapsed": false,
     "input": [
      "!git push origin master"
     ],
     "language": "python",
     "metadata": {},
     "outputs": [
      {
       "output_type": "stream",
       "stream": "stdout",
       "text": [
        "Counting objects: 5, done.\r\n",
        "Delta compression using up to 8 threads.\r\n",
        "Compressing objects:  20% (1/5)   \r",
        "Compressing objects:  40% (2/5)   \r",
        "Compressing objects:  60% (3/5)   \r",
        "Compressing objects:  80% (4/5)   \r",
        "Compressing objects: 100% (5/5)   \r",
        "Compressing objects: 100% (5/5), done.\r\n",
        "Writing objects:  20% (1/5)   \r",
        "Writing objects:  40% (2/5)   \r",
        "Writing objects:  60% (3/5)   \r",
        "Writing objects:  80% (4/5)   \r",
        "Writing objects: 100% (5/5)   \r",
        "Writing objects: 100% (5/5), 3.99 KiB | 0 bytes/s, done.\r\n",
        "Total 5 (delta 3), reused 0 (delta 0)\r\n",
        "remote: Resolving deltas:   0% (0/3)   \u001b[K\r"
       ]
      },
      {
       "output_type": "stream",
       "stream": "stdout",
       "text": [
        "remote: Resolving deltas:  33% (1/3)   \u001b[K\r",
        "remote: Resolving deltas:  66% (2/3)   \u001b[K\r",
        "remote: Resolving deltas: 100% (3/3)   \u001b[K\r",
        "remote: Resolving deltas: 100% (3/3), completed with 3 local objects.\u001b[K\r\n"
       ]
      },
      {
       "output_type": "stream",
       "stream": "stdout",
       "text": [
        "To github.com:thachrocky12345/ipython.git\r\n",
        "   1030167..5b8f7a5  master -> master\r\n"
       ]
      }
     ],
     "prompt_number": 23
    },
    {
     "cell_type": "markdown",
     "metadata": {},
     "source": [
      "# Copy data"
     ]
    },
    {
     "cell_type": "code",
     "collapsed": false,
     "input": [
      "import multiprocessing\n",
      "import time\n",
      "import os\n",
      "from cassandra.cluster import Cluster\n",
      "from cassandra import ConsistencyLevel\n",
      "from cassandra.query import SimpleStatement\n",
      "\n",
      "\n",
      "\n",
      "def mp_worker(inputArg):\n",
      "        cluster = Cluster(['1.2.1.4'])\n",
      "        session = cluster.connect('poc')\n",
      "\n",
      "\n",
      "        with open(inputArg[0]) as f:\n",
      "            for line in f:\n",
      "                query = SimpleStatement (\n",
      "                    \"INSERT INTO testTable (cust_id, accts, offers) values (%s)\" %(line),\n",
      "                    consistency_level=ConsistencyLevel.ONE)\n",
      "                session.execute_async (query)\n",
      "\n",
      "\n",
      "def mp_handler(inputData, nThreads = 8):\n",
      "    p = multiprocessing.Pool(nThreads)\n",
      "    p.map(mp_worker, inputData, chunksize=1)\n",
      "    p.close()\n",
      "    p.join()"
     ],
     "language": "python",
     "metadata": {},
     "outputs": []
    },
    {
     "cell_type": "code",
     "collapsed": false,
     "input": [
      "from cassandra import ConsistencyLevel"
     ],
     "language": "python",
     "metadata": {},
     "outputs": [],
     "prompt_number": 24
    },
    {
     "cell_type": "code",
     "collapsed": false,
     "input": [
      "ConsistencyLevel.ALL"
     ],
     "language": "python",
     "metadata": {},
     "outputs": [
      {
       "metadata": {},
       "output_type": "pyout",
       "prompt_number": 27,
       "text": [
        "5"
       ]
      }
     ],
     "prompt_number": 27
    },
    {
     "cell_type": "code",
     "collapsed": false,
     "input": [
      "from etl.pgdb import PgsqlExecutor\n",
      "from etl import cassdb"
     ],
     "language": "python",
     "metadata": {},
     "outputs": [],
     "prompt_number": 17
    },
    {
     "cell_type": "code",
     "collapsed": false,
     "input": [
      "weather_database =  dict(host='localhost',port=5432, database='decoded', user='thachbui', password='thach12345')\n",
      "db = PgsqlExecutor(weather_database)"
     ],
     "language": "python",
     "metadata": {},
     "outputs": [],
     "prompt_number": 18
    },
    {
     "cell_type": "code",
     "collapsed": false,
     "input": [
      "get_weather_tables = '''\n",
      "SELECT c.relname weather_table\n",
      "    FROM pg_catalog.pg_class c\n",
      "\tLEFT JOIN pg_catalog.pg_namespace n ON n.oid = c.relnamespace\n",
      "\tWHERE n.nspname = 'weather'\n",
      "\tAND c.relname like 'weather_2%' order by 1 desc\n",
      "'''"
     ],
     "language": "python",
     "metadata": {},
     "outputs": [],
     "prompt_number": 5
    },
    {
     "cell_type": "code",
     "collapsed": false,
     "input": [
      "weather_tables = db.fetch_all_rows(get_weather_tables).query_data"
     ],
     "language": "python",
     "metadata": {},
     "outputs": [],
     "prompt_number": 6
    },
    {
     "cell_type": "code",
     "collapsed": false,
     "input": [
      "for i in weather_tables[0:5]:\n",
      "    print i"
     ],
     "language": "python",
     "metadata": {},
     "outputs": [
      {
       "output_type": "stream",
       "stream": "stdout",
       "text": [
        "Record(weather_table='weather_20170213')\n",
        "Record(weather_table='weather_20170212')\n",
        "Record(weather_table='weather_20170211')\n",
        "Record(weather_table='weather_20170210')\n",
        "Record(weather_table='weather_20170209')\n"
       ]
      }
     ],
     "prompt_number": 7
    },
    {
     "cell_type": "markdown",
     "metadata": {},
     "source": [
      "# treaming data and insert"
     ]
    },
    {
     "cell_type": "code",
     "collapsed": false,
     "input": [
      "auth_provider = dict(username='thachbui',\n",
      "                     password='thach12345',\n",
      "                     hosts=['192.168.1.150', '192.168.1.221'],\n",
      "                     port=None,\n",
      "                     database='weather')"
     ],
     "language": "python",
     "metadata": {},
     "outputs": [],
     "prompt_number": 19
    },
    {
     "cell_type": "code",
     "collapsed": false,
     "input": [
      "db_cass = cassdb.CasExecutor(auth_provider)\n"
     ],
     "language": "python",
     "metadata": {},
     "outputs": [],
     "prompt_number": 20
    },
    {
     "cell_type": "code",
     "collapsed": false,
     "input": [
      "from datetime import datetime\n",
      "start_time = datetime.now()\n",
      "sql = ''' select * from weather where ts > '2017-02-10' and ts < '2017-02-14' and countyid = 'mo047' order by ts desc allow filtering '''\n",
      "\n",
      "data= db_cass.fetch_all_rows(sql)\n",
      "\n",
      "print \"Run time: {} - total rows: {}\".format(datetime.now() - start_time, len(data))\n",
      "for i in data[0:10]:\n",
      "    print i\n",
      "    "
     ],
     "language": "python",
     "metadata": {},
     "outputs": [
      {
       "output_type": "stream",
       "stream": "stdout",
       "text": [
        "Run time: 0:00:00.594224 - total rows: 14\n",
        "Row(countyid=u'mo047', ts=datetime.datetime(2017, 2, 13, 13, 18, 4, 44000), current_temp=50.0, dew_point=19.0, elevation=758.0, high=54.0, humidity_relh=29.0, low=34.0, precipitation_am=40, precipitation_pm=20, slp=30.25, weather=u'Chance Showers', wind_degree=200.0, wind_direction=u'SSW', wind_gust=0.0, wind_speed=8.0, windchill=47.0)\n",
        "Row(countyid=u'mo047', ts=datetime.datetime(2017, 2, 13, 12, 20, 1, 429000), current_temp=47.0, dew_point=20.0, elevation=758.0, high=54.0, humidity_relh=34.0, low=34.0, precipitation_am=40, precipitation_pm=20, slp=30.299999237060547, weather=u'Chance Showers', wind_degree=200.0, wind_direction=u'SSW', wind_gust=0.0, wind_speed=8.0, windchill=43.0)\n",
        "Row(countyid=u'mo047', ts=datetime.datetime(2017, 2, 13, 11, 23, 23, 383000), current_temp=46.0, dew_point=20.0, elevation=758.0, high=54.0, humidity_relh=35.0, low=34.0, precipitation_am=40, precipitation_pm=20, slp=30.34000015258789, weather=u'Chance Showers', wind_degree=180.0, wind_direction=u'S', wind_gust=0.0, wind_speed=9.0, windchill=41.0)\n",
        "Row(countyid=u'mo047', ts=datetime.datetime(2017, 2, 13, 10, 19, 46, 278000), current_temp=45.0, dew_point=22.0, elevation=758.0, high=54.0, humidity_relh=40.0, low=33.0, precipitation_am=40, precipitation_pm=None, slp=30.3700008392334, weather=u'Chance Showers', wind_degree=200.0, wind_direction=u'SSW', wind_gust=0.0, wind_speed=9.0, windchill=40.0)\n",
        "Row(countyid=u'mo047', ts=datetime.datetime(2017, 2, 13, 9, 22, 58, 354000), current_temp=38.0, dew_point=27.0, elevation=758.0, high=54.0, humidity_relh=65.0, low=33.0, precipitation_am=40, precipitation_pm=None, slp=30.3799991607666, weather=u'Chance Showers', wind_degree=0.0, wind_direction=u'N', wind_gust=0.0, wind_speed=0.0, windchill=None)\n",
        "Row(countyid=u'mo047', ts=datetime.datetime(2017, 2, 13, 8, 22, 32, 121000), current_temp=31.0, dew_point=24.0, elevation=758.0, high=54.0, humidity_relh=76.0, low=33.0, precipitation_am=20, precipitation_pm=None, slp=30.389999389648438, weather=u'Slight Chance Rain', wind_degree=0.0, wind_direction=u'N', wind_gust=0.0, wind_speed=0.0, windchill=None)\n",
        "Row(countyid=u'mo047', ts=datetime.datetime(2017, 2, 13, 7, 16, 44, 693000), current_temp=31.0, dew_point=24.0, elevation=758.0, high=54.0, humidity_relh=76.0, low=33.0, precipitation_am=20, precipitation_pm=None, slp=30.389999389648438, weather=u'Slight Chance Rain', wind_degree=0.0, wind_direction=u'N', wind_gust=0.0, wind_speed=0.0, windchill=None)\n",
        "Row(countyid=u'mo047', ts=datetime.datetime(2017, 2, 13, 6, 20, 20, 444000), current_temp=32.0, dew_point=23.0, elevation=758.0, high=54.0, humidity_relh=69.0, low=33.0, precipitation_am=None, precipitation_pm=None, slp=30.389999389648438, weather=u'Mostly Cloudy', wind_degree=0.0, wind_direction=u'N', wind_gust=0.0, wind_speed=0.0, windchill=None)\n",
        "Row(countyid=u'mo047', ts=datetime.datetime(2017, 2, 13, 5, 19, 1, 156000), current_temp=31.0, dew_point=24.0, elevation=758.0, high=54.0, humidity_relh=76.0, low=33.0, precipitation_am=None, precipitation_pm=None, slp=30.399999618530273, weather=u'Mostly Cloudy', wind_degree=0.0, wind_direction=u'N', wind_gust=0.0, wind_speed=0.0, windchill=None)\n",
        "Row(countyid=u'mo047', ts=datetime.datetime(2017, 2, 13, 4, 23, 15, 250000), current_temp=31.0, dew_point=24.0, elevation=758.0, high=54.0, humidity_relh=76.0, low=33.0, precipitation_am=None, precipitation_pm=None, slp=30.40999984741211, weather=u'Mostly Cloudy', wind_degree=0.0, wind_direction=u'N', wind_gust=0.0, wind_speed=0.0, windchill=None)\n"
       ]
      },
      {
       "output_type": "stream",
       "stream": "stderr",
       "text": [
        "WARNING:cassandra.cluster:Host 192.168.1.150 has been marked down\n",
        "WARNING:cassandra.cluster:Host 192.168.1.221 has been marked down\n"
       ]
      }
     ],
     "prompt_number": 21
    },
    {
     "cell_type": "code",
     "collapsed": false,
     "input": [
      "from datetime import datetime\n",
      "for weather_table in weather_tables:\n",
      "    count = 0\n",
      "    weather_table =  weather_table.weather_table\n",
      "    print weather_table\n",
      "    get_data_from_table = get_data_from_table.format(table=weather_table)\n",
      "    insert_data = db.streaming_cursor(get_data_from_table)\n",
      "    \n",
      "    start_time = datetime.now()\n",
      "    for row in insert_data:\n",
      "        count += 1\n",
      "        prepare.insert_row(row)\n",
      "    print \"Run time: {} - total rows: {} \".format(datetime.now() - start_time, count)"
     ],
     "language": "python",
     "metadata": {},
     "outputs": []
    },
    {
     "cell_type": "code",
     "collapsed": false,
     "input": [],
     "language": "python",
     "metadata": {},
     "outputs": []
    },
    {
     "cell_type": "code",
     "collapsed": false,
     "input": [
      "# print prepare.prepare_statement_sql(insert_into_cassandra)"
     ],
     "language": "python",
     "metadata": {},
     "outputs": [],
     "prompt_number": 33
    },
    {
     "cell_type": "code",
     "collapsed": false,
     "input": [
      "sql = '''select \n",
      "    countyid ,\n",
      "    ts ,\n",
      "    weather ,\n",
      "    current_temp ,\n",
      "    high ,\n",
      "    low ,\n",
      "    precipitation_am ,\n",
      "    precipitation_pm ,\n",
      "    dew_point ,\n",
      "    wind_gust ,\n",
      "    humidity_relh ,\n",
      "    slp ,\n",
      "    elevation ,\n",
      "    windchill ,\n",
      "    wind_degree ,\n",
      "    wind_speed ,\n",
      "    wind_direction\n",
      "from weather.weather limit 2000 '''\n",
      "insert_data = db.streaming_cursor(sql)\n",
      "from datetime import datetime\n",
      "start_time = datetime.now()\n",
      "for row in insert_data:\n",
      "    prepare.insert_row(row)\n",
      "print \"Run time: {}\".format(datetime.now() - start_time)"
     ],
     "language": "python",
     "metadata": {},
     "outputs": [
      {
       "output_type": "stream",
       "stream": "stdout",
       "text": [
        "Run time: 0:00:07.306454\n"
       ]
      }
     ],
     "prompt_number": 34
    },
    {
     "cell_type": "code",
     "collapsed": false,
     "input": [],
     "language": "python",
     "metadata": {},
     "outputs": []
    },
    {
     "cell_type": "code",
     "collapsed": false,
     "input": [
      "import subprocess\n",
      "subprocess.call([\"ssh-copy-id\", \"root@192.168.1.221\"])"
     ],
     "language": "python",
     "metadata": {},
     "outputs": [
      {
       "ename": "KeyboardInterrupt",
       "evalue": "",
       "output_type": "pyerr",
       "traceback": [
        "\u001b[1;31m---------------------------------------------------------------------------\u001b[0m\n\u001b[1;31mKeyboardInterrupt\u001b[0m                         Traceback (most recent call last)",
        "\u001b[1;32m<ipython-input-28-6cdf7c4f9674>\u001b[0m in \u001b[0;36m<module>\u001b[1;34m()\u001b[0m\n\u001b[0;32m      1\u001b[0m \u001b[1;32mimport\u001b[0m \u001b[0msubprocess\u001b[0m\u001b[1;33m\u001b[0m\u001b[0m\n\u001b[1;32m----> 2\u001b[1;33m \u001b[0msubprocess\u001b[0m\u001b[1;33m.\u001b[0m\u001b[0mcall\u001b[0m\u001b[1;33m(\u001b[0m\u001b[1;33m[\u001b[0m\u001b[1;34m\"ssh-copy-id\"\u001b[0m\u001b[1;33m,\u001b[0m \u001b[1;34m\"root@192.168.1.221\"\u001b[0m\u001b[1;33m]\u001b[0m\u001b[1;33m)\u001b[0m\u001b[1;33m\u001b[0m\u001b[0m\n\u001b[0m",
        "\u001b[1;32m/usr/lib/python2.7/subprocess.pyc\u001b[0m in \u001b[0;36mcall\u001b[1;34m(*popenargs, **kwargs)\u001b[0m\n\u001b[0;32m    521\u001b[0m     \u001b[0mretcode\u001b[0m \u001b[1;33m=\u001b[0m \u001b[0mcall\u001b[0m\u001b[1;33m(\u001b[0m\u001b[1;33m[\u001b[0m\u001b[1;34m\"ls\"\u001b[0m\u001b[1;33m,\u001b[0m \u001b[1;34m\"-l\"\u001b[0m\u001b[1;33m]\u001b[0m\u001b[1;33m)\u001b[0m\u001b[1;33m\u001b[0m\u001b[0m\n\u001b[0;32m    522\u001b[0m     \"\"\"\n\u001b[1;32m--> 523\u001b[1;33m     \u001b[1;32mreturn\u001b[0m \u001b[0mPopen\u001b[0m\u001b[1;33m(\u001b[0m\u001b[1;33m*\u001b[0m\u001b[0mpopenargs\u001b[0m\u001b[1;33m,\u001b[0m \u001b[1;33m**\u001b[0m\u001b[0mkwargs\u001b[0m\u001b[1;33m)\u001b[0m\u001b[1;33m.\u001b[0m\u001b[0mwait\u001b[0m\u001b[1;33m(\u001b[0m\u001b[1;33m)\u001b[0m\u001b[1;33m\u001b[0m\u001b[0m\n\u001b[0m\u001b[0;32m    524\u001b[0m \u001b[1;33m\u001b[0m\u001b[0m\n\u001b[0;32m    525\u001b[0m \u001b[1;33m\u001b[0m\u001b[0m\n",
        "\u001b[1;32m/usr/lib/python2.7/subprocess.pyc\u001b[0m in \u001b[0;36mwait\u001b[1;34m(self)\u001b[0m\n\u001b[0;32m   1390\u001b[0m             \u001b[1;32mwhile\u001b[0m \u001b[0mself\u001b[0m\u001b[1;33m.\u001b[0m\u001b[0mreturncode\u001b[0m \u001b[1;32mis\u001b[0m \u001b[0mNone\u001b[0m\u001b[1;33m:\u001b[0m\u001b[1;33m\u001b[0m\u001b[0m\n\u001b[0;32m   1391\u001b[0m                 \u001b[1;32mtry\u001b[0m\u001b[1;33m:\u001b[0m\u001b[1;33m\u001b[0m\u001b[0m\n\u001b[1;32m-> 1392\u001b[1;33m                     \u001b[0mpid\u001b[0m\u001b[1;33m,\u001b[0m \u001b[0msts\u001b[0m \u001b[1;33m=\u001b[0m \u001b[0m_eintr_retry_call\u001b[0m\u001b[1;33m(\u001b[0m\u001b[0mos\u001b[0m\u001b[1;33m.\u001b[0m\u001b[0mwaitpid\u001b[0m\u001b[1;33m,\u001b[0m \u001b[0mself\u001b[0m\u001b[1;33m.\u001b[0m\u001b[0mpid\u001b[0m\u001b[1;33m,\u001b[0m \u001b[1;36m0\u001b[0m\u001b[1;33m)\u001b[0m\u001b[1;33m\u001b[0m\u001b[0m\n\u001b[0m\u001b[0;32m   1393\u001b[0m                 \u001b[1;32mexcept\u001b[0m \u001b[0mOSError\u001b[0m \u001b[1;32mas\u001b[0m \u001b[0me\u001b[0m\u001b[1;33m:\u001b[0m\u001b[1;33m\u001b[0m\u001b[0m\n\u001b[0;32m   1394\u001b[0m                     \u001b[1;32mif\u001b[0m \u001b[0me\u001b[0m\u001b[1;33m.\u001b[0m\u001b[0merrno\u001b[0m \u001b[1;33m!=\u001b[0m \u001b[0merrno\u001b[0m\u001b[1;33m.\u001b[0m\u001b[0mECHILD\u001b[0m\u001b[1;33m:\u001b[0m\u001b[1;33m\u001b[0m\u001b[0m\n",
        "\u001b[1;32m/usr/lib/python2.7/subprocess.pyc\u001b[0m in \u001b[0;36m_eintr_retry_call\u001b[1;34m(func, *args)\u001b[0m\n\u001b[0;32m    474\u001b[0m     \u001b[1;32mwhile\u001b[0m \u001b[0mTrue\u001b[0m\u001b[1;33m:\u001b[0m\u001b[1;33m\u001b[0m\u001b[0m\n\u001b[0;32m    475\u001b[0m         \u001b[1;32mtry\u001b[0m\u001b[1;33m:\u001b[0m\u001b[1;33m\u001b[0m\u001b[0m\n\u001b[1;32m--> 476\u001b[1;33m             \u001b[1;32mreturn\u001b[0m \u001b[0mfunc\u001b[0m\u001b[1;33m(\u001b[0m\u001b[1;33m*\u001b[0m\u001b[0margs\u001b[0m\u001b[1;33m)\u001b[0m\u001b[1;33m\u001b[0m\u001b[0m\n\u001b[0m\u001b[0;32m    477\u001b[0m         \u001b[1;32mexcept\u001b[0m \u001b[1;33m(\u001b[0m\u001b[0mOSError\u001b[0m\u001b[1;33m,\u001b[0m \u001b[0mIOError\u001b[0m\u001b[1;33m)\u001b[0m \u001b[1;32mas\u001b[0m \u001b[0me\u001b[0m\u001b[1;33m:\u001b[0m\u001b[1;33m\u001b[0m\u001b[0m\n\u001b[0;32m    478\u001b[0m             \u001b[1;32mif\u001b[0m \u001b[0me\u001b[0m\u001b[1;33m.\u001b[0m\u001b[0merrno\u001b[0m \u001b[1;33m==\u001b[0m \u001b[0merrno\u001b[0m\u001b[1;33m.\u001b[0m\u001b[0mEINTR\u001b[0m\u001b[1;33m:\u001b[0m\u001b[1;33m\u001b[0m\u001b[0m\n",
        "\u001b[1;31mKeyboardInterrupt\u001b[0m: "
       ]
      }
     ],
     "prompt_number": 28
    },
    {
     "cell_type": "code",
     "collapsed": false,
     "input": [],
     "language": "python",
     "metadata": {},
     "outputs": []
    },
    {
     "cell_type": "code",
     "collapsed": false,
     "input": [],
     "language": "python",
     "metadata": {},
     "outputs": []
    },
    {
     "cell_type": "code",
     "collapsed": false,
     "input": [
      "\n",
      "data = db.fetch_one_row(\"select * from weather.weather limit 1\")\n",
      "for i in data.query_data._asdict().keys():\n",
      "    print  \"%s,\""
     ],
     "language": "python",
     "metadata": {},
     "outputs": [
      {
       "output_type": "stream",
       "stream": "stdout",
       "text": [
        "%s,\n",
        "%s,\n",
        "%s,\n",
        "%s,\n",
        "%s,\n",
        "%s,\n",
        "%s,\n",
        "%s,\n",
        "%s,\n",
        "%s,\n",
        "%s,\n",
        "%s,\n",
        "%s,\n",
        "%s,\n",
        "%s,\n",
        "%s,\n",
        "%s,\n",
        "%s,\n"
       ]
      }
     ],
     "prompt_number": 12
    },
    {
     "cell_type": "code",
     "collapsed": false,
     "input": [
      "get_data_from_table = '''\n",
      "select \n",
      "    countyid ,\n",
      "    ts ,\n",
      "    weather ,\n",
      "    current_temp ,\n",
      "    high ,\n",
      "    low ,\n",
      "    precipitation_am ,\n",
      "    precipitation_pm ,\n",
      "    dew_point ,\n",
      "    wind_gust ,\n",
      "    humidity_relh ,\n",
      "    slp ,\n",
      "    elevation ,\n",
      "    windchill ,\n",
      "    wind_degree ,\n",
      "    wind_speed ,\n",
      "    wind_direction\n",
      "from weather.{table} order by ts desc\n",
      "'''"
     ],
     "language": "python",
     "metadata": {},
     "outputs": [],
     "prompt_number": 10
    },
    {
     "cell_type": "code",
     "collapsed": false,
     "input": [
      "insert_into_cassandra = '''\n",
      "insert into weather (\n",
      "countyid ,\n",
      "    ts ,\n",
      "    weather ,\n",
      "    current_temp ,\n",
      "    high ,\n",
      "    low ,\n",
      "    precipitation_am ,\n",
      "    precipitation_pm ,\n",
      "    dew_point ,\n",
      "    wind_gust ,\n",
      "    humidity_relh ,\n",
      "    slp ,\n",
      "    elevation ,\n",
      "    windchill ,\n",
      "    wind_degree ,\n",
      "    wind_speed ,\n",
      "    wind_direction\n",
      "    )\n",
      "    \n",
      "values (\n",
      "\n",
      "%s,%s,%s,%s,%s,\n",
      "%s,%s,%s,%s,\n",
      "%s,%s,%s,%s,\n",
      "%s,%s,%s,%s\n",
      ")\n",
      "'''"
     ],
     "language": "python",
     "metadata": {},
     "outputs": [],
     "prompt_number": 11
    },
    {
     "cell_type": "code",
     "collapsed": false,
     "input": [],
     "language": "python",
     "metadata": {},
     "outputs": []
    }
   ],
   "metadata": {}
  }
 ]
}