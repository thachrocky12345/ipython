{
 "metadata": {
  "name": "",
  "signature": "sha256:eeb708681ed65edcdf54ed71a054eae019df2d1a9a355be93f45d3ef2a0af7d2"
 },
 "nbformat": 3,
 "nbformat_minor": 0,
 "worksheets": [
  {
   "cells": [
    {
     "cell_type": "code",
     "collapsed": false,
     "input": [
      "from twisted.web import server, resource\n",
      "from twisted.internet import reactor\n",
      "\n",
      "class Simple(resource.Resource):\n",
      "    isLeaf = True\n",
      "    def render_GET(self, request):\n",
      "        return \"<html>Hello, world!</html>\"\n",
      "\n",
      "site = server.Site(Simple())\n",
      "reactor.listenTCP(8082, site)\n",
      "reactor.run()"
     ],
     "language": "python",
     "metadata": {},
     "outputs": [],
     "prompt_number": 2
    },
    {
     "cell_type": "code",
     "collapsed": false,
     "input": [
      "from twisted.web.server import Site, GzipEncoderFactory\n",
      "from twisted.web.resource import Resource, EncodingResourceWrapper\n",
      "from twisted.internet import reactor\n",
      "\n",
      "class Simple(Resource):\n",
      "    isLeaf = True\n",
      "    def render_GET(self, request):\n",
      "        return \"<html>Hello, world!</html>\"\n",
      "\n",
      "resource = Simple()\n",
      "wrapped = EncodingResourceWrapper(resource, [GzipEncoderFactory()])\n",
      "site = Site(wrapped)\n",
      "reactor.listenTCP(8082, site)\n",
      "reactor.run()"
     ],
     "language": "python",
     "metadata": {},
     "outputs": [],
     "prompt_number": 2
    },
    {
     "cell_type": "code",
     "collapsed": false,
     "input": [
      "# Web proxy\n",
      "from twisted.web import proxy, http\n",
      "from twisted.internet import reactor\n",
      "\n",
      "class ProxyFactory(http.HTTPFactory):\n",
      "    def buildProtocol(self, addr):\n",
      "        return proxy.Proxy()\n",
      "\n",
      "reactor.listenTCP(8082, ProxyFactory('localhost', 8081, ''))\n",
      "reactor.run()"
     ],
     "language": "python",
     "metadata": {},
     "outputs": [
      {
       "output_type": "stream",
       "stream": "stderr",
       "text": [
        "Unhandled Error\n",
        "Traceback (most recent call last):\n",
        "  File \"/usr/lib/python2.7/dist-packages/twisted/python/log.py\", line 101, in callWithLogger\n",
        "    return callWithContext({\"system\": lp}, func, *args, **kw)\n",
        "  File \"/usr/lib/python2.7/dist-packages/twisted/python/log.py\", line 84, in callWithContext\n",
        "    return context.call({ILogContext: newCtx}, func, *args, **kw)\n",
        "  File \"/usr/lib/python2.7/dist-packages/twisted/python/context.py\", line 118, in callWithContext\n",
        "    return self.currentContext().callWithContext(ctx, func, *args, **kw)\n",
        "  File \"/usr/lib/python2.7/dist-packages/twisted/python/context.py\", line 81, in callWithContext\n",
        "    return func(*args,**kw)\n",
        "--- <exception caught here> ---\n",
        "  File \"/usr/lib/python2.7/dist-packages/twisted/internet/posixbase.py\", line 597, in _doReadOrWrite\n",
        "    why = selectable.doRead()\n",
        "  File \"/usr/lib/python2.7/dist-packages/twisted/internet/tcp.py\", line 208, in doRead\n",
        "    return self._dataReceived(data)\n",
        "  File \"/usr/lib/python2.7/dist-packages/twisted/internet/tcp.py\", line 214, in _dataReceived\n",
        "    rval = self.protocol.dataReceived(data)\n",
        "  File \"/usr/lib/python2.7/dist-packages/twisted/protocols/basic.py\", line 571, in dataReceived\n",
        "    why = self.lineReceived(line)\n",
        "  File \"/usr/lib/python2.7/dist-packages/twisted/web/http.py\", line 1752, in lineReceived\n",
        "    self.allContentReceived()\n",
        "  File \"/usr/lib/python2.7/dist-packages/twisted/web/http.py\", line 1845, in allContentReceived\n",
        "    req.requestReceived(command, path, version)\n",
        "  File \"/usr/lib/python2.7/dist-packages/twisted/web/http.py\", line 766, in requestReceived\n",
        "    self.process()\n",
        "  File \"/usr/lib/python2.7/dist-packages/twisted/web/proxy.py\", line 146, in process\n",
        "    port = self.ports[protocol]\n",
        "exceptions.KeyError: ''\n",
        "\n"
       ]
      },
      {
       "output_type": "stream",
       "stream": "stderr",
       "text": [
        "Unhandled Error\n",
        "Traceback (most recent call last):\n",
        "  File \"/usr/lib/python2.7/dist-packages/twisted/python/log.py\", line 101, in callWithLogger\n",
        "    return callWithContext({\"system\": lp}, func, *args, **kw)\n",
        "  File \"/usr/lib/python2.7/dist-packages/twisted/python/log.py\", line 84, in callWithContext\n",
        "    return context.call({ILogContext: newCtx}, func, *args, **kw)\n",
        "  File \"/usr/lib/python2.7/dist-packages/twisted/python/context.py\", line 118, in callWithContext\n",
        "    return self.currentContext().callWithContext(ctx, func, *args, **kw)\n",
        "  File \"/usr/lib/python2.7/dist-packages/twisted/python/context.py\", line 81, in callWithContext\n",
        "    return func(*args,**kw)\n",
        "--- <exception caught here> ---\n",
        "  File \"/usr/lib/python2.7/dist-packages/twisted/internet/posixbase.py\", line 597, in _doReadOrWrite\n",
        "    why = selectable.doRead()\n",
        "  File \"/usr/lib/python2.7/dist-packages/twisted/internet/tcp.py\", line 208, in doRead\n",
        "    return self._dataReceived(data)\n",
        "  File \"/usr/lib/python2.7/dist-packages/twisted/internet/tcp.py\", line 214, in _dataReceived\n",
        "    rval = self.protocol.dataReceived(data)\n",
        "  File \"/usr/lib/python2.7/dist-packages/twisted/protocols/basic.py\", line 571, in dataReceived\n",
        "    why = self.lineReceived(line)\n",
        "  File \"/usr/lib/python2.7/dist-packages/twisted/web/http.py\", line 1752, in lineReceived\n",
        "    self.allContentReceived()\n",
        "  File \"/usr/lib/python2.7/dist-packages/twisted/web/http.py\", line 1845, in allContentReceived\n",
        "    req.requestReceived(command, path, version)\n",
        "  File \"/usr/lib/python2.7/dist-packages/twisted/web/http.py\", line 766, in requestReceived\n",
        "    self.process()\n",
        "  File \"/usr/lib/python2.7/dist-packages/twisted/web/proxy.py\", line 146, in process\n",
        "    port = self.ports[protocol]\n",
        "exceptions.KeyError: ''\n",
        "\n"
       ]
      },
      {
       "output_type": "stream",
       "stream": "stderr",
       "text": [
        "Unhandled Error\n",
        "Traceback (most recent call last):\n",
        "  File \"/usr/lib/python2.7/dist-packages/twisted/python/log.py\", line 101, in callWithLogger\n",
        "    return callWithContext({\"system\": lp}, func, *args, **kw)\n",
        "  File \"/usr/lib/python2.7/dist-packages/twisted/python/log.py\", line 84, in callWithContext\n",
        "    return context.call({ILogContext: newCtx}, func, *args, **kw)\n",
        "  File \"/usr/lib/python2.7/dist-packages/twisted/python/context.py\", line 118, in callWithContext\n",
        "    return self.currentContext().callWithContext(ctx, func, *args, **kw)\n",
        "  File \"/usr/lib/python2.7/dist-packages/twisted/python/context.py\", line 81, in callWithContext\n",
        "    return func(*args,**kw)\n",
        "--- <exception caught here> ---\n",
        "  File \"/usr/lib/python2.7/dist-packages/twisted/internet/posixbase.py\", line 597, in _doReadOrWrite\n",
        "    why = selectable.doRead()\n",
        "  File \"/usr/lib/python2.7/dist-packages/twisted/internet/tcp.py\", line 208, in doRead\n",
        "    return self._dataReceived(data)\n",
        "  File \"/usr/lib/python2.7/dist-packages/twisted/internet/tcp.py\", line 214, in _dataReceived\n",
        "    rval = self.protocol.dataReceived(data)\n",
        "  File \"/usr/lib/python2.7/dist-packages/twisted/protocols/basic.py\", line 571, in dataReceived\n",
        "    why = self.lineReceived(line)\n",
        "  File \"/usr/lib/python2.7/dist-packages/twisted/web/http.py\", line 1752, in lineReceived\n",
        "    self.allContentReceived()\n",
        "  File \"/usr/lib/python2.7/dist-packages/twisted/web/http.py\", line 1845, in allContentReceived\n",
        "    req.requestReceived(command, path, version)\n",
        "  File \"/usr/lib/python2.7/dist-packages/twisted/web/http.py\", line 766, in requestReceived\n",
        "    self.process()\n",
        "  File \"/usr/lib/python2.7/dist-packages/twisted/web/proxy.py\", line 146, in process\n",
        "    port = self.ports[protocol]\n",
        "exceptions.KeyError: ''\n",
        "\n"
       ]
      },
      {
       "output_type": "stream",
       "stream": "stderr",
       "text": [
        "Unhandled Error\n",
        "Traceback (most recent call last):\n",
        "  File \"/usr/lib/python2.7/dist-packages/twisted/python/log.py\", line 101, in callWithLogger\n",
        "    return callWithContext({\"system\": lp}, func, *args, **kw)\n",
        "  File \"/usr/lib/python2.7/dist-packages/twisted/python/log.py\", line 84, in callWithContext\n",
        "    return context.call({ILogContext: newCtx}, func, *args, **kw)\n",
        "  File \"/usr/lib/python2.7/dist-packages/twisted/python/context.py\", line 118, in callWithContext\n",
        "    return self.currentContext().callWithContext(ctx, func, *args, **kw)\n",
        "  File \"/usr/lib/python2.7/dist-packages/twisted/python/context.py\", line 81, in callWithContext\n",
        "    return func(*args,**kw)\n",
        "--- <exception caught here> ---\n",
        "  File \"/usr/lib/python2.7/dist-packages/twisted/internet/posixbase.py\", line 597, in _doReadOrWrite\n",
        "    why = selectable.doRead()\n",
        "  File \"/usr/lib/python2.7/dist-packages/twisted/internet/tcp.py\", line 208, in doRead\n",
        "    return self._dataReceived(data)\n",
        "  File \"/usr/lib/python2.7/dist-packages/twisted/internet/tcp.py\", line 214, in _dataReceived\n",
        "    rval = self.protocol.dataReceived(data)\n",
        "  File \"/usr/lib/python2.7/dist-packages/twisted/protocols/basic.py\", line 571, in dataReceived\n",
        "    why = self.lineReceived(line)\n",
        "  File \"/usr/lib/python2.7/dist-packages/twisted/web/http.py\", line 1752, in lineReceived\n",
        "    self.allContentReceived()\n",
        "  File \"/usr/lib/python2.7/dist-packages/twisted/web/http.py\", line 1845, in allContentReceived\n",
        "    req.requestReceived(command, path, version)\n",
        "  File \"/usr/lib/python2.7/dist-packages/twisted/web/http.py\", line 766, in requestReceived\n",
        "    self.process()\n",
        "  File \"/usr/lib/python2.7/dist-packages/twisted/web/proxy.py\", line 146, in process\n",
        "    port = self.ports[protocol]\n",
        "exceptions.KeyError: ''\n",
        "\n"
       ]
      },
      {
       "output_type": "stream",
       "stream": "stderr",
       "text": [
        "Unhandled Error\n",
        "Traceback (most recent call last):\n",
        "  File \"/usr/lib/python2.7/dist-packages/twisted/python/log.py\", line 101, in callWithLogger\n",
        "    return callWithContext({\"system\": lp}, func, *args, **kw)\n",
        "  File \"/usr/lib/python2.7/dist-packages/twisted/python/log.py\", line 84, in callWithContext\n",
        "    return context.call({ILogContext: newCtx}, func, *args, **kw)\n",
        "  File \"/usr/lib/python2.7/dist-packages/twisted/python/context.py\", line 118, in callWithContext\n",
        "    return self.currentContext().callWithContext(ctx, func, *args, **kw)\n",
        "  File \"/usr/lib/python2.7/dist-packages/twisted/python/context.py\", line 81, in callWithContext\n",
        "    return func(*args,**kw)\n",
        "--- <exception caught here> ---\n",
        "  File \"/usr/lib/python2.7/dist-packages/twisted/internet/posixbase.py\", line 597, in _doReadOrWrite\n",
        "    why = selectable.doRead()\n",
        "  File \"/usr/lib/python2.7/dist-packages/twisted/internet/tcp.py\", line 208, in doRead\n",
        "    return self._dataReceived(data)\n",
        "  File \"/usr/lib/python2.7/dist-packages/twisted/internet/tcp.py\", line 214, in _dataReceived\n",
        "    rval = self.protocol.dataReceived(data)\n",
        "  File \"/usr/lib/python2.7/dist-packages/twisted/protocols/basic.py\", line 571, in dataReceived\n",
        "    why = self.lineReceived(line)\n",
        "  File \"/usr/lib/python2.7/dist-packages/twisted/web/http.py\", line 1752, in lineReceived\n",
        "    self.allContentReceived()\n",
        "  File \"/usr/lib/python2.7/dist-packages/twisted/web/http.py\", line 1845, in allContentReceived\n",
        "    req.requestReceived(command, path, version)\n",
        "  File \"/usr/lib/python2.7/dist-packages/twisted/web/http.py\", line 766, in requestReceived\n",
        "    self.process()\n",
        "  File \"/usr/lib/python2.7/dist-packages/twisted/web/proxy.py\", line 146, in process\n",
        "    port = self.ports[protocol]\n",
        "exceptions.KeyError: ''\n",
        "\n"
       ]
      }
     ],
     "prompt_number": 1
    },
    {
     "cell_type": "code",
     "collapsed": false,
     "input": [
      "from twisted.internet import reactor\n",
      "from twisted.web import proxy, server\n",
      "\n",
      "site = server.Site(proxy.ReverseProxyResource('www.yahoo.com', 80, ''))\n",
      "reactor.listenTCP(8082, site)\n",
      "reactor.run()"
     ],
     "language": "python",
     "metadata": {},
     "outputs": [],
     "prompt_number": 3
    },
    {
     "cell_type": "code",
     "collapsed": false,
     "input": [
      "from twisted.internet import reactor\n",
      "from twisted.web import static, server\n",
      "\n",
      "root = static.File(\"/home/thachbui/workstation/weather_map/\")\n",
      "root.putChild(\"weather\", static.File(\"/home/thachbui/Desktop/ipython/twisted_web\"))\n",
      "reactor.listenTCP(8081, server.Site(root))\n",
      "reactor.run()"
     ],
     "language": "python",
     "metadata": {},
     "outputs": [],
     "prompt_number": 1
    },
    {
     "cell_type": "code",
     "collapsed": false,
     "input": [
      "from twisted.application import internet, service\n",
      "from twisted.web import proxy, server, vhost"
     ],
     "language": "python",
     "metadata": {},
     "outputs": [],
     "prompt_number": 1
    },
    {
     "cell_type": "code",
     "collapsed": false,
     "input": [
      "root = vhost.NameVirtualHost()"
     ],
     "language": "python",
     "metadata": {},
     "outputs": [],
     "prompt_number": 2
    },
    {
     "cell_type": "code",
     "collapsed": false,
     "input": [
      "root.listNames()"
     ],
     "language": "python",
     "metadata": {},
     "outputs": [
      {
       "metadata": {},
       "output_type": "pyout",
       "prompt_number": 3,
       "text": [
        "[]"
       ]
      }
     ],
     "prompt_number": 3
    },
    {
     "cell_type": "code",
     "collapsed": false,
     "input": [
      "root.listStaticNames."
     ],
     "language": "python",
     "metadata": {},
     "outputs": [
      {
       "metadata": {},
       "output_type": "pyout",
       "prompt_number": 6,
       "text": [
        "<bound method NameVirtualHost.listStaticNames of <twisted.web.vhost.NameVirtualHost instance at 0x7f8031bb7bd8>>"
       ]
      }
     ],
     "prompt_number": 6
    },
    {
     "cell_type": "code",
     "collapsed": false,
     "input": [],
     "language": "python",
     "metadata": {},
     "outputs": []
    }
   ],
   "metadata": {}
  }
 ]
}