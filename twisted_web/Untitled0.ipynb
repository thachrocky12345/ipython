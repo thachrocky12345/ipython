{
 "metadata": {
  "name": "",
  "signature": "sha256:555d2cb8439947e2de869402ed4d0d20a8a3c557bfb37caf6f95e45f8fef5e2d"
 },
 "nbformat": 3,
 "nbformat_minor": 0,
 "worksheets": [
  {
   "cells": [
    {
     "cell_type": "code",
     "collapsed": false,
     "input": [
      "import sys\n",
      "sys.path.append(\"/home/thachbui/workstation/fn3/intercept/src/\")\n",
      "from lib import amp, uom\n",
      "from twisted.internet import reactor\n",
      "# from lib import amp, uom\n",
      "\n",
      "class Server(object):\n",
      "    def add(self, arg1, arg2):\n",
      "        print \"add\", arg1, arg2\n",
      "        return arg1 + arg2\n",
      "s = amp.AmpServer(Server())\n",
      "reactor.listenTCP(4444, s)\n",
      "reactor.run()"
     ],
     "language": "python",
     "metadata": {},
     "outputs": []
    },
    {
     "cell_type": "code",
     "collapsed": false,
     "input": [
      "@defer.inlineCallbacks"
     ],
     "language": "python",
     "metadata": {},
     "outputs": [
      {
       "ename": "SyntaxError",
       "evalue": "unexpected EOF while parsing (<ipython-input-1-52619f1241b3>, line 1)",
       "output_type": "pyerr",
       "traceback": [
        "\u001b[1;36m  File \u001b[1;32m\"<ipython-input-1-52619f1241b3>\"\u001b[1;36m, line \u001b[1;32m1\u001b[0m\n\u001b[1;33m    @defer.inlineCallbacks\u001b[0m\n\u001b[1;37m                          ^\u001b[0m\n\u001b[1;31mSyntaxError\u001b[0m\u001b[1;31m:\u001b[0m unexpected EOF while parsing\n"
       ]
      }
     ],
     "prompt_number": 1
    },
    {
     "cell_type": "code",
     "collapsed": false,
     "input": [],
     "language": "python",
     "metadata": {},
     "outputs": []
    }
   ],
   "metadata": {}
  }
 ]
}