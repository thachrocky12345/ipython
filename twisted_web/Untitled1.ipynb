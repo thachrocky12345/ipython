{
 "metadata": {
  "name": "",
  "signature": "sha256:daf0fb2dabe3a2bee11104ece9db5d9d203ad78547719e8cb1694c46236790a0"
 },
 "nbformat": 3,
 "nbformat_minor": 0,
 "worksheets": [
  {
   "cells": [
    {
     "cell_type": "code",
     "collapsed": false,
     "input": [
      "import sys\n",
      "sys.path.append(\"/home/thachbui/workstation/fn3/intercept/src/\")\n",
      "from lib import amp, uom\n",
      "from twisted.internet import reactor, defer\n",
      "# from lib.uom import Uom\n",
      "@defer.inlineCallbacks\n",
      "def test():\n",
      "    a = Uom(12, uom.Meter)\n",
      "    b = Uom(13, uom.Meter)\n",
      "    proxy = amp.AmpClient('localhost', 4444)\n",
      "    value = yield proxy.call_remote('add', a, b)\n",
      "    print value\n",
      "    reactor.stop()\n",
      "test()\n",
      "reactor.run()"
     ],
     "language": "python",
     "metadata": {},
     "outputs": [
      {
       "output_type": "stream",
       "stream": "stderr",
       "text": [
        "Unhandled error in Deferred:\n"
       ]
      },
      {
       "output_type": "stream",
       "stream": "stderr",
       "text": [
        "\n",
        "\n",
        "(UNABLE TO OBTAIN TRACEBACK FROM EVENT)\n"
       ]
      }
     ]
    },
    {
     "cell_type": "code",
     "collapsed": false,
     "input": [
      "a = uom.Uom(12, uom.Meter)"
     ],
     "language": "python",
     "metadata": {},
     "outputs": [],
     "prompt_number": 3
    },
    {
     "cell_type": "code",
     "collapsed": false,
     "input": [
      "a.value"
     ],
     "language": "python",
     "metadata": {},
     "outputs": [
      {
       "metadata": {},
       "output_type": "pyout",
       "prompt_number": 8,
       "text": [
        "12"
       ]
      }
     ],
     "prompt_number": 8
    },
    {
     "cell_type": "code",
     "collapsed": false,
     "input": [
      "from dill import dumps, loads\n",
      "import sys\n",
      "sys.path.append(\"/home/thachbui/workstation/fn3/intercept/src/\")\n",
      "from lib import amp, uom\n",
      "# from twisted.internet import reactor, defer\n",
      "# from lib.uom import Uom"
     ],
     "language": "python",
     "metadata": {},
     "outputs": [],
     "prompt_number": 11
    },
    {
     "cell_type": "code",
     "collapsed": false,
     "input": [
      "a = uom.Uom(12, uom.Meter)"
     ],
     "language": "python",
     "metadata": {},
     "outputs": [],
     "prompt_number": 12
    },
    {
     "cell_type": "code",
     "collapsed": false,
     "input": [
      "b = dumps(a, 2)\n",
      "b"
     ],
     "language": "python",
     "metadata": {},
     "outputs": [
      {
       "metadata": {},
       "output_type": "pyout",
       "prompt_number": 13,
       "text": [
        "'\\x80\\x02clib.uom\\nUom\\nq\\x00)\\x81q\\x01}q\\x02(U\\x05valueq\\x03K\\x0cU\\x03uomq\\x04clib.uom\\nBaseLength\\nq\\x05)\\x81q\\x06}q\\x07(U\\x12convert_from_base1q\\x08cdill.dill\\n_create_function\\nq\\t(cdill.dill\\n_load_type\\nq\\nU\\x08CodeTypeq\\x0b\\x85q\\x0cRq\\r(K\\x01K\\x01K\\x01MC U\\x04|\\x00\\x00Sq\\x0eN\\x85q\\x0f)h\\x03\\x85q\\x10U7/home/thachbui/workstation/fn3/intercept/src/lib/uom.pyq\\x11U\\x08<lambda>q\\x12M\\xc0\\x01U\\x00q\\x13))tq\\x14Rq\\x15clib.uom\\n__dict__\\nh\\x12NN}q\\x16tq\\x17Rq\\x18U\\x10convert_to_base1q\\x19h\\t(h\\x15clib.uom\\n__dict__\\nh\\x12NN}q\\x1atq\\x1bRq\\x1cubU\\nbase_valueq\\x1dK\\x0cub.'"
       ]
      }
     ],
     "prompt_number": 13
    },
    {
     "cell_type": "code",
     "collapsed": false,
     "input": [
      "loads(b)"
     ],
     "language": "python",
     "metadata": {},
     "outputs": [
      {
       "metadata": {},
       "output_type": "pyout",
       "prompt_number": 14,
       "text": [
        "< Uom, value: 12, uom: Meter >"
       ]
      }
     ],
     "prompt_number": 14
    },
    {
     "cell_type": "code",
     "collapsed": false,
     "input": [],
     "language": "python",
     "metadata": {},
     "outputs": []
    }
   ],
   "metadata": {}
  }
 ]
}