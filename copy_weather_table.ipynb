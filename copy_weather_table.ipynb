{
 "metadata": {
  "name": "",
  "signature": "sha256:2783235ab9df1d5be288a18d5c947c9e5218365c57b3f7ace142f413e5d1a2f6"
 },
 "nbformat": 3,
 "nbformat_minor": 0,
 "worksheets": [
  {
   "cells": [
    {
     "cell_type": "code",
     "collapsed": false,
     "input": [
      "import sys\n",
      "sys.path.append(\"/home/thachbui/workstation/elecsys_database/\")\n",
      "\n",
      "from database import PgsqlExecutor\n",
      "from pgpass import PgPass\n",
      "\n",
      "PgPass_from = PgPass('decoded', 'thachbui', 'fed', 9999)\n",
      "\n",
      "db = PgsqlExecutor(PgPass_from)\n",
      "\n",
      "PgPass_to = PgPass('decoded', 'thachbui', 'gp', 5432)\n",
      "droplet = PgsqlExecutor(PgPass_to)"
     ],
     "language": "python",
     "metadata": {},
     "outputs": [],
     "prompt_number": 1
    },
    {
     "cell_type": "code",
     "collapsed": false,
     "input": [
      "def tables(db):\n",
      "    get_weather_tables = '''\n",
      "    SELECT c.relname weather_table\n",
      "        FROM pg_catalog.pg_class c\n",
      "        LEFT JOIN pg_catalog.pg_namespace n ON n.oid = c.relnamespace\n",
      "        WHERE n.nspname = 'weather'\n",
      "        AND c.relname like 'weather_2%' order by 1\n",
      "    '''\n",
      "    \n",
      "    ret = db.fetch_all_rows(get_weather_tables)\n",
      "    for row in ret.query_data:\n",
      "        yield row.weather_table"
     ],
     "language": "python",
     "metadata": {},
     "outputs": [],
     "prompt_number": 2
    },
    {
     "cell_type": "code",
     "collapsed": false,
     "input": [
      "# def copy_table_fromdb_todb(table_name, from_db, to_db):\n",
      "#     \"\"\"\n",
      "#     This function is used to copy across databases\n",
      "#     :param table_name:\n",
      "#     :param from_db: dictionary\n",
      "#     :param to_db: dictionary\n",
      "\n",
      "#     \"\"\"\n",
      "# #     log.info(\"Copy table from {}:{} to {}:{}\".format(from_db['database'], from_db['host'],\n",
      "# #                                                      to_db['database'], to_db['host']))\n",
      "#     temp_file_name = \"/tmp/{}.txt\".format(table_name)\n",
      "# #     log.info(\"copy_file_dump: {}\".format(temp_file_name))\n",
      "\n",
      "#     from_db_conn = PgsqlExecutor(from_db)\n",
      "#     from_db_conn.copy_table_to_file(table_name, temp_file_name)\n",
      "#     to_db_conn = PgsqlExecutor(to_db)\n",
      "#     to_db_conn.copy_table_from_file(table_name, temp_file_name)\n",
      "\n",
      "#     from_db_conn.close()\n",
      "#     to_db_conn.close()\n",
      "    \n",
      "\n",
      "def copy_table_fromdb_todb(table_name, from_db, to_db):\n",
      "    \"\"\"\n",
      "    This function is used to copy across databases\n",
      "    :param table_name:\n",
      "    :param from_db: dictionary\n",
      "    :param to_db: dictionary\n",
      "\n",
      "    \"\"\"\n",
      "    # log.info(\"Copy table from {}:{} to {}:{}\".format(from_db.database, from_db.host,\n",
      "    #                                                  to_db.database, to_db.host))\n",
      "    temp_file_name = \"/tmp/{}.txt\".format(table_name)\n",
      "    # log.info(\"copy_file_dump: {}\".format(temp_file_name))\n",
      "\n",
      "    from_db_conn = PgsqlExecutor(from_db)\n",
      "    from_db_conn.copy_table_to_file(table_name, temp_file_name)\n",
      "    to_db_conn = PgsqlExecutor(to_db)\n",
      "\n",
      "    sql = '''\n",
      "    copy weather.weather\n",
      "        ( weather_id, countyid, ts, weather, current_temp, high, low, precipitation_am,\n",
      "       precipitation_pm, dew_point, wind_gust, humidity_relh, slp, elevation,\n",
      "       windchill, wind_degree, wind_speed, wind_direction) from stdin WITH DELIMITER E'\\t';\n",
      "\n",
      "    '''.format(table_name)\n",
      "    to_db_conn.copy_edit_from_file(sql, temp_file_name)\n",
      "\n",
      "    from_db_conn.close()\n",
      "    to_db_conn.close()\n"
     ],
     "language": "python",
     "metadata": {},
     "outputs": [],
     "prompt_number": 9
    },
    {
     "cell_type": "code",
     "collapsed": false,
     "input": [
      "from datetime import date\n",
      "for table in tables(db):\n",
      "    # self.drop_table(table)\n",
      "    date_str = table[8:]\n",
      "    date_entry = date(int(date_str[0:4]),\n",
      "                      int(date_str[4:6]),\n",
      "                      int(date_str[6:8]))\n",
      "    if int(date_str) > 20170214:\n",
      "        print table\n",
      "        try:\n",
      "            copy_table_fromdb_todb(table_name='weather.{}'.format(table),\n",
      "                                   from_db=PgPass_from,\n",
      "                                   to_db=PgPass_to)\n",
      "        except Exception as error:\n",
      "            print error\n",
      "            raise\n",
      "#         break\n",
      "            \n",
      "        \n",
      "        "
     ],
     "language": "python",
     "metadata": {},
     "outputs": [
      {
       "output_type": "stream",
       "stream": "stdout",
       "text": [
        "weather_20170215\n",
        "weather_20170216"
       ]
      },
      {
       "output_type": "stream",
       "stream": "stdout",
       "text": [
        "\n",
        "weather_20170217"
       ]
      },
      {
       "output_type": "stream",
       "stream": "stdout",
       "text": [
        "\n",
        "weather_20170218"
       ]
      },
      {
       "output_type": "stream",
       "stream": "stdout",
       "text": [
        "\n",
        "weather_20170219"
       ]
      },
      {
       "output_type": "stream",
       "stream": "stdout",
       "text": [
        "\n",
        "weather_20170220"
       ]
      },
      {
       "output_type": "stream",
       "stream": "stdout",
       "text": [
        "\n"
       ]
      }
     ],
     "prompt_number": 13
    },
    {
     "cell_type": "code",
     "collapsed": false,
     "input": [
      "sql= ''' select * from weather.weather where\n",
      "ts >= '2017-02-14'::date and ts < '2017-02-15'::date and countyid = 'mo101' order by ts desc limit 5\n",
      "'''\n",
      "for row in droplet.fetch_all_rows(sql).query_data:\n",
      "    print row"
     ],
     "language": "python",
     "metadata": {},
     "outputs": [
      {
       "output_type": "stream",
       "stream": "stdout",
       "text": [
        "Record(weather_id=104019317, countyid='mo101', ts=datetime.datetime(2017, 2, 14, 23, 21, 25, 751249), weather='Mostly Clear', current_temp=39.0, high=48.0, low=28.0, precipitation_am=None, precipitation_pm=None, dew_point=27.0, wind_gust=0.0, humidity_relh=61.0, slp=29.98, elevation=798.0, windchill=34.0, wind_degree=310.0, wind_speed=7.0, wind_direction='NW')\n",
        "Record(weather_id=104016099, countyid='mo101', ts=datetime.datetime(2017, 2, 14, 22, 22, 33, 438064), weather='Mostly Clear', current_temp=41.0, high=48.0, low=28.0, precipitation_am=None, precipitation_pm=None, dew_point=25.0, wind_gust=0.0, humidity_relh=53.0, slp=29.99, elevation=798.0, windchill=36.0, wind_degree=310.0, wind_speed=8.0, wind_direction='NW')\n",
        "Record(weather_id=104012881, countyid='mo101', ts=datetime.datetime(2017, 2, 14, 21, 21, 19, 36405), weather='Mostly Clear', current_temp=41.0, high=48.0, low=28.0, precipitation_am=None, precipitation_pm=None, dew_point=23.0, wind_gust=0.0, humidity_relh=49.0, slp=29.98, elevation=798.0, windchill=37.0, wind_degree=300.0, wind_speed=6.0, wind_direction='WNW')\n",
        "Record(weather_id=104009663, countyid='mo101', ts=datetime.datetime(2017, 2, 14, 20, 20, 58, 382886), weather='Mostly Clear', current_temp=43.0, high=48.0, low=28.0, precipitation_am=None, precipitation_pm=None, dew_point=25.0, wind_gust=0.0, humidity_relh=49.0, slp=29.97, elevation=798.0, windchill=40.0, wind_degree=270.0, wind_speed=5.0, wind_direction='W')\n",
        "Record(weather_id=104006445, countyid='mo101', ts=datetime.datetime(2017, 2, 14, 19, 18, 33, 625393), weather='Mostly Clear', current_temp=45.0, high=48.0, low=28.0, precipitation_am=None, precipitation_pm=None, dew_point=23.0, wind_gust=0.0, humidity_relh=43.0, slp=29.96, elevation=798.0, windchill=42.0, wind_degree=290.0, wind_speed=5.0, wind_direction='WNW')\n"
       ]
      }
     ],
     "prompt_number": 11
    },
    {
     "cell_type": "code",
     "collapsed": false,
     "input": [],
     "language": "python",
     "metadata": {},
     "outputs": []
    }
   ],
   "metadata": {}
  }
 ]
}