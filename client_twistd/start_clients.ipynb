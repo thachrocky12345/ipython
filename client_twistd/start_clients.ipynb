{
 "metadata": {
  "name": "",
  "signature": "sha256:286b1bcc0de5dfb6a83f06e5957492ce7acaa70539978c7d36cd25176e4f050d"
 },
 "nbformat": 3,
 "nbformat_minor": 0,
 "worksheets": [
  {
   "cells": [
    {
     "cell_type": "code",
     "collapsed": false,
     "input": [
      "pwd\n"
     ],
     "language": "python",
     "metadata": {},
     "outputs": [
      {
       "metadata": {},
       "output_type": "pyout",
       "prompt_number": 1,
       "text": [
        "u'/home/thachbui/Desktop/ipython/client_twistd'"
       ]
      }
     ],
     "prompt_number": 1
    },
    {
     "cell_type": "code",
     "collapsed": false,
     "input": [],
     "language": "python",
     "metadata": {},
     "outputs": []
    }
   ],
   "metadata": {}
  }
 ]
}