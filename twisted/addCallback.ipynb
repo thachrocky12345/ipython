{
 "metadata": {
  "name": "",
  "signature": "sha256:7506ea7fa6d217d7aab4360cde192c53db64d1d5831abae5a9450935a8bb8280"
 },
 "nbformat": 3,
 "nbformat_minor": 0,
 "worksheets": [
  {
   "cells": [
    {
     "cell_type": "code",
     "collapsed": false,
     "input": [
      "from twisted.internet.defer import Deferred\n",
      "def myCallback(result):\n",
      "    print result\n",
      "    \n",
      "d = Deferred()\n",
      "d.addCallback(myCallback)\n",
      "d.callback(\"Triggering callback.\")"
     ],
     "language": "python",
     "metadata": {},
     "outputs": [
      {
       "output_type": "stream",
       "stream": "stdout",
       "text": [
        "Triggering callback.\n"
       ]
      }
     ],
     "prompt_number": 3
    },
    {
     "cell_type": "code",
     "collapsed": false,
     "input": [
      "from twisted.internet import defer, reactor\n",
      "def myCallback(result):\n",
      "    print result\n",
      "    \n",
      "\n",
      "\n",
      "print_result()\n",
      "reactor.run()\n"
     ],
     "language": "python",
     "metadata": {},
     "outputs": [
      {
       "output_type": "stream",
       "stream": "stdout",
       "text": [
        "test\n"
       ]
      },
      {
       "ename": "TypeError",
       "evalue": "inlineCallbacks requires <function print_result at 0x7f0bed1cd8c0> to produce a generator; instead got None",
       "output_type": "pyerr",
       "traceback": [
        "\u001b[1;31m---------------------------------------------------------------------------\u001b[0m\n\u001b[1;31mTypeError\u001b[0m                                 Traceback (most recent call last)",
        "\u001b[1;32m<ipython-input-8-fe6540e5c358>\u001b[0m in \u001b[0;36m<module>\u001b[1;34m()\u001b[0m\n\u001b[0;32m      7\u001b[0m     \u001b[0mmyCallback\u001b[0m\u001b[1;33m(\u001b[0m\u001b[1;34m\"test\"\u001b[0m\u001b[1;33m)\u001b[0m\u001b[1;33m\u001b[0m\u001b[0m\n\u001b[0;32m      8\u001b[0m \u001b[1;33m\u001b[0m\u001b[0m\n\u001b[1;32m----> 9\u001b[1;33m \u001b[0mprint_result\u001b[0m\u001b[1;33m(\u001b[0m\u001b[1;33m)\u001b[0m\u001b[1;33m\u001b[0m\u001b[0m\n\u001b[0m\u001b[0;32m     10\u001b[0m \u001b[0mreactor\u001b[0m\u001b[1;33m.\u001b[0m\u001b[0mrun\u001b[0m\u001b[1;33m(\u001b[0m\u001b[1;33m)\u001b[0m\u001b[1;33m\u001b[0m\u001b[0m\n",
        "\u001b[1;32m/usr/lib/python2.7/dist-packages/twisted/internet/defer.pyc\u001b[0m in \u001b[0;36munwindGenerator\u001b[1;34m(*args, **kwargs)\u001b[0m\n\u001b[0;32m   1328\u001b[0m             raise TypeError(\n\u001b[0;32m   1329\u001b[0m                 \u001b[1;34m\"inlineCallbacks requires %r to produce a generator; \"\u001b[0m\u001b[1;33m\u001b[0m\u001b[0m\n\u001b[1;32m-> 1330\u001b[1;33m                 \"instead got %r\" % (f, gen))\n\u001b[0m\u001b[0;32m   1331\u001b[0m         \u001b[1;32mreturn\u001b[0m \u001b[0m_inlineCallbacks\u001b[0m\u001b[1;33m(\u001b[0m\u001b[0mNone\u001b[0m\u001b[1;33m,\u001b[0m \u001b[0mgen\u001b[0m\u001b[1;33m,\u001b[0m \u001b[0mDeferred\u001b[0m\u001b[1;33m(\u001b[0m\u001b[1;33m)\u001b[0m\u001b[1;33m)\u001b[0m\u001b[1;33m\u001b[0m\u001b[0m\n\u001b[0;32m   1332\u001b[0m     \u001b[1;32mreturn\u001b[0m \u001b[0munwindGenerator\u001b[0m\u001b[1;33m\u001b[0m\u001b[0m\n",
        "\u001b[1;31mTypeError\u001b[0m: inlineCallbacks requires <function print_result at 0x7f0bed1cd8c0> to produce a generator; instead got None"
       ]
      }
     ],
     "prompt_number": 8
    },
    {
     "cell_type": "code",
     "collapsed": false,
     "input": [],
     "language": "python",
     "metadata": {},
     "outputs": []
    }
   ],
   "metadata": {}
  }
 ]
}