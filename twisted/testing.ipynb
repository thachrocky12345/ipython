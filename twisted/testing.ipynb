{
 "metadata": {
  "name": "",
  "signature": "sha256:709e998e3aa5b1951f1a080180a2296dec47a81123cb17b9539e16eccc609070"
 },
 "nbformat": 3,
 "nbformat_minor": 0,
 "worksheets": [
  {
   "cells": [
    {
     "cell_type": "code",
     "collapsed": false,
     "input": [
      "import sys\n",
      "sys.path.insert(0, '/home/thachbui/worktation/fn3/python_shared_lib/lib')\n",
      "from db import pgdb\n",
      "from twisted.internet import defer, reactor\n",
      "from datetime import datetime\n",
      "import sys\n",
      "\n",
      "def test(result):\n",
      "    print result\n",
      "    sys.stdout.flush()\n",
      "\n",
      "@defer.inlineCallbacks\n",
      "def stop(db, arg):\n",
      "    print arg\n",
      "    sys.stdout.flush()\n",
      "    print \"flushed\"\n",
      "    a = db.execute_sql_fetchone(\"SELECT pg_sleep(5), 1\", read_only=True, dict={})\n",
      "    print \"sleep 5\"\n",
      "    b = db.execute_sql_fetchone(\"SELECT pg_sleep(15), 2\")\n",
      "    print \"sleep 15\"\n",
      "    a = yield a\n",
      "    b = yield b\n",
      "    print \"return\"\n",
      "    defer.returnValue((a, b))\n",
      "    \n",
      "\n",
      "\n",
      "@defer.inlineCallbacks\n",
      "def run():\n",
      "    start_time = datetime.now()\n",
      "    db = pgdb.ConnectionPool(\"host='localhost' port='5432' dbname='wre_fn' user='wre_fn' password='Ji1SR7AljkqJkX1x0e'\", max_connections=2, remove_time=2, connection_kwargs={'statement_timeout': 0})\n",
      "\n",
      "    thread = []\n",
      "    for x in range(2):\n",
      "        a = stop(db, x)\n",
      "        thread.append(a)\n",
      "    \n",
      "    print \"after ran yield function\"\n",
      "    print \"time: {}\".format(datetime.now() - start_time)\n",
      "    start_time = datetime.now()\n",
      "    for t in thread:\n",
      "        t = yield t\n",
      "        print \"Return Time: {} - t: {}\".format(datetime.now()-start_time, t)\n",
      "        \n",
      "    reactor.stop()\n",
      "\n",
      "run()\n",
      "\n"
     ],
     "language": "python",
     "metadata": {},
     "outputs": [
      {
       "output_type": "stream",
       "stream": "stdout",
       "text": [
        "0\n"
       ]
      },
      {
       "output_type": "stream",
       "stream": "stdout",
       "text": [
        "flushed\n",
        "sleep 5\n",
        "sleep 15\n",
        "1\n"
       ]
      },
      {
       "output_type": "stream",
       "stream": "stdout",
       "text": [
        "flushed\n",
        "sleep 5\n",
        "sleep 15\n",
        "after ran yield function\n",
        "time: 0:00:00.002424\n"
       ]
      },
      {
       "metadata": {},
       "output_type": "pyout",
       "prompt_number": 1,
       "text": [
        "<Deferred at 0x7ff35b4ffef0>"
       ]
      }
     ],
     "prompt_number": 1
    },
    {
     "cell_type": "code",
     "collapsed": false,
     "input": [
      "reactor.run()"
     ],
     "language": "python",
     "metadata": {},
     "outputs": [
      {
       "output_type": "stream",
       "stream": "stdout",
       "text": [
        "return\n",
        "Return Time: 0:00:18.067067 - t: ({'?column?': 1, 'pg_sleep': ''}, {'?column?': 2, 'pg_sleep': ''})\n",
        "return"
       ]
      },
      {
       "output_type": "stream",
       "stream": "stdout",
       "text": [
        "\n",
        "Return Time: 0:00:28.070350 - t: ({'?column?': 1, 'pg_sleep': ''}, {'?column?': 2, 'pg_sleep': ''})\n"
       ]
      }
     ],
     "prompt_number": 2
    },
    {
     "cell_type": "code",
     "collapsed": false,
     "input": [
      "del reactor"
     ],
     "language": "python",
     "metadata": {},
     "outputs": [],
     "prompt_number": 4
    },
    {
     "cell_type": "code",
     "collapsed": false,
     "input": [],
     "language": "python",
     "metadata": {},
     "outputs": []
    }
   ],
   "metadata": {}
  }
 ]
}