{
 "metadata": {
  "name": "",
  "signature": "sha256:f12a37fe0b5e88b461aa52ec1f96c3b19338638a186fdd22e90e9dd82acaecf2"
 },
 "nbformat": 3,
 "nbformat_minor": 0,
 "worksheets": [
  {
   "cells": [
    {
     "cell_type": "code",
     "collapsed": false,
     "input": [
      "from twisted.internet import reactor, protocol\n",
      "\n",
      "class QuoteProtocol(protocol.Protocol):\n",
      "    def __init__(self, factory):\n",
      "        self.factory = factory\n",
      "        \n",
      "    def connectionMade(self):\n",
      "        self.sendQuote()\n",
      "    \n",
      "    def sendQuote(self):\n",
      "        self.transport.write(self.factory.quote)\n",
      "    def dataReceived(self, data):\n",
      "        print \"Received quote:\", data\n",
      "        self.transport.loseConnection()\n",
      "        \n",
      "class QuoteClientFactory(protocol.ClientFactory):\n",
      "    def __init__(self, quote):\n",
      "        self.quote = quote\n",
      "    \n",
      "    def buildProtocol(self, addr):\n",
      "        return QuoteProtocol(self)\n",
      "    \n",
      "    def clientConnectionFailed(self, connector, reason):\n",
      "        print 'connection failed:', reason.getErrorMessage()\n",
      "        maybeStopReactor()\n",
      "    \n",
      "    def clientConnectionLost(self, connector, reason):\n",
      "        print 'connection lost:', reason.getErrorMessage()\n",
      "        maybeStopReactor()\n",
      "    \n",
      "    def maybeStopReactor():\n",
      "        global quote_counter\n",
      "        quote_counter -= 1\n",
      "        if not quote_counter:\n",
      "            reactor.stop()\n",
      "quotes = [\n",
      "\"You snooze you lose\",\n",
      "\"The early bird gets the worm\",\n",
      "\"Carpe diem\"\n",
      "]\n",
      "quote_counter = len(quotes)\n",
      "for quote in quotes:\n",
      "    reactor.connectTCP('localhost', 8000, QuoteClientFactory(quote))\n",
      "reactor.run()"
     ],
     "language": "python",
     "metadata": {},
     "outputs": [
      {
       "output_type": "stream",
       "stream": "stderr",
       "text": [
        "Unhandled Error\n",
        "(unable to obtain traceback): 'unicode' does not have the buffer interface\n"
       ]
      },
      {
       "output_type": "stream",
       "stream": "stderr",
       "text": [
        "Unhandled Error\n",
        "(unable to obtain traceback): 'unicode' does not have the buffer interface\n"
       ]
      },
      {
       "output_type": "stream",
       "stream": "stderr",
       "text": [
        "Unhandled Error\n",
        "(unable to obtain traceback): 'unicode' does not have the buffer interface\n"
       ]
      },
      {
       "output_type": "stream",
       "stream": "stdout",
       "text": [
        "connection lost: Connection to the other side was lost in a non-clean fashion: Connection lost.\n",
        "connection lost: Connection to the other side was lost in a non-clean fashion: Connection lost.\n",
        "connection lost: Connection to the other side was lost in a non-clean fashion: Connection lost.\n"
       ]
      }
     ],
     "prompt_number": 1
    },
    {
     "cell_type": "code",
     "collapsed": false,
     "input": [],
     "language": "python",
     "metadata": {},
     "outputs": []
    }
   ],
   "metadata": {}
  }
 ]
}