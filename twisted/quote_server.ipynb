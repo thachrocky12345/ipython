{
 "metadata": {
  "name": "",
  "signature": "sha256:fe9942fbab7a37e9fae2a6e659b86b90d30d64572aa3b8a5b3440377a542ae8a"
 },
 "nbformat": 3,
 "nbformat_minor": 0,
 "worksheets": [
  {
   "cells": [
    {
     "cell_type": "code",
     "collapsed": false,
     "input": [
      "from twisted.internet.protocol import Factory\n",
      "from twisted.internet import reactor, protocol\n",
      "\n",
      "class QuoteProtocol(protocol.Protocol):\n",
      "    def __init__(self, factory):\n",
      "        self.factory = factory\n",
      "        \n",
      "    def connectionMade(self):\n",
      "        self.factory.numConnections += 1\n",
      "        \n",
      "    def dataReceived(self, data):\n",
      "        print \"Number of active connections: %d\" % (\n",
      "            self.factory.numConnections,)\n",
      "        print \"> Received: ``%s''\\n> Sending: ``%s''\" % (\n",
      "            data, self.getQuote())\n",
      "        self.transport.write(self.getQuote())\n",
      "        self.updateQuote(data)\n",
      "        \n",
      "    def connectionLost(self, reason):\n",
      "        self.factory.numConnections -= 1\n",
      "        \n",
      "    def getQuote(self):\n",
      "        return self.factory.quote\n",
      "    \n",
      "    def updateQuote(self, quote):\n",
      "        self.factory.quote = quote\n",
      "        \n",
      "class QuoteFactory(Factory):\n",
      "    numConnections = 0\n",
      "    def __init__(self, quote=None):\n",
      "        self.quote = quote or \"An apple a day keeps the doctor away\"\n",
      "    def buildProtocol(self, addr):\n",
      "        return QuoteProtocol(self)\n",
      "reactor.listenTCP(8000, QuoteFactory())\n",
      "reactor.run()"
     ],
     "language": "python",
     "metadata": {},
     "outputs": [
      {
       "output_type": "stream",
       "stream": "stderr",
       "text": [
        "Unhandled Error\n",
        "Traceback (most recent call last):\n",
        "  File \"/usr/lib/python2.7/dist-packages/twisted/python/log.py\", line 84, in callWithContext\n",
        "    return context.call({ILogContext: newCtx}, func, *args, **kw)\n",
        "  File \"/usr/lib/python2.7/dist-packages/twisted/python/context.py\", line 118, in callWithContext\n",
        "    return self.currentContext().callWithContext(ctx, func, *args, **kw)\n",
        "  File \"/usr/lib/python2.7/dist-packages/twisted/python/context.py\", line 81, in callWithContext\n",
        "    return func(*args,**kw)\n",
        "  File \"/usr/lib/python2.7/dist-packages/twisted/internet/posixbase.py\", line 597, in _doReadOrWrite\n",
        "    why = selectable.doRead()\n",
        "--- <exception caught here> ---\n",
        "  File \"/usr/lib/python2.7/dist-packages/twisted/internet/tcp.py\", line 1066, in doRead\n",
        "    protocol = self.factory.buildProtocol(self._buildAddr(addr))\n",
        "  File \"/usr/lib/python2.7/dist-packages/twisted/internet/protocol.py\", line 131, in buildProtocol\n",
        "    p = self.protocol()\n",
        "exceptions.TypeError: __init__() takes exactly 2 arguments (1 given)\n",
        "\n"
       ]
      },
      {
       "output_type": "stream",
       "stream": "stderr",
       "text": [
        "Unhandled Error\n",
        "Traceback (most recent call last):\n",
        "  File \"/usr/lib/python2.7/dist-packages/twisted/python/log.py\", line 84, in callWithContext\n",
        "    return context.call({ILogContext: newCtx}, func, *args, **kw)\n",
        "  File \"/usr/lib/python2.7/dist-packages/twisted/python/context.py\", line 118, in callWithContext\n",
        "    return self.currentContext().callWithContext(ctx, func, *args, **kw)\n",
        "  File \"/usr/lib/python2.7/dist-packages/twisted/python/context.py\", line 81, in callWithContext\n",
        "    return func(*args,**kw)\n",
        "  File \"/usr/lib/python2.7/dist-packages/twisted/internet/posixbase.py\", line 597, in _doReadOrWrite\n",
        "    why = selectable.doRead()\n",
        "--- <exception caught here> ---\n",
        "  File \"/usr/lib/python2.7/dist-packages/twisted/internet/tcp.py\", line 1066, in doRead\n",
        "    protocol = self.factory.buildProtocol(self._buildAddr(addr))\n",
        "  File \"/usr/lib/python2.7/dist-packages/twisted/internet/protocol.py\", line 131, in buildProtocol\n",
        "    p = self.protocol()\n",
        "exceptions.TypeError: __init__() takes exactly 2 arguments (1 given)\n",
        "\n"
       ]
      },
      {
       "output_type": "stream",
       "stream": "stderr",
       "text": [
        "Unhandled Error\n",
        "Traceback (most recent call last):\n",
        "  File \"/usr/lib/python2.7/dist-packages/twisted/python/log.py\", line 84, in callWithContext\n",
        "    return context.call({ILogContext: newCtx}, func, *args, **kw)\n",
        "  File \"/usr/lib/python2.7/dist-packages/twisted/python/context.py\", line 118, in callWithContext\n",
        "    return self.currentContext().callWithContext(ctx, func, *args, **kw)\n",
        "  File \"/usr/lib/python2.7/dist-packages/twisted/python/context.py\", line 81, in callWithContext\n",
        "    return func(*args,**kw)\n",
        "  File \"/usr/lib/python2.7/dist-packages/twisted/internet/posixbase.py\", line 597, in _doReadOrWrite\n",
        "    why = selectable.doRead()\n",
        "--- <exception caught here> ---\n",
        "  File \"/usr/lib/python2.7/dist-packages/twisted/internet/tcp.py\", line 1066, in doRead\n",
        "    protocol = self.factory.buildProtocol(self._buildAddr(addr))\n",
        "  File \"/usr/lib/python2.7/dist-packages/twisted/internet/protocol.py\", line 131, in buildProtocol\n",
        "    p = self.protocol()\n",
        "exceptions.TypeError: __init__() takes exactly 2 arguments (1 given)\n",
        "\n"
       ]
      }
     ],
     "prompt_number": 1
    },
    {
     "cell_type": "code",
     "collapsed": false,
     "input": [],
     "language": "python",
     "metadata": {},
     "outputs": []
    }
   ],
   "metadata": {}
  }
 ]
}