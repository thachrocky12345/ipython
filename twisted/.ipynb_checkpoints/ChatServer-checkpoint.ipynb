{
 "metadata": {
  "name": "",
  "signature": "sha256:444349dff16e96ea2ca726bf998c663a73b92b9a873aa56316c6e8347427fe57"
 },
 "nbformat": 3,
 "nbformat_minor": 0,
 "worksheets": [
  {
   "cells": [
    {
     "cell_type": "code",
     "collapsed": false,
     "input": [
      "from twisted.internet.protocol import Factory\n",
      "from twisted.protocols.basic import LineReceiver\n",
      "from twisted.internet import reactor\n",
      "\n",
      "\n",
      "class ChatProtocol(LineReceiver):\n",
      "    def __init__(self, factory):\n",
      "        self.factory = factory\n",
      "        self.name = None\n",
      "        self.state = \"REGISTER\"\n",
      "\n",
      "    def connectionMade(self):\n",
      "        self.sendLine(\"What's your name?\")\n",
      "\n",
      "    def connectionLost(self, reason):\n",
      "        if self.name in self.factory.users:\n",
      "            del self.factory.users[self.name]\n",
      "            self.broadcastMessage(\"%s has left the channel.\" % (self.name,))\n",
      "\n",
      "    def lineReceived(self, line):\n",
      "        if self.state == \"REGISTER\":\n",
      "            self.handle_REGISTER(line)\n",
      "        else:\n",
      "            self.handle_CHAT(line)\n",
      "\n",
      "    def handle_REGISTER(self, name):\n",
      "        if name in self.factory.users:\n",
      "            self.sendLine(\"Name taken, please choose another.\")\n",
      "            return\n",
      "        self.sendLine(\"Welcome, %s!\" % (name,))\n",
      "        self.broadcastMessage(\"%s has joined the channel.\" % (name,))\n",
      "        self.name = name\n",
      "        self.factory.users[name] = self\n",
      "        self.state = \"CHAT\"\n",
      "    \n",
      "    def handle_CHAT(self, message):\n",
      "        message = \"<%s> %s\" % (self.name, message)\n",
      "        self.broadcastMessage(message)\n",
      "        \n",
      "    def broadcastMessage(self, message):\n",
      "        for name, protocol in self.factory.users.iteritems():\n",
      "            if protocol != self:\n",
      "                protocol.sendLine(message)\n",
      "class ChatFactory(Factory):\n",
      "    def __init__(self):\n",
      "        self.users = {}\n",
      "    def buildProtocol(self, addr):\n",
      "        return ChatProtocol(self)\n",
      "reactor.listenTCP(8000, ChatFactory())\n",
      "reactor.run()"
     ],
     "language": "python",
     "metadata": {},
     "outputs": [],
     "prompt_number": 1
    },
    {
     "cell_type": "code",
     "collapsed": false,
     "input": [],
     "language": "python",
     "metadata": {},
     "outputs": []
    }
   ],
   "metadata": {}
  }
 ]
}