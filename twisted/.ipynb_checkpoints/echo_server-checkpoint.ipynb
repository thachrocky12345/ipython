{
 "metadata": {
  "name": "",
  "signature": "sha256:bdbb72b1c433f4288c7032aae1b92c6620a60eacd444ded7d7f89148d941df27"
 },
 "nbformat": 3,
 "nbformat_minor": 0,
 "worksheets": [
  {
   "cells": [
    {
     "cell_type": "code",
     "collapsed": false,
     "input": [
      "from twisted.internet import protocol, reactor\n",
      "\n",
      "class Echo(protocol.Protocol):\n",
      "    def dataReceived(self, data):\n",
      "        self.transport.write(data)\n",
      "class EchoFactory(protocol.Factory):\n",
      "    def buildProtocol(self, addr):\n",
      "        return Echo()\n",
      "reactor.listenTCP(8000, EchoFactory())\n",
      "reactor.run()"
     ],
     "language": "python",
     "metadata": {},
     "outputs": [],
     "prompt_number": 2
    },
    {
     "cell_type": "code",
     "collapsed": false,
     "input": [],
     "language": "python",
     "metadata": {},
     "outputs": []
    }
   ],
   "metadata": {}
  }
 ]
}