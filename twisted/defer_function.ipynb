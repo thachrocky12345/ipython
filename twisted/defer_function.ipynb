{
 "metadata": {
  "name": "",
  "signature": "sha256:caa827e0cb17918d846ed2f41b67133e72255a4d4276f52a284e587d9f3f2c47"
 },
 "nbformat": 3,
 "nbformat_minor": 0,
 "worksheets": [
  {
   "cells": [
    {
     "cell_type": "code",
     "collapsed": false,
     "input": [
      "from twisted.internet import reactor, defer\n",
      "\n",
      "class HeadlineRetriever(object):\n",
      "    def processHeadline(self, headline):\n",
      "        if len(headline) > 50:\n",
      "            self.d.errback(\n",
      "            \"The headline ``%s'' is too long!\" % (headline,))\n",
      "        else:\n",
      "            self.d.callback(headline)\n",
      "\n",
      "    def _toHTML(self, result):\n",
      "        return \"<h1>%s</h1>\" % (result,)\n",
      "    def getHeadline(self, input):\n",
      "        self.d = defer.Deferred()\n",
      "        reactor.callLater(1, self.processHeadline, input)\n",
      "        self.d.addCallback(self._toHTML)\n",
      "        return self.d\n",
      "    "
     ],
     "language": "python",
     "metadata": {},
     "outputs": [],
     "prompt_number": 1
    },
    {
     "cell_type": "code",
     "collapsed": false,
     "input": [
      "def printData(result):\n",
      "    print result\n",
      "    reactor.stop()\n",
      "def printError(failure):\n",
      "    print failure\n",
      "    reactor.stop()\n",
      "\n",
      "h = HeadlineRetriever()\n",
      "d = h.getHeadline(\"Breaking News: Twisted Takes Us to the Moon!\")\n",
      "d.addCallbacks(printData, printError)"
     ],
     "language": "python",
     "metadata": {},
     "outputs": [
      {
       "metadata": {},
       "output_type": "pyout",
       "prompt_number": 2,
       "text": [
        "<Deferred at 0x7ffbb073fa70>"
       ]
      }
     ],
     "prompt_number": 2
    },
    {
     "cell_type": "code",
     "collapsed": false,
     "input": [
      "reactor.run()"
     ],
     "language": "python",
     "metadata": {},
     "outputs": [
      {
       "output_type": "stream",
       "stream": "stdout",
       "text": [
        "<h1>Breaking News: Twisted Takes Us to the Moon!</h1>\n"
       ]
      }
     ],
     "prompt_number": 3
    },
    {
     "cell_type": "code",
     "collapsed": false,
     "input": [],
     "language": "python",
     "metadata": {},
     "outputs": [],
     "prompt_number": 7
    },
    {
     "cell_type": "code",
     "collapsed": false,
     "input": [
      "def parse_args(*args, **kwargs):\n",
      "    if kwargs:\n",
      "        args = kwargs\n",
      "    else:\n",
      "        args = args\n",
      "    \n",
      "    print type(args), args"
     ],
     "language": "python",
     "metadata": {},
     "outputs": [],
     "prompt_number": 7
    },
    {
     "cell_type": "code",
     "collapsed": false,
     "input": [
      "parse_args(dict_args={'int': 1}, read_only=True)"
     ],
     "language": "python",
     "metadata": {},
     "outputs": [
      {
       "output_type": "stream",
       "stream": "stdout",
       "text": [
        "<type 'dict'> {'int': 1}\n"
       ]
      }
     ],
     "prompt_number": 13
    },
    {
     "cell_type": "code",
     "collapsed": false,
     "input": [
      "parse_args(1,3,'tom')"
     ],
     "language": "python",
     "metadata": {},
     "outputs": [
      {
       "output_type": "stream",
       "stream": "stdout",
       "text": [
        "<type 'tuple'> (1, 3, 'tom')\n"
       ]
      }
     ],
     "prompt_number": 12
    },
    {
     "cell_type": "code",
     "collapsed": false,
     "input": [
      "def parse_args(*args, **kwargs):\n",
      "    sql_param = args\n",
      "    sql_param = kwargs.get('dict_args', sql_param)\n",
      "    print type(sql_param), sql_param"
     ],
     "language": "python",
     "metadata": {},
     "outputs": [],
     "prompt_number": 10
    },
    {
     "cell_type": "code",
     "collapsed": false,
     "input": [],
     "language": "python",
     "metadata": {},
     "outputs": []
    }
   ],
   "metadata": {}
  }
 ]
}