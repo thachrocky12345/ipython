{
 "metadata": {
  "name": "",
  "signature": "sha256:42fe864220b1f8de27ed24d05359a9a0623214007c37fdd3944ac5262f447760"
 },
 "nbformat": 3,
 "nbformat_minor": 0,
 "worksheets": [
  {
   "cells": [
    {
     "cell_type": "code",
     "collapsed": false,
     "input": [
      "from twisted.internet import reactor, protocol\n",
      "\n",
      "class EchoClient(protocol.Protocol):\n",
      "    def connectionMade(self):\n",
      "        self.transport.write(\"Hello, world!\")\n",
      "    def dataReceived(self, data):\n",
      "        print \"Server said:\", data\n",
      "        self.transport.loseConnection()\n",
      "        \n",
      "class EchoFactory(protocol.ClientFactory):\n",
      "    def buildProtocol(self, addr):\n",
      "        return EchoClient()\n",
      "    \n",
      "    def clientConnectionFailed(self, connector, reason):\n",
      "        print \"Connection failed.\"\n",
      "        reactor.stop()\n",
      "    def clientConnectionLost(self, connector, reason):\n",
      "        print \"Connection lost.\"\n",
      "        reactor.stop()\n",
      "reactor.connectTCP(\"localhost\", 8000, EchoFactory())\n",
      "reactor.run()"
     ],
     "language": "python",
     "metadata": {},
     "outputs": [
      {
       "output_type": "stream",
       "stream": "stdout",
       "text": [
        "Server said: Hello, world!\n",
        "Connection lost.\n"
       ]
      }
     ],
     "prompt_number": 1
    },
    {
     "cell_type": "code",
     "collapsed": false,
     "input": [],
     "language": "python",
     "metadata": {},
     "outputs": []
    }
   ],
   "metadata": {}
  }
 ]
}