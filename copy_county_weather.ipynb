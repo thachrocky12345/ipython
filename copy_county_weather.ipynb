{
 "metadata": {
  "name": "",
  "signature": "sha256:581271a985becdce5eb53bbcca6c08bff3150520e1cc9bbc45186b80cde0af9d"
 },
 "nbformat": 3,
 "nbformat_minor": 0,
 "worksheets": [
  {
   "cells": [
    {
     "cell_type": "code",
     "collapsed": false,
     "input": [
      "import sys\n",
      "sys.path.append(\"/home/thachbui/workstation/elecsys_database/\")\n",
      "\n",
      "from database import PgsqlExecutor, copy_table_fromdb_todb\n",
      "from pgpass import PgPass\n",
      "\n",
      "PgPass_from = PgPass('decoded', 'thachbui', 'fed', 9999)\n",
      "\n",
      "db = PgsqlExecutor(PgPass_from)\n",
      "\n",
      "PgPass_to = PgPass('decoded', 'thachbui', 'pgxl', 9999)\n",
      "droplet = PgsqlExecutor(PgPass_to)"
     ],
     "language": "python",
     "metadata": {},
     "outputs": [],
     "prompt_number": 1
    },
    {
     "cell_type": "code",
     "collapsed": false,
     "input": [
      "sql_s = '''\n",
      "select countyid, county, zone, st_X(geom_c) longitude, st_Y(geom_c) latitude, \n",
      "elevation, km_square_land_areas, timezone, station_name\n",
      "from weather.county_weather\n",
      "'''\n",
      "data = db.fetch_all_rows(sql_s)\n",
      "print list(data.query_data[0])"
     ],
     "language": "python",
     "metadata": {},
     "outputs": [
      {
       "output_type": "stream",
       "stream": "stdout",
       "text": [
        "['al005', 'ALC005', 'ALZ050', -85.3932063432863, 31.8695834802371, 531.0, 2291.820953, 'CST', 'Troy, Troy Municipal Airport']\n"
       ]
      }
     ],
     "prompt_number": 2
    },
    {
     "cell_type": "code",
     "collapsed": false,
     "input": [
      "sql_i = '''\n",
      "insert into weather.county_weather(countyid, county, zone, latitude, longitude, elevation, \n",
      "km_square_land_areas, timezone, station_name) values (%(countyid)s, %(county)s, %(zone)s, \n",
      "%(latitude)s, %(longitude)s, %(elevation)s, %(km_square_land_areas)s, %(timezone)s, %(station_name)s )\n",
      "\n",
      "'''\n",
      "for row in data.query_data:\n",
      "#     try:\n",
      "    droplet.modify_rows(sql_i, row._asdict())\n",
      "#     except:\n",
      "        \n",
      "   \n"
     ],
     "language": "python",
     "metadata": {},
     "outputs": [],
     "prompt_number": 3
    },
    {
     "cell_type": "code",
     "collapsed": false,
     "input": [
      "sql_s = '''\n",
      "select countyid, county, zone,  longitude,  latitude, \n",
      "elevation, km_square_land_areas, timezone, station_name\n",
      "from weather.county_weather where countyid='al005'\n",
      "'''\n",
      "data = droplet.fetch_all_rows(sql_s)\n",
      "print list(data.query_data[0])"
     ],
     "language": "python",
     "metadata": {},
     "outputs": [
      {
       "ename": "IndexError",
       "evalue": "list index out of range",
       "output_type": "pyerr",
       "traceback": [
        "\u001b[1;31m---------------------------------------------------------------------------\u001b[0m\n\u001b[1;31mIndexError\u001b[0m                                Traceback (most recent call last)",
        "\u001b[1;32m<ipython-input-2-6122b586e6e2>\u001b[0m in \u001b[0;36m<module>\u001b[1;34m()\u001b[0m\n\u001b[0;32m      5\u001b[0m '''\n\u001b[0;32m      6\u001b[0m \u001b[0mdata\u001b[0m \u001b[1;33m=\u001b[0m \u001b[0mdroplet\u001b[0m\u001b[1;33m.\u001b[0m\u001b[0mfetch_all_rows\u001b[0m\u001b[1;33m(\u001b[0m\u001b[0msql_s\u001b[0m\u001b[1;33m)\u001b[0m\u001b[1;33m\u001b[0m\u001b[0m\n\u001b[1;32m----> 7\u001b[1;33m \u001b[1;32mprint\u001b[0m \u001b[0mlist\u001b[0m\u001b[1;33m(\u001b[0m\u001b[0mdata\u001b[0m\u001b[1;33m.\u001b[0m\u001b[0mquery_data\u001b[0m\u001b[1;33m[\u001b[0m\u001b[1;36m0\u001b[0m\u001b[1;33m]\u001b[0m\u001b[1;33m)\u001b[0m\u001b[1;33m\u001b[0m\u001b[0m\n\u001b[0m",
        "\u001b[1;31mIndexError\u001b[0m: list index out of range"
       ]
      }
     ],
     "prompt_number": 2
    },
    {
     "cell_type": "code",
     "collapsed": false,
     "input": [],
     "language": "python",
     "metadata": {},
     "outputs": []
    }
   ],
   "metadata": {}
  }
 ]
}