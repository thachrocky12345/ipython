{
 "metadata": {
  "name": "",
  "signature": "sha256:16935a823860b180badb34d1652090de1f6621da8b10c737769bdd37e65e06ae"
 },
 "nbformat": 3,
 "nbformat_minor": 0,
 "worksheets": [
  {
   "cells": [
    {
     "cell_type": "code",
     "collapsed": false,
     "input": [
      "import os\n",
      "import sys\n",
      "def cpu_count():\n",
      "    '''\n",
      "    Returns the number of CPUs in the system\n",
      "    '''\n",
      "    if sys.platform == 'win32':\n",
      "        try:\n",
      "            num = int(os.environ['NUMBER_OF_PROCESSORS'])\n",
      "        except (ValueError, KeyError):\n",
      "            num = 0\n",
      "    elif 'bsd' in sys.platform or sys.platform == 'darwin':\n",
      "        comm = '/sbin/sysctl -n hw.ncpu'\n",
      "        if sys.platform == 'darwin':\n",
      "            comm = '/usr' + comm\n",
      "        try:\n",
      "            with os.popen(comm) as p:\n",
      "                num = int(p.read())\n",
      "        except ValueError:\n",
      "            num = 0\n",
      "    else:\n",
      "        try:\n",
      "            num = os.sysconf('SC_NPROCESSORS_ONLN')\n",
      "        except (ValueError, OSError, AttributeError):\n",
      "            num = 0\n",
      "\n",
      "    if num >= 1:\n",
      "        return num\n",
      "    else:\n",
      "        raise NotImplementedError('cannot determine number of cpus')"
     ],
     "language": "python",
     "metadata": {},
     "outputs": [],
     "prompt_number": 4
    },
    {
     "cell_type": "code",
     "collapsed": false,
     "input": [
      "print cpu_count()"
     ],
     "language": "python",
     "metadata": {},
     "outputs": [
      {
       "output_type": "stream",
       "stream": "stdout",
       "text": [
        "8\n"
       ]
      }
     ],
     "prompt_number": 5
    },
    {
     "cell_type": "code",
     "collapsed": false,
     "input": [],
     "language": "python",
     "metadata": {},
     "outputs": [],
     "prompt_number": 6
    },
    {
     "cell_type": "code",
     "collapsed": false,
     "input": [
      "auth_provider = dict(username='thachbui',\n",
      "                     password='thach12345',\n",
      "                     hosts=['192.168.1.150', '192.168.1.221'],\n",
      "                     port=None,\n",
      "                     database='weather')\n",
      "from etl import cassdb\n",
      "db_cass = cassdb.CasExecutor(auth_provider)"
     ],
     "language": "python",
     "metadata": {},
     "outputs": [],
     "prompt_number": 23
    },
    {
     "cell_type": "code",
     "collapsed": false,
     "input": [
      "import multiprocessing\n",
      "import time\n",
      "import os\n",
      "from cassandra.cluster import Cluster\n",
      "from cassandra import ConsistencyLevel\n",
      "from cassandra.query import SimpleStatement"
     ],
     "language": "python",
     "metadata": {},
     "outputs": [],
     "prompt_number": 24
    },
    {
     "cell_type": "code",
     "collapsed": false,
     "input": [
      "insert_sql  = '''\n",
      "insert into weather (\n",
      "countyid ,\n",
      "    ts ,\n",
      "    weather ,\n",
      "    current_temp ,\n",
      "    high ,\n",
      "    low ,\n",
      "    precipitation_am ,\n",
      "    precipitation_pm ,\n",
      "    dew_point ,\n",
      "    wind_gust ,\n",
      "    humidity_relh ,\n",
      "    slp ,\n",
      "    elevation ,\n",
      "    windchill ,\n",
      "    wind_degree ,\n",
      "    wind_speed ,\n",
      "    wind_direction\n",
      "    )\n",
      "    \n",
      "values (%s)\n",
      "'''\n",
      "\n",
      "line = \"ms107,2017-02-13 07:19:07.050+0000,34,25,453,56,70,39,,,30.37,Mostly Sunny,340,NNW,0,3,\"\n",
      "print insert_sql %(line)\n",
      "query = SimpleStatement (\n",
      "                    insert_sql %(line),\n",
      "                    consistency_level=ConsistencyLevel.ONE)\n",
      "db_cass.cursor.execute_async (query)\n"
     ],
     "language": "python",
     "metadata": {},
     "outputs": [
      {
       "output_type": "stream",
       "stream": "stdout",
       "text": [
        "\n",
        "insert into weather (\n",
        "countyid ,\n",
        "    ts ,\n",
        "    weather ,\n",
        "    current_temp ,\n",
        "    high ,\n",
        "    low ,\n",
        "    precipitation_am ,\n",
        "    precipitation_pm ,\n",
        "    dew_point ,\n",
        "    wind_gust ,\n",
        "    humidity_relh ,\n",
        "    slp ,\n",
        "    elevation ,\n",
        "    windchill ,\n",
        "    wind_degree ,\n",
        "    wind_speed ,\n",
        "    wind_direction\n",
        "    )\n",
        "    \n",
        "values (ms107,2017-02-13 07:19:07.050+0000,34,25,453,56,70,39,,,30.37,Mostly Sunny,340,NNW,0,3,)\n",
        "\n"
       ]
      },
      {
       "ename": "DriverException",
       "evalue": "Cluster is already shut down",
       "output_type": "pyerr",
       "traceback": [
        "\u001b[1;31m---------------------------------------------------------------------------\u001b[0m\n\u001b[1;31mDriverException\u001b[0m                           Traceback (most recent call last)",
        "\u001b[1;32m<ipython-input-26-619d250ce20b>\u001b[0m in \u001b[0;36m<module>\u001b[1;34m()\u001b[0m\n\u001b[0;32m     28\u001b[0m                     \u001b[0minsert_sql\u001b[0m \u001b[1;33m%\u001b[0m\u001b[1;33m(\u001b[0m\u001b[0mline\u001b[0m\u001b[1;33m)\u001b[0m\u001b[1;33m,\u001b[0m\u001b[1;33m\u001b[0m\u001b[0m\n\u001b[0;32m     29\u001b[0m                     consistency_level=ConsistencyLevel.ONE)\n\u001b[1;32m---> 30\u001b[1;33m \u001b[0mdb_cass\u001b[0m\u001b[1;33m.\u001b[0m\u001b[0mcursor\u001b[0m\u001b[1;33m.\u001b[0m\u001b[0mexecute_async\u001b[0m \u001b[1;33m(\u001b[0m\u001b[0mquery\u001b[0m\u001b[1;33m)\u001b[0m\u001b[1;33m\u001b[0m\u001b[0m\n\u001b[0m",
        "\u001b[1;32m/opt/sources/etl/cassdb.pyc\u001b[0m in \u001b[0;36mcursor\u001b[1;34m(self)\u001b[0m\n\u001b[0;32m    100\u001b[0m     \u001b[1;32mdef\u001b[0m \u001b[0mcursor\u001b[0m\u001b[1;33m(\u001b[0m\u001b[0mself\u001b[0m\u001b[1;33m)\u001b[0m\u001b[1;33m:\u001b[0m\u001b[1;33m\u001b[0m\u001b[0m\n\u001b[0;32m    101\u001b[0m \u001b[1;33m\u001b[0m\u001b[0m\n\u001b[1;32m--> 102\u001b[1;33m         \u001b[0mself\u001b[0m\u001b[1;33m.\u001b[0m\u001b[0m_cursor\u001b[0m \u001b[1;33m=\u001b[0m \u001b[0mself\u001b[0m\u001b[1;33m.\u001b[0m\u001b[0mconnection\u001b[0m\u001b[1;33m.\u001b[0m\u001b[0mconnect\u001b[0m\u001b[1;33m(\u001b[0m\u001b[0mself\u001b[0m\u001b[1;33m.\u001b[0m\u001b[0mkeyspace\u001b[0m\u001b[1;33m)\u001b[0m\u001b[1;33m\u001b[0m\u001b[0m\n\u001b[0m\u001b[0;32m    103\u001b[0m         \u001b[1;32mreturn\u001b[0m \u001b[0mself\u001b[0m\u001b[1;33m.\u001b[0m\u001b[0m_cursor\u001b[0m\u001b[1;33m\u001b[0m\u001b[0m\n\u001b[0;32m    104\u001b[0m \u001b[1;33m\u001b[0m\u001b[0m\n",
        "\u001b[1;32m/opt/sources/cassandra/cluster.so\u001b[0m in \u001b[0;36mcassandra.cluster.Cluster.connect (cassandra/cluster.c:17598)\u001b[1;34m()\u001b[0m\n",
        "\u001b[1;32m/opt/sources/cassandra/cluster.so\u001b[0m in \u001b[0;36mcassandra.cluster.Cluster.connect (cassandra/cluster.c:16547)\u001b[1;34m()\u001b[0m\n",
        "\u001b[1;31mDriverException\u001b[0m: Cluster is already shut down"
       ]
      }
     ],
     "prompt_number": 26
    },
    {
     "cell_type": "code",
     "collapsed": false,
     "input": [
      "os.path.exists(\"/tmp/weather_copy.csv\")"
     ],
     "language": "python",
     "metadata": {},
     "outputs": [
      {
       "metadata": {},
       "output_type": "pyout",
       "prompt_number": 14,
       "text": [
        "True"
       ]
      }
     ],
     "prompt_number": 14
    },
    {
     "cell_type": "code",
     "collapsed": false,
     "input": [],
     "language": "python",
     "metadata": {},
     "outputs": []
    },
    {
     "cell_type": "code",
     "collapsed": false,
     "input": [],
     "language": "python",
     "metadata": {},
     "outputs": []
    },
    {
     "cell_type": "code",
     "collapsed": false,
     "input": [
      "import multiprocessing\n",
      "import time\n",
      "import os\n",
      "from cassandra.cluster import Cluster\n",
      "from cassandra import ConsistencyLevel\n",
      "from cassandra.query import SimpleStatement\n",
      "\n",
      "\n",
      "\n",
      "def mp_worker(inputArg):\n",
      "        cluster = Cluster(['1.2.1.4'])\n",
      "        session = cluster.connect('poc')\n",
      "\n",
      "\n",
      "        with open(inputArg[0]) as f:\n",
      "            for line in f:\n",
      "                query = SimpleStatement (\n",
      "                    \"INSERT INTO testTable (cust_id, accts, offers) values (%s)\" %(line),\n",
      "                    consistency_level=ConsistencyLevel.ONE)\n",
      "                session.execute_async (query)\n",
      "\n",
      "\n",
      "def mp_handler(inputData, nThreads = 8):\n",
      "    p = multiprocessing.Pool(nThreads)\n",
      "    p.map(mp_worker, inputData, chunksize=1)\n",
      "    p.close()\n",
      "    p.join()"
     ],
     "language": "python",
     "metadata": {},
     "outputs": []
    }
   ],
   "metadata": {}
  }
 ]
}