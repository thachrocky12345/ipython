{
 "metadata": {
  "name": "",
  "signature": "sha256:a3111cb3964d5e6281266dd2179d0c6b6ba896b3eaf0e2ca55224ebf32d255b9"
 },
 "nbformat": 3,
 "nbformat_minor": 0,
 "worksheets": [
  {
   "cells": [
    {
     "cell_type": "code",
     "collapsed": false,
     "input": [
      "import os\n",
      "import sys\n",
      "def cpu_count():\n",
      "    '''\n",
      "    Returns the number of CPUs in the system\n",
      "    '''\n",
      "    if sys.platform == 'win32':\n",
      "        try:\n",
      "            num = int(os.environ['NUMBER_OF_PROCESSORS'])\n",
      "        except (ValueError, KeyError):\n",
      "            num = 0\n",
      "    elif 'bsd' in sys.platform or sys.platform == 'darwin':\n",
      "        comm = '/sbin/sysctl -n hw.ncpu'\n",
      "        if sys.platform == 'darwin':\n",
      "            comm = '/usr' + comm\n",
      "        try:\n",
      "            with os.popen(comm) as p:\n",
      "                num = int(p.read())\n",
      "        except ValueError:\n",
      "            num = 0\n",
      "    else:\n",
      "        try:\n",
      "            num = os.sysconf('SC_NPROCESSORS_ONLN')\n",
      "        except (ValueError, OSError, AttributeError):\n",
      "            num = 0\n",
      "\n",
      "    if num >= 1:\n",
      "        return num\n",
      "    else:\n",
      "        raise NotImplementedError('cannot determine number of cpus')"
     ],
     "language": "python",
     "metadata": {},
     "outputs": [],
     "prompt_number": 4
    },
    {
     "cell_type": "code",
     "collapsed": false,
     "input": [
      "print cpu_count()"
     ],
     "language": "python",
     "metadata": {},
     "outputs": [
      {
       "output_type": "stream",
       "stream": "stdout",
       "text": [
        "8\n"
       ]
      }
     ],
     "prompt_number": 5
    },
    {
     "cell_type": "code",
     "collapsed": false,
     "input": [
      "weather_database =  dict(host='localhost',port=5432, database='decoded', user='thachbui', password='thach12345')\n",
      "db = PgsqlExecutor(weather_database)\n",
      "sql = \"\"\"select \n",
      "    countyid ,\n",
      "    ts ,\n",
      "    weather ,\n",
      "    current_temp ,\n",
      "    high ,\n",
      "    low ,\n",
      "    precipitation_am ,\n",
      "    precipitation_pm ,\n",
      "    dew_point ,\n",
      "    wind_gust ,\n",
      "    humidity_relh ,\n",
      "    slp ,\n",
      "    elevation ,\n",
      "    windchill ,\n",
      "    wind_degree ,\n",
      "    wind_speed ,\n",
      "    wind_direction\n",
      "from weather.weather_20160910 order by ts desc \"\"\"\n"
     ],
     "language": "python",
     "metadata": {},
     "outputs": [],
     "prompt_number": 6
    },
    {
     "cell_type": "code",
     "collapsed": false,
     "input": [
      "auth_provider = dict(username='thachbui',\n",
      "                     password='thach12345',\n",
      "                     hosts=['192.168.1.150', '192.168.1.221'],\n",
      "                     port=None,\n",
      "                     database='weather')\n",
      "from etl import cassdb\n",
      "db_cass = cassdb.CasExecutor(auth_provider)"
     ],
     "language": "python",
     "metadata": {},
     "outputs": [],
     "prompt_number": 19
    },
    {
     "cell_type": "code",
     "collapsed": false,
     "input": [
      "import multiprocessing\n",
      "import time\n",
      "import os\n",
      "from cassandra.cluster import Cluster\n",
      "from cassandra import ConsistencyLevel\n",
      "from cassandra.query import SimpleStatement"
     ],
     "language": "python",
     "metadata": {},
     "outputs": [],
     "prompt_number": 20
    },
    {
     "cell_type": "code",
     "collapsed": false,
     "input": [
      "insert_into_cassandra = '''\n",
      "insert into weather (\n",
      "countyid ,\n",
      "    ts ,\n",
      "    weather ,\n",
      "    current_temp ,\n",
      "    high ,\n",
      "    low ,\n",
      "    precipitation_am ,\n",
      "    precipitation_pm ,\n",
      "    dew_point ,\n",
      "    wind_gust ,\n",
      "    humidity_relh ,\n",
      "    slp ,\n",
      "    elevation ,\n",
      "    windchill ,\n",
      "    wind_degree ,\n",
      "    wind_speed ,\n",
      "    wind_direction\n",
      "    )\n",
      "    \n",
      "values (\n",
      "\n",
      "%s,%s,%s,%s,%s,\n",
      "%s,%s,%s,%s,\n",
      "%s,%s,%s,%s,\n",
      "%s,%s,%s,%s\n",
      ")\n",
      "'''"
     ],
     "language": "python",
     "metadata": {},
     "outputs": [],
     "prompt_number": 22
    },
    {
     "cell_type": "code",
     "collapsed": false,
     "input": [
      "insert_sql  = '''\n",
      "insert into weather (\n",
      "countyid ,\n",
      "    ts ,\n",
      "    weather ,\n",
      "    current_temp ,\n",
      "    high ,\n",
      "    low ,\n",
      "    precipitation_am ,\n",
      "    precipitation_pm ,\n",
      "    dew_point ,\n",
      "    wind_gust ,\n",
      "    humidity_relh ,\n",
      "    slp ,\n",
      "    elevation ,\n",
      "    windchill ,\n",
      "    wind_degree ,\n",
      "    wind_speed ,\n",
      "    wind_direction\n",
      "    )\n",
      "    \n",
      "values (%s)\n",
      "'''\n",
      "auth_provider = dict(username='thachbui',\n",
      "                     password='thach12345',\n",
      "                     hosts=['192.168.1.150', '192.168.1.221'],\n",
      "                     port=None,\n",
      "                     database='weather')\n",
      "from etl import cassdb\n",
      "db_cass = cassdb.CasExecutor(auth_provider)\n",
      "\n",
      "line = \"ms107,2017-02-13 07:19:07.050+0000,34,25,453,56,70,39,,,30.37,Mostly Sunny,340,NNW,0,3,\"\n",
      "\n",
      "# print insert_sql %(line)\n",
      "row = line.split(',')\n",
      "query = SimpleStatement (\n",
      "                    insert_into_cassandra,\n",
      "                    consistency_level=ConsistencyLevel.QUORUM)\n",
      "db_cass.cursor.execute_async(query, (row))\n",
      "db_cass.close()\n"
     ],
     "language": "python",
     "metadata": {},
     "outputs": [
      {
       "output_type": "stream",
       "stream": "stderr",
       "text": [
        "WARNING:cassandra.cluster:Host 192.168.1.150 has been marked down\n"
       ]
      }
     ],
     "prompt_number": 27
    },
    {
     "cell_type": "code",
     "collapsed": false,
     "input": [
      "os.path.exists(\"/tmp/weather_copy.csv\")"
     ],
     "language": "python",
     "metadata": {},
     "outputs": [
      {
       "metadata": {},
       "output_type": "pyout",
       "prompt_number": 14,
       "text": [
        "True"
       ]
      }
     ],
     "prompt_number": 14
    },
    {
     "cell_type": "code",
     "collapsed": false,
     "input": [],
     "language": "python",
     "metadata": {},
     "outputs": []
    },
    {
     "cell_type": "code",
     "collapsed": false,
     "input": [
      "line =  'mo186    2016-09-12 23:26:54     Mostly Clear    63.0    88      63      \\N      \\N      61      0       93      30.09   945     \\N      0       0       N'"
     ],
     "language": "python",
     "metadata": {},
     "outputs": [],
     "prompt_number": 35
    },
    {
     "cell_type": "code",
     "collapsed": false,
     "input": [
      "print line.replace('    ', ',')"
     ],
     "language": "python",
     "metadata": {},
     "outputs": [
      {
       "output_type": "stream",
       "stream": "stdout",
       "text": [
        "mo186,2016-09-12 23:26:54, Mostly Clear,63.0,88,  63,  \\N,  \\N,  61,  0,   93,  30.09   945, \\N,  0,   0,   N\n"
       ]
      }
     ],
     "prompt_number": 36
    },
    {
     "cell_type": "code",
     "collapsed": false,
     "input": [],
     "language": "python",
     "metadata": {},
     "outputs": []
    },
    {
     "cell_type": "code",
     "collapsed": false,
     "input": [
      "import multiprocessing\n",
      "import time\n",
      "import os\n",
      "from cassandra.cluster import Cluster\n",
      "from cassandra import ConsistencyLevel\n",
      "from cassandra.query import SimpleStatement\n",
      "\n",
      "\n",
      "\n",
      "def mp_worker(inputArg):\n",
      "        cluster = Cluster(['1.2.1.4'])\n",
      "        session = cluster.connect('poc')\n",
      "\n",
      "\n",
      "        with open(inputArg[0]) as f:\n",
      "            for line in f:\n",
      "                query = SimpleStatement (\n",
      "                    \"INSERT INTO testTable (cust_id, accts, offers) values (%s)\" %(line),\n",
      "                    consistency_level=ConsistencyLevel.ONE)\n",
      "                session.execute_async (query)\n",
      "\n",
      "\n",
      "def mp_handler(inputData, nThreads = 8):\n",
      "    p = multiprocessing.Pool(nThreads)\n",
      "    p.map(mp_worker, inputData, chunksize=1)\n",
      "    p.close()\n",
      "    p.join()"
     ],
     "language": "python",
     "metadata": {},
     "outputs": []
    }
   ],
   "metadata": {}
  }
 ]
}